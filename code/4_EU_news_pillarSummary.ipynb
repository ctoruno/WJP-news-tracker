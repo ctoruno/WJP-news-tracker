{
 "cells": [
  {
   "cell_type": "code",
   "execution_count": 1,
   "metadata": {},
   "outputs": [],
   "source": [
    "import os\n",
    "import ast\n",
    "import json\n",
    "import time\n",
    "import pandas as pd\n",
    "from dotenv import load_dotenv\n",
    "import prompt_templates_summarization as pts\n",
    "from langchain.schema import BaseOutputParser\n",
    "from langchain.prompts.chat import ChatPromptTemplate\n",
    "from langchain_google_genai import (\n",
    "    ChatGoogleGenerativeAI,\n",
    "    HarmBlockThreshold,\n",
    "    HarmCategory\n",
    ")\n",
    "from langchain_openai import ChatOpenAI\n",
    "from json.decoder import JSONDecodeError\n",
    "from google.generativeai.types import BlockedPromptException\n",
    "from google.generativeai.types.generation_types import StopCandidateException"
   ]
  },
  {
   "cell_type": "code",
   "execution_count": 2,
   "metadata": {},
   "outputs": [],
   "source": [
    "country = \"Croatia\"\n",
    "path2SP = \"/Users/ctoruno/OneDrive - World Justice Project/EU Subnational\""
   ]
  },
  {
   "cell_type": "markdown",
   "metadata": {},
   "source": [
    "## Loading API key"
   ]
  },
  {
   "cell_type": "code",
   "execution_count": 3,
   "metadata": {},
   "outputs": [],
   "source": [
    "load_dotenv()\n",
    "GoogleAI_key = os.getenv(\"googleAI_API_key\")\n",
    "OpenAI_key   = os.getenv(\"openai_key\")\n",
    "os.environ['GOOGLE_API_KEY'] = GoogleAI_key\n",
    "os.environ['OPENAI_API_KEY'] = OpenAI_key"
   ]
  },
  {
   "cell_type": "markdown",
   "metadata": {},
   "source": [
    "## Reading the data"
   ]
  },
  {
   "cell_type": "code",
   "execution_count": 4,
   "metadata": {},
   "outputs": [],
   "source": [
    "def gatherFiles(country, p):\n",
    "    \"\"\"\n",
    "    This function takes a country as input and returns a list with all the news articles associated to that specific pillar.\n",
    "    \"\"\"\n",
    "    data_path = f\"{path2SP}/EU-S Data/Automated Qualitative Checks/Data/data-summarization/{country}/pillar_{p}\"\n",
    "    sets = [pd.read_parquet(f\"{data_path}/{x}\") for x in os.listdir(data_path)]\n",
    "    pillar_data = pd.concat(sets)\n",
    "    pillar_data[\"associated_pillar\"] = f\"Pillar {p}\"\n",
    "    print(f\"Pillar {p}: {len(pillar_data)} articles\")\n",
    "\n",
    "    return pillar_data"
   ]
  },
  {
   "cell_type": "code",
   "execution_count": 5,
   "metadata": {},
   "outputs": [
    {
     "name": "stdout",
     "output_type": "stream",
     "text": [
      "Pillar 1: 4370 articles\n",
      "Pillar 2: 3061 articles\n",
      "Pillar 3: 528 articles\n",
      "Pillar 4: 2803 articles\n",
      "Pillar 5: 1534 articles\n",
      "Pillar 6: 784 articles\n",
      "Pillar 7: 1583 articles\n",
      "Pillar 8: 4383 articles\n"
     ]
    }
   ],
   "source": [
    "country_data = [gatherFiles(country, p) for p in range(1,9)]"
   ]
  },
  {
   "cell_type": "markdown",
   "metadata": {},
   "source": [
    "## Saving gathered data"
   ]
  },
  {
   "cell_type": "code",
   "execution_count": 6,
   "metadata": {},
   "outputs": [],
   "source": [
    "target_vars = [\n",
    "    \"id\", \"link\", \"domain_url\", \"published_date\",\n",
    "    \"title_trans\", \"description_trans\", \"content_trans\", \"summary\", \"impact_score\",\n",
    "    \"pillar_1\", \"pillar_2\", \"pillar_3\", \"pillar_4\", \"pillar_5\", \"pillar_6\", \"pillar_7\", \"pillar_8\",\n",
    "    \"associated_pillar\"\n",
    "]\n",
    "master = pd.concat(country_data).loc[:,target_vars]\n",
    "master.to_parquet(f\"{path2SP}/EU-S Data/Automated Qualitative Checks/Data/data-summarization/{country}/{country}_master.parquet.gzip\", compression=\"gzip\")"
   ]
  },
  {
   "cell_type": "markdown",
   "metadata": {},
   "source": [
    "## Defining chain"
   ]
  },
  {
   "cell_type": "code",
   "execution_count": 7,
   "metadata": {},
   "outputs": [],
   "source": [
    "safety_settings = {\n",
    "    HarmCategory.HARM_CATEGORY_HARASSMENT: HarmBlockThreshold.BLOCK_NONE,\n",
    "    HarmCategory.HARM_CATEGORY_HATE_SPEECH: HarmBlockThreshold.BLOCK_NONE,\n",
    "    HarmCategory.HARM_CATEGORY_SEXUALLY_EXPLICIT: HarmBlockThreshold.BLOCK_NONE,\n",
    "    HarmCategory.HARM_CATEGORY_DANGEROUS_CONTENT: HarmBlockThreshold.BLOCK_NONE\n",
    "}"
   ]
  },
  {
   "cell_type": "code",
   "execution_count": 8,
   "metadata": {},
   "outputs": [],
   "source": [
    "class JSONOutputParser(BaseOutputParser):\n",
    "    def parse(self, text: str):\n",
    "        \"\"\"\n",
    "        Parse the output of an LLM call to a valid JSON format.\n",
    "        \"\"\"\n",
    "        return json.loads(text.replace('```json', '').replace('```', ''), strict=False)"
   ]
  },
  {
   "cell_type": "code",
   "execution_count": 9,
   "metadata": {},
   "outputs": [],
   "source": [
    "def summarize_pillar(summaries, pillar):\n",
    "    \"\"\"\n",
    "    This function takes a list of summaries and it sends a call to Google's Gemini asking for a list of\n",
    "    important events to take into account for a specific pillar of the Rule of Law.\n",
    "    \"\"\"\n",
    "    \n",
    "    idx = str(pillar)\n",
    "\n",
    "    # Setting up the Prompt Template\n",
    "    chat_prompt = ChatPromptTemplate.from_messages([\n",
    "                    (\"human\", pts.pillar_summary_prompt)\n",
    "                ])\n",
    "\n",
    "    # Defining our chain\n",
    "    chain_gemini = chat_prompt | ChatGoogleGenerativeAI(model = \"gemini-pro\",\n",
    "                                                        temperature = 0.25, \n",
    "                                                        safety_settings = safety_settings,\n",
    "                                                        convert_system_message_to_human = True) | JSONOutputParser()\n",
    "    \n",
    "    try: \n",
    "        llm_response = chain_gemini.invoke({\n",
    "            \"summaries\"      : summaries,\n",
    "            \"pillar_name\"    : pts.pillar_names[idx],\n",
    "            \"pillar_bullets\" : pts.pillar_bullets[idx]\n",
    "        })\n",
    "        status = True\n",
    "        time.sleep(1)   # We need to slow down the calls. given that the Gemini API has a limit of 60 calls per second\n",
    "\n",
    "    # The API can still block some of our prompts due to undefined reasons. Sadly, we can't do anything about it, so we\n",
    "    # predefine the outcome    \n",
    "    except (BlockedPromptException, StopCandidateException):\n",
    "        print(\"Prompt BLOCKED\")\n",
    "        status = False\n",
    "    \n",
    "    except JSONDecodeError:\n",
    "        print(\"Decode error... trying again...\")\n",
    "        try: \n",
    "            llm_response = chain_gemini.invoke({\n",
    "                \"summaries\"      : summaries,\n",
    "                \"pillar_name\"    : pts.pillar_names[idx],\n",
    "                \"pillar_bullets\" : pts.pillar_bullets[idx]\n",
    "            })\n",
    "            status = True\n",
    "            time.sleep(1)\n",
    "\n",
    "        except JSONDecodeError:\n",
    "            print(\"Decode error... trying again...\")\n",
    "            try: \n",
    "                llm_response = chain_gemini.invoke({\n",
    "                    \"summaries\"      : summaries,\n",
    "                    \"pillar_name\"    : pts.pillar_names[idx],\n",
    "                    \"pillar_bullets\" : pts.pillar_bullets[idx]\n",
    "                })\n",
    "                status = True\n",
    "                time.sleep(1)\n",
    "\n",
    "            except JSONDecodeError:\n",
    "                print(\"Failed. Skipping...\")\n",
    "                status = False\n",
    "\n",
    "    # We use the STATUS variable to throw an outcome to our call depending if our prompt was blocked or not\n",
    "    if status == True:\n",
    "        outcome = [llm_response[\"list_of_events\"]]\n",
    "\n",
    "    else:\n",
    "        outcome = \"Skipped list\"\n",
    "\n",
    "    return outcome"
   ]
  },
  {
   "cell_type": "code",
   "execution_count": 10,
   "metadata": {},
   "outputs": [],
   "source": [
    "def summarize_pillar_GPT(summaries, pillar):\n",
    "    \"\"\"\n",
    "    This function takes a list of summaries and it sends a call to OpenAI's GPT asking for a list of\n",
    "    important events to take into account for a specific pillar of the Rule of Law.\n",
    "    \"\"\"\n",
    "    \n",
    "    idx = str(pillar)\n",
    "\n",
    "    # Setting up the Prompt Template\n",
    "    chat_prompt = ChatPromptTemplate.from_messages([\n",
    "                    (\"system\", pts.pillar_summary_context),\n",
    "                    (\"human\", pts.pillar_summary_instructions)\n",
    "                ])\n",
    "\n",
    "    # Defining our chain\n",
    "    chain_gpt = chat_prompt | ChatOpenAI(model_name=\"gpt-4-turbo-preview\", temperature=0.2) | JSONOutputParser()\n",
    "    \n",
    "    try: \n",
    "        llm_response = chain_gpt.invoke({\n",
    "            \"summaries\"      : summaries,\n",
    "            \"pillar_name\"    : pts.pillar_names[idx],\n",
    "            \"pillar_bullets\" : pts.pillar_bullets[idx]\n",
    "        })\n",
    "        status = True\n",
    "    \n",
    "    except JSONDecodeError:\n",
    "        print(\"Decode error... trying again...\")\n",
    "        try: \n",
    "            llm_response = chain_gpt.invoke({\n",
    "                \"summaries\"      : summaries,\n",
    "                \"pillar_name\"    : pts.pillar_names[idx],\n",
    "                \"pillar_bullets\" : pts.pillar_bullets[idx]\n",
    "            })\n",
    "            status = True\n",
    "\n",
    "        except JSONDecodeError:\n",
    "            print(\"Decode error... trying again...\")\n",
    "            try: \n",
    "                llm_response = chain_gpt.invoke({\n",
    "                    \"summaries\"      : summaries,\n",
    "                    \"pillar_name\"    : pts.pillar_names[idx],\n",
    "                    \"pillar_bullets\" : pts.pillar_bullets[idx]\n",
    "                })\n",
    "                status = True\n",
    "\n",
    "            except JSONDecodeError:\n",
    "                print(\"Failed. Skipping...\")\n",
    "                status = False\n",
    "\n",
    "    # We use the STATUS variable to throw an outcome to our call depending if our prompt was blocked or not\n",
    "    if status == True:\n",
    "        outcome = [llm_response[\"list_of_events\"]]\n",
    "\n",
    "    else:\n",
    "        outcome = \"Skipped list\"\n",
    "\n",
    "    return outcome"
   ]
  },
  {
   "cell_type": "markdown",
   "metadata": {},
   "source": [
    "## Sending calls"
   ]
  },
  {
   "cell_type": "code",
   "execution_count": 11,
   "metadata": {},
   "outputs": [],
   "source": [
    "def split_summaries(summaries, llm = \"GPT\"):\n",
    "    \"\"\"\n",
    "    This function takes a list of summaries and provides a text compiling all of them but taking into account the \n",
    "    token limit for using the Gemini Pro 1.0 API\n",
    "    \"\"\"\n",
    "\n",
    "    idx = 0\n",
    "    segments = [[]]\n",
    "    total_count = 0\n",
    "\n",
    "    if llm == \"GPT\":\n",
    "        tkn_limit = 98500\n",
    "    if llm == \"Gemini\":\n",
    "        tkn_limit = 22500\n",
    "\n",
    "    for text in summaries:\n",
    "        text_length = len(text.split())\n",
    "\n",
    "        if total_count + text_length < tkn_limit:\n",
    "            segments[idx].append(text)\n",
    "            total_count = total_count + text_length\n",
    "        else:\n",
    "            segments.append([])\n",
    "            idx = idx + 1\n",
    "            total_count = 0\n",
    "            segments[idx].append(text)\n",
    "            total_count = total_count + text_length\n",
    "\n",
    "    outcome = [\"- \"+\"\\n- \".join(segment) for segment in segments]\n",
    "\n",
    "    return outcome\n"
   ]
  },
  {
   "cell_type": "code",
   "execution_count": 12,
   "metadata": {},
   "outputs": [
    {
     "name": "stdout",
     "output_type": "stream",
     "text": [
      "PILLAR 1\n",
      "Total number of chunks: 5\n",
      "PILLAR 2\n",
      "Total number of chunks: 3\n",
      "PILLAR 3\n",
      "Total number of chunks: 1\n",
      "PILLAR 4\n",
      "Total number of chunks: 3\n",
      "PILLAR 5\n",
      "Total number of chunks: 2\n",
      "PILLAR 6\n",
      "Total number of chunks: 1\n",
      "PILLAR 7\n",
      "Total number of chunks: 2\n",
      "PILLAR 8\n",
      "Total number of chunks: 4\n"
     ]
    }
   ],
   "source": [
    "summaries = {}\n",
    "for p in range(1,9):\n",
    "    print(f\"PILLAR {p}\")\n",
    "    article_list   = country_data[p-1][\"summary\"].to_list()\n",
    "    limited_chunks = split_summaries(article_list)\n",
    "    print(f\"Total number of chunks: {len(limited_chunks)}\")\n",
    "    bullet_points  = [summarize_pillar_GPT(x, p) for x in limited_chunks]\n",
    "    pillar_summ    = \"/n\".join([item for sublist_1 in bullet_points for sublist_2 in sublist_1 for item in sublist_2])\n",
    "    summaries.update({f\"Pillar {p}\" : pillar_summ})"
   ]
  },
  {
   "cell_type": "markdown",
   "metadata": {},
   "source": [
    "## Saving summaries as JSON files"
   ]
  },
  {
   "cell_type": "code",
   "execution_count": 13,
   "metadata": {},
   "outputs": [],
   "source": [
    "file_path = f\"{path2SP}/EU-S Data/Automated Qualitative Checks/Data/data-summarization/Overview/{country}_overviewSummaries.json\"\n",
    "with open(file_path, \"w\") as json_file:\n",
    "    json.dump(summaries, json_file)"
   ]
  },
  {
   "cell_type": "code",
   "execution_count": 14,
   "metadata": {},
   "outputs": [
    {
     "data": {
      "text/plain": [
       "{'Pillar 1': \"The Croatian Parliament debates the dismissal of Economy Minister Davor Filipović after allegations of corruption involving his advisor offering advertising space from state-owned companies to a local television network in exchange for payment./nCroatian police arrest nine individuals wanted by Greece for their alleged involvement in fan riots, highlighting concerns about the independence of the judiciary and the effectiveness of oversight institutions in international legal cooperation./nThe Croatian government proposes amendments to the Law on Foreigners to improve the accommodation conditions for foreign workers, emphasizing the need for better living standards and protection of workers' rights./nThe Croatian Football Association and FARE network condemn the display of the Ustasha flag at a football match, demonstrating efforts to combat racism and discrimination in sports and uphold the principles of fair play and equality./nThe Croatian government allocates grants to combat disinformation, emphasizing the importance of media literacy and the role of non-governmental checks in ensuring transparency and accountability in public discourse./nThe Croatian Parliament passes a new Law on Electoral Units, sparking debate over transparency and fairness in the electoral process, and raising concerns about the independence of the legislative process./nThe Croatian police's handling of a domestic violence case involving a former handball player raises questions about the effectiveness of law enforcement and the judiciary in protecting victims and holding perpetrators accountable./nThe Croatian government's handling of the 'gas for a cent' affair and the dismissal of HEP's head, Frane Barbarić, for illegal construction, highlights issues of government accountability and the effectiveness of oversight institutions in addressing corruption and misconduct./nThe European Public Prosecutor's Office (EPPO) investigates subsidy fraud and corruption at the Faculty of Geodesy, involving 29 suspects and misuse of EU funds. This highlights the effectiveness of oversight institutions in combating corruption./nJudges and state attorneys in Croatia initiate a 'white strike' demanding salary indexation and better working conditions, highlighting concerns about the independence of the judiciary and government responsiveness./nThe Croatian government's proposal to criminalize unauthorized disclosure of investigative information sparks protests, raising concerns about media freedom, transparency, and the independence of the judiciary./nThe Croatian Parliament debates the appointment of Ivan Turudić as Attorney General amid controversy over his independence and past actions, reflecting on the judiciary's independence and government accountability./nThe arrest of Luka Burazer and Eugen Travalja for defrauding investors in a cryptocurrency scheme demonstrates law enforcement's role in protecting citizens from financial crimes./nPrime Minister Andrej Plenković's verbal attack on a journalist and the proposed law restricting media freedom raise concerns about the independence of the media and the government's respect for freedom of expression./nThe Croatian government allocates 29 million euros for the rehabilitation of a closed waste disposal site near Varaždin, addressing environmental concerns and demonstrating government accountability in managing public projects./nThe Croatian Parliament's rejection of the opposition's proposal to recall the Minister of Agriculture over the handling of African swine fever highlights the ongoing tensions between the government and the opposition, and raises questions about government transparency and accountability./nThe controversy surrounding the appointment of Ivan Turudić as Attorney General raises concerns about the independence of the judiciary and potential political interference in the justice system./nThe Croatian Parliament's handling of the 'lex AP' law, criticized for potentially stifling journalistic freedom and public accountability, highlights issues of transparency and government accountability./nThe arrest of individuals involved in migrant smuggling and human trafficking underscores the challenges faced by law enforcement in combating organized crime and protecting borders./nJudges and state attorneys' strike for better working conditions and salary increases emphasizes the need for judicial independence and fair compensation to ensure an effective legal system./nThe Supreme Court's decision to annul a lower court's custody ruling, favoring the father over singer Severina Vučković, raises questions about the judiciary's impartiality and the protection of children's rights./nThe Croatian government's proposal to criminalize unauthorized disclosure of investigative information, facing opposition from journalists and civil society, challenges freedom of the press and the right to information./nThe arrest and investigation of individuals for environmental crimes related to a fire at Drava International highlight the importance of accountability and environmental protection in corporate conduct./nThe ongoing legal battle and public outcry over the custody case involving Severina Vučković and Milan Popović spotlight the judiciary's role in family law and the societal impact of high-profile legal disputes./nThe Croatian Parliament debates the impeachment of Minister Gordan Grlić Radman for failing to declare dividends, highlighting concerns about government transparency and accountability./nThe Croatian government's proposal to criminalize unauthorized disclosure of investigative information raises concerns about media freedom and the public's right to information./nThe Croatian government plans to abolish 'slave contracts' for young doctors, addressing long-standing issues of unfair contractual obligations and improving working conditions in the healthcare sector./nThe Croatian Parliament's handling of the Law on Electoral Units, criticized for gerrymandering and lack of transparency, raises concerns about the fairness of electoral processes and the independence of the judiciary./nThe European Public Prosecutor's Office (EPPO) in Croatia investigates two suspects for subsidy fraud and abuse of position, highlighting efforts to combat corruption and safeguard public funds./nThe Croatian government's centralization of cyber security under the Security Intelligence Agency (SOA) raises concerns about transparency, accountability, and potential conflicts of interest./nThe Croatian government's failure to appoint a new head for USKOK, the anti-corruption agency, due to a lack of applicants, raises concerns about the independence and effectiveness of oversight institutions./nThe Croatian government's handling of the 'gas for a cent' affair, involving allegations of irregularities in gas sales by HEP, underscores issues of corruption and the need for accountability in state-owned enterprises./nThe effective investigation and prosecution of a burglary in Pazin, Croatia, showcasing law enforcement's role in upholding the rule of law and protecting property rights./nStandard & Poor's increased Croatia's long-term rating to BBB+, indicating strong government management of public finances and economic stability./nThe Croatian government's implementation of reforms as part of the National Recovery and Resilience Plan, demonstrating commitment to fiscal discipline and adherence to the rule of law./nAnnouncement of wage increases for all workers in Croatia following changes to 11 legal regulations, reflecting the government's effort to ease tax levies and improve living standards./nIntroduction of a package to reduce contribution payments for salaries up to 1,300 euros, aimed at financial relief for workers and pensioners./nAdjustment of pensions with an increase in the average salary for 1.2 million pensioners, showing the government's consideration for the elderly population./nPlans to establish an Alimony Fund to support children affected by non-payment of court-ordered alimony, addressing a social welfare issue./nThe Alimony Fund's aim to provide temporary maintenance payments until the age of 18 for approximately 9,000 minor children, ensuring financial support for vulnerable groups.\",\n",
       " 'Pillar 2': \"The European Public Prosecutor's Office (EPPO) investigates alleged financial irregularities at the Faculty of Geodesy, raising concerns about corruption in public procurement and misuse of public funds in Croatia./nFormer Croatian Defense Minister Marija Banožić involved in a fatal traffic accident, highlighting potential preferential treatment and lack of transparency in the investigation./nCroatian Prime Minister Andrej Plenković criticized for potentially undermining the European Public Prosecutor's Office (EPPO) investigations into corruption, raising concerns about government interference./nArrest of Nenad Petrak, leader of an international drug cartel, demonstrating efforts to combat organized crime and drug trafficking in Croatia./nCroatian Parliament debates proposal to dissolve itself due to allegations of rampant corruption within the ruling HDZ party, underscoring concerns over government integrity./nStudents at the Academy of Dramatic Arts in Zagreb protest against the reinstatement of a professor accused of sexual harassment, highlighting issues of misconduct and lack of accountability in academia./nZagreb Mayor Tomislav Tomašević accused of favoring certain groups by legalizing illegally placed billboards, raising concerns about corruption and mismanagement in city administration./nCroatian football refereeing scandal exposed through leaked VAR recordings, alleging refereeing errors and potential corruption within the Croatian Football Federation (HNS)./n- Arrests related to the illegal issuance of hunting permits highlight the issue of corruption in public procurement and the misuse of authority in Croatia./n- The controversy surrounding the appointment of Ivan Turudić as Attorney General raises concerns about political influence in the judiciary and potential corruption./n- The investigation into subsidy fraud and corruption at the Faculty of Geodesy by the European Public Prosecutor's Office (EPPO) underscores the issue of misuse of EU funds./n- The arrest of individuals involved in migrant smuggling operations emphasizes the prevalence of human trafficking and the challenges in combating organized crime./n- Allegations against former judge Zvonko Vekić and others for accepting bribes from Zdravko Mamić highlight corruption within the Croatian judiciary./n- The proposed amendments to the Criminal Code that would criminalize unauthorized disclosure of investigation information raise concerns about media freedom and transparency./n- The ongoing custody battle between Severina Vučković and Milan Popović, involving allegations of corruption in the judicial process, highlights the potential for undue influence and procedural irregularities./n- The arrest and investigation of Zvonko Bede and others for environmental crimes related to a fire at Drava International point to issues of environmental negligence and potential corruption in waste management./nThe European Public Prosecutor's Office (EPPO) in Croatia launched investigations into alleged bribery and subsidy fraud involving high-ranking officials and misuse of EU funds./nCroatian police arrested individuals involved in large-scale drug trafficking networks, highlighting efforts to combat organized crime and drug distribution./nThe Croatian Parliament debated the impeachment of Foreign Minister Gordan Grlić Radman for failing to declare significant dividends, raising concerns about transparency and accountability among high-ranking officials./nAllegations of corruption and mismanagement within HEP, Croatia's national energy company, including the 'gas for a cent' affair and the controversial appointment of board members without public tenders./nThe opposition criticized the government's handling of the Agrokor case, alleging corruption and mismanagement that could have significant financial consequences for Croatia./nCroatian police intensified traffic control efforts, resulting in numerous arrests for driving under the influence of alcohol, showcasing ongoing challenges with traffic safety and law enforcement./nThe Croatian government proposed legal reforms to combat the abuse of lifetime and lifetime maintenance contracts, aiming to protect elderly citizens from being defrauded of their property./nCroatian journalists and media workers protested against proposed changes to the Criminal Code, fearing it would limit freedom of the press and enable government control over media reporting.\",\n",
       " 'Pillar 3': \"- The proposed amendments to the Croatian Criminal Code, criminalizing unauthorized disclosure of investigative information, raise concerns about media freedom and the public's right to information./n- The controversy surrounding the appointment of Ivan Turudić as Attorney General in Croatia highlights issues of transparency and potential political influence in the judiciary./n- The European Public Prosecutor's Office's (EPPO) investigations in Croatia, particularly regarding alleged corruption in the reconstruction of Zagreb, underscore the importance of independent oversight and accountability in government spending./n- The Croatian government's delay in filling vacancies in the HERA Board of Directors raises concerns about transparency and accountability in the energy sector./n- The Croatian Journalists' Association's (HND) protests against the 'lex AP' law emphasize the critical role of journalism in maintaining government transparency and accountability./n- The opposition's call for the dissolution of the Croatian Parliament and new elections, following a mass protest, reflects growing public dissatisfaction with government transparency and accountability./n- The Croatian government's proposal for a new law regulating lobbying activities marks a positive step towards increasing transparency and accountability in government decision-making./n- The Croatian government's efforts to address menstrual poverty and youth gambling through legislative measures and public awareness campaigns demonstrate a commitment to social issues and civic participation.\",\n",
       " 'Pillar 4': \"Protests in Croatia against the government's handling of corruption and the appointment of Ivan Turudić as Attorney General, raising concerns about judicial independence and political influence./nAllegations of police misconduct in the murder case of Mihaela Berak by a police officer, highlighting issues of transparency and accountability within law enforcement./nControversy over the proposed changes to the Criminal Code ('lex AP'), which could restrict press freedom and freedom of speech, sparking opposition from journalists and civil society./nEfforts to combat domestic violence and protect women, including legislative changes to increase penalties for perpetrators and introduce femicide as a criminal offense./nChallenges faced by foreign workers in Croatia, including poor living conditions and exploitation, prompting legal amendments to improve their rights and integration./nViolence against political figures and activists, as seen in the attack on SDP members in Zadar, threatening freedom of assembly and expression./nThe struggle for affordable housing in Croatia, impacting young people's ability to start families and contributing to demographic decline./nIncreased incidents of peer violence in schools, underscoring the need for effective intervention and support for victims./n- The controversy surrounding Ivan Turudić's appointment as Attorney General, raising concerns about the independence of the judiciary and potential conflicts of interest./n- The proposed amendments to the Criminal Code that would criminalize unauthorized disclosure of investigative information, sparking protests and concerns about freedom of the press./n- The ongoing custody battle between Severina Vučković and Milan Popović, highlighting issues related to children's rights and judicial fairness./n- The attack on minors in Vukovar by members of the BBB fan group, raising concerns about violence, safety, and the protection of children's rights./n- The protest organized by the parliamentary left-liberal opposition against government corruption and the call for early elections, emphasizing concerns about democratic values and freedom of assembly./n- The legal battle and public support for whistleblower Adrijana Cvrtila, focusing on the protection of whistleblowers and the importance of transparency in government operations./n- The sentencing of Branimir Glavaš for war crimes, illustrating issues of accountability and justice for victims of war crimes./n- The establishment of protocols for the safety of journalists in Croatia, aiming to enhance protection for journalists and promote freedom of the press./nThe Croatian government's proposed law to criminalize unauthorized disclosure of investigative information has been criticized for potentially limiting press freedom and the public's right to know./nCroatia's efforts to address violence against women, including the proposal to define femicide as a specific criminal offense, highlight the ongoing struggle to protect women's rights and ensure justice for victims./nThe controversy over the appointment of the new state attorney general in Croatia raises concerns about the independence of the judiciary and the fairness of the legal process./nThe Croatian government's plan to abolish 'slave contracts' for young doctors represents a significant step towards protecting labor rights and ensuring fair treatment for medical professionals./nThe discovery of a mass grave from the Second World War and the post-war period in Gospić, Croatia, underscores the importance of addressing historical injustices and ensuring accountability for war crimes./nThe Croatian government's initiative to improve the social welfare system for children in need, including those with disabilities, highlights the challenges in providing adequate care and support for vulnerable populations./nThe Croatian Parliament's debate on the impeachment of the Foreign Minister for failing to declare significant savings illustrates the ongoing issues of transparency and accountability in government./nThe establishment of a national strategy to address housing issues in Croatia, including the provision of affordable housing and the resolution of the protected tenants issue, reflects the government's efforts to ensure the right to adequate housing.\",\n",
       " 'Pillar 5': \"In Vukovar, minors were brutally attacked by older youths, sparking community outrage and protests demanding justice and increased police patrols./nIn Osijek, a police officer allegedly killed a young woman, raising concerns about police accountability and the handling of criminal investigations./nIn Split, a peaceful protest was organized demanding action against violence after the tragic murder of a 22-year-old man, highlighting community concerns about public safety./nIn Zagreb, a series of robberies and assaults on deliverymen and citizens by a gang, including the violent attack on a ZET bus driver, underscores the issue of crime and violence in public spaces./nThe Croatian Football Association and police took action against fans displaying illegal Ustasha symbols at a football match, demonstrating efforts to combat discrimination and maintain order at sporting events./nIn Croatia, several cases of domestic violence and threats against women, including a high-profile case involving a former handball player, emphasize the ongoing challenge of protecting victims and ensuring justice./nThe arrest of a group involved in drug smuggling and distribution in Split and Kaštela showcases law enforcement's efforts to dismantle criminal organizations and enhance public safety./nThe trial and sentencing of individuals for violent crimes, including aggravated murder and attempted murder, reflect the judiciary's role in addressing serious offenses and maintaining public order./nIn Osijek, a 27-year-old police officer was arrested for the murder of a 21-year-old woman, raising concerns about police conduct and public safety./nIn Pula, a 23-year-old man was arrested for driving with a revoked license due to accumulating 19 negative offense points, highlighting road safety enforcement efforts./nIn Rijeka, a 16-year-old boy was brutally attacked by four assailants, underscoring the issue of violence and public safety./nIn Croatia, Deputy Prime Minister and Minister of the Interior Davor Božinović signed protocols for the protection of media workers, aiming to ensure their safety and security./nIn Pula, Croatia, police arrested two men suspected of committing three robberies, demonstrating efforts to maintain public order and safety./nIn Zagreb, five young men were allegedly beaten by security guards outside a club, highlighting concerns about violence and public safety./nIn Rijeka, traffic police arrested a 45-year-old Serbian citizen with a forged identity card and an outstanding European Arrest Warrant, emphasizing border security and crime prevention./nIn Croatia, the Homeland Movement (DP) raised concerns about an 'organized migrant invasion' and called for the deployment of the army to the border, reflecting tensions over migration and border security.\",\n",
       " 'Pillar 6': \"The European Public Prosecutor's Office (EPPO) investigates the Croatian Ministry of Culture for allegedly misusing EU funds in a contract with the Faculty of Geodesy, raising concerns about transparency and accountability in government spending./nCroatian Prime Minister Andrej Plenković faces criticism for the 'gas for a cent' affair, where excess gas was sold at low prices, potentially causing significant financial losses for HEP and implicating government oversight and transparency./nThe Croatian government's decision to centralize cybersecurity under the Security Intelligence Agency (SOA) sparks concerns among experts about potential conflicts of interest, abuse of power, and lack of transparency in regulating cybersecurity./nThe Croatian Parliament debates amendments to the Law on Compulsory Liquidation of Credit Institutions to eliminate different interpretations and harmonize with the eurozone entry, highlighting the need for clear legal frameworks and consumer protection./nCroatia's State Inspectorate files a criminal complaint against the President of the HEP Management Board for illegal construction, emphasizing the government's efforts to enforce environmental regulations and protect natural resources./nThe Croatian government's tax package, including changes to income tax and local taxes, faces opposition criticism for benefiting the wealthy and raising concerns about the fairness and transparency of tax reforms./nCroatian Financial Services Supervisory Agency (HANFA) bans Wirex Digital due to deficiencies in its anti-money laundering system, demonstrating the government's commitment to enforcing financial regulations and protecting the integrity of its financial system./nThe Croatian government's plan to address youth gambling includes measures to strengthen socially responsible organization of games of chance and protect minors, showcasing efforts to improve regulatory frameworks and consumer protection.\",\n",
       " 'Pillar 7': \"Judicial officers and employees in Croatia strike for higher salaries, impacting the civil justice system's functioning and access to justice./nControversy over Ivan Turudić's appointment as Attorney General raises concerns about the impartiality and independence of the Croatian judiciary./nThe Croatian Football Association's Referee Commission faces criticism and resignations over leaked VAR recordings, questioning refereeing integrity in football./nCroatian singer Severina Vučković's ongoing custody battle highlights concerns about the civil justice system's fairness and impartiality in high-profile cases./nThe European Public Prosecutor's Office investigates alleged misuse of EU funds in Croatia, emphasizing the need for accountability and transparency in public spending./nViolence against minors in Vukovar and other cities raises questions about the effectiveness of law enforcement in protecting vulnerable groups./nAmendments to Croatia's Family Law aim to better protect children, persons under guardianship, and victims of domestic violence, reflecting efforts to improve the civil justice system./nAllegations of corruption and political influence within the Croatian judiciary, including cases involving former ministers and high-profile individuals, underscore the challenges of ensuring an impartial and corruption-free justice system./nThe Croatian government's plan to abolish 'slave contracts' for young doctors, addressing unfair labor practices and promoting justice in the healthcare sector./nThe Croatian Parliament's Judiciary Committee's approval of a thematic session on Agrokor, focusing on legal implications and financial consequences for Croatia's budget./nThe High Criminal Court's ruling that expert testimony in the Agrokor case was illegal due to conflict of interest, raising concerns about evidence admissibility and judicial impartiality./nThe Croatian Journalists' Association's demand for justice in the investigation of journalist Vladimir Matijanić's death, highlighting systemic failures in protecting journalists./nThe ongoing extradition proceedings in Croatia involving Dinamo Zagreb fans wanted by Greece, emphasizing concerns about fair trial rights and political interference./nThe Croatian Medical Chamber's demand to abolish 'slave ownership' contracts for medical residents, highlighting constitutional violations and the need for healthcare system reform./nThe introduction of a register for lifetime support contracts in Croatia to prevent abuses and protect elderly persons, improving legal transparency and fairness./nThe Croatian government's efforts to address housing issues post-earthquake, including structural renovations and financial assistance, demonstrating commitment to recovery and infrastructure improvement.\",\n",
       " 'Pillar 8': \"- Arrest and investigation of Croatian police officers for alleged rape and possession of child pornography, raising concerns about police misconduct and the effectiveness of internal investigations./n- The Croatian government's efforts to combat violence against women, including legal reforms to increase penalties for perpetrators and introduce femicide as a criminal offense./n- The arrest of a Croatian policeman suspected of murdering a 21-year-old girl, highlighting issues of police accountability and the effectiveness of criminal investigations./n- The ongoing investigation into the illegal construction of a villa by the former president of HEP, Frane Barbarić, emphasizing concerns about corruption and abuse of power./n- The arrest of Croatian fans wanted by Greece for their involvement in fan riots, demonstrating international cooperation in criminal investigations and the challenges of extradition./n- The investigation and prosecution of war crimes committed during the Homeland War, underscoring the challenges in achieving justice for victims and holding perpetrators accountable./n- The dismissal of Croatian ministers due to scandals and allegations of corruption, reflecting concerns about government integrity and the impact of political scandals on public trust./n- The arrest and prosecution of individuals for hate crimes and discrimination, including the display of Ustasha symbols at football matches, indicating ongoing issues with far-right extremism and the effectiveness of legal measures to combat hate speech./nThe European Public Prosecutor's Office (EPPO) investigates alleged corruption in the Croatian Ministry of Culture related to contracts awarded to the Faculty of Geodesy, highlighting concerns about corruption and the effectiveness of criminal investigations./nThe arrest of Luka Burazer and Eugen Travalja, owners of BitLucky, for defrauding investors of millions through cryptocurrency trading, demonstrates the effectiveness of law enforcement in combating financial crimes./nThe controversy surrounding the appointment of Ivan Turudić as Attorney General raises concerns about the independence and impartiality of the Croatian judiciary and potential political influence in the justice system./nThe Supreme Court of Croatia overturns a custody verdict involving singer Severina Vučković, sparking outrage and highlighting concerns about the fairness and impartiality of the judiciary in high-profile cases./nThe Croatian government proposes amendments to the Criminal Code to criminalize unauthorized disclosure of investigative information, raising concerns about media freedom and the public's right to information./nJudges and state attorneys in Croatia strike over salary disputes, emphasizing the ongoing challenges within the judiciary regarding working conditions and the government's commitment to judicial independence./nThe arrest of a Croatian border policeman for receiving bribes in exchange for allowing migrants to cross the border without proper documentation highlights issues of corruption within law enforcement./nMultiple arrests related to human smuggling near the Croatian border underscore the challenges faced by law enforcement in combating organized crime and ensuring border security./nThe European Public Prosecutor's Office (EPPO) investigates subsidy fraud and corruption at the Faculty of Geodesy in Zagreb, involving high-ranking officials within the Ministry of Culture and Media./nThe Croatian government proposes amendments to the Criminal Code that criminalize unauthorized disclosure of investigative information, raising concerns about media freedom and public access to information about government corruption./nThe Supreme Court of Croatia annuls the joint custody arrangement between Severina Vučković and Milan Popović, sparking public outrage and highlighting concerns about the fairness and impartiality of the Croatian judiciary./nUSKOK charges a criminal organization involved in drug smuggling and distribution in Split, demonstrating the effectiveness of law enforcement in combating organized crime./nThe Croatian Football Federation (HNS) fines clubs for fan misconduct, highlighting ongoing issues of fan violence and hate speech in Croatian football./nThe Croatian Parliament debates the impeachment of Minister Gordan Grlić Radman for failing to declare significant financial assets, underscoring concerns about political accountability and transparency./nA police chase in Zagreb leads to the arrest of a driver for multiple traffic violations, showcasing the challenges of enforcing traffic laws and ensuring road safety./nThe Croatian Journalists' Association protests against the proposed criminal offense of leaking investigation information, emphasizing the threat to journalistic freedom and the public's right to know./nCroatian police arrest nine members of the Bad Blue Boys fan group on request from Greek judiciary for participation in riots in Athens, highlighting international law enforcement cooperation./nCroatian government's delay in conducting a public tender for INA board members raises concerns about transparency and accountability in managing public companies./nIn Osijek, a 27-year-old police officer is detained for the murder of a 21-year-old woman, raising questions about police conduct and the effectiveness of internal oversight./nThe Croatian European Public Prosecutor's Office launches an investigation into two suspects for bribery in the Sovjak pit rehabilitation project, underscoring efforts to combat corruption in public procurement./nCroatian Parliament's Judiciary Committee approves a proposal for a thematic session on Agrokor, focusing on legal implications and financial consequences for Croatia, indicating ongoing concerns about corporate governance and legal accountability./nCroatian police's successful prevention of a potential clash between rival football fan groups in Zagreb demonstrates effective crowd control and public safety measures./nThe Croatian government proposes a new criminal offense for unauthorized disclosure of investigative actions, sparking debate over media freedom and the public's right to information./nThe arrest and pretrial detention of individuals involved in the BitLucky cryptocurrency fraud scheme in Croatia highlights the challenges and importance of regulating and monitoring financial and digital markets.\"}"
      ]
     },
     "execution_count": 14,
     "metadata": {},
     "output_type": "execute_result"
    }
   ],
   "source": [
    "summaries"
   ]
  }
 ],
 "metadata": {
  "kernelspec": {
   "display_name": "Python 3",
   "language": "python",
   "name": "python3"
  },
  "language_info": {
   "codemirror_mode": {
    "name": "ipython",
    "version": 3
   },
   "file_extension": ".py",
   "mimetype": "text/x-python",
   "name": "python",
   "nbconvert_exporter": "python",
   "pygments_lexer": "ipython3",
   "version": "3.11.9"
  }
 },
 "nbformat": 4,
 "nbformat_minor": 2
}
