{
 "cells": [
  {
   "cell_type": "code",
   "execution_count": 17,
   "metadata": {},
   "outputs": [],
   "source": [
    "import os\n",
    "import ast\n",
    "import json\n",
    "import time\n",
    "import pandas as pd\n",
    "from dotenv import load_dotenv\n",
    "import prompt_templates_summarization as pts\n",
    "from langchain.schema import BaseOutputParser\n",
    "from langchain.prompts.chat import ChatPromptTemplate\n",
    "from langchain_google_genai import (\n",
    "    ChatGoogleGenerativeAI,\n",
    "    HarmBlockThreshold,\n",
    "    HarmCategory\n",
    ")\n",
    "from langchain_openai import ChatOpenAI\n",
    "from json.decoder import JSONDecodeError\n",
    "from google.generativeai.types import BlockedPromptException\n",
    "from google.generativeai.types.generation_types import StopCandidateException"
   ]
  },
  {
   "cell_type": "code",
   "execution_count": 18,
   "metadata": {},
   "outputs": [],
   "source": [
    "country = \"Finland\"\n",
    "path2SP = \"/Users/ctoruno/OneDrive - World Justice Project/EU Subnational\""
   ]
  },
  {
   "cell_type": "markdown",
   "metadata": {},
   "source": [
    "## Loading API key"
   ]
  },
  {
   "cell_type": "code",
   "execution_count": 19,
   "metadata": {},
   "outputs": [],
   "source": [
    "load_dotenv()\n",
    "GoogleAI_key = os.getenv(\"googleAI_API_key\")\n",
    "OpenAI_key   = os.getenv(\"openai_key\")\n",
    "os.environ['GOOGLE_API_KEY'] = GoogleAI_key\n",
    "os.environ['OPENAI_API_KEY'] = OpenAI_key"
   ]
  },
  {
   "cell_type": "markdown",
   "metadata": {},
   "source": [
    "## Reading the data"
   ]
  },
  {
   "cell_type": "code",
   "execution_count": 20,
   "metadata": {},
   "outputs": [],
   "source": [
    "def gatherFiles(country, p):\n",
    "    \"\"\"\n",
    "    This function takes a country as input and returns a list with all the news articles associated to that specific pillar.\n",
    "    \"\"\"\n",
    "    data_path = f\"{path2SP}/EU-S Data/Automated Qualitative Checks/Data/data-summarization/{country}/pillar_{p}\"\n",
    "    sets = [pd.read_parquet(f\"{data_path}/{x}\") for x in os.listdir(data_path)]\n",
    "    pillar_data = pd.concat(sets)\n",
    "    pillar_data[\"associated_pillar\"] = f\"Pillar {p}\"\n",
    "    print(f\"Pillar {p}: {len(pillar_data)} articles\")\n",
    "\n",
    "    return pillar_data"
   ]
  },
  {
   "cell_type": "code",
   "execution_count": 23,
   "metadata": {},
   "outputs": [
    {
     "name": "stdout",
     "output_type": "stream",
     "text": [
      "Pillar 1: 1013 articles\n",
      "Pillar 2: 557 articles\n",
      "Pillar 3: 78 articles\n",
      "Pillar 4: 843 articles\n",
      "Pillar 5: 491 articles\n",
      "Pillar 6: 177 articles\n",
      "Pillar 7: 428 articles\n",
      "Pillar 8: 1027 articles\n"
     ]
    }
   ],
   "source": [
    "country_data = [gatherFiles(country, p) for p in range(1,9)]"
   ]
  },
  {
   "cell_type": "markdown",
   "metadata": {},
   "source": [
    "## Saving gathered data"
   ]
  },
  {
   "cell_type": "code",
   "execution_count": 24,
   "metadata": {},
   "outputs": [],
   "source": [
    "target_vars = [\n",
    "    \"id\", \"link\", \"domain_url\", \"published_date\",\n",
    "    \"title_trans\", \"description_trans\", \"content_trans\", \"summary\", \"impact_score\",\n",
    "    \"pillar_1\", \"pillar_2\", \"pillar_3\", \"pillar_4\", \"pillar_5\", \"pillar_6\", \"pillar_7\", \"pillar_8\",\n",
    "    \"associated_pillar\"\n",
    "]\n",
    "master = pd.concat(country_data).loc[:,target_vars]\n",
    "master.to_parquet(f\"{path2SP}/EU-S Data/Automated Qualitative Checks/Data/data-summarization/{country}/{country}_master.parquet.gzip\", compression=\"gzip\")"
   ]
  },
  {
   "cell_type": "markdown",
   "metadata": {},
   "source": [
    "## Defining chain"
   ]
  },
  {
   "cell_type": "code",
   "execution_count": 25,
   "metadata": {},
   "outputs": [],
   "source": [
    "safety_settings = {\n",
    "    HarmCategory.HARM_CATEGORY_HARASSMENT: HarmBlockThreshold.BLOCK_NONE,\n",
    "    HarmCategory.HARM_CATEGORY_HATE_SPEECH: HarmBlockThreshold.BLOCK_NONE,\n",
    "    HarmCategory.HARM_CATEGORY_SEXUALLY_EXPLICIT: HarmBlockThreshold.BLOCK_NONE,\n",
    "    HarmCategory.HARM_CATEGORY_DANGEROUS_CONTENT: HarmBlockThreshold.BLOCK_NONE\n",
    "}"
   ]
  },
  {
   "cell_type": "code",
   "execution_count": 26,
   "metadata": {},
   "outputs": [],
   "source": [
    "class JSONOutputParser(BaseOutputParser):\n",
    "    def parse(self, text: str):\n",
    "        \"\"\"\n",
    "        Parse the output of an LLM call to a valid JSON format.\n",
    "        \"\"\"\n",
    "        return json.loads(text.replace('```json', '').replace('```', ''), strict=False)"
   ]
  },
  {
   "cell_type": "code",
   "execution_count": 10,
   "metadata": {},
   "outputs": [],
   "source": [
    "def summarize_pillar(summaries, pillar):\n",
    "    \"\"\"\n",
    "    This function takes a list of summaries and it sends a call to Google's Gemini asking for a list of\n",
    "    important events to take into account for a specific pillar of the Rule of Law.\n",
    "    \"\"\"\n",
    "    \n",
    "    idx = str(pillar)\n",
    "\n",
    "    # Setting up the Prompt Template\n",
    "    chat_prompt = ChatPromptTemplate.from_messages([\n",
    "                    (\"human\", pts.pillar_summary_prompt)\n",
    "                ])\n",
    "\n",
    "    # Defining our chain\n",
    "    chain_gemini = chat_prompt | ChatGoogleGenerativeAI(model = \"gemini-pro\",\n",
    "                                                        temperature = 0.25, \n",
    "                                                        safety_settings = safety_settings,\n",
    "                                                        convert_system_message_to_human = True) | JSONOutputParser()\n",
    "    \n",
    "    try: \n",
    "        llm_response = chain_gemini.invoke({\n",
    "            \"summaries\"      : summaries,\n",
    "            \"pillar_name\"    : pts.pillar_names[idx],\n",
    "            \"pillar_bullets\" : pts.pillar_bullets[idx]\n",
    "        })\n",
    "        status = True\n",
    "        time.sleep(1)   # We need to slow down the calls. given that the Gemini API has a limit of 60 calls per second\n",
    "\n",
    "    # The API can still block some of our prompts due to undefined reasons. Sadly, we can't do anything about it, so we\n",
    "    # predefine the outcome    \n",
    "    except (BlockedPromptException, StopCandidateException):\n",
    "        print(\"Prompt BLOCKED\")\n",
    "        status = False\n",
    "    \n",
    "    except JSONDecodeError:\n",
    "        print(\"Decode error... trying again...\")\n",
    "        try: \n",
    "            llm_response = chain_gemini.invoke({\n",
    "                \"summaries\"      : summaries,\n",
    "                \"pillar_name\"    : pts.pillar_names[idx],\n",
    "                \"pillar_bullets\" : pts.pillar_bullets[idx]\n",
    "            })\n",
    "            status = True\n",
    "            time.sleep(1)\n",
    "\n",
    "        except JSONDecodeError:\n",
    "            print(\"Decode error... trying again...\")\n",
    "            try: \n",
    "                llm_response = chain_gemini.invoke({\n",
    "                    \"summaries\"      : summaries,\n",
    "                    \"pillar_name\"    : pts.pillar_names[idx],\n",
    "                    \"pillar_bullets\" : pts.pillar_bullets[idx]\n",
    "                })\n",
    "                status = True\n",
    "                time.sleep(1)\n",
    "\n",
    "            except JSONDecodeError:\n",
    "                print(\"Failed. Skipping...\")\n",
    "                status = False\n",
    "\n",
    "    # We use the STATUS variable to throw an outcome to our call depending if our prompt was blocked or not\n",
    "    if status == True:\n",
    "        outcome = [llm_response[\"list_of_events\"]]\n",
    "\n",
    "    else:\n",
    "        outcome = \"Skipped list\"\n",
    "\n",
    "    return outcome"
   ]
  },
  {
   "cell_type": "code",
   "execution_count": 27,
   "metadata": {},
   "outputs": [],
   "source": [
    "def summarize_pillar_GPT(summaries, pillar):\n",
    "    \"\"\"\n",
    "    This function takes a list of summaries and it sends a call to OpenAI's GPT asking for a list of\n",
    "    important events to take into account for a specific pillar of the Rule of Law.\n",
    "    \"\"\"\n",
    "    \n",
    "    idx = str(pillar)\n",
    "\n",
    "    # Setting up the Prompt Template\n",
    "    chat_prompt = ChatPromptTemplate.from_messages([\n",
    "                    (\"system\", pts.pillar_summary_context),\n",
    "                    (\"human\", pts.pillar_summary_instructions)\n",
    "                ])\n",
    "\n",
    "    # Defining our chain\n",
    "    chain_gpt = chat_prompt | ChatOpenAI(model_name=\"gpt-4-turbo-preview\", temperature=0.2) | JSONOutputParser()\n",
    "    \n",
    "    try: \n",
    "        llm_response = chain_gpt.invoke({\n",
    "            \"summaries\"      : summaries,\n",
    "            \"pillar_name\"    : pts.pillar_names[idx],\n",
    "            \"pillar_bullets\" : pts.pillar_bullets[idx]\n",
    "        })\n",
    "        status = True\n",
    "    \n",
    "    except JSONDecodeError:\n",
    "        print(\"Decode error... trying again...\")\n",
    "        try: \n",
    "            llm_response = chain_gpt.invoke({\n",
    "                \"summaries\"      : summaries,\n",
    "                \"pillar_name\"    : pts.pillar_names[idx],\n",
    "                \"pillar_bullets\" : pts.pillar_bullets[idx]\n",
    "            })\n",
    "            status = True\n",
    "\n",
    "        except JSONDecodeError:\n",
    "            print(\"Decode error... trying again...\")\n",
    "            try: \n",
    "                llm_response = chain_gpt.invoke({\n",
    "                    \"summaries\"      : summaries,\n",
    "                    \"pillar_name\"    : pts.pillar_names[idx],\n",
    "                    \"pillar_bullets\" : pts.pillar_bullets[idx]\n",
    "                })\n",
    "                status = True\n",
    "\n",
    "            except JSONDecodeError:\n",
    "                print(\"Failed. Skipping...\")\n",
    "                status = False\n",
    "\n",
    "    # We use the STATUS variable to throw an outcome to our call depending if our prompt was blocked or not\n",
    "    if status == True:\n",
    "        outcome = [llm_response[\"list_of_events\"]]\n",
    "\n",
    "    else:\n",
    "        outcome = \"Skipped list\"\n",
    "\n",
    "    return outcome"
   ]
  },
  {
   "cell_type": "markdown",
   "metadata": {},
   "source": [
    "## Sending calls"
   ]
  },
  {
   "cell_type": "code",
   "execution_count": 28,
   "metadata": {},
   "outputs": [],
   "source": [
    "def split_summaries(summaries, llm = \"GPT\"):\n",
    "    \"\"\"\n",
    "    This function takes a list of summaries and provides a text compiling all of them but taking into account the \n",
    "    token limit for using the Gemini Pro 1.0 API\n",
    "    \"\"\"\n",
    "\n",
    "    idx = 0\n",
    "    segments = [[]]\n",
    "    total_count = 0\n",
    "\n",
    "    if llm == \"GPT\":\n",
    "        tkn_limit = 98500\n",
    "    if llm == \"Gemini\":\n",
    "        tkn_limit = 22500\n",
    "\n",
    "    for text in summaries:\n",
    "        text_length = len(text.split())\n",
    "\n",
    "        if total_count + text_length < tkn_limit:\n",
    "            segments[idx].append(text)\n",
    "            total_count = total_count + text_length\n",
    "        else:\n",
    "            segments.append([])\n",
    "            idx = idx + 1\n",
    "            total_count = 0\n",
    "            segments[idx].append(text)\n",
    "            total_count = total_count + text_length\n",
    "\n",
    "    outcome = [\"- \"+\"\\n- \".join(segment) for segment in segments]\n",
    "\n",
    "    return outcome\n"
   ]
  },
  {
   "cell_type": "code",
   "execution_count": 29,
   "metadata": {},
   "outputs": [
    {
     "name": "stdout",
     "output_type": "stream",
     "text": [
      "PILLAR 1\n",
      "Total number of chunks: 1\n",
      "PILLAR 2\n",
      "Total number of chunks: 1\n",
      "PILLAR 3\n",
      "Total number of chunks: 1\n",
      "PILLAR 4\n",
      "Total number of chunks: 1\n",
      "PILLAR 5\n",
      "Total number of chunks: 1\n",
      "PILLAR 6\n",
      "Total number of chunks: 1\n",
      "PILLAR 7\n",
      "Total number of chunks: 1\n",
      "PILLAR 8\n",
      "Total number of chunks: 1\n"
     ]
    }
   ],
   "source": [
    "summaries = {}\n",
    "for p in range(1,9):\n",
    "    print(f\"PILLAR {p}\")\n",
    "    article_list   = country_data[p-1][\"summary\"].to_list()\n",
    "    limited_chunks = split_summaries(article_list)\n",
    "    print(f\"Total number of chunks: {len(limited_chunks)}\")\n",
    "    bullet_points  = [summarize_pillar_GPT(x, p) for x in limited_chunks]\n",
    "    pillar_summ    = \"/n\".join([item for sublist_1 in bullet_points for sublist_2 in sublist_1 for item in sublist_2])\n",
    "    summaries.update({f\"Pillar {p}\" : pillar_summ})"
   ]
  },
  {
   "cell_type": "markdown",
   "metadata": {},
   "source": [
    "## Saving summaries as JSON files"
   ]
  },
  {
   "cell_type": "code",
   "execution_count": 30,
   "metadata": {},
   "outputs": [],
   "source": [
    "file_path = f\"{path2SP}/EU-S Data/Automated Qualitative Checks/Data/data-summarization/Overview/{country}_overviewSummaries.json\"\n",
    "with open(file_path, \"w\") as json_file:\n",
    "    json.dump(summaries, json_file)"
   ]
  },
  {
   "cell_type": "code",
   "execution_count": 31,
   "metadata": {},
   "outputs": [
    {
     "data": {
      "text/plain": [
       "{'Pillar 1': \"The Finnish government's proposed labor market reforms spark widespread strikes, highlighting tensions between government policies and workers' rights./nAleksanteri Kivimäki, accused in the Vastaamo data breach case, faces trial, underscoring concerns about data protection and cybercrime./nFinnish MPs criticize the government's Middle East policy, particularly on Israel's actions in Gaza, raising questions about foreign policy and human rights./nThe Finnish government considers closing the eastern border to asylum seekers, sparking debate over immigration policy and human rights./nThe Finnish government's handling of social security cuts criticized for potentially increasing inequality and impacting vulnerable populations./nThe Finnish Parliament debates the government's anti-racism policy, reflecting ongoing concerns about racism and discrimination in society./nThe Finnish government's budget proposal faces criticism for continuing indebtedness, highlighting fiscal policy challenges./nThe Finnish government's proposal to limit political strikes raises concerns about labor rights and the balance between economic stability and workers' freedoms./nThe Finnish government faces criticism for its response to electricity price spikes, underscoring challenges in energy policy and consumer protection./nThe Finnish government's handling of the eastern border situation amid Russian hybrid threats highlights national security and geopolitical challenges.\",\n",
       " 'Pillar 2': \"Finnish-Russian dual citizen sentenced for attempting to transport ammunition to Russia, highlighting sanctions evasion and potential threats to national security./nFinnish police uncover Finland's largest hunting crime complex, involving illegal hunting of protected animals, indicating corruption within the hunting sector./nVastaamo data breach trial begins, focusing on the theft and extortion of sensitive patient data, raising concerns about corruption in healthcare./nFinnish government's handling of racism allegations against ministers sparks debate on political integrity and potential favoritism within the government./nFinnish police investigate a series of arson attacks in Pirkanmaa, highlighting the prevalence of crime and the need for effective law enforcement./nFinnish Competition and Consumer Authority intervenes in Gigantti's customer service practices, revealing misleading information about consumer rights./nTrial against founders of Uros for gross aid fraud, involving misleading information to obtain over six million euros in loans and grants, showcases corruption in public service delivery./nFinnish police arrest several individuals in connection with an attempted murder in Tampere, underscoring the prevalence of violent crime./nFinnish police and Customs investigate a large international entity related to drug crimes, highlighting the prevalence of money laundering and illegal gambling./nFinnish Ministry of Defense blocks real estate transactions involving Russian buyers due to concerns over organized crime and national security threats.\",\n",
       " 'Pillar 3': \"- The Supreme Administrative Court of Finland ruling enhances transparency by applying the Publicity Act to the University of Helsinki Student Union's activities./n- Investigations into Minister of Economy Wille Rydman and the defamation case related to his book demonstrate government commitment to accountability and public's right to information./n- The European Union's Corporate Responsibility Directive debate and Finland's stance highlight the importance of transparency and corporate accountability./n- The Prosecutor's Office and Supreme Court's handling of Anneli Auer's case raises concerns about transparency and citizen participation in the justice system./n- The investigation into Essity and Roche Diagnostics by the Data Protection Commissioner emphasizes the significance of data protection and corporate responsibility./n- The Ministry of the Interior's proposal to extend training and tighten supervision in the private security sector aims to enhance accountability and transparency./n- The Finnish government's communication on combating racism and the subsequent parliamentary discussion demonstrate a commitment to transparency and anti-racism efforts./n- The Transparency Register initiative in Finland, requiring lobbyists to disclose activities, promotes transparency in political decision-making./n- The Supreme Administrative Court ruling on Posti's GDPR violation underscores the importance of clear communication and data protection./n- The Ministry of Foreign Affairs' delayed notification about Georgij Alafuzoff's document breach highlights the need for timely information sharing to safeguard national interests.\",\n",
       " 'Pillar 4': \"The Vastaamo data breach case involving the theft and extortion of sensitive patient data, raising concerns about privacy and confidentiality in healthcare./nThe Finnish government's consideration of closing the eastern border to asylum seekers, potentially impacting the right to asylum and freedom of movement./nThe increase in youth crime in Finland, particularly violent crimes committed by minors, highlighting concerns about public safety and the need for effective intervention./nThe Finnish government's labor market reforms sparking widespread strikes, reflecting tensions between the government and trade unions over workers' rights and labor laws./nThe Finnish government's proposed changes to social security and unemployment insurance, raising concerns about the impact on low-income earners and families./nThe Finnish government's efforts to combat racism, including the proposal for a program to eradicate racism, amid criticism of the government's commitment to equality./nThe Finnish government's handling of racism allegations against two ministers, leading to a vote of confidence and debates over the government's stance on racism./nThe Finnish Sports Ethics Center's investigation into harassment allegations against a baseball player, emphasizing the importance of addressing harassment and promoting equality in sports./nThe Finnish government's response to the surge in asylum seekers at the eastern border, including the potential closure of border crossings, affecting the right to seek asylum./nThe Finnish government's budget cuts impacting healthcare services, particularly for the elderly, raising concerns about access to care and the protection of vulnerable populations.\",\n",
       " 'Pillar 5': \"Increase in youth crime and violence, particularly among minors under 15, raising concerns about public safety and the State's ability to maintain order./nArrests and investigations related to arson cases in Pirkanmaa, demonstrating the State's efforts to combat and prevent property crimes./nThe murder of a four-year-old child in Joensuu, highlighting issues in child protection and the State's role in preventing violence against vulnerable populations./nThe Finnish government's closure of the eastern border due to security concerns, reflecting the State's measures to control immigration and maintain national security./nViolent crimes committed by street gangs, including shootings and assaults, raising concerns about public safety and the State's ability to combat organized crime./nProposals for stricter measures against juvenile delinquents, indicating the State's efforts to address rising youth crime and ensure public safety./nThe Vastaamo data breach case, emphasizing the importance of protecting personal data and the State's role in ensuring cybersecurity./nThe murder trial in Helsinki, where a man was sentenced for killing his ex-girlfriend, underscoring the State's commitment to justice and public safety./nThe police shooting of an armed man in Espoo, highlighting the challenges faced by law enforcement in maintaining public safety./nThe rise in reported sexual crimes following changes in the sexual crimes law, indicating the State's efforts to address and prevent such crimes.\",\n",
       " 'Pillar 6': \"The Finnish government's proposal to reduce the transfer tax raises concerns about its impact on public finances and the transparency of decision-making./nFinnish Customs investigates companies for exporting products to Russia in violation of EU sanctions, highlighting the importance of enforcing international trade regulations./nThe Finnish Competition and Consumer Authority intervenes in Gigantti's customer service practices, emphasizing the need for businesses to comply with consumer protection laws./nThe Finnish government's efforts to combat gang crime through a combination of strict and lenient measures demonstrate the importance of regulatory enforcement in maintaining public safety./nThe Finnish government's budget proposal continues indebtedness, raising concerns about the management of public finances and the impact on the economy and citizens./nThe Finnish Immigration Service's certification program for companies highlights the challenges in enforcing labor laws and protecting workers' rights./nThe Finnish government's plans to reform the labor market could impact workers' rights and job security, underscoring the importance of fair and transparent regulatory enforcement./nThe Finnish government's allocation of funds for transport projects demonstrates its commitment to improving infrastructure and the potential impact on economic growth and citizen well-being./nThe Finnish government's handling of the electricity price crisis and the proposed crisis market model for electricity highlight the challenges in regulating the energy market and protecting consumers./nThe Finnish government's investigation into Nokian Renkaat for alleged cartel behavior emphasizes the importance of competition law enforcement in preventing anti-competitive practices.\",\n",
       " 'Pillar 7': \"The Vastaamo data breach trial highlights the need for effective enforcement of laws against data breaches and the provision of accessible justice mechanisms for victims./nThe Supreme Administrative Court ruling on ballots with crossed-out and rewritten numbers upholds the integrity of the electoral process and promotes civil justice./nThe Helsinki Court of Appeal's decision to re-imprison Aleksanteri Kivimäki emphasizes the court's commitment to upholding the rule of law and protecting victims' rights./nThe conviction of a 25-year-old man for a series of arson attacks in Pirkanmaa demonstrates the justice system's effectiveness in addressing violent crimes./nThe Finnish government's communication on measures to promote equality and combat racism highlights efforts to address discrimination and ensure equal access to justice./nThe Helsinki District Court's sentencing of a psychiatrist for murder underscores the importance of holding individuals accountable for violent crimes./nThe Court of Appeal's acquittal of a man accused of causing a forest fire due to a sleeping judge emphasizes the need for fairness and attentiveness in trials./nThe Finnish Competition and Consumer Authority's intervention in Gigantti's customer service practices highlights the need for consumer protection and fair business practices./nThe Helsinki Administrative Court's ruling in favor of Elokapina's right to fundraise for legal expenses upholds individuals' access to legal representation./nThe conviction of a social media influencer for animal welfare violations and the subsequent legal battle demonstrate the importance of protecting animal rights and ensuring justice.\",\n",
       " 'Pillar 8': \"The Vastaamo data breach and extortion trial involving Aleksanteri Kivimäki highlights challenges in cybercrime investigations and the protection of victims' rights./nThe Finnish government's measures to combat racism and discrimination, including criminalizing Holocaust denial, emphasize efforts to promote equality and justice./nInvestigations into human trafficking in the Finnish berry industry reveal exploitation of Thai berry pickers, underscoring the need for effective criminal justice responses./nThe Court of Appeal's decision to release a man convicted of two murders on parole, despite new criminal suspicions, raises concerns about recidivism and victim protection./nThe Finnish police's crackdown on illegal electric unicycles emphasizes the importance of traffic safety and law enforcement's role in upholding public order./nThe trial of a mother and stepfather accused of murdering their four-year-old child in Joensuu highlights the need for thorough investigations and the protection of children's rights./nThe Finnish police's proposal to expand powers to arrest and detain individuals under 15 to combat youth crime highlights the balance between public safety and juvenile rights./nThe Helsinki Court of Appeal's handling of Päivi Räsänen's case, accused of incitement against a national group, underscores the tension between freedom of speech and hate speech laws./nThe Finnish Safety and Chemicals Agency (Tukes) official's trial for biased statements favoring a mining company in Orivesi illustrates challenges in ensuring impartiality and accountability in public service./nThe Finnish government's response to increased asylum seekers at the eastern border, including closing border crossings, reflects challenges in managing migration and ensuring security.\"}"
      ]
     },
     "execution_count": 31,
     "metadata": {},
     "output_type": "execute_result"
    }
   ],
   "source": [
    "summaries"
   ]
  }
 ],
 "metadata": {
  "kernelspec": {
   "display_name": "Python 3",
   "language": "python",
   "name": "python3"
  },
  "language_info": {
   "codemirror_mode": {
    "name": "ipython",
    "version": 3
   },
   "file_extension": ".py",
   "mimetype": "text/x-python",
   "name": "python",
   "nbconvert_exporter": "python",
   "pygments_lexer": "ipython3",
   "version": "3.11.9"
  }
 },
 "nbformat": 4,
 "nbformat_minor": 2
}
