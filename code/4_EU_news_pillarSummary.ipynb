{
 "cells": [
  {
   "cell_type": "code",
   "execution_count": 1,
   "metadata": {},
   "outputs": [],
   "source": [
    "import os\n",
    "import ast\n",
    "import json\n",
    "import time\n",
    "import pandas as pd\n",
    "from dotenv import load_dotenv\n",
    "import prompt_templates_summarization as pts\n",
    "from langchain.schema import BaseOutputParser\n",
    "from langchain.prompts.chat import ChatPromptTemplate\n",
    "from langchain_google_genai import (\n",
    "    ChatGoogleGenerativeAI,\n",
    "    HarmBlockThreshold,\n",
    "    HarmCategory\n",
    ")\n",
    "from langchain_openai import ChatOpenAI\n",
    "from json.decoder import JSONDecodeError\n",
    "from google.generativeai.types import BlockedPromptException\n",
    "from google.generativeai.types.generation_types import StopCandidateException"
   ]
  },
  {
   "cell_type": "code",
   "execution_count": 2,
   "metadata": {},
   "outputs": [],
   "source": [
    "country = \"Cyprus\"\n",
    "path2SP = \"/Users/ctoruno/OneDrive - World Justice Project/EU Subnational\""
   ]
  },
  {
   "cell_type": "markdown",
   "metadata": {},
   "source": [
    "## Loading API key"
   ]
  },
  {
   "cell_type": "code",
   "execution_count": 3,
   "metadata": {},
   "outputs": [],
   "source": [
    "load_dotenv()\n",
    "GoogleAI_key = os.getenv(\"googleAI_API_key\")\n",
    "OpenAI_key   = os.getenv(\"openai_key\")\n",
    "os.environ['GOOGLE_API_KEY'] = GoogleAI_key\n",
    "os.environ['OPENAI_API_KEY'] = OpenAI_key"
   ]
  },
  {
   "cell_type": "markdown",
   "metadata": {},
   "source": [
    "## Reading the data"
   ]
  },
  {
   "cell_type": "code",
   "execution_count": 4,
   "metadata": {},
   "outputs": [],
   "source": [
    "def gatherFiles(country, p):\n",
    "    \"\"\"\n",
    "    This function takes a country as input and returns a list with all the news articles associated to that specific pillar.\n",
    "    \"\"\"\n",
    "    data_path = f\"{path2SP}/EU-S Data/Automated Qualitative Checks/Data/data-summarization/{country}/pillar_{p}\"\n",
    "    sets = [pd.read_parquet(f\"{data_path}/{x}\") for x in os.listdir(data_path)]\n",
    "    pillar_data = pd.concat(sets)\n",
    "    pillar_data[\"associated_pillar\"] = f\"Pillar {p}\"\n",
    "    print(f\"Pillar {p}: {len(pillar_data)} articles\")\n",
    "\n",
    "    return pillar_data"
   ]
  },
  {
   "cell_type": "code",
   "execution_count": 5,
   "metadata": {},
   "outputs": [
    {
     "name": "stdout",
     "output_type": "stream",
     "text": [
      "Pillar 1: 5156 articles\n",
      "Pillar 2: 3345 articles\n",
      "Pillar 3: 1008 articles\n",
      "Pillar 4: 3286 articles\n",
      "Pillar 5: 1524 articles\n",
      "Pillar 6: 1707 articles\n",
      "Pillar 7: 2088 articles\n",
      "Pillar 8: 3347 articles\n"
     ]
    }
   ],
   "source": [
    "country_data = [gatherFiles(country, p) for p in range(1,9)]"
   ]
  },
  {
   "cell_type": "markdown",
   "metadata": {},
   "source": [
    "## Saving gathered data"
   ]
  },
  {
   "cell_type": "code",
   "execution_count": 6,
   "metadata": {},
   "outputs": [],
   "source": [
    "target_vars = [\n",
    "    \"id\", \"link\", \"domain_url\", \"published_date\",\n",
    "    \"title_trans\", \"description_trans\", \"content_trans\", \"summary\", \"impact_score\",\n",
    "    \"pillar_1\", \"pillar_2\", \"pillar_3\", \"pillar_4\", \"pillar_5\", \"pillar_6\", \"pillar_7\", \"pillar_8\",\n",
    "    \"associated_pillar\"\n",
    "]\n",
    "master = pd.concat(country_data).loc[:,target_vars]\n",
    "master.to_parquet(f\"{path2SP}/EU-S Data/Automated Qualitative Checks/Data/data-summarization/{country}/{country}_master.parquet.gzip\", compression=\"gzip\")"
   ]
  },
  {
   "cell_type": "markdown",
   "metadata": {},
   "source": [
    "## Defining chain"
   ]
  },
  {
   "cell_type": "code",
   "execution_count": 8,
   "metadata": {},
   "outputs": [],
   "source": [
    "safety_settings = {\n",
    "    HarmCategory.HARM_CATEGORY_HARASSMENT: HarmBlockThreshold.BLOCK_NONE,\n",
    "    HarmCategory.HARM_CATEGORY_HATE_SPEECH: HarmBlockThreshold.BLOCK_NONE,\n",
    "    HarmCategory.HARM_CATEGORY_SEXUALLY_EXPLICIT: HarmBlockThreshold.BLOCK_NONE,\n",
    "    HarmCategory.HARM_CATEGORY_DANGEROUS_CONTENT: HarmBlockThreshold.BLOCK_NONE\n",
    "}"
   ]
  },
  {
   "cell_type": "code",
   "execution_count": 9,
   "metadata": {},
   "outputs": [],
   "source": [
    "class JSONOutputParser(BaseOutputParser):\n",
    "    def parse(self, text: str):\n",
    "        \"\"\"\n",
    "        Parse the output of an LLM call to a valid JSON format.\n",
    "        \"\"\"\n",
    "        return json.loads(text.replace('```json', '').replace('```', ''), strict=False)"
   ]
  },
  {
   "cell_type": "code",
   "execution_count": 10,
   "metadata": {},
   "outputs": [],
   "source": [
    "def summarize_pillar(summaries, pillar):\n",
    "    \"\"\"\n",
    "    This function takes a list of summaries and it sends a call to Google's Gemini asking for a list of\n",
    "    important events to take into account for a specific pillar of the Rule of Law.\n",
    "    \"\"\"\n",
    "    \n",
    "    idx = str(pillar)\n",
    "\n",
    "    # Setting up the Prompt Template\n",
    "    chat_prompt = ChatPromptTemplate.from_messages([\n",
    "                    (\"human\", pts.pillar_summary_prompt)\n",
    "                ])\n",
    "\n",
    "    # Defining our chain\n",
    "    chain_gemini = chat_prompt | ChatGoogleGenerativeAI(model = \"gemini-pro\",\n",
    "                                                        temperature = 0.25, \n",
    "                                                        safety_settings = safety_settings,\n",
    "                                                        convert_system_message_to_human = True) | JSONOutputParser()\n",
    "    \n",
    "    try: \n",
    "        llm_response = chain_gemini.invoke({\n",
    "            \"summaries\"      : summaries,\n",
    "            \"pillar_name\"    : pts.pillar_names[idx],\n",
    "            \"pillar_bullets\" : pts.pillar_bullets[idx]\n",
    "        })\n",
    "        status = True\n",
    "        time.sleep(1)   # We need to slow down the calls. given that the Gemini API has a limit of 60 calls per second\n",
    "\n",
    "    # The API can still block some of our prompts due to undefined reasons. Sadly, we can't do anything about it, so we\n",
    "    # predefine the outcome    \n",
    "    except (BlockedPromptException, StopCandidateException):\n",
    "        print(\"Prompt BLOCKED\")\n",
    "        status = False\n",
    "    \n",
    "    except JSONDecodeError:\n",
    "        print(\"Decode error... trying again...\")\n",
    "        try: \n",
    "            llm_response = chain_gemini.invoke({\n",
    "                \"summaries\"      : summaries,\n",
    "                \"pillar_name\"    : pts.pillar_names[idx],\n",
    "                \"pillar_bullets\" : pts.pillar_bullets[idx]\n",
    "            })\n",
    "            status = True\n",
    "            time.sleep(1)\n",
    "\n",
    "        except JSONDecodeError:\n",
    "            print(\"Decode error... trying again...\")\n",
    "            try: \n",
    "                llm_response = chain_gemini.invoke({\n",
    "                    \"summaries\"      : summaries,\n",
    "                    \"pillar_name\"    : pts.pillar_names[idx],\n",
    "                    \"pillar_bullets\" : pts.pillar_bullets[idx]\n",
    "                })\n",
    "                status = True\n",
    "                time.sleep(1)\n",
    "\n",
    "            except JSONDecodeError:\n",
    "                print(\"Failed. Skipping...\")\n",
    "                status = False\n",
    "\n",
    "    # We use the STATUS variable to throw an outcome to our call depending if our prompt was blocked or not\n",
    "    if status == True:\n",
    "        outcome = [llm_response[\"list_of_events\"]]\n",
    "\n",
    "    else:\n",
    "        outcome = \"Skipped list\"\n",
    "\n",
    "    return outcome"
   ]
  },
  {
   "cell_type": "code",
   "execution_count": 11,
   "metadata": {},
   "outputs": [],
   "source": [
    "def summarize_pillar_GPT(summaries, pillar):\n",
    "    \"\"\"\n",
    "    This function takes a list of summaries and it sends a call to OpenAI's GPT asking for a list of\n",
    "    important events to take into account for a specific pillar of the Rule of Law.\n",
    "    \"\"\"\n",
    "    \n",
    "    idx = str(pillar)\n",
    "\n",
    "    # Setting up the Prompt Template\n",
    "    chat_prompt = ChatPromptTemplate.from_messages([\n",
    "                    (\"system\", pts.pillar_summary_context),\n",
    "                    (\"human\", pts.pillar_summary_instructions)\n",
    "                ])\n",
    "\n",
    "    # Defining our chain\n",
    "    chain_gpt = chat_prompt | ChatOpenAI(model_name=\"gpt-4-turbo-preview\", temperature=0.2) | JSONOutputParser()\n",
    "    \n",
    "    try: \n",
    "        llm_response = chain_gpt.invoke({\n",
    "            \"summaries\"      : summaries,\n",
    "            \"pillar_name\"    : pts.pillar_names[idx],\n",
    "            \"pillar_bullets\" : pts.pillar_bullets[idx]\n",
    "        })\n",
    "        status = True\n",
    "    \n",
    "    except JSONDecodeError:\n",
    "        print(\"Decode error... trying again...\")\n",
    "        try: \n",
    "            llm_response = chain_gpt.invoke({\n",
    "                \"summaries\"      : summaries,\n",
    "                \"pillar_name\"    : pts.pillar_names[idx],\n",
    "                \"pillar_bullets\" : pts.pillar_bullets[idx]\n",
    "            })\n",
    "            status = True\n",
    "\n",
    "        except JSONDecodeError:\n",
    "            print(\"Decode error... trying again...\")\n",
    "            try: \n",
    "                llm_response = chain_gpt.invoke({\n",
    "                    \"summaries\"      : summaries,\n",
    "                    \"pillar_name\"    : pts.pillar_names[idx],\n",
    "                    \"pillar_bullets\" : pts.pillar_bullets[idx]\n",
    "                })\n",
    "                status = True\n",
    "\n",
    "            except JSONDecodeError:\n",
    "                print(\"Failed. Skipping...\")\n",
    "                status = False\n",
    "\n",
    "    # We use the STATUS variable to throw an outcome to our call depending if our prompt was blocked or not\n",
    "    if status == True:\n",
    "        outcome = [llm_response[\"list_of_events\"]]\n",
    "\n",
    "    else:\n",
    "        outcome = \"Skipped list\"\n",
    "\n",
    "    return outcome"
   ]
  },
  {
   "cell_type": "markdown",
   "metadata": {},
   "source": [
    "## Sending calls"
   ]
  },
  {
   "cell_type": "code",
   "execution_count": 13,
   "metadata": {},
   "outputs": [],
   "source": [
    "def split_summaries(summaries, llm = \"GPT\"):\n",
    "    \"\"\"\n",
    "    This function takes a list of summaries and provides a text compiling all of them but taking into account the \n",
    "    token limit for using the Gemini Pro 1.0 API\n",
    "    \"\"\"\n",
    "\n",
    "    idx = 0\n",
    "    segments = [[]]\n",
    "    total_count = 0\n",
    "\n",
    "    if llm == \"GPT\":\n",
    "        tkn_limit = 98500\n",
    "    if llm == \"Gemini\":\n",
    "        tkn_limit = 22500\n",
    "\n",
    "    for text in summaries:\n",
    "        text_length = len(text.split())\n",
    "\n",
    "        if total_count + text_length < tkn_limit:\n",
    "            segments[idx].append(text)\n",
    "            total_count = total_count + text_length\n",
    "        else:\n",
    "            segments.append([])\n",
    "            idx = idx + 1\n",
    "            total_count = 0\n",
    "            segments[idx].append(text)\n",
    "            total_count = total_count + text_length\n",
    "\n",
    "    outcome = [\"- \"+\"\\n- \".join(segment) for segment in segments]\n",
    "\n",
    "    return outcome\n"
   ]
  },
  {
   "cell_type": "code",
   "execution_count": 14,
   "metadata": {},
   "outputs": [
    {
     "name": "stdout",
     "output_type": "stream",
     "text": [
      "PILLAR 1\n",
      "Total number of chunks: 5\n",
      "Decode error... trying again...\n",
      "Decode error... trying again...\n",
      "Failed. Skipping...\n",
      "PILLAR 2\n",
      "Total number of chunks: 4\n",
      "PILLAR 3\n",
      "Total number of chunks: 1\n",
      "PILLAR 4\n",
      "Total number of chunks: 4\n",
      "PILLAR 5\n",
      "Total number of chunks: 2\n",
      "PILLAR 6\n",
      "Total number of chunks: 2\n",
      "PILLAR 7\n",
      "Total number of chunks: 2\n",
      "PILLAR 8\n",
      "Total number of chunks: 3\n"
     ]
    }
   ],
   "source": [
    "summaries = {}\n",
    "for p in range(1,9):\n",
    "    print(f\"PILLAR {p}\")\n",
    "    article_list   = country_data[p-1][\"summary\"].to_list()\n",
    "    limited_chunks = split_summaries(article_list)\n",
    "    print(f\"Total number of chunks: {len(limited_chunks)}\")\n",
    "    bullet_points  = [summarize_pillar_GPT(x, p) for x in limited_chunks]\n",
    "    pillar_summ    = \"/n\".join([item for sublist_1 in bullet_points for sublist_2 in sublist_1 for item in sublist_2])\n",
    "    summaries.update({f\"Pillar {p}\" : pillar_summ})"
   ]
  },
  {
   "cell_type": "markdown",
   "metadata": {},
   "source": [
    "## Saving summaries as JSON files"
   ]
  },
  {
   "cell_type": "code",
   "execution_count": 15,
   "metadata": {},
   "outputs": [],
   "source": [
    "file_path = f\"{path2SP}/EU-S Data/Automated Qualitative Checks/Data/data-summarization/Overview/{country}_overviewSummaries.json\"\n",
    "with open(file_path, \"w\") as json_file:\n",
    "    json.dump(summaries, json_file)"
   ]
  },
  {
   "cell_type": "code",
   "execution_count": 16,
   "metadata": {},
   "outputs": [
    {
     "data": {
      "text/plain": [
       "{'Pillar 1': \"S/nk/ni/np/np/ne/nd/n /nl/ni/ns/nt/n- Investigation into the death of Thanasis Nikolaou raises concerns about the independence and effectiveness of the judiciary in Cyprus./n- The Cyprus Police intensify checks to improve road safety, demonstrating commitment to public safety and law enforcement effectiveness./n- The Cyprus Bar Association emphasizes the importance of journalistic independence and confidentiality, aligning with media freedom and protection of journalists./n- AKEL criticizes the government's handling of immigration, highlighting the lack of a comprehensive policy and the rise of xenophobia and racism./n- The Cyprus Parliament debates bills to protect borrowers from foreclosures, reflecting efforts to ensure fairness in the financial sector./n- The Auditor General of Cyprus criticizes government spending and appointments, raising concerns about transparency and accountability./n- The Cyprus Parliament passes laws to combat money laundering, strengthening oversight institutions and financial regulations./n- The Cyprus Police arrest individuals involved in drug trafficking, showcasing the effectiveness of law enforcement agencies./n- The Cyprus Parliament discusses the unfreezing of public sector positions, highlighting debates over government spending and public sector employment./n- The Cyprus Ministry of Transport orders the immobilization of buses without fire extinguishing systems, prioritizing public transportation safety./nInvestigation into Cyprus' 'golden passports' scandal highlights concerns about transparency and accountability in handling corruption cases./nCyprus' struggle with fan violence in stadiums underscores the need for effective law enforcement and government measures to ensure public safety./nThe Auditor General's criticism of the Cyprus University of Technology (TEPAK) for lack of disciplinary control and transparency raises concerns about accountability in educational institutions./nThe controversy over appointments to semi-state organizations in Cyprus highlights issues of nepotism and lack of transparency in government decision-making./nThe legal battle over the Cyprus Broadcasting Corporation (RIK) and the case of journalist Evdokia Loizou emphasize the need for accountability and protection of employees' rights./nThe Cyprus Police's failure to prevent violence at football matches and the lack of accountability for officers' actions demonstrate challenges in maintaining public order./nThe ongoing issue of illegal bird trapping in Cyprus raises concerns about the effectiveness of oversight institutions in enforcing environmental regulations./nThe Cyprus government's handling of homelessness and the lack of comprehensive data and support for vulnerable individuals highlight the need for improved social welfare policies./nThe legal challenge against the Cyprus Telecommunications Authority (CTA) for covering up delays and failures in a natural gas terminal project underscores concerns about transparency and corruption./nThe Cyprus government's efforts to combat organized crime, including financial control of criminal elements, highlight the need for stronger oversight and law enforcement measures./nInvestigation into Cyprus' role in facilitating Russian oligarchs to evade Western sanctions, highlighting oversight institutions' challenges./nCyprus' struggle with organized crime, evidenced by high-profile murders, raising concerns about law enforcement effectiveness./nThe government's failure to address environmental violations in Akamas, undermining oversight institutions' effectiveness./nLegislative changes to address non-performing loans and foreclosures in Cyprus, aiming to protect vulnerable borrowers./nCorruption allegations against former President Nikos Anastasiadis, emphasizing the need for transparency and accountability./nThe establishment of a Deputy Ministry of Immigration to enhance coordination and supervision of immigration matters./nEfforts to combat fan violence in sports, including legislative measures to ensure public safety./nChallenges in implementing the National Health System (GeSY), highlighting the need for improved healthcare infrastructure./nThe government's plan to regulate jointly owned buildings, aiming to improve transparency and accountability in property management./nThe Auditor General's call to freeze funds for sponsorships and the purchase of buildings, aiming for fiscal responsibility./nInvestigation into Cyprus Olympic Committee for alleged corruption and embezzlement, highlighting oversight institution challenges./nCyprus' struggle with high business corruption, ranking third in the EU, undermining fair competition and economic growth./nLegal dispute between Paphos Municipality and Diocese over compensation, raising judiciary independence concerns./nCyprus Securities and Exchange Commission warns against fraudsters, emphasizing the need for public vigilance./nAudit Service's report on widespread mismanagement in community councils, indicating a lack of accountability./nEU's infringement procedures against Cyprus for failing to comply with multiple directives, stressing the need for legal adherence./nCyprus' efforts to combat human trafficking, with 767 incidents reported, stressing the importance of effective law enforcement./nReform of local government in Cyprus delayed, highlighting challenges in implementing effective governance./nCyprus' handling of immigration issues leading to protests and social unrest, questioning government transparency./nInvestigation into Cyprus Confidential files revealing corruption, stressing the need for transparency and government accountability.\",\n",
       " 'Pillar 2': \"Investigation into Cyprus' involvement in money laundering and aiding Russian oligarchs evade sanctions, exposing systemic corruption./nCyprus Police and Legal Service's efforts to combat terrorism and safeguard national security by thwarting alleged Iranian plot./nAudit Service of Cyprus accuses government of undermining its efforts to combat corruption, highlighting institutional conflicts./nCyprus' efforts to manage immigration, including reducing asylum applications and increasing returns, aiming to address corruption in immigration services./nCorruption allegations against former President Nikos Anastasiadis related to the 'golden' passport program, raising concerns about political corruption./nSports Ethics and Protection Committee in Cyprus investigates corruption in sports, emphasizing the need for integrity in sports governance./nThe Cyprus Football Federation (KOP) and referees address corruption concerns in Cypriot football, aiming to curb corruption and promote fair play./nInvestigation into illegal usurpation of Greek Cypriot properties in occupied territories, highlighting corruption in real estate and property management./nCyprus Police's intensified measures to ensure public safety during holidays, demonstrating efforts to combat corruption and crime./nLegal battles and investigations into financial crimes and sanctions violations against Russia, showcasing Cyprus' commitment to international cooperation and combating corruption./nInvestigation into 'golden passports' scandal involving former President Nikos Anastasiadis and allegations of corruption in naturalization of foreign investors./nArrest of French-Israeli billionaire Benny Steinmetz in Cyprus for alleged fraud and involvement in illegal land rights acquisition./nPolice crackdown on migrant trafficking ring in Cyprus, leading to arrests and highlighting issues of illegal immigration and human smuggling./nAudit Service of Cyprus exposes financial irregularities and potential corruption in the handling of the LNG terminal project awarded to a Chinese consortium./nViolent incidents in Chloraka and Limassol spark concerns about police response, raising issues of corruption and lack of accountability within law enforcement./nCyprus' struggle with sham marriages scandal, involving illegal immigration and residence facilitation, exposes corruption within government agencies./nLegal actions and controversies surrounding the production and PDO status of halloumi cheese in Cyprus, involving disputes among cheesemakers, cattle breeders, and goat herders./nAllegations of corruption and nepotism in the appointment process of semi-state organizations in Cyprus, undermining transparency and meritocracy./nAuditor General of Cyprus highlights illegal payment of multiple pensions to officials, indicating misuse of public funds and lack of accountability./nEfforts to combat organized crime in Cyprus, including financial investigations and increased police presence, to restore public safety and trust./nInvestigation into Cyprus Olympic Committee reveals potential criminal offenses, highlighting corruption in sports organizations./nCyprus's handling of Russian oligarchs and sanctions evasion exposed, raising concerns about financial sector corruption./nCyprus Police's efforts to combat drug trafficking, with significant seizures and arrests, underline ongoing drug-related corruption./nThe Cyprus Securities and Exchange Commission warns of fraudsters impersonating officials, indicating prevalent financial scams./nInvestigations into human trafficking and sexual exploitation cases in Cyprus reveal systemic challenges in combating these crimes./nAuditor General's report on public procurement in Cyprus uncovers delays, cost overruns, and potential corruption./nCyprus's struggle with illegal immigration highlighted by violent incidents and government's enforcement actions./nRevelations of environmental violations in Akamas road network project raise concerns about corruption in public projects./nLegal disputes and court rulings in Cyprus expose issues of nepotism, favoritism, and corruption in public sector appointments./nEfforts to regulate the delivery worker sector in Cyprus aim to address labor exploitation and improve working conditions./nRampant corruption and looting in areas occupied by Turkey, including property seizures and cultural heritage destruction./nInvestigation into mismanagement of Turkish Cypriot commercial properties to enhance transparency and meritocracy./nCyprus ranks third in EU for business corruption, indicating a severe problem with corruption affecting business competition./nNew measures by the Health Insurance Organization to prevent duplicate drug prescriptions, aiming to reduce corruption in healthcare./nSmart water supply system in Pafos reduces illegal connections and fraud, improving municipal revenue collection./nNegligence by the Public Works department in environmental protection during the construction of the new Cypriot museum./nMunicipalities demand the creation of a special Environmental Control Service following a fire at a recycling factory, highlighting regulatory inadequacies./nInitiatives to combat corruption in real estate management, including audits and checks for illegal subletting./nConsumer Protection Service's campaign to educate businesses on consumer rights, aiming to prevent market competition disruption./nThe Ministry of the Interior's bill to improve management of jointly owned buildings, addressing legal compliance and safety.\",\n",
       " 'Pillar 3': \"Investigation into Cyprus's role in circumventing sanctions against Russian oligarchs, raising concerns about transparency and accountability./nThe Cyprus Police's investigation into potential sanctions violations by Russian oligarchs, emphasizing the need for transparency and accountability in financial transactions./nThe establishment of an Independent Anti-Corruption Authority in Cyprus to combat corruption and promote transparency and accountability in governance./nThe Cyprus Securities and Exchange Commission's warning about fraudsters impersonating its officials, highlighting the importance of transparency and public awareness./nThe Cyprus Football Federation (KOP) being vindicated by the Sports Ethics and Protection Committee, emphasizing the need for accountability in sports governance./nThe Cyprus Government's efforts to improve the management of Turkish Cypriot-owned plots, aiming to increase transparency and accountability in land allocation./nThe Cyprus Government's implementation of a Beneficial Beneficiaries Register to combat money laundering and promote financial transparency./nThe Cyprus Government's plan to streamline the asylum application process, emphasizing the need for transparency and efficiency in immigration management./nThe Cyprus Government's efforts to address the housing challenge by implementing a comprehensive housing policy, aiming to increase transparency and affordability./nThe Cyprus Government's initiative to digitize state services and promote e-government, aiming to enhance transparency, efficiency, and citizen participation.\",\n",
       " 'Pillar 4': \"Referees in Cyprus go on indefinite strike due to bomb attacks, raising concerns about safety in football and freedom of association./nCyprus struggles with increased immigration, leading to tensions and government measures to manage asylum applications and returns./nThe Cyprus government's handling of recent violent incidents in Chloraka and Limassol criticized for failing to protect fundamental freedoms./nInvestigative journalists in Cyprus face surveillance and intimidation, threatening press freedom and the right to information./nThe Cyprus Parliament approves legislation to protect borrowers from foreclosures, aiming to ensure fairness and transparency in the banking sector./nEnvironmental organizations in Cyprus demand action against illegal developments in Akamas National Forest Park, highlighting concerns about environmental protection./nCyprus's efforts to combat human trafficking and sexual exploitation face challenges, emphasizing the need for improved coordination and legislation./nThe Cyprus government announces a National Strategy for the Third Age, focusing on support and care for the elderly, highlighting social policy priorities./nThe Cyprus government faces criticism for its silence on Israel's actions in Gaza, raising concerns about foreign policy and human rights./nThe Cyprus government and political parties debate the European Media Freedom Act, focusing on provisions that could allow monitoring of journalists, impacting freedom of the press./nViolent incidents in Limassol and Chloraka raise concerns about freedom of assembly, expression, and protection from violence./nFarmers in Cyprus protest against EU agricultural policies, demanding financial support and measures for development./nCyprus Police's failure to prevent violence at football matches highlights concerns about public safety and freedom of assembly./nThe government's handling of the 'golden passports' scandal raises questions about accountability and transparency./nRecent attacks on immigrants in Cyprus spotlight issues of racism, discrimination, and the government's immigration policy./nThe Cyprus Police's inability to maintain order during protests against immigration underscores concerns about public safety and fundamental freedoms./nThe government's appointments to semi-state organizations criticized for lack of transparency and potential conflicts of interest./nPublic prosecutors in Cyprus demand security measures due to threats, emphasizing the importance of protecting justice officials./nThe rise of far-right violence in Cyprus, including attacks on journalists and immigrants, challenges the protection of fundamental freedoms./nThe government's response to recent violent incidents in Limassol criticized for lack of effective action and accountability./nCyprus' struggle with the Turkish occupation and efforts to resolve the Cyprus issue within the UN framework, emphasizing human rights and territorial integrity./nInvestigations into corruption, money laundering, and illegal land usurpation in Cyprus, highlighting the need for transparency, accountability, and combating corrupt practices to restore the country's reputation./nEfforts to combat human trafficking and sexual exploitation in Cyprus, including the establishment of a specialized unit and the development of a National Strategy for 2023-2026./nThe controversy and legal battles over the Cyprus Investment Program, involving allegations of financial crimes and the misuse of exceptional naturalization procedures./nChallenges faced by refugees and immigrants in Cyprus, including protests against government policies, discrimination, and the need for comprehensive immigration management./nThe ongoing issue of missing persons in Cyprus since the 1974 Turkish invasion, emphasizing the need for cooperation from Turkey and justice for the families./nLegal actions and reforms to protect women's rights and combat gender-based violence in Cyprus, including the implementation of the Istanbul Convention and national strategies./nEnvironmental concerns and legal actions related to the development projects in the Akamas National Forest Park, stressing the importance of environmental protection and sustainable development./nThe impact of the COVID-19 pandemic on fundamental freedoms in Cyprus, including legal challenges against government measures and the importance of balancing public health with individual rights./nEfforts to improve the justice system in Cyprus, including reforms to enhance efficiency, transparency, and the protection of rights related to justice./nEnvironmental concerns and violations in Akamas National Forest Park, highlighting government commitment issues to environmental protection and sustainable development./nAuditor General's report on Fast Track Grant Program weaknesses, leading to strengthened conditions and control procedures to prevent abuse./nConcerns raised by the Commissioner for the Protection of Personal Data regarding workplace and residential privacy, emphasizing the need for data protection compliance./nUN Special Representative's optimism for Cyprus conflict resolution through dialogue and economic integration, stressing the importance of fundamental freedoms in conflict resolution./nLabor unrest by OKYPY workers demanding equal pay and rights, highlighting issues of inequality and discrimination based on employment status./nCyprus Securities and Exchange Commission's warnings about fraud, protecting citizens' rights to property and freedom from exploitation./nCommissioner of Administration's investigation into the isolation of an autistic child, emphasizing the need for proper treatment of students with disabilities./nIllegal immigrant trafficking ring in Cyprus, spotlighting human rights concerns and the need for effective measures against human trafficking./nProposed bill for better management of jointly owned buildings, aiming to protect property rights and ensure a safe and healthy environment./nPlan for rent in installments approved by the Council of Ministers, aimed at protecting vulnerable groups' housing and addressing non-performing loans.\",\n",
       " 'Pillar 5': \"Violent incidents in Chloraka and Limassol involving attacks on immigrants and property, leading to arrests and government meetings to address public safety./nThe murder of Thanasis Kalogeropoulos and Alexis Mavromichalis in Cyprus, highlighting concerns about organized crime and the state's ability to maintain security./nEfforts by Cyprus Police to combat drug trafficking, including arrests and seizures of large quantities of drugs, contributing to public safety./nThe government's measures to address fan violence in stadiums, including potential stadium closures and increased police presence to ensure public order./nThe establishment of a Deputy Ministry of Immigration in Cyprus to manage increasing migration flows and enhance public safety./nThe use of the Schengen Information System by Cyprus Police to locate and arrest wanted individuals, enhancing security and cooperation with EU member states./nThe government's plan to increase police recruitment to address understaffing and improve the operational capacity of the Police in combating crime and violence./nThe implementation of traffic cameras in Cyprus to monitor violations and improve road safety, despite concerns over fines and penalties./nThe arson attack on a public prosecutor's vehicle in Paphos, raising concerns about the safety of justice officials and the influence of organized crime./nThe revival of the field guards institution in rural Cyprus to address theft, burglary, and uncontrolled grazing, aiming to enhance safety and security in rural areas./nTurkish Cypriots attacked UN peacekeepers in Pyla, raising international concern and condemnation for violating international law and undermining regional security./nCyprus Police dismantled a cocaine trafficking ring in Limassol, arresting four Nigerian nationals, demonstrating efforts to combat drug trafficking and enhance public safety./nViolence and unrest in Limassol sparked by immigration tensions, highlighting the challenges of managing immigration and maintaining public order./nThe murder of Thanasis Kalogeropoulos in Limassol remains unsolved, reflecting challenges in combating organized crime and ensuring citizen safety./nCyprus faces increased crime indicators, particularly in illegal immigration and human trafficking, stressing the need for enhanced security measures./nThe Cyprus government implements measures to reduce illegal immigration, balancing humanitarian obligations with security concerns./nThe Cyprus Forestry Department struggles with forest fire management due to legal constraints on private property, emphasizing the need for legislative amendments./nThe Cyprus Police conducted extensive patrols and checks, resulting in over 500 traffic complaints, highlighting efforts to improve road safety./nThe Cyprus government's response to marine pollution in Limassol includes coordinating efforts to combat the issue, reflecting the importance of environmental security./nThe Cyprus Police's Anti-Poaching Unit combats poaching and illegal hunting, demonstrating efforts to protect wildlife and maintain ecological order.\",\n",
       " 'Pillar 6': \"Cyprus faces challenges in enforcing environmental regulations, particularly in Akamas National Forest Park, leading to violations and environmental damage./nThe Cyprus government struggles with the implementation of Local Government reform, raising concerns about sustainability and increased costs for citizens./nCyprus's efforts to combat money laundering and enforce sanctions against Russia are highlighted, including cooperation with the FBI and establishing a Single Supervisory Authority./nFarmers in Cyprus protest against EU agricultural policies, demanding financial support and fair competition amidst concerns about environmental measures and trade agreements./nThe Cyprus government's handling of a major LNG terminal project faces delays, cost overruns, and contractual disputes, raising transparency and accountability issues./nCyprus's Auditor General raises concerns about the rule of law and the government's adherence to regulations, particularly regarding pension payments to state officials./nThe Cyprus Securities and Exchange Commission emphasizes the importance of investor protection and adapting to rapid market digitization and sustainable investments./nCyprus's efforts to improve the business and investment environment include implementing the Investment and Talent Attraction Strategy and enhancing digital and green transitions./nThe Cyprus government faces criticism for political appointments and nepotism, raising concerns about transparency and meritocracy in government positions./nCyprus implements measures to streamline the process of issuing property titles, aiming to reduce delays and improve transparency in property transactions./nCyprus's efforts to combat marine pollution in Limassol through strengthened controls and potential legislation revisions./nInvestigation into Cyprus being used as a 'safe haven' for Russian oligarchs to evade sanctions, impacting the country's reputation./nCyprus's implementation of the European Green Deal, including green taxation on fuel to promote environmental sustainability./nAudit Service's report revealing exploitation of Turkish Cypriot and state land by companies receiving subsidies without proper contracts./nCyprus's failure to comply with the Urban Waste Water Treatment Directive, risking EU fines for inadequate sewage infrastructure./nThe Cyprus Securities and Exchange Commission's actions against financial firms for violations, emphasizing regulatory enforcement./nThe Cyprus Football Association's €36 million debt to the state, highlighting issues with financial management in sports clubs./nThe Cyprus Police's enforcement actions against traffic violations and illegal activities in nightclubs to ensure public safety./nThe Cyprus Consumer Protection Service's campaign to educate businesses on consumer rights, aiming to improve market fairness./nThe Cyprus government's new zoning policy for Renewable Energy Source projects to accelerate environmental permits and promote sustainable development.\",\n",
       " 'Pillar 7': \"The Cyprus Bar Association investigates a company for illegal property services in the occupied territories, highlighting concerns about property rights and legal compliance./nThe Supreme Court of Cyprus overturns a fine against Efthymios Bouloutas, raising questions about accountability and the effectiveness of regulatory bodies./nA 31-year-old Ukrainian woman faces trial for a serious money laundering case, emphasizing the challenges in combating financial crimes./nThe Cyprus Police's new system to round up fans accountable before the Court aims to reduce violence in stadiums but faces skepticism about its effectiveness./nThe Cyprus Securities and Exchange Commission's initiatives for social responsibility and sustainable investment underscore efforts to strengthen a sustainable financial system./nThe Ministry of Labor's efforts to address harassment and sexual harassment in the workplace highlight the need for systemic solutions to protect workers./nThe Cyprus Radio Foundation's appeal against a court decision favoring journalist Evdokia Loizou raises concerns about workplace discrimination and justice for occupational diseases./nThe delay in establishing Commercial and Maritime Courts in Cyprus impacts access to justice and the efficiency of the civil justice system./nThe Ministry of Justice proposes a bill to ensure Administration compliance with Administrative Court decisions, aiming to improve the enforcement of civil justice./nThe Cyprus Police warn about a new email scam falsely claiming to be from the police, highlighting ongoing efforts to combat electronic fraud./nCyprus' struggle with the illegal trade and usurpation of Greek Cypriot properties in occupied territories, highlighting challenges in enforcing civil justice across borders./nThe Cyprus Investment Program's scrutiny for facilitating Russian oligarchs and investors to avoid sanctions, raising concerns about corruption and the justice system's integrity./nEfforts to combat human trafficking in Cyprus, with arrests and convictions highlighting the justice system's role in protecting vulnerable individuals from exploitation./nThe Cyprus Football Association (KOP) faces investigations for corruption and mismanagement, emphasizing the need for transparency and accountability in sports governance./nLegal disputes over the 2013 banking crisis in Cyprus, with courts ruling on the government and banks' responsibility for depositors' losses, affecting public trust in the justice system./nThe introduction of new civil procedure regulations in Cyprus aiming to modernize the justice system, reduce case backlogs, and improve access to justice./nThe ongoing issue of missing persons in Cyprus since the 1974 invasion, with families demanding justice and accountability for their loved ones./nSexual harassment cases involving high-ranking officials in Cyprus, underscoring challenges in protecting victims and ensuring impartial justice./nReforms in Cyprus to address workplace violence and harassment, aiming to provide victims with more effective legal remedies and promote a safer work environment./nEnvironmental concerns in Cyprus, including illegal constructions in Akamas and marine pollution in Limassol, highlighting the need for effective legal enforcement and environmental protection.\",\n",
       " 'Pillar 8': \"Investigation into the murder of Thanasis Kalogeropoulos in Limassol, highlighting challenges in combating organized crime and ensuring justice./nCyprus Police's intensified traffic checks to prevent road collisions, demonstrating efforts to uphold public safety and law enforcement effectiveness./nArrests made in connection with drug trafficking rings, showcasing law enforcement's commitment to combating drug-related crimes./nInvestigations into allegations of corruption within the Cyprus Olympic Committee, emphasizing the need for transparency and accountability in sports governance./nEfforts to combat domestic violence in Cyprus, with a significant number of cases reported and actions taken to protect victims./nLegal actions and investigations related to the Cyprus Investment Program and allegations of corruption, underscoring concerns about financial crimes and the integrity of citizenship processes./nProposed legislation to criminalize bullying in schools, workplaces, and the military, aiming to protect victims and promote a safer environment./nInvestigations into incidents of violence and racism against immigrants, highlighting the need for effective law enforcement and protection of human rights./nThe ongoing death investigation of Thanasis Nikolaou, raising questions about the effectiveness and impartiality of criminal investigations./nEfforts to address illegalities and corruption in the management of Turkish Cypriot properties, demonstrating the government's commitment to upholding the rule of law./nInvestigation into the death of Thanasis Nikolaou raises concerns about the effectiveness and impartiality of criminal investigations in Cyprus./nThe Cyprus Police's failure to prevent violence during protests and football matches highlights concerns about law enforcement's effectiveness and public safety./nThe arrest of a French-Israeli billionaire in Cyprus for fraud and the ongoing investigation into sanctions violations against Russian oligarchs underscore issues of financial crime and corruption./nThe acquittal of Turkish Cypriot lawyer Akan Kursiat, accused of selling Greek Cypriot properties, raises questions about the impartiality of trials and property rights issues./nThe establishment of a permanent anti-harassment team by the Cyprus Police to address violence in stadiums reflects efforts to combat organized crime and ensure public safety./nThe ongoing legal battle and EU court decisions regarding the PDO status of halloumi cheese in Cyprus highlight issues of legal effectiveness and international trade disputes./nThe government's acknowledgment of organized crime activities being orchestrated from within Cyprus prisons underscores challenges in ensuring safety, order, and rights within the prison system./nThe increase in asylum applications and the government's efforts to manage immigration flows in Cyprus raise concerns about the effectiveness of asylum procedures and migrant rights./nThe Legal Service's decision to prosecute a police officer for willful neglect of duty in a fatal traffic accident case highlights accountability issues within law enforcement./nThe introduction of legislation to criminalize revenge pornography in Cyprus, aiming to protect victims and ensure fair trials, reflects efforts to address gender-based violence and privacy violations./nInvestigation into Cyprus Football Federation (KOP) for alleged corruption and misconduct, highlighting concerns about transparency and accountability in sports governance./nCyprus's largest drug bust with the seizure of 500 kilograms of synthetic drugs, emphasizing the ongoing battle against drug trafficking and the effectiveness of law enforcement./nThe ongoing issue of missing persons in Cyprus since the 1974 invasion, underscoring the need for continued efforts to locate and identify remains and provide closure to families./nThe arrest and trial of individuals involved in violent incidents in Chloraka, reflecting tensions between native Cypriots and immigrants and the challenges of maintaining public order./nInvestigation into the management of Turkish Cypriot properties, following reports of mismanagement and irregularities, aiming to ensure proper use and prevent illegal activities./nThe Cyprus Securities and Exchange Commission (CySEC) warns about fraudsters impersonating its officials, highlighting the need for vigilance against financial scams and fraud./nThe establishment of a Tourist Police Force proposal by STEK to combat illegalities and ensure the safety of tourists and locals, addressing the surge in quadricycle accident incidents./nThe Cyprus Olympic Committee (COC) under investigation for alleged embezzlement and corruption, raising concerns about the management of sports organizations and the need for reform./nThe introduction of a pan-European hotline to support victims of gender-based violence in Cyprus, aiming to provide immediate access to specialized support services across Europe./nThe Cyprus Police's intensified measures during the festive period to prevent road accidents and combat common, serious, and organized crime, demonstrating a commitment to public safety.\"}"
      ]
     },
     "execution_count": 16,
     "metadata": {},
     "output_type": "execute_result"
    }
   ],
   "source": [
    "summaries"
   ]
  }
 ],
 "metadata": {
  "kernelspec": {
   "display_name": "Python 3",
   "language": "python",
   "name": "python3"
  },
  "language_info": {
   "codemirror_mode": {
    "name": "ipython",
    "version": 3
   },
   "file_extension": ".py",
   "mimetype": "text/x-python",
   "name": "python",
   "nbconvert_exporter": "python",
   "pygments_lexer": "ipython3",
   "version": "3.11.9"
  }
 },
 "nbformat": 4,
 "nbformat_minor": 2
}
