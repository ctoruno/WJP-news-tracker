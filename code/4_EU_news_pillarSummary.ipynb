{
 "cells": [
  {
   "cell_type": "code",
   "execution_count": 37,
   "metadata": {},
   "outputs": [],
   "source": [
    "import os\n",
    "import ast\n",
    "import json\n",
    "import time\n",
    "import pandas as pd\n",
    "from dotenv import load_dotenv\n",
    "import prompt_templates_summarization as pts\n",
    "from langchain.schema import BaseOutputParser\n",
    "from langchain.prompts.chat import ChatPromptTemplate\n",
    "from langchain_google_genai import (\n",
    "    ChatGoogleGenerativeAI,\n",
    "    HarmBlockThreshold,\n",
    "    HarmCategory\n",
    ")\n",
    "from json.decoder import JSONDecodeError\n",
    "from google.generativeai.types import BlockedPromptException\n",
    "from google.generativeai.types.generation_types import StopCandidateException"
   ]
  },
  {
   "cell_type": "code",
   "execution_count": 36,
   "metadata": {},
   "outputs": [],
   "source": [
    "country = \"Hungary\"\n",
    "path2SP = \"/Users/ctoruno/OneDrive - World Justice Project/EU Subnational\""
   ]
  },
  {
   "cell_type": "markdown",
   "metadata": {},
   "source": [
    "## Loading API key"
   ]
  },
  {
   "cell_type": "code",
   "execution_count": 38,
   "metadata": {},
   "outputs": [],
   "source": [
    "load_dotenv()\n",
    "GoogleAI_key = os.getenv(\"googleAI_API_key\")\n",
    "os.environ['GOOGLE_API_KEY'] = GoogleAI_key"
   ]
  },
  {
   "cell_type": "markdown",
   "metadata": {},
   "source": [
    "## Reading the data"
   ]
  },
  {
   "cell_type": "code",
   "execution_count": 39,
   "metadata": {},
   "outputs": [],
   "source": [
    "def gatherFiles(country, p):\n",
    "    \"\"\"\n",
    "    This function takes a country as input and returns a list with all the news articles associated to that specific pillar.\n",
    "    \"\"\"\n",
    "    data_path = f\"{path2SP}/EU-S Data/Automated Qualitative Checks/Data/data-summarization/{country}/pillar_{p}\"\n",
    "    sets = [pd.read_parquet(f\"{data_path}/{x}\") for x in os.listdir(data_path)]\n",
    "    pillar_data = pd.concat(sets)\n",
    "    pillar_data[\"associated_pillar\"] = f\"Pillar {p}\"\n",
    "    print(f\"Pillar {p}: {len(pillar_data)} articles\")\n",
    "\n",
    "    return pillar_data"
   ]
  },
  {
   "cell_type": "code",
   "execution_count": 40,
   "metadata": {},
   "outputs": [
    {
     "name": "stdout",
     "output_type": "stream",
     "text": [
      "Pillar 1: 2196 articles\n",
      "Pillar 2: 1530 articles\n",
      "Pillar 3: 278 articles\n",
      "Pillar 4: 1511 articles\n",
      "Pillar 5: 472 articles\n",
      "Pillar 6: 453 articles\n",
      "Pillar 7: 480 articles\n",
      "Pillar 8: 1394 articles\n"
     ]
    }
   ],
   "source": [
    "country_data = [gatherFiles(country, p) for p in range(1,9)]"
   ]
  },
  {
   "cell_type": "markdown",
   "metadata": {},
   "source": [
    "## Saving gathered data"
   ]
  },
  {
   "cell_type": "code",
   "execution_count": 41,
   "metadata": {},
   "outputs": [],
   "source": [
    "target_vars = [\n",
    "    \"id\", \"link\", \"domain_url\", \"published_date\",\n",
    "    \"title_trans\", \"description_trans\", \"content_trans\", \"summary\", \"impact_score\",\n",
    "    \"pillar_1\", \"pillar_2\", \"pillar_3\", \"pillar_4\", \"pillar_5\", \"pillar_6\", \"pillar_7\", \"pillar_8\",\n",
    "    \"associated_pillar\"\n",
    "]\n",
    "master = pd.concat(country_data).loc[:,target_vars]\n",
    "master.to_parquet(f\"{path2SP}/EU-S Data/Automated Qualitative Checks/Data/data-summarization/{country}/{country}_master.parquet.gzip\", compression=\"gzip\")"
   ]
  },
  {
   "cell_type": "markdown",
   "metadata": {},
   "source": [
    "## Defining chain"
   ]
  },
  {
   "cell_type": "code",
   "execution_count": 42,
   "metadata": {},
   "outputs": [],
   "source": [
    "safety_settings = {\n",
    "    HarmCategory.HARM_CATEGORY_HARASSMENT: HarmBlockThreshold.BLOCK_NONE,\n",
    "    HarmCategory.HARM_CATEGORY_HATE_SPEECH: HarmBlockThreshold.BLOCK_NONE,\n",
    "    HarmCategory.HARM_CATEGORY_SEXUALLY_EXPLICIT: HarmBlockThreshold.BLOCK_NONE,\n",
    "    HarmCategory.HARM_CATEGORY_DANGEROUS_CONTENT: HarmBlockThreshold.BLOCK_NONE\n",
    "}"
   ]
  },
  {
   "cell_type": "code",
   "execution_count": 43,
   "metadata": {},
   "outputs": [],
   "source": [
    "class JSONOutputParser(BaseOutputParser):\n",
    "    def parse(self, text: str):\n",
    "        \"\"\"\n",
    "        Parse the output of an LLM call to a valid JSON format.\n",
    "        \"\"\"\n",
    "        return json.loads(text.replace('```json', '').replace('```', ''), strict=False)"
   ]
  },
  {
   "cell_type": "code",
   "execution_count": 44,
   "metadata": {},
   "outputs": [],
   "source": [
    "def summarize_pillar(summaries, pillar):\n",
    "    \"\"\"\n",
    "    This function takes a list of summaries and it sends a call to Google's Gemini asking for a list of\n",
    "    important events to take into account for a specific pillar of the Rule of Law.\n",
    "    \"\"\"\n",
    "    \n",
    "    idx = str(pillar)\n",
    "\n",
    "    # Setting up the Prompt Template\n",
    "    chat_prompt = ChatPromptTemplate.from_messages([\n",
    "                    (\"human\", pts.pillar_summary_prompt)\n",
    "                ])\n",
    "\n",
    "    # Defining our chain\n",
    "    chain_gemini = chat_prompt | ChatGoogleGenerativeAI(model = \"gemini-pro\",\n",
    "                                                        temperature = 0.25, \n",
    "                                                        safety_settings = safety_settings,\n",
    "                                                        convert_system_message_to_human = True) | JSONOutputParser()\n",
    "    \n",
    "    try: \n",
    "        llm_response = chain_gemini.invoke({\n",
    "            \"summaries\"      : summaries,\n",
    "            \"pillar_name\"    : pts.pillar_names[idx],\n",
    "            \"pillar_bullets\" : pts.pillar_bullets[idx]\n",
    "        })\n",
    "        status = True\n",
    "        time.sleep(1)   # We need to slow down the calls. given that the Gemini API has a limit of 60 calls per second\n",
    "\n",
    "    # The API can still block some of our prompts due to undefined reasons. Sadly, we can't do anything about it, so we\n",
    "    # predefine the outcome    \n",
    "    except (BlockedPromptException, StopCandidateException):\n",
    "        print(\"Prompt BLOCKED\")\n",
    "        status = False\n",
    "    \n",
    "    except JSONDecodeError:\n",
    "        print(\"Decode error... trying again...\")\n",
    "        try: \n",
    "            llm_response = chain_gemini.invoke({\n",
    "                \"summaries\"      : summaries,\n",
    "                \"pillar_name\"    : pts.pillar_names[idx],\n",
    "                \"pillar_bullets\" : pts.pillar_bullets[idx]\n",
    "            })\n",
    "            status = True\n",
    "            time.sleep(1)\n",
    "\n",
    "        except JSONDecodeError:\n",
    "            print(\"Decode error... trying again...\")\n",
    "            try: \n",
    "                llm_response = chain_gemini.invoke({\n",
    "                    \"summaries\"      : summaries,\n",
    "                    \"pillar_name\"    : pts.pillar_names[idx],\n",
    "                    \"pillar_bullets\" : pts.pillar_bullets[idx]\n",
    "                })\n",
    "                status = True\n",
    "                time.sleep(1)\n",
    "\n",
    "            except JSONDecodeError:\n",
    "                print(\"Failed. Skipping...\")\n",
    "                status = False\n",
    "\n",
    "    # We use the STATUS variable to throw an outcome to our call depending if our prompt was blocked or not\n",
    "    if status == True:\n",
    "        outcome = [llm_response[\"list_of_events\"]]\n",
    "\n",
    "    else:\n",
    "        outcome = \"Skipped list\"\n",
    "\n",
    "    return outcome"
   ]
  },
  {
   "cell_type": "markdown",
   "metadata": {},
   "source": [
    "## Sending calls"
   ]
  },
  {
   "cell_type": "code",
   "execution_count": 45,
   "metadata": {},
   "outputs": [],
   "source": [
    "def split_summaries(summaries):\n",
    "    \"\"\"\n",
    "    This function takes a list of summaries and provides a text compiling all of them but taking into account the \n",
    "    token limit for using the Gemini Pro 1.0 API\n",
    "    \"\"\"\n",
    "\n",
    "    idx = 0\n",
    "    segments = [[]]\n",
    "    total_count = 0\n",
    "\n",
    "    for text in summaries:\n",
    "        text_length = len(text.split())\n",
    "\n",
    "        if total_count + text_length < 22500:\n",
    "            segments[idx].append(text)\n",
    "            total_count = total_count + text_length\n",
    "        else:\n",
    "            segments.append([])\n",
    "            idx = idx + 1\n",
    "            total_count = 0\n",
    "            segments[idx].append(text)\n",
    "            total_count = total_count + text_length\n",
    "\n",
    "    outcome = [\"- \"+\"\\n- \".join(segment) for segment in segments]\n",
    "\n",
    "    return outcome\n"
   ]
  },
  {
   "cell_type": "code",
   "execution_count": 46,
   "metadata": {},
   "outputs": [
    {
     "name": "stdout",
     "output_type": "stream",
     "text": [
      "Decode error... trying again...\n",
      "Decode error... trying again...\n"
     ]
    }
   ],
   "source": [
    "summaries = {}\n",
    "for p in range(1,9):\n",
    "\n",
    "    article_list   = country_data[p-1][\"summary\"].to_list()\n",
    "    limited_chunks = split_summaries(article_list)\n",
    "    bullet_points  = [summarize_pillar(x, p) for x in limited_chunks]\n",
    "    pillar_summ    = \"/n\".join([item for sublist in bullet_points for item in sublist])\n",
    "    summaries.update({f\"Pillar {p}\" : pillar_summ})"
   ]
  },
  {
   "cell_type": "markdown",
   "metadata": {},
   "source": [
    "## Saving summaries as JSON files"
   ]
  },
  {
   "cell_type": "code",
   "execution_count": 48,
   "metadata": {},
   "outputs": [],
   "source": [
    "file_path = f\"{path2SP}/EU-S Data/Automated Qualitative Checks/Data/data-summarization/Overview/{country}_overviewSummaries.json\"\n",
    "with open(file_path, \"w\") as json_file:\n",
    "    json.dump(summaries, json_file)"
   ]
  },
  {
   "cell_type": "code",
   "execution_count": 47,
   "metadata": {},
   "outputs": [
    {
     "data": {
      "text/plain": [
       "{'Pillar 1': \"- Hungary's investigation into the suspicious financing of the 99 Movement, a political organization founded by Budapest Mayor Gergely Karácsony.\\n\\n\\n- The European Union's consideration of legal action against Hungary over concerns related to LGBTQ rights, academic freedom, and asylum rights.\\n\\n\\n- The Hungarian government's reduction of the number of guest workers allowed in the country from 81,000 to 65,000 and the creation of a list of 300 occupations that are closed to foreign workers.\\n\\n\\n- The European Parliament's debate on Hungary's frozen EU funds, with President Ursula von der Leyen stating that Hungary's justice system reforms comply with EU requests, leading to the release of some funds.\\n\\n\\n- The Hungarian government's passage of a law that restricts the activities of NGOs, including those that receive funding from George Soros.\\n\\n\\n- The European Parliament's vote on a motion expressing concerns about Hungary's compliance with EU rule of law principles./n- Hungarian Minister of Justice Bence Tuzson claims that the European Union is using the rule of law as a political tool against Hungary.\\n- Tibor Navracsics, Director of Public Administration and Regional Development, emphasizes the importance of enhancing cooperation between local governments and regional state administrations.\\n- The European Parliament considers initiating a petition to revoke Hungary's voting rights in the Council of Member States due to concerns about the government's anti-democratic actions.\\n- In Hungary, the United Student Front organized a demonstration to protest the government's handling of education and teacher salaries.\\n- The Hungarian government is constructing a high-tech smart prison in Csenger, equipped with video analysis and location determination systems, as part of a broader effort to increase prison capacity.\\n- Former socialist deputy mayor György Fürst was sentenced to six and a half years in prison for embezzlement worth billions of Hungarian forints./n- Hungary's foreign policy under the Orbán government, particularly in relation to Euro-Atlantic integration.\\n- Lack of transparency and accountability in the Hungarian government's dealings with the Reformed Church.\\n- The independence and effectiveness of oversight institutions, such as the Supreme Audit Institution or comptroller, anticorruption authority, human rights institution, the office of the ombudsman, and prosecution services, as well as civil servants are free from political pressure, and are effective in implementing public policies.\\n- Whether elections are free of barriers of entry, intimidation, corruption, and criminality, in accordance with the law, with equitable access to resources, free from misinformation, secure from cyberattacks and with protection of personal.\\n- The effectiveness of non-governmental checks on the government's power, such as the media, CSOs, political parties, activists, and citizens.\\n- Accountability of the Chief Executive or the Head of Government, and its respect for the constitutional order, the law-making process, the outcome and quality of elections, civil liberties, political opponents, as well as the independence of the judiciary and oversight institutions./n- In a verdict by the Central District Court of Pest, two workers accused of causing the 2016 Pillangó utca metro accident were acquitted.\\n- In Budapest, Hungary, a kindergarten teacher was fired after verbally abusing a five-year-old autistic child.\\n- In Budapest, a court sentenced one of the perpetrators of the anti-fascist attacks to three years in prison, while the other two defendants received varying sentences.\\n- The Integrity Authority (IH) declined to investigate allegations of systemic corruption involving a former Fidesz MP, István Boldog, despite evidence from audio recordings and a public announcement by independent MP Ákos Hadházy.\\n- The Göd-ÉRT Association filed a lawsuit against the ten-year environmental use permit issued to the Samsung factory in Göd, Hungary.\\n- Gergely Karácsony, the mayor of Budapest, has accused the ruling Fidesz party of undermining the rule of law and democratic institutions in Hungary./n- The Hungarian government has implemented a 13-year-old family tax system that provides various tax exemptions and discounts to support families and young people.\\n\\n\\n- The Hungarian government has established a Sovereignty Protection Office to prevent foreign influence in elections.\\n\\n\\n- The Hungarian police have released a list of the 50 most wanted criminals, including six individuals considered particularly dangerous.\\n\\n\\n- The news article reports on the inability of Érd, a city led by the opposition, to use several billion forints received for EU projects by the deadline of the nine-year programming cycle.\\n\\n\\n- In Encsencs, Hungary, a 69-year-old woman was found dead in her apartment after a fire. The police suspect foul play and have launched a manhunt for the unknown culprit.\\n\\n\\n- The article discusses the outcome of the European Council summit, which the author believes strengthens the arguments against enlargement./n- The Hungarian government has extended the state of emergency declared in May 2022 due to the Russian-Ukrainian war by another 180 days, until May 23, 2024.\\n\\n\\n- The European Parliament (EP) is considering bypassing the Hungarian government and providing Erasmus+ and Horizon Europe program funds directly to students and researchers through an intermediary organization.\\n\\n\\n- The Hungarian government's decision to increase the fuel excise tax by HUF 41 gross per liter from January 2023 has raised concerns about the independence and effectiveness of oversight institutions.\\n\\n\\n- The opposition party, Dialogue, is calling for a parliamentary investigation into the waste management crisis in Hungary.\\n\\n\\n- The European Commission (EC) has sent additional questions to the Hungarian government regarding judicial reform, delaying the disbursement of 13 billion euros in EU funds.\\n\\n\\n- The Hungarian state has been sued by several mothers for not providing adequate housing for their adult disabled children in Budapest./n- Hungary's law prohibiting the display of homosexuality was passed by Parliament, despite warnings from book trade and art organizations about its potential to lead to absurd situations.\\n- In Hungary, the National Tax and Customs Administration (NAV) has seized assets worth two billion forints from György Schadl, the former president of the Hungarian Court Executive Faculty, who is accused of corruption.\\n- A military captain in Hungary was sentenced to three years in prison for attempting to coerce two of his subordinates into having sex with him.\\n- The Hungarian government has launched a national consultation to gather public opinion on a range of issues, including the country's security, economy, and relationship with the European Union.\\n- The European Commission continues to evaluate Hungary's compliance with the rule of law before releasing EU funds.\\n- Teachers are facing difficulties in negotiating salaries based on the new teacher career law, known as the status law./n- The Hungarian government has implemented stricter immigration laws to prioritize the employment of Hungarian workers over foreign workers.\\n- The Hungarian police successfully prevented a far-left manhunt by maintaining order at related meetings and apprehending individuals for firearms and knife violations.\\n- The Hungarian National Remembrance Committee (NEB) is dedicated to preserving the memory of the Soviet occupation and communist dictatorship.\\n- The Hungarian government has established the Office for the Protection of Sovereignty to investigate foreign influence on Hungarian political life.\\n- The Hungarian government has adopted a National Anti-corruption Strategy for 2024-2025, which includes over 50 measures to enhance transparency and accountability.\\n- The Hungarian government has proposed a new package of child protection laws in response to a recent case of pedophilia./n- Action for Democracy's website has been taken down, potentially to conceal evidence of undisclosed funding sources and political influence.\\n- The Hungarian government has reopened the Csorna District Court after 45 years, providing improved access to justice for approximately 60,000 citizens in the Rábaköz region.\\n- István Tényi, a public interest advocate, has filed a complaint against Klubrádió for allegedly defaming the President of the Republic.\\n- András Fekete-Győr, a former president of Momentum, and his party partner Szarvas Koppány Bendegúz were found guilty of violence against an official in the second degree by the court.\\n- The article discusses the lack of accountability and consequences for left-wing politicians in Hungary who have been involved in scandals and crimes.\\n- The article discusses the legal framework for the election of the President of the Republic in Hungary, including the timing, nomination process, and oath-taking.\",\n",
       " 'Pillar 2': \"- Hungary's two illegal money changers were arrested with HUF 4.5 million in counterfeit clothing.\\n\\n\\n- A pharmaceutical wholesaler has been fined HUF 500 million for defrauding 21 victims of nearly HUF 45 million.\\n\\n\\n- Two men were apprehended for embezzling nearly HUF 36 million from a company that stores and handles air conditioning equipment.\\n\\n\\n- A former senior manager of the National Tax and Customs Administration (NAV) and several colleagues have been charged with corruption.\\n\\n\\n- A homeless man in his fifties was charged with armed robbery for threatening a minor with a knife and demanding money.\\n\\n\\n- The head of the obstetrics and gynecology department of the county hospital, György V., was convicted of accepting bribes for hospital treatment./n- Transparency International, an NGO linked to George Soros, accused Hungary of being the most corrupt country in the EU.\\n- The National Tax and Customs Administration raided an illegal cigarette factory in Szabolcs-Szatmár-Bereg county, Hungary.\\n- Detectives uncovered homicides that were initially disguised as fires in Tószeg, Hungary.\\n- Jobbik's mayoral candidate, Brenner Koloman, requested an investigation into the renovation of the Lánchíd, alleging corruption.\\n- A man was charged with road endangerment after fleeing from the police for thirty kilometers in a car that lacked valid insurance and technical certification.\\n- Customs officials discovered 2,372 counterfeit perfumes hidden in a truck carrying aluminum profiles at the Röszke border crossing in Hungary./n- The prevalence of bribery in the delivery of public services and regulations, as well as in the political process.\\n- The prevalence of graft by elected officials, public sector employees, by awarding contracts without competitive bidding processes, and using insider knowledge to profit.\\n- The prevalence of embezzlement or misappropriation of public funds.\\n- The prevalence of nepotism and favoritism by elected officials, public sector employees, judges, and prosecutors.\\n- The prevalence of corruption in elections, including illegal campaign financing, manipulation of elections, and vote buying.\\n- The prevalence of human trafficking and forced labor./n- Daniel Freund, a German Green Party EU representative, has been criticizing the Hungarian government for its alleged corruption and lack of media freedom.\\n- The news article reports on an ongoing investigation into allegations of foreign interference in Hungary's 2022 elections.\\n- Péter Márki-Zay, the former left-wing candidate for prime minister in Hungary, has been accused of corruption by the Szeged Court of Justice.\\n- The Hungarian government and the Hungarian National Bank have been holding regular professional consultations since April.\\n- Hungarian authorities collaborate with Serbian and Austrian police to combat illegal migration on the Serbian-North Macedonian border.\\n- The National Investigation Office of the Emergency Police and investigative teams have successfully cracked down on a medical aid mafia, leading to a significant decrease in the turnover of fraudulent medical aids and the recovery of state funds./n- Prevalence of corruption in Hungary, as alleged by Klára Dobrev, a representative of the European Parliament and the head of the shadow government of the opposition party.\\n- Investigation launched by the Pest County Police Headquarters into a digital telephone fraud network.\\n- Hungarian Parliament passes a law that requires local governments to partner with the state on all investments over a certain amount.\\n- Police Major Ágnes Veigl ordered uniformed officers to identify and report occupants of vehicles displaying Momentum party posters.\\n- The European Parliament expresses concerns about the sufficiency of Hungary's judicial reforms, particularly regarding the independence of the judiciary.\\n- Ministerial instruction published that overrides a government decree that overrode the constitution and environmental protection law./n- The Hungarian government has introduced measures to combat deceptive packaging practices by requiring shops to clearly display information about reduced packaging sizes.\\n- In Hungary, Central Bank Governor György Matolcsy criticized the government's economic policy, alleging that it undermines the central bank's independence.\\n- István Hollik, the communications director of Fidesz-KDNP, has called on László Varju and András Fekete-Győr to leave public life after they were convicted of crimes related to the 2018 storming of the public media building.\\n- The news article highlights the negative impact of communism on Hungary, particularly during the period of Soviet occupation from 1944-45.\\n- The State Audit Office of Hungary has published a report on the financial background of the 2022 parliamentary election campaign, alleging that left-wing parties engaged in illegal campaign financing.\\n- The Capital Court of Justice in Hungary has ruled that the DatAdat group, owned by former Prime Minister Gordon Bajnai, is engaged in data phishing.\",\n",
       " 'Pillar 3': '- The European Commission is considering releasing billions of euros in funding to Hungary, which has been withheld due to concerns over the country\\'s rule of law.\\n\\n- The Hungarian government plans to introduce micro-certificates to certify short courses in vocational training, higher education, and adult education.\\n\\n- The European Parliament (EP) has adopted a legislative proposal on media freedom and the establishment of a common framework for media services in the internal market.\\n\\n- The Hungarian government has made the creation and support of modern, efficient, and stable local government operations a strategic goal.\\n\\n- The news article highlights the successful efforts of the government and local authorities in eliminating a notorious drug distribution center and ghetto in Budapest\\'s Hős Street.\\n\\n- The Hungarian government has established the Sovereignty Protection Office to investigate and mitigate foreign influence in the country, particularly in the upcoming elections./n- The Hungarian government has been accused of corruption and a lack of transparency, including a pardon scandal involving a convicted murderer and allegations of pedophilia.\\n- The Hungarian government has been criticized for its handling of pedophilia cases, with accusations of hypocrisy and double standards.\\n- The Hungarian government is facing criticism from the European Union and the Council of Europe over a proposed \"sovereignty protection bill\" that would restrict foreign funding of political campaigns.\\n- The Hungarian government is investigating the data collection practices of the opposition\\'s \"alternative referendum\" initiative, amid concerns that it may have violated data protection laws.\\n- The Hungarian government is proposing a package of laws to protect its sovereignty, including measures to prevent foreign interference in elections.\\n- The Hungarian police are working to identify unknown corpses and body parts, and maintain a public search list of these remains to facilitate citizen participation in the identification process.',\n",
       " 'Pillar 4': \"- Hungary's 13-year-old girl was arrested for attacking her teacher with a butter knife and a fire extinguisher.\\n- Hungary's 31-year-old man was arrested for repeatedly abusing his mother.\\n- The Hungarian government banned a pro-Palestinian demonstration, citing concerns about public order and the need to protect the Jewish population.\\n- Four opposition parties in Hungary submitted a bill to protect the country's sovereignty from the government, which they believe exposes Hungary to Russian and Chinese interests.\\n- A 16-year-old boy in Nagykanizsa, Hungary, was sentenced to a suspended prison sentence for blackmailing and abusing a schoolmate.\\n- In Hungary, a woman was arrested and detained for threatening to commit terrorist attacks via email./n- László Varju, a Hungarian politician, was acquitted of assault charges stemming from a 2018 incident during left-wing demonstrations.\\n\\n\\n- In Hungary, the presidents of the OBH and the OBT rejected the attacks made by DK president Ferenc Gyurcsány, who had previously threatened the judges.\\n\\n\\n- Hungarian Parliament Speaker László Kövér warns of the dangers of mental and cultural aggression in the Western world, emphasizing the importance of national memory and the preservation of human freedom and dignity.\\n\\n\\n- The Hungarian government plans to introduce a comprehensive review of the Road Traffic Act (KRESZ), which has been in effect since 1976, to create practical regulations that prioritize safe traffic and promote rule-following behavior among road users.\\n\\n\\n- In Hungary, a man was sentenced to two and a half years in prison for threatening people with a chainsaw and attacking police officers who intervened.\\n\\n\\n- Residents of Erzsébetváros, Budapest, are suing the municipality for not providing them with the detailed contracts of the public cleaning company./n- Hungary's government has taken measures to restrict the activities of civil society organizations and the media.\\n\\n\\n- The Hungarian government has been accused of violating the rights of asylum seekers and refugees.\\n\\n\\n- The Hungarian government has been criticized for its handling of the COVID-19 pandemic, including its restrictions on freedom of assembly and expression.\\n\\n\\n- The Hungarian government has been accused of corruption and cronyism.\\n\\n\\n- The Hungarian government has been accused of suppressing dissent and silencing its critics.\\n\\n\\n- The Hungarian government has been accused of undermining the rule of law and the independence of the judiciary./n- The Hungarian government has established a Sovereignty Protection Office to investigate and mitigate foreign influence in elections and protect the country's sovereignty.\\n\\n\\n- The Hungarian government has criticized the European Union's new migration pact, which includes a distribution quota for migrants and a mechanism for obliging member states to accept more migrants in crisis situations.\\n\\n\\n- The Hungarian government has been accused of violating the rule of law and abusing EU funds. The European Court of Justice has ruled that the Hungarian government's actions are compatible with EU law, but the Hungarian government claims that the EU is using the rule of law as a political tool to punish Hungary.\\n\\n\\n- The Hungarian government is organizing a Safety Week event to promote child safety. The event will involve the police, fire brigade, ambulances, the Red Cross, and the Association of Hungarian Insurers.\\n\\n\\n- The Hungarian government has banned trade unions in the military through a constitutional amendment, prompting strong opposition from the European Organization of Military Associations and Trade Unions (Euromil).\\n\\n\\n- The Hungarian government has banned trade unions in the military through a constitutional amendment, prompting criticism from the European Organization of Military Associations and Trade Unions (Euromil)./n- The Hungarian government has been accused of using simplified citizenship for Hungarians living outside of Hungary to justify its anti-democratic policies and create tensions with neighboring countries.\\n\\n\\n- The Hungarian government's use of simplified citizenship for Hungarians living outside of Hungary has raised concerns about its impact on fundamental freedoms.\\n\\n\\n- The Hungarian government has withdrawn financial support from the Hungarian Evangelical Brotherhood, a charitable organization that provides social, educational, and health services to the poor.\\n\\n\\n- The Hungarian government's actions have left the Hungarian Evangelical Brotherhood struggling to pay its employees and maintain its services.\\n\\n\\n- The Hungarian government has been accused of targeting the Hungarian Evangelical Brotherhood because of its opposition to the government's policies.\\n\\n\\n- The Hungarian government's actions have raised concerns about the freedom of civil society organizations in Hungary./n- Hungary's Minister of Justice expresses opposition to a proposal that would prohibit the criminalization of organizations aiding illegal migration.\\n- Belgian and Hungarian authorities collaborate to dismantle a human trafficking ring exploiting Hungarian women.\\n- Fidesz politicians demand the resignation of opposition politicians involved in criminal convictions.\\n- Hungarian government respects the property rights of people and corporations, refraining from illegal seizure of private property and providing adequate reasons and compensation when property is legally expropriated.\\n- Hungarian government allows the formation or operation of CSOs, and the formation or operation of opposition parties.\\n- Hungarian government implements significant changes to its transportation system, including the introduction of county and national passes, free travel for certain groups, and discounted travel for others.\",\n",
       " 'Pillar 5': \"- Hungary's efforts to maintain border security and combat illegal immigration.\\n- Incidents of violence against police officers and law enforcement personnel.\\n- The prevalence of domestic violence and the need for effective measures to protect victims.\\n- The challenges faced by law enforcement in maintaining public safety and preventing violent crime.\\n- The government's efforts to address the shortage of professionals in small settlements and improve security.\\n- The issue of human trafficking and the efforts of authorities to combat it./n- Hungarian police apprehended 460 border violators and prevented 727 illegal entries on September 7th.\\n- Budapest Police Headquarters has declared a crackdown on illegal speeders, drifters, and drunk drivers.\\n- In Hungary, on August 30, the police took action at the scene of 34 personal injury road traffic accidents, of which a traffic accident with a fatal outcome resulted in the death of one person, nine serious injuries, and 24 minor injuries.\\n- In Budapest, a 48-year-old drug addict was charged with disrupting traffic safety, disrupting the operation of a public interest plant, and vandalism.\\n- In Hungary, a Romanian human smuggler was arrested after attempting to evade police by driving against traffic on the M5 motorway and jumping out of a van carrying 17 illegal immigrants.\\n- In Budapest, Hungary, a 50-year-old man has been charged with manslaughter for pouring a bucket of water on a homeless woman in the winter cold, leading to her death from hypothermia.\",\n",
       " 'Pillar 6': '- The Hungarian government has strengthened consumer protection laws to deter businesses from engaging in deceptive or harmful practices.\\n- The Hungarian National Bank (MNB) announced that the assets of the National Deposit Insurance Fund (OBA) and the Resolution Fund have reached unprecedented levels, providing a high level of protection for depositors.\\n- The Hungarian Competition Authority (GVH) has imposed fines totaling HUF 400 million on six companies for engaging in anti-competitive practices in public procurement tenders for road salt.\\n- The Hungarian Economic Competition Authority (GVH) has initiated a competition supervision procedure against Wizz Air Hungary Kft. for allegedly withholding crucial information from customers during online ticket sales.\\n- The Hungarian Economic Competition Authority (GVH) has initiated a competition supervision procedure against Wizz Air Hungary Kft. for allegedly withholding crucial information regarding free online passenger check-in, resulting in avoidable costs for passengers.\\n- The Hungarian Competition Authority (GVH) has initiated a competition supervision procedure against Wizz Air Hungary Kft. for potentially withholding crucial information from customers during online ticket sales, leading to additional airport check-in fees./n- Hungary has extended the Gábor Baross reindustrialization loan program until July 1, 2024, with an additional HUF 200 billion in funding.\\n- The Hungarian government has threatened to terminate a hybrid transport contract with Budapest due to unpaid debts, potentially restricting the use of public transportation services for city residents.\\n- The Hungarian government has lifted a ban on the construction of wind farms, but new projects will not be approved for at least five years.\\n- The Hungarian government has proposed a new immigration law that would tighten restrictions on guest workers.\\n- The Hungarian government has amended the law to allow Budapest Waterworks to raise water fees for non-residential users, resolving a dispute over water supply contracts.\\n- The Hungarian government has signed a cooperation agreement with 4iG Plc., a telecommunications company, to abolish the utility tax charged to telecommunications service providers from the beginning of next year, as well as the additional telecommunications tax charged to communications service providers from January 1, 2025.',\n",
       " 'Pillar 7': \"- In Hungary, a 13-year-old girl was arrested for attacking a teacher with a butter knife and punching him in the chest.\\n\\n\\n- RTL editors in Hungary are protesting low wages and poor working conditions, including forced entrepreneurship and lack of employee benefits.\\n\\n\\n- The news article discusses the case of Egon Póka, a late bassist-composer, who has been accused of sexual harassment by former students.\\n\\n\\n- In Hódmezővásárhely, Hungary, the municipality has taken over classrooms and changed locks in a Reformed elementary school, preventing students and teachers from accessing the building.\\n\\n\\n- The Hungarian Economic Competition Authority (GVH) has expressed concerns regarding consumer protection in Hungary due to the operations of Revolut Bank, a cross-border financial institution.\\n\\n\\n- In Hungary, the suspect attempted to kill a prosecutor using homemade weapons crafted from toothpicks and a toothbrush./n- In Hódmezővásárhely, a dispute over the transfer of two properties used for educational purposes led to issues of legal compliance, access to justice, and the role of religious institutions in society.\\n- In Hungary, the Szabolcs-Szatmár-Bereg County Prosecutor's Office appealed the acquittal of billionaire fertilizer king László Bige in a bribery case, raising concerns about the impartiality and effectiveness of the justice system.\\n- In Tolna county, the body of a missing man was discovered in the yard of his house, highlighting concerns about the effectiveness of justice institutions in preventing and addressing violent crimes.\\n- The 1st district representative body in Budapest found Mayor Márta V. Naszályi guilty of a disciplinary offense for failing to implement several decisions made by the body, demonstrating the importance of holding public officials accountable for their actions.\\n- In Hungary, a TV presenter was fired from her job at University of Szeged TV after organizing an LGBTQ debate, raising questions about freedom of speech and expression, and the role of universities in promoting tolerance and diversity.\\n- In Budapest, an arrest warrant was issued for a 41-year-old man suspected of stabbing an acquaintance in the Újbuda district, highlighting the importance of ensuring access to justice for victims of sexual violence.\",\n",
       " 'Pillar 8': \"- Hungarian authorities seized 1,710 packs of cigarettes without Hungarian tax stamps hidden in a minibus.\\n- A former senior manager of the National Tax and Customs Administration (NAV) and several associates were charged with corruption.\\n- Two women face prison sentences for their involvement in a scheme to obtain online banking access data and bank card information from a parish priest.\\n- A homeless man in his fifties was charged with armed robbery after threatening a minor with a knife.\\n- A 36-year-old man from Érd was arrested for stabbing a renowned martial arts coach on August 15.\\n- A man was sentenced to five years in prison for driving while intoxicated and causing the death of a young woman at a tram stop on József körút in Budapest./n- The presidential pardon granted to an accomplice in a pedophile case has sparked outrage and raised concerns about the effectiveness and impartiality of the criminal justice system in Hungary.\\n\\n- The investigation into the renovation of the Chain Bridge in Budapest has uncovered potential corruption and misuse of funds, leading to the arrest of a lawyer linked to an invoice factory.\\n\\n- The police have arrested several individuals suspected of planning to overthrow the constitutional order by force, highlighting the challenges of balancing freedom of speech with the need to protect the state from threats of violence.\\n\\n- The former head of the Hungarian Court Executive, György Schadl, has been granted eased criminal supervision, allowing him to go shopping and participate in professional training, raising concerns about the effectiveness of criminal investigations and trials.\\n\\n- The acquittal of two workers charged with causing a mass disaster in the 2016 Pillangó Street metro accident has raised concerns about the effectiveness of investigations into accidents and the protection of victims' rights.\\n\\n- The trial of three anti-fascist activists for their involvement in a series of attacks in Budapest has highlighted issues related to the effectiveness of criminal investigations, the impartiality of trials, and the respect for the basic rights of criminal suspects./n- The Somré Hádász - Hitőr Egylet organized a protest to 'get back' their 150-year-old religious community and synagogue.\\n- In Tiszafüred, a bus driver was sentenced to a 2-year suspended prison sentence and a 5-year ban from passenger transport activities for causing the death of a 4-year-old child.\\n- During a hearing in the case of teachers fired from the Kölcsey Ferenc High School in Budapest, it was revealed that important data had been automatically deleted from the school's system, making it impossible to verify the school district's claims.\\n- The Hungarian Football Federation (MLSZ) has initiated disciplinary proceedings against Géza Mészöly, head coach of the Újpest football team, for using a racist slur against his Nigerian striker, Frank Sasere.\\n- A man was stabbed in the neck at Nyugati railway station in Budapest. The attacker, who has a criminal record and was previously in prison for disorderly conduct, was arrested weeks later in Kecskemét.\\n- Police conducted a coordinated operation involving 91 officers and specialists, resulting in the seizure of archaeological artifacts worth over 100 million forints./n- Police investigations into taxi drivers committing fraud and overcharging customers.\\n- Investigation into the acquittal of a Democratic Coalition (DK) politician in a defamation case.\\n- Investigation into a corruption trial involving the former president of the Hungarian Court Executive Faculty and a former State Secretary.\\n- Investigation into a human trafficking network smuggling migrants into the country.\\n- Investigation into the operation of a battery factory without an environmental permit.\\n- Investigation into a dispute between two families escalating into violence, resulting in eight arrests./n- The Hungarian government has proposed a constitutional amendment to eliminate presidential pardons for individuals convicted of crimes against minors.\\n- The Metropolitan Court of First Instance sentenced Tamás Gyárfás to seven years in prison for his role in the murder of János Fenyő.\\n- The Budapest Police Headquarters (BRFK) has launched an investigation into the suspected murder of a 69-year-old woman in Zugló.\\n- The Fenyő case, one of the most notorious unsolved murders in Hungarian history, is finally coming to a close with a verdict expected today.\\n- The news article highlights the criminal activities of lawyer Vig Mór, who has been involved in embezzlement, match-fixing, and other serious crimes.\\n- In Mezőtúr, Hungary, a 27-year-old man was apprehended for allegedly stealing HUF 186,000 worth of goods from a store.\"}"
      ]
     },
     "execution_count": 47,
     "metadata": {},
     "output_type": "execute_result"
    }
   ],
   "source": [
    "summaries"
   ]
  }
 ],
 "metadata": {
  "kernelspec": {
   "display_name": "Python 3",
   "language": "python",
   "name": "python3"
  },
  "language_info": {
   "codemirror_mode": {
    "name": "ipython",
    "version": 3
   },
   "file_extension": ".py",
   "mimetype": "text/x-python",
   "name": "python",
   "nbconvert_exporter": "python",
   "pygments_lexer": "ipython3",
   "version": "3.11.8"
  }
 },
 "nbformat": 4,
 "nbformat_minor": 2
}
