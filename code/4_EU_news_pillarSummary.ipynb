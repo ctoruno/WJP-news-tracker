{
 "cells": [
  {
   "cell_type": "code",
   "execution_count": 1,
   "metadata": {},
   "outputs": [],
   "source": [
    "import os\n",
    "import ast\n",
    "import json\n",
    "import time\n",
    "import pandas as pd\n",
    "from dotenv import load_dotenv\n",
    "import prompt_templates_summarization as pts\n",
    "from langchain.schema import BaseOutputParser\n",
    "from langchain.prompts.chat import ChatPromptTemplate\n",
    "from langchain_google_genai import (\n",
    "    ChatGoogleGenerativeAI,\n",
    "    HarmBlockThreshold,\n",
    "    HarmCategory\n",
    ")\n",
    "from langchain_openai import ChatOpenAI\n",
    "from json.decoder import JSONDecodeError\n",
    "from google.generativeai.types import BlockedPromptException\n",
    "from google.generativeai.types.generation_types import StopCandidateException"
   ]
  },
  {
   "cell_type": "code",
   "execution_count": 15,
   "metadata": {},
   "outputs": [],
   "source": [
    "country = \"Czechia\"\n",
    "path2SP = \"/Users/ctoruno/OneDrive - World Justice Project/EU Subnational\""
   ]
  },
  {
   "cell_type": "markdown",
   "metadata": {},
   "source": [
    "## Loading API key"
   ]
  },
  {
   "cell_type": "code",
   "execution_count": 3,
   "metadata": {},
   "outputs": [],
   "source": [
    "load_dotenv()\n",
    "GoogleAI_key = os.getenv(\"googleAI_API_key\")\n",
    "OpenAI_key   = os.getenv(\"openai_key\")\n",
    "os.environ['GOOGLE_API_KEY'] = GoogleAI_key\n",
    "os.environ['OPENAI_API_KEY'] = OpenAI_key"
   ]
  },
  {
   "cell_type": "markdown",
   "metadata": {},
   "source": [
    "## Reading the data"
   ]
  },
  {
   "cell_type": "code",
   "execution_count": 4,
   "metadata": {},
   "outputs": [],
   "source": [
    "def gatherFiles(country, p):\n",
    "    \"\"\"\n",
    "    This function takes a country as input and returns a list with all the news articles associated to that specific pillar.\n",
    "    \"\"\"\n",
    "    data_path = f\"{path2SP}/EU-S Data/Automated Qualitative Checks/Data/data-summarization/{country}/pillar_{p}\"\n",
    "    sets = [pd.read_parquet(f\"{data_path}/{x}\") for x in os.listdir(data_path)]\n",
    "    pillar_data = pd.concat(sets)\n",
    "    pillar_data[\"associated_pillar\"] = f\"Pillar {p}\"\n",
    "    print(f\"Pillar {p}: {len(pillar_data)} articles\")\n",
    "\n",
    "    return pillar_data"
   ]
  },
  {
   "cell_type": "code",
   "execution_count": 16,
   "metadata": {},
   "outputs": [
    {
     "name": "stdout",
     "output_type": "stream",
     "text": [
      "Pillar 1: 4590 articles\n",
      "Pillar 2: 2944 articles\n",
      "Pillar 3: 449 articles\n",
      "Pillar 4: 3099 articles\n",
      "Pillar 5: 2164 articles\n",
      "Pillar 6: 956 articles\n",
      "Pillar 7: 1593 articles\n",
      "Pillar 8: 4792 articles\n"
     ]
    }
   ],
   "source": [
    "country_data = [gatherFiles(country, p) for p in range(1,9)]"
   ]
  },
  {
   "cell_type": "markdown",
   "metadata": {},
   "source": [
    "## Saving gathered data"
   ]
  },
  {
   "cell_type": "code",
   "execution_count": 17,
   "metadata": {},
   "outputs": [],
   "source": [
    "target_vars = [\n",
    "    \"id\", \"link\", \"domain_url\", \"published_date\",\n",
    "    \"title_trans\", \"description_trans\", \"content_trans\", \"summary\", \"impact_score\",\n",
    "    \"pillar_1\", \"pillar_2\", \"pillar_3\", \"pillar_4\", \"pillar_5\", \"pillar_6\", \"pillar_7\", \"pillar_8\",\n",
    "    \"associated_pillar\"\n",
    "]\n",
    "master = pd.concat(country_data).loc[:,target_vars]\n",
    "master.to_parquet(f\"{path2SP}/EU-S Data/Automated Qualitative Checks/Data/data-summarization/{country}/{country}_master.parquet.gzip\", compression=\"gzip\")"
   ]
  },
  {
   "cell_type": "markdown",
   "metadata": {},
   "source": [
    "## Defining chain"
   ]
  },
  {
   "cell_type": "code",
   "execution_count": 7,
   "metadata": {},
   "outputs": [],
   "source": [
    "safety_settings = {\n",
    "    HarmCategory.HARM_CATEGORY_HARASSMENT: HarmBlockThreshold.BLOCK_NONE,\n",
    "    HarmCategory.HARM_CATEGORY_HATE_SPEECH: HarmBlockThreshold.BLOCK_NONE,\n",
    "    HarmCategory.HARM_CATEGORY_SEXUALLY_EXPLICIT: HarmBlockThreshold.BLOCK_NONE,\n",
    "    HarmCategory.HARM_CATEGORY_DANGEROUS_CONTENT: HarmBlockThreshold.BLOCK_NONE\n",
    "}"
   ]
  },
  {
   "cell_type": "code",
   "execution_count": 8,
   "metadata": {},
   "outputs": [],
   "source": [
    "class JSONOutputParser(BaseOutputParser):\n",
    "    def parse(self, text: str):\n",
    "        \"\"\"\n",
    "        Parse the output of an LLM call to a valid JSON format.\n",
    "        \"\"\"\n",
    "        return json.loads(text.replace('```json', '').replace('```', ''), strict=False)"
   ]
  },
  {
   "cell_type": "code",
   "execution_count": 10,
   "metadata": {},
   "outputs": [],
   "source": [
    "def summarize_pillar(summaries, pillar):\n",
    "    \"\"\"\n",
    "    This function takes a list of summaries and it sends a call to Google's Gemini asking for a list of\n",
    "    important events to take into account for a specific pillar of the Rule of Law.\n",
    "    \"\"\"\n",
    "    \n",
    "    idx = str(pillar)\n",
    "\n",
    "    # Setting up the Prompt Template\n",
    "    chat_prompt = ChatPromptTemplate.from_messages([\n",
    "                    (\"human\", pts.pillar_summary_prompt)\n",
    "                ])\n",
    "\n",
    "    # Defining our chain\n",
    "    chain_gemini = chat_prompt | ChatGoogleGenerativeAI(model = \"gemini-pro\",\n",
    "                                                        temperature = 0.25, \n",
    "                                                        safety_settings = safety_settings,\n",
    "                                                        convert_system_message_to_human = True) | JSONOutputParser()\n",
    "    \n",
    "    try: \n",
    "        llm_response = chain_gemini.invoke({\n",
    "            \"summaries\"      : summaries,\n",
    "            \"pillar_name\"    : pts.pillar_names[idx],\n",
    "            \"pillar_bullets\" : pts.pillar_bullets[idx]\n",
    "        })\n",
    "        status = True\n",
    "        time.sleep(1)   # We need to slow down the calls. given that the Gemini API has a limit of 60 calls per second\n",
    "\n",
    "    # The API can still block some of our prompts due to undefined reasons. Sadly, we can't do anything about it, so we\n",
    "    # predefine the outcome    \n",
    "    except (BlockedPromptException, StopCandidateException):\n",
    "        print(\"Prompt BLOCKED\")\n",
    "        status = False\n",
    "    \n",
    "    except JSONDecodeError:\n",
    "        print(\"Decode error... trying again...\")\n",
    "        try: \n",
    "            llm_response = chain_gemini.invoke({\n",
    "                \"summaries\"      : summaries,\n",
    "                \"pillar_name\"    : pts.pillar_names[idx],\n",
    "                \"pillar_bullets\" : pts.pillar_bullets[idx]\n",
    "            })\n",
    "            status = True\n",
    "            time.sleep(1)\n",
    "\n",
    "        except JSONDecodeError:\n",
    "            print(\"Decode error... trying again...\")\n",
    "            try: \n",
    "                llm_response = chain_gemini.invoke({\n",
    "                    \"summaries\"      : summaries,\n",
    "                    \"pillar_name\"    : pts.pillar_names[idx],\n",
    "                    \"pillar_bullets\" : pts.pillar_bullets[idx]\n",
    "                })\n",
    "                status = True\n",
    "                time.sleep(1)\n",
    "\n",
    "            except JSONDecodeError:\n",
    "                print(\"Failed. Skipping...\")\n",
    "                status = False\n",
    "\n",
    "    # We use the STATUS variable to throw an outcome to our call depending if our prompt was blocked or not\n",
    "    if status == True:\n",
    "        outcome = [llm_response[\"list_of_events\"]]\n",
    "\n",
    "    else:\n",
    "        outcome = \"Skipped list\"\n",
    "\n",
    "    return outcome"
   ]
  },
  {
   "cell_type": "code",
   "execution_count": 9,
   "metadata": {},
   "outputs": [],
   "source": [
    "def summarize_pillar_GPT(summaries, pillar):\n",
    "    \"\"\"\n",
    "    This function takes a list of summaries and it sends a call to OpenAI's GPT asking for a list of\n",
    "    important events to take into account for a specific pillar of the Rule of Law.\n",
    "    \"\"\"\n",
    "    \n",
    "    idx = str(pillar)\n",
    "\n",
    "    # Setting up the Prompt Template\n",
    "    chat_prompt = ChatPromptTemplate.from_messages([\n",
    "                    (\"system\", pts.pillar_summary_context),\n",
    "                    (\"human\", pts.pillar_summary_instructions)\n",
    "                ])\n",
    "\n",
    "    # Defining our chain\n",
    "    chain_gpt = chat_prompt | ChatOpenAI(model_name=\"gpt-4-turbo-preview\", temperature=0.2) | JSONOutputParser()\n",
    "    \n",
    "    try: \n",
    "        llm_response = chain_gpt.invoke({\n",
    "            \"summaries\"      : summaries,\n",
    "            \"pillar_name\"    : pts.pillar_names[idx],\n",
    "            \"pillar_bullets\" : pts.pillar_bullets[idx]\n",
    "        })\n",
    "        status = True\n",
    "    \n",
    "    except JSONDecodeError:\n",
    "        print(\"Decode error... trying again...\")\n",
    "        try: \n",
    "            llm_response = chain_gpt.invoke({\n",
    "                \"summaries\"      : summaries,\n",
    "                \"pillar_name\"    : pts.pillar_names[idx],\n",
    "                \"pillar_bullets\" : pts.pillar_bullets[idx]\n",
    "            })\n",
    "            status = True\n",
    "\n",
    "        except JSONDecodeError:\n",
    "            print(\"Decode error... trying again...\")\n",
    "            try: \n",
    "                llm_response = chain_gpt.invoke({\n",
    "                    \"summaries\"      : summaries,\n",
    "                    \"pillar_name\"    : pts.pillar_names[idx],\n",
    "                    \"pillar_bullets\" : pts.pillar_bullets[idx]\n",
    "                })\n",
    "                status = True\n",
    "\n",
    "            except JSONDecodeError:\n",
    "                print(\"Failed. Skipping...\")\n",
    "                status = False\n",
    "\n",
    "    # We use the STATUS variable to throw an outcome to our call depending if our prompt was blocked or not\n",
    "    if status == True:\n",
    "        outcome = [llm_response[\"list_of_events\"]]\n",
    "\n",
    "    else:\n",
    "        outcome = \"Skipped list\"\n",
    "\n",
    "    return outcome"
   ]
  },
  {
   "cell_type": "markdown",
   "metadata": {},
   "source": [
    "## Sending calls"
   ]
  },
  {
   "cell_type": "code",
   "execution_count": 11,
   "metadata": {},
   "outputs": [],
   "source": [
    "def split_summaries(summaries, llm = \"GPT\"):\n",
    "    \"\"\"\n",
    "    This function takes a list of summaries and provides a text compiling all of them but taking into account the \n",
    "    token limit for using the Gemini Pro 1.0 API\n",
    "    \"\"\"\n",
    "\n",
    "    idx = 0\n",
    "    segments = [[]]\n",
    "    total_count = 0\n",
    "\n",
    "    if llm == \"GPT\":\n",
    "        tkn_limit = 98500\n",
    "    if llm == \"Gemini\":\n",
    "        tkn_limit = 22500\n",
    "\n",
    "    for text in summaries:\n",
    "        text_length = len(text.split())\n",
    "\n",
    "        if total_count + text_length < tkn_limit:\n",
    "            segments[idx].append(text)\n",
    "            total_count = total_count + text_length\n",
    "        else:\n",
    "            segments.append([])\n",
    "            idx = idx + 1\n",
    "            total_count = 0\n",
    "            segments[idx].append(text)\n",
    "            total_count = total_count + text_length\n",
    "\n",
    "    outcome = [\"- \"+\"\\n- \".join(segment) for segment in segments]\n",
    "\n",
    "    return outcome\n"
   ]
  },
  {
   "cell_type": "code",
   "execution_count": 18,
   "metadata": {},
   "outputs": [
    {
     "name": "stdout",
     "output_type": "stream",
     "text": [
      "PILLAR 1\n",
      "Total number of chunks: 5\n",
      "PILLAR 2\n",
      "Total number of chunks: 3\n",
      "PILLAR 3\n",
      "Total number of chunks: 1\n",
      "PILLAR 4\n",
      "Total number of chunks: 3\n",
      "PILLAR 5\n",
      "Total number of chunks: 2\n",
      "PILLAR 6\n",
      "Total number of chunks: 1\n",
      "PILLAR 7\n",
      "Total number of chunks: 2\n",
      "PILLAR 8\n",
      "Total number of chunks: 4\n"
     ]
    }
   ],
   "source": [
    "summaries = {}\n",
    "for p in range(1,9):\n",
    "    print(f\"PILLAR {p}\")\n",
    "    article_list   = country_data[p-1][\"summary\"].to_list()\n",
    "    limited_chunks = split_summaries(article_list)\n",
    "    print(f\"Total number of chunks: {len(limited_chunks)}\")\n",
    "    bullet_points  = [summarize_pillar_GPT(x, p) for x in limited_chunks]\n",
    "    pillar_summ    = \"/n\".join([item for sublist_1 in bullet_points for sublist_2 in sublist_1 for item in sublist_2])\n",
    "    summaries.update({f\"Pillar {p}\" : pillar_summ})"
   ]
  },
  {
   "cell_type": "markdown",
   "metadata": {},
   "source": [
    "## Saving summaries as JSON files"
   ]
  },
  {
   "cell_type": "code",
   "execution_count": 19,
   "metadata": {},
   "outputs": [],
   "source": [
    "file_path = f\"{path2SP}/EU-S Data/Automated Qualitative Checks/Data/data-summarization/Overview/{country}_overviewSummaries.json\"\n",
    "with open(file_path, \"w\") as json_file:\n",
    "    json.dump(summaries, json_file)"
   ]
  },
  {
   "cell_type": "code",
   "execution_count": 20,
   "metadata": {},
   "outputs": [
    {
     "data": {
      "text/plain": [
       "{'Pillar 1': \"The tragic shooting at Charles University's Faculty of Arts in Prague, resulting in 14 deaths, raises concerns about police response, effectiveness of law enforcement, and public safety./nThe trial of psychiatrist Jan Cimicky, accused of sexual extortion and rape, highlights issues of judicial independence, accountability, and the protection of victims' rights./nThe controversy surrounding the appointment of Robert Fremr as a constitutional judge due to his past actions during the communist era underscores the importance of judicial independence and accountability./nThe Czech government's consideration of stricter gun control measures in response to the Prague shooting emphasizes the need for effective oversight and public safety measures./nThe ongoing debate and legislative process regarding postal voting for Czechs living abroad reflect the challenges of ensuring fair and accessible elections./nThe Czech government's proposal for a new law on lobbying aims to establish transparent rules and limit corruption risks, highlighting the need for transparency and accountability in government decision-making./nThe Czech Senate's rejection of the Istanbul Convention on preventing and combating violence against women raises concerns about the government's commitment to protecting women's rights and ensuring accountability./nThe Czech government's handling of the subsidy fraud case involving former Prime Minister Andrej Babiš and the subsequent acquittal raises questions about the independence of the judiciary and government accountability./nThe Czech Senate's rejection of the Istanbul Convention, highlighting concerns about gender equality and protection of women's rights./nThe Czech government's proposed budget for 2024 faces criticism for underestimating revenues and overestimating expenditures, raising concerns about transparency and accountability in managing public finances./nThe Czech Republic's implementation of border controls with Slovakia to prevent illegal migration, demonstrating the government's commitment to national security./nThe Czech government's consolidation package faces opposition obstruction, highlighting tensions between the government and opposition parties and raising concerns about parliamentary democracy./nThe Czech Republic's consideration of a new law requiring lobbyists to register and report their contacts with government officials, aiming to increase transparency and reduce corruption./nThe Czech Constitutional Court's decision to uphold the government's pension valorization changes, despite opposition claims of unfairness to seniors, raising questions about judicial independence./nThe Czech government's use of fixed voting time to push through legislation, criticized by the opposition for limiting debate and undermining democratic processes./nThe Czech Republic's high salaries for politicians compared to the average wage, raising concerns about the accountability of elected officials and the potential for abuse of power./n- The Czech government's proposed pension reform faces opposition and concerns about its impact on the sustainability of the pension system./n- The Czech Republic's judiciary faces scrutiny over past actions of Judge Robert Fremr and concerns about judicial independence./n- The Czech Republic tightens restrictions on media ownership by politicians to prevent conflicts of interest and promote transparency./n- The Czech Republic's handling of subsidy fraud cases, including the Čapí hnízdo case involving former Prime Minister Andrej Babiš, raises questions about accountability and the effectiveness of oversight institutions./n- The Czech government's handling of the Liberty Ostrava smelter crisis, including protests by trade unions, highlights concerns about government responsiveness and transparency./n- The Czech Republic's efforts to combat illegal gambling and drug trafficking demonstrate the effectiveness of law enforcement and oversight institutions./n- The Czech government's initiative to create a rent price map aims to address housing affordability and combat poverty, reflecting on government accountability and social welfare./n- The Czech Republic's debate over legalizing same-sex marriage and adjusting the definition of rape to 'no means no' underscores the ongoing struggle for equal rights and the constraints on government powers./n- The Czech government's consolidation package aims to reduce the state budget deficit through tax increases and spending cuts, sparking debate on prioritizing education over military spending./n- The Czech Supreme Court's decision to require former Prime Minister Andrej Babiš to apologize for defamatory statements highlights the judiciary's role in upholding accountability and protecting individual rights./n- The Czech police's successful operation against a Polish gang stealing railway lines demonstrates effective law enforcement in combating organized crime and ensuring public safety./n- The controversy surrounding Justice Minister Pavel Blažek's meeting with a pro-Russian lobbyist raises concerns about government transparency, accountability, and the potential influence on the judiciary./n- The Czech government's restrictions on media ownership by politicians aim to prevent conflicts of interest and promote transparency, marking a significant step towards ensuring government accountability./n- The Czech police's use of drones for traffic monitoring on the D1 highway showcases innovative law enforcement techniques to enhance road safety and enforce traffic regulations./n- The Czech Republic's efforts to combat illegal migration and human trafficking, as evidenced by the arrest of a smuggler and 23 migrants, underline the challenges and importance of effective border control./n- The Czech Republic's legal battle over the ownership of Líčkov castle due to alleged fraud and usury emphasizes the need for judicial independence and effective oversight in resolving property disputes./n- The former mayor of Pardubice and the head of the Regional Economic Chamber's continued custody demonstrates judiciary independence from political pressure./n- The Supreme Audit Office's report on the D35 highway construction delays and cost overruns highlights issues with government oversight and public funds management./n- The Constitutional Court's ruling in favor of land expropriation for the D3 highway showcases judiciary's role in resolving disputes and ensuring lawful government actions./n- The Supreme Administrative Court ruling against čTečka application checks during the pandemic emphasizes privacy rights and limits on government data collection./n- The trial of a Ukrainian man for the murder of a Roma near Brno Reservoir underlines the judiciary's role in addressing ethnic tensions and violence./n- The Prague municipality's ban on a pro-Palestinian demonstration due to its slogan raises concerns about freedom of assembly and expression./n- The High Court in Prague overturning the Sparrow's Nest case acquittal due to errors by a lower court demonstrates judiciary independence and error correction./n- The conviction of elite police officer Miloš Veselý for abuse of authority and collusion with a car thief highlights corruption and abuse of power within the police force.\",\n",
       " 'Pillar 2': \"The Czech Republic's Prime Minister Petr Fiala failed to declare ownership of shares in a financial institution with a history of suspicious activities, raising concerns about government corruption and transparency./nThe Czech Republic's implementation of a new test driver's license program to reduce traffic accidents involving novice drivers, resulting in over two dozen drivers losing their licenses due to serious offenses./nThe arrest of ten individuals in the Czech Republic for their alleged involvement in a corruption scheme related to the awarding of public contracts for medical equipment, highlighting corruption in the healthcare sector./nThe European Public Prosecutor's Office investigates a criminal organization in the Czech Republic for manipulating public contracts for medical supplies for hospitals, causing damage to the EU budget of around one million euros./nThe Czech Republic's Ministry of Labor and Social Affairs plans to merge four frequently paid social benefits into one to reduce abuse and motivate people to work, aiming to address concerns about unfair distribution of benefits./nThe Czech Republic's amendment to the Act on Public Prosecutor's Office to strengthen the independence of prosecutors and reduce political influence over the judiciary, supported by anti-corruption organizations./nThe Czech Republic's police intervention at the Jihlava Hospital and the regional health headquarters in Ústí nad Labem due to suspicions of contract manipulation, involving the arrest of the hospital director and others./nThe Czech Republic's ongoing debate on tightening gun control laws following a mass shooting at the Faculty of Philosophy in Prague, with proposals to require sellers to report suspicious customers and increase medical examinations for gun license applicants./n- The Czech government's purchase of gas storage facilities from RWE for 8.8 billion crowns has raised concerns about corruption and the potential misuse of public funds./n- The Supreme Court of the Czech Republic rejected an appeal by the Svatopluk cooperative, ordering it to pay over 18 million crowns to the bankruptcy administrator of H-System./n- The Czech Republic extradited Georgian Polad Omarov to the United States, where he is suspected of planning a murder-for-hire or money laundering./n- The Czech police have arrested a man accused of credit fraud with billions in damages, highlighting the prevalence of financial fraud./n- The Czech Republic's parliament has approved a new law on weapons and ammunition that will require entrepreneurs to report suspicious purchases of weapons or ammunition to the police./n- The Czech police have arrested ten individuals involved in a sophisticated international fraud scheme that defrauded victims of 195 million crowns./n- In the Czech Republic, a former school principal was found guilty of using a fake university degree to obtain her position, highlighting corruption in the education sector./n- The Czech Republic has tightened its ban on media ownership by top politicians, including the president, to prevent circumvention of the law and increase fines for violations./nThe trial of individuals accused of forging driver's licenses in Varnsdorf, highlighting corruption in the issuance of public documents./nThe arrest of a Polish gang for stealing railway lines in the Moravian-Silesian region, demonstrating efforts to combat theft and corruption./nThe sentencing of the former mayor of Libavá for embezzling municipal funds, underscoring corruption in local government./nThe conviction of a lawyer in Zlín for embezzling compensation funds from a client, showcasing corruption in the legal profession./nThe arrest of a drug gang in Děčín for methamphetamine production and distribution, indicating law enforcement's crackdown on drug-related corruption./nThe sentencing of a farm manager and director in the Ore Mountains for animal abuse and neglect, reflecting corruption in animal welfare./nThe indictment of five individuals, including four Czechs and one company, for general endangerment due to negligence in a stampede at a discotheque, highlighting issues of public safety and corruption./nThe arrest of a Slovak woman for allowing money from criminal activity to flow through her bank account, emphasizing the prevalence of money laundering.\",\n",
       " 'Pillar 3': \"- The Czech Republic's efforts to combat corruption through the Reconstruction of the State initiative, promoting transparency and accountability in government operations./n- The Czech government's consideration of a new law requiring lobbyists to register and report their contacts, aiming to increase transparency in the lobbying process./n- The Gratias Tibi award by People in Need, recognizing young Czechs for positive community impacts, highlighting civic engagement and social responsibility./n- The Czech government's digitization efforts, including the launch of Prague.bio and mobile ID cards, enhancing transparency and citizen participation in government./n- The Czech Ministry of Foreign Affairs' audit revealing non-transparent selection procedures, emphasizing the need for accountability and transparent governance./n- The Czech government's proposal to establish a rent price map to determine housing allowances and combat poverty, aiming for transparency in housing support./n- The controversy over the appointment of a councilor to technical services in Frenštát pod Radhoštěm, raising concerns about transparency and accountability in government appointments./n- The Czech government's response to the Vrbětice explosion and the expulsion of Russian diplomats, highlighting the importance of transparency and international cooperation in national security.\",\n",
       " 'Pillar 4': \"- The Czech Republic's support for Ukraine against Russian aggression, including welcoming refugees and providing humanitarian aid, demonstrates a strong commitment to human rights and international solidarity./n- The debate over legalizing same-sex marriage in the Czech Republic highlights ongoing discussions about equality and non-discrimination based on sexual orientation./n- The amendment to the Act on Public Prosecutor's Office strengthens the independence of prosecutors and the rule of law, ensuring fair and impartial justice./n- The Czech Republic's efforts to combat animal cruelty, despite rising cases and calls for stricter punishments, reflect concerns about the protection of animal rights./n- The Czech government's plan to merge four social benefits into one aims to simplify the system and improve access to social security, promoting equality and solidarity./n- The ongoing issue of excessive bureaucracy in the Czech Republic, leading to a mass rebellion, underscores the need for government efficiency and economic freedom./n- The case of psychiatrist Jan Cimický, accused of sexual abuse, raises concerns about the protection of victims' rights and the accountability of professionals in positions of trust./n- The Czech Republic's initiative to enhance school security through funding and safety protocols addresses the need for improved safety measures in educational institutions./n- The Czech Senate's rejection of the Istanbul Convention raises concerns about the protection of women from violence and domestic abuse./n- The Czech Republic's consideration of a new definition of rape to align with 'no means no' emphasizes the importance of consent and the protection of individuals from sexual violence./n- The Czech government's approval of changes to the pension system for dissidents highlights efforts to rectify injustices from the communist era and ensure fair treatment./n- The Czech Republic's debate on legalizing same-sex marriage and the challenges faced in ensuring equality for the LGBT+ community./n- The Czech government's initiative to create a rent price map aims to address housing affordability and combat poverty, reflecting efforts to ensure equality and social inclusion./n- The Czech Republic's handling of the Liberty Ostrava smelter crisis, including trade union protests, underscores the importance of government intervention in protecting workers' rights and economic stability./n- The Czech government's amendment to allow deportation of Ukrainian refugees convicted of crimes raises concerns about the protection of refugee rights and adherence to non-refoulement principles./n- The Czech Republic's efforts to integrate Ukrainian children into schools, providing education and support services, demonstrate a commitment to the rights and well-being of refugee children./nThe tragic shooting at Charles University in Prague, resulting in multiple casualties, raises concerns about public safety and the right to life./nThe arrest and deportation of Jaroslav Dobeš, known as Guru Jára, to the Czech Republic for raping female students, highlights issues of sexual violence and the abuse of power within spiritual groups./nThe ongoing trial of two women accused of murdering a healer in Kutná Hora, with conflicting expert opinions on their mental state, raises questions about mental health and criminal responsibility./nThe case of a mother sentenced for neglecting her daughter's eye injury, resulting in blindness, underscores the importance of parental responsibility and children's rights to healthcare./nThe Supreme Administrative Court ruling that checks of čTečka applications during the pandemic were illegal, protecting privacy rights against government overreach./nThe sentencing of a man for attempting to murder his pregnant partner in Ostrava highlights the issue of domestic violence and the need for protective measures for victims./nThe trial of a Ukrainian man for the murder of a Roma near the Brno Reservoir, sparking tensions between communities, emphasizes the challenges of social cohesion and minority rights./nThe controversy over the appointment of Robert Fremr as a constitutional judge, due to his past communist affiliation, raises concerns about the legacy of communism and the independence of the judiciary.\",\n",
       " 'Pillar 5': \"The tragic shooting at the Faculty of Arts of Charles University in Prague, resulting in multiple casualties, raises concerns about public safety and the effectiveness of law enforcement in preventing such violent incidents./nThe increase in murders and attempted murders in the Moravian-Silesian region, with personal disputes being the most common motive, highlights the challenges faced by law enforcement in maintaining public safety and preventing violent crime./nThe debate on tightening gun control laws in the Czech Republic following the mass shooting at the Faculty of Arts in Prague underscores the tension between enhancing public safety and preserving civil liberties./nThe discovery of a murdered woman's body in a forest near an oil pipeline in Vysočina raises concerns about public safety and the ability of the State to maintain order and security./nThe arrest of a recidivist in Hradeck for causing almost 130,000 crowns in damage through vehicle and property thefts demonstrates the efforts of law enforcement in combating crime and protecting the community./nThe sentencing of a man in Pilsen for stabbing his partner to death highlights the prevalence of domestic violence and the need for effective law enforcement to ensure public safety and hold perpetrators accountable./nThe apprehension of a group of thieves responsible for a series of ATM robberies in Austria, with traces leading to Lipno in Bohemia, showcases the effectiveness of international law enforcement collaboration in combating organized crime./nThe implementation of a smart traffic light system in Pardubice to prevent trucks from getting stuck in an underpass and improve pedestrian safety at crossings demonstrates proactive measures to enhance road safety and reduce traffic accidents./nMass shooting at Charles University in Prague, resulting in multiple fatalities and raising concerns about public safety and the state's ability to prevent such tragedies./nArrest of a Ukrainian man for the murder of a Roma near the Brno Reservoir, sparking tensions between communities and highlighting challenges in maintaining public order./nPolice crackdown on illegal migration in the Vysočina region, with arrests of traffickers and migrants, emphasizing efforts to secure borders and combat human trafficking./nViolent crime in Teplice Trnovany, where a foreign national was fatally injured, underscoring issues of public safety and the effectiveness of law enforcement./nA man in Opava attempted to murder his ex-girlfriend by setting her on fire, highlighting domestic violence concerns and the need for protective measures./nA series of burglaries in Jičín and Sobotka by a group of experienced thieves, demonstrating challenges in preventing property crimes and ensuring community security./nInstallation of traffic cameras in Jihlava to monitor red light violations and speeding, aiming to improve road safety and reduce traffic accidents./nA trial for a man accused of psychological abuse of his ex-wife in Pilsen, reflecting on the justice system's handling of domestic violence cases.\",\n",
       " 'Pillar 6': \"The Czech government's consolidation package aims to improve the state budget by introducing tax increases and spending cuts, sparking debate over its impact on the economy and businesses./nCustoms officials in the Czech Republic seize illegal gaming machines and untaxed alcohol, highlighting efforts to combat illegal gambling and enforce regulations on alcohol distribution./nThe Czech government proposes changes to labor laws to make it easier for businesses to hire and fire workers, aiming to improve labor market flexibility while ensuring workers' rights./nThe Czech Environmental Inspectorate fines a company for releasing sulfur dioxide, emphasizing the enforcement of environmental regulations and the protection of public health./nThe Czech government's decision to cut subsidies for renewable energy sources raises concerns about the commitment to environmental protection and renewable energy development./nThe Czech government plans to use Public-Private Partnerships (PPPs) for infrastructure projects, indicating a move towards alternative financing models to support strategic investments./nThe Czech government's proposal to ban kratom and HHC due to health risks, and the subsequent decision to regulate rather than ban, reflects the challenges in managing psychoactive substances./nThe Czech Supreme Audit Office criticizes the slow progress and increased costs in the construction of the D35 highway, highlighting inefficiencies in infrastructure development and project management.\",\n",
       " 'Pillar 7': \"- The Supreme Court ruling that former Prime Minister Andrej Babiš must apologize for defamatory statements highlights the justice system's role in holding individuals accountable and protecting personal rights./n- The trial of psychiatrist Jan Cimický, accused of sexual harassment and assault, underscores the importance of the justice system in addressing allegations of serious crimes and ensuring justice for victims./n- The Gratias Tibi award by People in Need recognizes young people's positive impact on communities, promoting civic participation and youth engagement in social issues./n- The legal dispute over the ownership of Jaroslavl castle and the Líčkov castle fraud case emphasize the challenges in property rights and the need for a transparent and fair resolution process./n- The ongoing doping case involving three Hradec hockey players and the FAČR Ethics Commission's actions against match-fixing in football highlight the importance of integrity in sports and the justice system's role in enforcing it./n- The case of a woman suing a hospital for medical malpractice after losing a kidney during surgery raises concerns about patient rights, medical accountability, and access to justice in healthcare disputes./n- The legal challenges and court decisions related to the construction of the D49 highway and the environmental concerns it raises illustrate the justice system's role in balancing development with environmental protection./n- The introduction of a rent price map by the Czech government to determine housing allowances and combat poverty trafficking demonstrates efforts to improve social welfare and ensure fair access to housing./nThe trial and subsequent conviction of a man for setting fire to stables in Prague, resulting in the death of six horses and two ponies, underscores the need for effective enforcement of civil justice decisions./nThe ongoing trial of two women accused of murdering a healer in Prague, with conflicting expert opinions on their sanity, highlights challenges in ensuring impartiality and effectiveness in complex cases involving mental health./nThe acquittal of Roman Janoušek for charges related to the Chambon lab case after a ten-year legal battle, and his subsequent claim for compensation, raises concerns about fairness and impartiality in the justice system./nThe Supreme Court's decision to order former Prime Minister Andrej Babiš to apologize for defamatory statements against Miroslav Kalousek emphasizes the judiciary's role in holding individuals accountable for false accusations./nThe legal dispute over the ownership of Líčkov castle, involving allegations of fraud and usury, underscores the challenges in protecting property rights and ensuring justice in cases of alleged exploitation./nThe sentencing of a psychiatrist for sexual assault and extortion of patients, based on allegations from multiple victims, highlights the importance of access to justice for victims of sexual violence./nThe trial of a Ukrainian man for the murder of a Roma youth in Brno, amidst tensions between communities, illustrates the need for justice systems to address hate crimes and community conflicts effectively./nThe case of a mother sentenced for neglecting her daughter's eye injury, leading to blindness, raises questions about the civil justice system's role in protecting vulnerable individuals and ensuring accountability for neglect.\",\n",
       " 'Pillar 8': \"- The tragic shooting at Charles University's Faculty of Arts in Prague, resulting in 14 deaths and 25 injuries, raises concerns about public safety and the effectiveness of police response./n- The ongoing trial of psychiatrist Jan Cimický, accused of multiple sexual offenses, highlights challenges in addressing sexual abuse within the healthcare system./n- The murder-suicide near the Orlické dam involving two elderly men, investigated as a serious crime of murder, attempted murder, and arson./n- The arrest of Ivo Kaderka and Vojtěch Flégl in the tennis subsidy fraud case, indicating efforts to combat corruption in sports./n- The embezzlement scandal in the Czech community of Sokol, where tens of millions of crowns were stolen, underscores issues of financial mismanagement and corruption./n- Animal cruelty cases on the rise in the Czech Republic, with several brutal incidents reported, prompting calls for stricter punishments and improved animal protection laws./n- The escape of Jiří Kajínek from Mírov Prison, highlighting security flaws within the Czech prison system and challenges in recapturing fugitives./n- The case of a 15-year-old murder in Třebíčsk remaining unsolved, demonstrating the difficulties in solving cold cases and ensuring justice for victims./n- The tragic shooting at Charles University's Faculty of Arts in Prague, resulting in multiple casualties, highlights concerns about public safety and the effectiveness of law enforcement in preventing such attacks./n- The arrest and charging of individuals involved in large-scale drug trafficking operations in the Czech Republic demonstrate the effectiveness of criminal investigations in combating drug-related crimes./n- The debate over the use of advanced technologies and artificial intelligence by the police, particularly in the context of elections and public safety, raises concerns about privacy and the potential for abuse./n- The ongoing trial of a psychiatrist accused of sexually harassing and assaulting female patients underscores the challenges in addressing sexual assault and ensuring the protection of victims' rights./n- The increase in domestic violence cases in Vysočina, with a significant number of people evicted from their homes, highlights the prevalence of domestic violence and the efforts of the police to address the issue./n- The conviction of individuals for animal cruelty, including the long-term agonizing torture of a dog, emphasizes the importance of animal welfare laws and the enforcement of animal cruelty cases./n- The controversy surrounding the Pirate Party's handling of issues within the Czech government, including the resignation of the Minister of Justice, highlights the party's commitment to transparency and accountability./n- The investigation into the connection between two murders committed by the same individual in the Czech Republic raises concerns about the effectiveness of criminal investigations and the ability of law enforcement to prevent and respond to violent crimes./nThe trial and sentencing of Dominik Feri for rape and attempted rape, highlighting the criminal justice system's handling of sexual violence cases./nThe investigation and prosecution of Michal Zácha and others for corruption in public contracts for transport constructions in the Olomouc region, demonstrating efforts to combat corruption./nThe arrest and extradition of Vladimír Bayer for murder after 25 years on the run, showcasing international cooperation in criminal justice./nThe sentencing of a man for starting a fire in the Czech Switzerland National Park, emphasizing the legal consequences of environmental crimes./nThe acquittal of former deputy mayor Michal Valenta and others in a case involving manipulation of advertising space rentals, raising questions about the effectiveness of corruption investigations./nThe sentencing of a man for brutally beating his girlfriend to death in Valašské Meziříčí, underscoring the severity of domestic violence cases./nThe police raid on Pardubice town hall and subsequent charges against 19 people for manipulating public contracts, highlighting corruption within municipal governance./nThe overturning of the acquittal in the Čapí hnízdo case by the High Court in Prague due to insufficient evidence, illustrating challenges in high-profile fraud cases./nThe trial and conviction of individuals involved in football bribery and corruption, highlighting concerns about the integrity of sports competitions and the effectiveness of criminal investigations./nThe arrest and trial of individuals for violent crimes, including murder and assault, demonstrating the challenges and importance of effective law enforcement and judicial processes in ensuring public safety and justice./nThe sentencing of individuals for drug-related offenses, including the production and distribution of methamphetamine, underscoring the ongoing battle against drug trafficking and the need for comprehensive criminal justice strategies./nThe investigation and prosecution of public officials for embezzlement and corruption, emphasizing the need for accountability and transparency in government and public institutions./nThe arrest of human traffickers and the rescue of illegal migrants, highlighting the challenges of combating human smuggling and ensuring border security./nThe sentencing of individuals for animal cruelty, reflecting societal values on animal welfare and the need for legal mechanisms to protect animals from abuse./nThe conviction of individuals for online fraud and financial crimes, illustrating the growing threat of cybercrime and the importance of vigilance and law enforcement in protecting citizens from financial scams./nThe legal battles and controversies surrounding pre-November communist membership of public figures, raising questions about historical accountability and the criteria for public service eligibility.\"}"
      ]
     },
     "execution_count": 20,
     "metadata": {},
     "output_type": "execute_result"
    }
   ],
   "source": [
    "summaries"
   ]
  }
 ],
 "metadata": {
  "kernelspec": {
   "display_name": "Python 3",
   "language": "python",
   "name": "python3"
  },
  "language_info": {
   "codemirror_mode": {
    "name": "ipython",
    "version": 3
   },
   "file_extension": ".py",
   "mimetype": "text/x-python",
   "name": "python",
   "nbconvert_exporter": "python",
   "pygments_lexer": "ipython3",
   "version": "3.11.9"
  }
 },
 "nbformat": 4,
 "nbformat_minor": 2
}
