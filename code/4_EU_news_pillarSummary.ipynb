{
 "cells": [
  {
   "cell_type": "code",
   "execution_count": 2,
   "metadata": {},
   "outputs": [],
   "source": [
    "import os\n",
    "import ast\n",
    "import json\n",
    "import time\n",
    "import pandas as pd\n",
    "from dotenv import load_dotenv\n",
    "import prompt_templates_summarization as pts\n",
    "from langchain.schema import BaseOutputParser\n",
    "from langchain.prompts.chat import ChatPromptTemplate\n",
    "from langchain_google_genai import (\n",
    "    ChatGoogleGenerativeAI,\n",
    "    HarmBlockThreshold,\n",
    "    HarmCategory\n",
    ")\n",
    "from langchain_openai import ChatOpenAI\n",
    "from json.decoder import JSONDecodeError\n",
    "from google.generativeai.types import BlockedPromptException\n",
    "from google.generativeai.types.generation_types import StopCandidateException"
   ]
  },
  {
   "cell_type": "code",
   "execution_count": 3,
   "metadata": {},
   "outputs": [],
   "source": [
    "country = \"Portugal\"\n",
    "path2SP = \"/Users/ctoruno/OneDrive - World Justice Project/EU Subnational\""
   ]
  },
  {
   "cell_type": "markdown",
   "metadata": {},
   "source": [
    "## Loading API key"
   ]
  },
  {
   "cell_type": "code",
   "execution_count": 4,
   "metadata": {},
   "outputs": [],
   "source": [
    "load_dotenv()\n",
    "GoogleAI_key = os.getenv(\"googleAI_API_key\")\n",
    "OpenAI_key   = os.getenv(\"openai_key\")\n",
    "os.environ['GOOGLE_API_KEY'] = GoogleAI_key\n",
    "os.environ['OPENAI_API_KEY'] = OpenAI_key"
   ]
  },
  {
   "cell_type": "markdown",
   "metadata": {},
   "source": [
    "## Reading the data"
   ]
  },
  {
   "cell_type": "code",
   "execution_count": 5,
   "metadata": {},
   "outputs": [],
   "source": [
    "def gatherFiles(country, p):\n",
    "    \"\"\"\n",
    "    This function takes a country as input and returns a list with all the news articles associated to that specific pillar.\n",
    "    \"\"\"\n",
    "    data_path = f\"{path2SP}/EU-S Data/Automated Qualitative Checks/Data/data-summarization/{country}/pillar_{p}\"\n",
    "    sets = [pd.read_parquet(f\"{data_path}/{x}\") for x in os.listdir(data_path)]\n",
    "    pillar_data = pd.concat(sets)\n",
    "    pillar_data[\"associated_pillar\"] = f\"Pillar {p}\"\n",
    "    print(f\"Pillar {p}: {len(pillar_data)} articles\")\n",
    "\n",
    "    return pillar_data"
   ]
  },
  {
   "cell_type": "code",
   "execution_count": 6,
   "metadata": {},
   "outputs": [
    {
     "name": "stdout",
     "output_type": "stream",
     "text": [
      "Pillar 1: 3163 articles\n",
      "Pillar 2: 1718 articles\n",
      "Pillar 3: 534 articles\n",
      "Pillar 4: 1962 articles\n",
      "Pillar 5: 334 articles\n",
      "Pillar 6: 735 articles\n",
      "Pillar 7: 1049 articles\n",
      "Pillar 8: 1676 articles\n"
     ]
    }
   ],
   "source": [
    "country_data = [gatherFiles(country, p) for p in range(1,9)]"
   ]
  },
  {
   "cell_type": "markdown",
   "metadata": {},
   "source": [
    "## Saving gathered data"
   ]
  },
  {
   "cell_type": "code",
   "execution_count": 7,
   "metadata": {},
   "outputs": [],
   "source": [
    "target_vars = [\n",
    "    \"id\", \"link\", \"domain_url\", \"published_date\",\n",
    "    \"title_trans\", \"description_trans\", \"content_trans\", \"summary\", \"impact_score\",\n",
    "    \"pillar_1\", \"pillar_2\", \"pillar_3\", \"pillar_4\", \"pillar_5\", \"pillar_6\", \"pillar_7\", \"pillar_8\",\n",
    "    \"associated_pillar\"\n",
    "]\n",
    "master = pd.concat(country_data).loc[:,target_vars]\n",
    "master.to_parquet(f\"{path2SP}/EU-S Data/Automated Qualitative Checks/Data/data-summarization/{country}/{country}_master.parquet.gzip\", compression=\"gzip\")"
   ]
  },
  {
   "cell_type": "markdown",
   "metadata": {},
   "source": [
    "## Defining chain"
   ]
  },
  {
   "cell_type": "code",
   "execution_count": 8,
   "metadata": {},
   "outputs": [],
   "source": [
    "safety_settings = {\n",
    "    HarmCategory.HARM_CATEGORY_HARASSMENT: HarmBlockThreshold.BLOCK_NONE,\n",
    "    HarmCategory.HARM_CATEGORY_HATE_SPEECH: HarmBlockThreshold.BLOCK_NONE,\n",
    "    HarmCategory.HARM_CATEGORY_SEXUALLY_EXPLICIT: HarmBlockThreshold.BLOCK_NONE,\n",
    "    HarmCategory.HARM_CATEGORY_DANGEROUS_CONTENT: HarmBlockThreshold.BLOCK_NONE\n",
    "}"
   ]
  },
  {
   "cell_type": "code",
   "execution_count": 9,
   "metadata": {},
   "outputs": [],
   "source": [
    "class JSONOutputParser(BaseOutputParser):\n",
    "    def parse(self, text: str):\n",
    "        \"\"\"\n",
    "        Parse the output of an LLM call to a valid JSON format.\n",
    "        \"\"\"\n",
    "        return json.loads(text.replace('```json', '').replace('```', ''), strict=False)"
   ]
  },
  {
   "cell_type": "code",
   "execution_count": 10,
   "metadata": {},
   "outputs": [],
   "source": [
    "def summarize_pillar(summaries, pillar):\n",
    "    \"\"\"\n",
    "    This function takes a list of summaries and it sends a call to Google's Gemini asking for a list of\n",
    "    important events to take into account for a specific pillar of the Rule of Law.\n",
    "    \"\"\"\n",
    "    \n",
    "    idx = str(pillar)\n",
    "\n",
    "    # Setting up the Prompt Template\n",
    "    chat_prompt = ChatPromptTemplate.from_messages([\n",
    "                    (\"human\", pts.pillar_summary_prompt)\n",
    "                ])\n",
    "\n",
    "    # Defining our chain\n",
    "    chain_gemini = chat_prompt | ChatGoogleGenerativeAI(model = \"gemini-pro\",\n",
    "                                                        temperature = 0.25, \n",
    "                                                        safety_settings = safety_settings,\n",
    "                                                        convert_system_message_to_human = True) | JSONOutputParser()\n",
    "    \n",
    "    try: \n",
    "        llm_response = chain_gemini.invoke({\n",
    "            \"summaries\"      : summaries,\n",
    "            \"pillar_name\"    : pts.pillar_names[idx],\n",
    "            \"pillar_bullets\" : pts.pillar_bullets[idx]\n",
    "        })\n",
    "        status = True\n",
    "        time.sleep(1)   # We need to slow down the calls. given that the Gemini API has a limit of 60 calls per second\n",
    "\n",
    "    # The API can still block some of our prompts due to undefined reasons. Sadly, we can't do anything about it, so we\n",
    "    # predefine the outcome    \n",
    "    except (BlockedPromptException, StopCandidateException):\n",
    "        print(\"Prompt BLOCKED\")\n",
    "        status = False\n",
    "    \n",
    "    except JSONDecodeError:\n",
    "        print(\"Decode error... trying again...\")\n",
    "        try: \n",
    "            llm_response = chain_gemini.invoke({\n",
    "                \"summaries\"      : summaries,\n",
    "                \"pillar_name\"    : pts.pillar_names[idx],\n",
    "                \"pillar_bullets\" : pts.pillar_bullets[idx]\n",
    "            })\n",
    "            status = True\n",
    "            time.sleep(1)\n",
    "\n",
    "        except JSONDecodeError:\n",
    "            print(\"Decode error... trying again...\")\n",
    "            try: \n",
    "                llm_response = chain_gemini.invoke({\n",
    "                    \"summaries\"      : summaries,\n",
    "                    \"pillar_name\"    : pts.pillar_names[idx],\n",
    "                    \"pillar_bullets\" : pts.pillar_bullets[idx]\n",
    "                })\n",
    "                status = True\n",
    "                time.sleep(1)\n",
    "\n",
    "            except JSONDecodeError:\n",
    "                print(\"Failed. Skipping...\")\n",
    "                status = False\n",
    "\n",
    "    # We use the STATUS variable to throw an outcome to our call depending if our prompt was blocked or not\n",
    "    if status == True:\n",
    "        outcome = [llm_response[\"list_of_events\"]]\n",
    "\n",
    "    else:\n",
    "        outcome = \"Skipped list\"\n",
    "\n",
    "    return outcome"
   ]
  },
  {
   "cell_type": "code",
   "execution_count": 11,
   "metadata": {},
   "outputs": [],
   "source": [
    "def summarize_pillar_GPT(summaries, pillar):\n",
    "    \"\"\"\n",
    "    This function takes a list of summaries and it sends a call to OpenAI's GPT asking for a list of\n",
    "    important events to take into account for a specific pillar of the Rule of Law.\n",
    "    \"\"\"\n",
    "    \n",
    "    idx = str(pillar)\n",
    "\n",
    "    # Setting up the Prompt Template\n",
    "    chat_prompt = ChatPromptTemplate.from_messages([\n",
    "                    (\"system\", pts.pillar_summary_context),\n",
    "                    (\"human\", pts.pillar_summary_instructions)\n",
    "                ])\n",
    "\n",
    "    # Defining our chain\n",
    "    chain_gpt = chat_prompt | ChatOpenAI(model_name=\"gpt-4-turbo-preview\", temperature=0.2) | JSONOutputParser()\n",
    "    \n",
    "    try: \n",
    "        llm_response = chain_gpt.invoke({\n",
    "            \"summaries\"      : summaries,\n",
    "            \"pillar_name\"    : pts.pillar_names[idx],\n",
    "            \"pillar_bullets\" : pts.pillar_bullets[idx]\n",
    "        })\n",
    "        status = True\n",
    "    \n",
    "    except JSONDecodeError:\n",
    "        print(\"Decode error... trying again...\")\n",
    "        try: \n",
    "            llm_response = chain_gpt.invoke({\n",
    "                \"summaries\"      : summaries,\n",
    "                \"pillar_name\"    : pts.pillar_names[idx],\n",
    "                \"pillar_bullets\" : pts.pillar_bullets[idx]\n",
    "            })\n",
    "            status = True\n",
    "\n",
    "        except JSONDecodeError:\n",
    "            print(\"Decode error... trying again...\")\n",
    "            try: \n",
    "                llm_response = chain_gpt.invoke({\n",
    "                    \"summaries\"      : summaries,\n",
    "                    \"pillar_name\"    : pts.pillar_names[idx],\n",
    "                    \"pillar_bullets\" : pts.pillar_bullets[idx]\n",
    "                })\n",
    "                status = True\n",
    "\n",
    "            except JSONDecodeError:\n",
    "                print(\"Failed. Skipping...\")\n",
    "                status = False\n",
    "\n",
    "    # We use the STATUS variable to throw an outcome to our call depending if our prompt was blocked or not\n",
    "    if status == True:\n",
    "        outcome = [llm_response[\"list_of_events\"]]\n",
    "\n",
    "    else:\n",
    "        outcome = \"Skipped list\"\n",
    "\n",
    "    return outcome"
   ]
  },
  {
   "cell_type": "markdown",
   "metadata": {},
   "source": [
    "## Sending calls"
   ]
  },
  {
   "cell_type": "code",
   "execution_count": 12,
   "metadata": {},
   "outputs": [],
   "source": [
    "def split_summaries(summaries, llm = \"GPT\"):\n",
    "    \"\"\"\n",
    "    This function takes a list of summaries and provides a text compiling all of them but taking into account the \n",
    "    token limit for using the Gemini Pro 1.0 API\n",
    "    \"\"\"\n",
    "\n",
    "    idx = 0\n",
    "    segments = [[]]\n",
    "    total_count = 0\n",
    "\n",
    "    if llm == \"GPT\":\n",
    "        tkn_limit = 98500\n",
    "    if llm == \"Gemini\":\n",
    "        tkn_limit = 22500\n",
    "\n",
    "    for text in summaries:\n",
    "        text_length = len(text.split())\n",
    "\n",
    "        if total_count + text_length < tkn_limit:\n",
    "            segments[idx].append(text)\n",
    "            total_count = total_count + text_length\n",
    "        else:\n",
    "            segments.append([])\n",
    "            idx = idx + 1\n",
    "            total_count = 0\n",
    "            segments[idx].append(text)\n",
    "            total_count = total_count + text_length\n",
    "\n",
    "    outcome = [\"- \"+\"\\n- \".join(segment) for segment in segments]\n",
    "\n",
    "    return outcome\n"
   ]
  },
  {
   "cell_type": "code",
   "execution_count": 13,
   "metadata": {},
   "outputs": [
    {
     "name": "stdout",
     "output_type": "stream",
     "text": [
      "PILLAR 1\n",
      "Total number of chunks: 4\n",
      "PILLAR 2\n",
      "Total number of chunks: 2\n",
      "PILLAR 3\n",
      "Total number of chunks: 1\n",
      "PILLAR 4\n",
      "Total number of chunks: 2\n",
      "PILLAR 5\n",
      "Total number of chunks: 1\n",
      "PILLAR 6\n",
      "Total number of chunks: 1\n",
      "PILLAR 7\n",
      "Total number of chunks: 1\n",
      "PILLAR 8\n",
      "Total number of chunks: 2\n"
     ]
    }
   ],
   "source": [
    "summaries = {}\n",
    "for p in range(1,9):\n",
    "    print(f\"PILLAR {p}\")\n",
    "    article_list   = country_data[p-1][\"summary\"].to_list()\n",
    "    limited_chunks = split_summaries(article_list)\n",
    "    print(f\"Total number of chunks: {len(limited_chunks)}\")\n",
    "    bullet_points  = [summarize_pillar_GPT(x, p) for x in limited_chunks]\n",
    "    pillar_summ    = \"/n\".join([item for sublist_1 in bullet_points for sublist_2 in sublist_1 for item in sublist_2])\n",
    "    summaries.update({f\"Pillar {p}\" : pillar_summ})"
   ]
  },
  {
   "cell_type": "markdown",
   "metadata": {},
   "source": [
    "## Saving summaries as JSON files"
   ]
  },
  {
   "cell_type": "code",
   "execution_count": 14,
   "metadata": {},
   "outputs": [],
   "source": [
    "file_path = f\"{path2SP}/EU-S Data/Automated Qualitative Checks/Data/data-summarization/Overview/{country}_overviewSummaries.json\"\n",
    "with open(file_path, \"w\") as json_file:\n",
    "    json.dump(summaries, json_file)"
   ]
  },
  {
   "cell_type": "code",
   "execution_count": 15,
   "metadata": {},
   "outputs": [
    {
     "data": {
      "text/plain": [
       "{'Pillar 1': '- Ongoing protests by security forces in Portugal over salary increases and risk subsidies, raising concerns about potential interference in upcoming legislative elections./n- The Madeira corruption investigation involving high-ranking officials, including the president of the Regional Government and the mayor of Funchal, highlights concerns about government accountability./n- The European Court of Human Rights condemned Portugal for poor detention conditions, ordering compensation for human rights violations./n- The Public Ministry\\'s investigation into alleged corruption and influence peddling against government members, company executives, and other individuals in Operation Influencer./n- The Supreme Court of Justice upholds an eight-year prison sentence for former banker Ricardo Salgado, rejecting his request to suspend the sentence due to Alzheimer\\'s disease./n- The Lisbon Court of Appeal overturns a decision not to bring former Prime Minister José Sócrates to trial for corruption, highlighting the independence of the judiciary./n- The Regulatory Entity for Social Communication (ERC) investigates the ownership of Global Media, emphasizing the need for transparency in media ownership./n- The Azores regional elections result in a victory for the PSD/CDS/PPM coalition but without an absolute majority, raising questions about government stability./n- The Attorney General of the Republic (PGR) prevents prosecutors from participating in a conference on mega-processes, raising concerns about the independence of the judiciary./n- The National Elections Commission (CNE) deems the Liberal Initiative\\'s (IL) presentation of its electoral program as \"propaganda prohibited by law,\" underscoring the importance of electoral fairness./nOperation Influencer investigation leads to Prime Minister António Costa\\'s resignation amid corruption allegations involving government officials and private companies./nThe Portuguese government\\'s handling of the housing crisis criticized for lack of effective measures, leading to protests demanding affordable housing./nThe dissolution of the Portuguese Parliament by President Marcelo Rebelo de Sousa following political crisis, calling for early legislative elections./nThe Public Ministry\\'s investigation into alleged corruption in the lithium and hydrogen business, involving high-ranking government officials and leading to arrests./nThe Portuguese government\\'s decision to privatize TAP, the national airline, faces criticism and concerns about transparency and national sovereignty./nThe Court of Auditors highlights concerns about the execution of the Recovery and Resilience Plan (PRR), pointing out significant underutilization of allocated funds./nThe Portuguese government\\'s \\'More Housing\\' legislative package criticized for failing to address root causes of the housing crisis and lacking transparency./nThe Portuguese Socialist Party (PS) rejects requests for parliamentary hearings regarding corruption cases, raising concerns about transparency and accountability./nThe Portuguese government\\'s proposal to increase penalties for attacks on law enforcement officers, aiming to protect security forces from violence./nThe Portuguese government\\'s efforts to combat bureaucracy and attract investment through the Simplex program, aiming to improve administrative efficiency./nPortuguese government\\'s proposed changes to professional orders raise concerns about transparency and accountability./nClimate activists in Portugal demand government action on climate change, emphasizing the urgency of transitioning to renewable energy./nPortuguese government\\'s handling of the housing crisis criticized for insufficient measures and lack of transparency./nInvestigation into alleged corruption and tax fraud involving Altice co-founder Armando Pereira highlights the need for effective oversight institutions./nPortuguese government\\'s decision to privatize TAP airline sparks controversy and concerns about national interest and transparency./nJudicial Police\\'s arrest of individuals involved in drug trafficking and human trafficking operations demonstrates the effectiveness of law enforcement./nPortuguese government\\'s budget proposals criticized for not adequately addressing public sector salaries and the cost of living./nLegal challenges and controversies surrounding the judiciary, including accusations of bias and conflicts of interest, raise concerns about its independence./nThe Portuguese government\\'s efforts to address climate change and environmental protection through legislation and policy initiatives./nInvestigations and trials related to financial crimes and corruption, including the \\'Operation Exotic Fruit\\' case, underscore the importance of judicial independence./n- The Court of Auditors\\' audit on ANA\\'s privatization found it did not safeguard public interest, highlighting transparency and accountability issues in government decision-making./n- The investigation into former Minister João Galamba and the Secretary of State for Energy\\'s involvement in the Start Campus case raises concerns about government accountability and corruption./n- The Socialist Party\\'s attempt to shield its new leader from a legal case involving the former Prime Minister underscores tensions between government actions and judicial independence./n- The arrest of a former minister on suspicion of corruption and influence peddling highlights issues of accountability and the effectiveness of oversight institutions./n- The Minister of Internal Affairs ordered an investigation into misconduct by the PSP during a climate protest, emphasizing the need for accountability in law enforcement./n- The Public Ministry\\'s actions against the Secretary of State for Energy in the Start Campus case question the independence and effectiveness of oversight institutions./n- The Constitutional Court\\'s annulment of Chega\\'s convention decisions, including the leader\\'s re-election, stresses the importance of legal adherence in political processes./n- The PSP\\'s Festas em Segurança operation, resulting in numerous arrests for driving under the influence, demonstrates law enforcement\\'s role in public policy implementation./n- The Portuguese Communist Party\\'s intention to inquire into ANA\\'s privatization reflects concerns over government transparency and the safeguarding of public interest./n- The Liberal Party\\'s strategy to attract voters dissatisfied with the current government highlights the role of political parties in providing checks on government power.',\n",
       " 'Pillar 2': \"Operation Influencer investigation leads to Prime Minister António Costa's resignation amid corruption allegations involving his chief of staff and close associates./nPublic Ministry's investigation into lithium and hydrogen projects uncovers alleged corruption, leading to arrests and political resignations./nMadeira corruption case involves high-ranking officials, including the president of the Regional Government, in bribery and influence peddling./nEDP case trial involves former Economy Minister Manuel Pinho and allegations of corruption with BES, raising concerns about corruption in the energy sector./nGlobal Media Group faces allegations of financial mismanagement and corruption, impacting journalists and media integrity./nJudiciary Police conduct searches related to corruption in the awarding of public contracts, highlighting the prevalence of graft in public procurement./nFormer Secretary of State for Sports, João Paulo Rebelo, under investigation for favoritism in public contracting, exemplifying corruption in public office./nPortuguese Environment Agency and Institute for Nature Conservation allegedly bypass environmental regulations for data center project, suggesting corruption in environmental oversight./nPublic Ministry acknowledges error in wiretap transcription, mistakenly implicating Prime Minister António Costa in corruption case, raising concerns about investigation accuracy./nPortuguese government's handling of National Health Service and allegations of preferential treatment in medical cases spotlight potential corruption in healthcare./nOperation Influencer leads to the resignation of Prime Minister António Costa amid corruption allegations involving lithium and hydrogen projects./nThe Judiciary Police dismantles the largest clandestine laboratory for doping substances in Portugal, highlighting efforts to combat corruption in sports./nThe European Public Prosecutor's Office charges 27 individuals in a VAT fraud scheme, showcasing the fight against economic-financial crime in Portugal./nThe Constitutional Court annuls Chega's national convention, raising concerns about political bias and the influence of judiciary on political parties./nThe Public Ministry investigates alleged corruption in the Ministry of Defense, revealing a scheme to benefit from public contracts./nThe Court of Auditors criticizes the privatization of ANA to Vinci, highlighting failures to safeguard public interest and potential corruption./nThe Food and Economic Security Authority (ASAE) seizes dietary supplements with unauthorized substances, emphasizing regulatory efforts against corruption in public health./nThe Public Ministry opens an investigation into the deaths of a pregnant woman and her baby at Guimarães Hospital, underlining issues of negligence in healthcare./nThe arrest of a former minister for Public Works on suspicion of corruption and influence peddling, underscoring ongoing corruption within the political system./nThe Court of Justice of the European Union supports the Competition Authority's decision against Portuguese banks for anti-competitive practices, highlighting efforts to combat corruption in the banking sector.\",\n",
       " 'Pillar 3': \"Portuguese Prime Minister António Costa resigns amid corruption allegations, highlighting concerns about government transparency and accountability./nThe Court of Auditors criticizes the privatization of ANA to Vinci, citing 'serious deficiencies' and risks to the public interest./nClimate activists in Portugal demand government action on climate change, emphasizing the importance of civic participation and transparency in environmental policy./nThe Public Ministry opens an investigation into the treatment of Portuguese-Brazilian twins, raising questions about transparency and potential political interference in healthcare./nPortugal's Socialist Party attempts to shield its new leader from legal cases involving former Prime Minister António Costa, raising concerns about political influence on the judiciary./nFC Porto initiates disciplinary proceedings against members for disrespectful behavior, highlighting the importance of adhering to democratic processes within organizations./nEnvironmentalists call for a 'new policy for nature' to address the climate crisis, emphasizing the need for transparency and public participation in environmental decision-making./nThe Portuguese government's handling of the housing crisis criticized for lack of action and transparency, as activists demand affordable housing solutions./nThe Regulatory Entity for Social Communication investigates Chega's leader for spreading fake news, underscoring the need for accountability in political discourse./nPortugal's Recovery and Resilience Plan (PRR) requires mobilization of all stakeholders, highlighting the need for transparency and coordination in public policy implementation.\",\n",
       " 'Pillar 4': \"- Portuguese Prime Minister António Costa faces an investigation by the Supreme Court of Justice over alleged involvement in a business deal./n- Operation Influencer investigation into alleged corruption involving PS and PSD parties in Portugal raises concerns about judicial independence and political interference./n- Climate activists in Lisbon protest against fossil fuel use, leading to one injury and three arrests, highlighting tensions between freedom of assembly and government responsibilities./n- The European Court of Human Rights condemns Portugal for poor prison conditions, leading to compensation payments to inmates for violating their rights to dignity and freedom./n- Portuguese Red Cross launches a 10-year project, MentoRoma, to address school dropout among gypsy children, aiming to improve educational outcomes and prevent absenteeism./n- The Portuguese government approves a compensation mechanism for landlords with pre-1990 lease contracts, aiming to address the issue of 'old rents' and support vulnerable families./n- The Lisbon Labor Court recognizes the employment relationship of an Uber Eats courier, setting a precedent for future cases and potentially improving gig workers' conditions./n- The Constitutional Court of Portugal rejects changes to the Left Bloc party statutes that would have allowed automatic suspension of members running on competing electoral lists./n- The Digital Nations Ministerial Summit in Portugal emphasizes the role of digital technologies in enhancing government efficiency and addresses the need for equal access and transparency./n- The Portuguese Parliament is set to approve a new law to regulate lobbying activities, aiming to enhance transparency and accountability in political processes./nClimate activists in Portugal demand government action on climate change, highlighting inaction and repression of protests./nPortugal faces a housing crisis, with protests demanding affordable housing and criticizing government measures as insufficient./nThe resignation of Portuguese Prime Minister António Costa amid corruption allegations raises concerns about government integrity./nPortugal's judiciary faces criticism for lack of transparency and accountability, impacting public trust and the rule of law./nThe treatment of Portuguese-Brazilian twins with an expensive drug raises questions about political influence in healthcare decisions./nPortugal's National Health Service (SNS) struggles with doctor shortages and deteriorating conditions, impacting patient care./nPortugal's education system faces challenges with teacher shortages, impacting the quality of education and teacher well-being./nThe Portuguese government's amnesty law leads to the release of inmates, highlighting issues within the justice system./nEnvironmental concerns in Portugal over lithium exploration and wind farm projects highlight the need for sustainable development and biodiversity protection./nThe Portuguese government's efforts to address domestic violence and support victims are highlighted amid rising complaints.\",\n",
       " 'Pillar 5': \"- The PSP and GNR's efforts to combat domestic violence, with an increase in complaints and arrests in 2023./n- The trial for the murder of Igor Silva, highlighting concerns about violence in sports and fan groups./n- The PSP's operation to prevent juvenile delinquency and violence in schools, addressing the rise in youth violence./n- The GNR's 'Campo Seguro 2023' operation in Beja, focusing on preventing agricultural crime and theft./n- The ongoing protests by security forces in Portugal demanding better pay and working conditions./n- The government's plan to establish 'citizen police stations' in parish councils to improve police visibility and accessibility./n- The PSP's 'Festas em Segurança' operation, targeting drivers under the influence and enforcing traffic laws./n- The GNR's efforts to detain drivers for excessive alcohol consumption, highlighting road safety concerns./n- FC Porto's disciplinary proceedings against members for disrespectful behavior at the General Assembly, reflecting issues of violence and security in sports./n- The increase in hate crimes in Portugal by 38% in 2023, indicating a rise in intolerance and discrimination.\",\n",
       " 'Pillar 6': \"Portuguese government's housing measures vetoed by President, highlighting concerns about effectiveness and lack of consensus./nInvestigation into alleged corruption and influence peddling related to lithium exploration concessions, leading to Prime Minister's resignation./nCourt of Auditors criticizes privatization of ANA to Vinci, highlighting failure to safeguard public interest and lack of transparency./nPortuguese government's efforts to regulate digital platform workers, addressing precarious work conditions and enforcing labor laws./nImplementation of Mais Habitação program to address housing crisis, despite controversy and criticism for insufficient measures./nPortuguese government's plan to privatize TAP met with opposition and concerns about transparency and national interest protection./nEnvironmentalists protest against construction projects threatening protected areas, emphasizing need for legal framework and government intervention./nPortuguese government increases loans for public housing rehabilitation, aiming to address housing crisis and improve living conditions./nInvestigation into fraudulent water analysis scheme, highlighting government's efforts to enforce regulations and protect public health./nPortuguese government's initiative to improve broadband access in rural areas, aiming to reduce digital divide and promote economic development.\",\n",
       " 'Pillar 7': \"The trial of former Economy Minister Manuel Pinho for corruption highlights concerns about the impartiality of the civil justice system./nThe resignation of Prime Minister António Costa amid corruption allegations underscores the potential for political influence in the justice system./nThe acquittal of journalists for violating judicial secrecy raises questions about freedom of expression versus judicial integrity./nThe creation of the Agency for Integration, Migrations and Asylum (AIMA) aims to address the backlog of immigration cases, improving access to justice for immigrants./nThe Portuguese Rugby Federation's (FPR) dispute with Técnico over relegation sanctions emphasizes the need for fairness in sports justice./nThe Public Ministry's error in the Operation Influencer case, misattributing a conversation to Prime Minister António Costa, highlights potential flaws in justice processes./nThe Constitutional Court's ruling on Chega's convention annulment impacts the party's legal standing and election participation, reflecting on political justice./nThe Lisbon Labor Court's ruling against TAP's collective dismissal demonstrates the justice system's role in protecting workers' rights./nThe amnesty law for young offenders, pardoning sentences up to eight years, showcases the justice system's approach to rehabilitation over punishment./nThe investigation into the treatment of Portuguese-Brazilian twins with an expensive drug at Santa Maria Hospital raises concerns about favoritism and healthcare justice.\",\n",
       " 'Pillar 8': \"Operation Influencer investigation leads to Prime Minister António Costa's resignation amid corruption allegations involving lithium and hydrogen projects./nPublic Ministry investigates Prime Minister António Costa for potential involvement in corruption and influence peddling in lithium and hydrogen projects./nSupreme Court of Justice opens investigation into Prime Minister António Costa for suspected corruption in lithium and hydrogen business deals./nPublic Ministry detains five individuals, including the Prime Minister's chief of staff, in a corruption investigation related to lithium and hydrogen projects./nEDP Case trial involves allegations of corruption, money laundering, and tax fraud against former Economy Minister Manuel Pinho and others./nOperation Praetorian targets FC Porto's Super Dragões fan group for violence and intimidation, leading to multiple arrests and seizures./nPublic Ministry admits mistake in wiretap transcription that implicated Prime Minister António Costa in corruption investigation./nPublic Ministry requests preventive detention for two defendants in Operation Influencer, accused of corruption and influence peddling./nThe European Court of Human Rights condemns Portugal for poor prison conditions, ordering compensation for inmates./nClimate activists detained by police during protests in Lisbon, raising concerns about freedom of assembly and expression./nOperation Influencer investigation leads to the resignation of Prime Minister António Costa amid allegations of corruption and undue influence in government./nThe trial of former Economy Minister Manuel Pinho, his wife, and Ricardo Salgado for corruption, money laundering, and tax fraud highlights concerns about judicial impartiality./nThe Public Ministry opens an investigation into the deaths of a pregnant woman and her baby at Guimarães Hospital, examining potential negligence or wrongdoing./nThe Constitutional Court of Portugal deliberates on the constitutionality of the law against mistreatment of companion animals, impacting animal rights protection./nThe Superior Council of the Judiciary rejects Ministry of Justice orders to expedite amnesties and pardons, asserting judicial independence./nThe Judiciary Police dismantle the largest clandestine laboratory for doping substances in Portugal, demonstrating effectiveness in combating drug-related crimes./nThe arrest of a former minister for Public Works, Álvaro Vieira Branco, on suspicion of corruption and influence peddling, raises questions about political integrity./nThe PSP's alleged excessive force and degrading treatment of climate activists during a protest prompts an urgent investigation by the Minister of Internal Affairs./nThe European Public Prosecutor's Office charges 27 defendants in a VAT fraud scheme, showcasing efforts to combat financial crimes affecting the EU's interests./nFC Porto initiates disciplinary proceedings against members for misconduct at an assembly, reflecting on internal governance and member behavior regulation.\"}"
      ]
     },
     "execution_count": 15,
     "metadata": {},
     "output_type": "execute_result"
    }
   ],
   "source": [
    "summaries"
   ]
  }
 ],
 "metadata": {
  "kernelspec": {
   "display_name": "Python 3",
   "language": "python",
   "name": "python3"
  },
  "language_info": {
   "codemirror_mode": {
    "name": "ipython",
    "version": 3
   },
   "file_extension": ".py",
   "mimetype": "text/x-python",
   "name": "python",
   "nbconvert_exporter": "python",
   "pygments_lexer": "ipython3",
   "version": "3.11.8"
  }
 },
 "nbformat": 4,
 "nbformat_minor": 2
}
