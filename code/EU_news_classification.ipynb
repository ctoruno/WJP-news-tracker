{
 "cells": [
  {
   "cell_type": "code",
   "execution_count": null,
   "metadata": {},
   "outputs": [],
   "source": [
    "import os\n",
    "from dotenv import load_dotenv\n",
    "from newsdataapi import NewsDataApiClient\n",
    "\n",
    "# Loading API KEY from environment\n",
    "load_dotenv()\n",
    "NEWSDATA_API = os.getenv(\"newsdata_api\")"
   ]
  }
 ],
 "metadata": {
  "language_info": {
   "name": "python"
  }
 },
 "nbformat": 4,
 "nbformat_minor": 2
}
