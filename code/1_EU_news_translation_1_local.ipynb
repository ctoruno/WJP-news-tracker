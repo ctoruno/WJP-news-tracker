{
  "cells": [
    {
      "cell_type": "markdown",
      "metadata": {
        "id": "Q_KoGl6lIdWp"
      },
      "source": [
        "## Step 0: Defining parameters\n",
        "Please modify the parameters as follows:\n",
        "1. `country` that you are working on.\n",
        "\n",
        "2. `mode` can be one of two values \"9to5\" or \"overnight\". Don't forget to use double quotes.\n",
        "\n",
        "Most of you will only use the \"9to5\" value. Which will tell the code to only translate 1,000 articles. This amount of articles takes between 3 and 4 hours to run. So this is ideal to use when you are in the office. Some of us (I'm looking at you DAU), will leave the code running the whole night to translate 4,000 articles every night. You are welcome to use the \"overnight\" mode if you want to finish your batch quickly (although we are not expecting you to finish it... unless you are an active member of the DAU).\n",
        "\n",
        "3. `counter_day` and `counter_night` are just a counter of how many times you have SUCESSFULLY executed the code using the \"9to5\" or the \"overnight\" mode, respectively. If this is the first time you are running the code, both counters should be zero. If you already SUCESSFULLY run the code once using the \"9to5\" mode, then counter_day should be equal to one. If the code stopped or you had an issue and the code did not finished running, then it DOES NOT count as a SUCESSFUL execution.\n",
        "\n",
        "4. `folow_up` can take two values True or False. Set it to True if you already finished a translation batch and your session is still running (and your master data is already uploaded). This way you don't need to execute all cells again, only the ones required. If this is the first time you are running this script during your current session, then set this value to False. No double quotes needed."
      ]
    },
    {
      "cell_type": "code",
      "execution_count": 254,
      "metadata": {
        "id": "j1_TPx7nIdWp"
      },
      "outputs": [],
      "source": [
        "country       = \"Hungary\"\n",
        "mode          = \"9to5\" # One of two values: \"9to5\" OR \"overnight\"\n",
        "counter_day   = 2\n",
        "counter_night = 0\n",
        "follow_up     = False\n",
        "suffix        = \"retrans\" # One of two values: \"tp\" OR \"retrans\""
      ]
    },
    {
      "cell_type": "markdown",
      "metadata": {
        "id": "w0hgduIlKQpa"
      },
      "source": [
        "## Step 1: Installing and importing required libraries"
      ]
    },
    {
      "cell_type": "code",
      "execution_count": 255,
      "metadata": {
        "colab": {
          "base_uri": "https://localhost:8080/"
        },
        "id": "ZMdJtkxrIdWn",
        "outputId": "b3f5a9df-2397-4fb9-96cd-1aff2779ba20"
      },
      "outputs": [],
      "source": [
        "# if not follow_up:\n",
        "#   !pip install nltk\n",
        "#   !pip install deep_translator"
      ]
    },
    {
      "cell_type": "code",
      "execution_count": 256,
      "metadata": {
        "colab": {
          "base_uri": "https://localhost:8080/"
        },
        "id": "QnPLZo0PIdWo",
        "outputId": "bb6a3039-d270-4af2-a31d-60a8ebb96489"
      },
      "outputs": [
        {
          "name": "stderr",
          "output_type": "stream",
          "text": [
            "[nltk_data] Downloading package punkt to\n",
            "[nltk_data]     C:\\Users\\ctoruno\\AppData\\Roaming\\nltk_data...\n",
            "[nltk_data]   Package punkt is already up-to-date!\n"
          ]
        }
      ],
      "source": [
        "if not follow_up:\n",
        "  import os\n",
        "  import pandas as pd\n",
        "  import nltk\n",
        "  from nltk.tokenize import sent_tokenize\n",
        "  from deep_translator import GoogleTranslator\n",
        "  nltk.download(\"punkt\")"
      ]
    },
    {
      "cell_type": "markdown",
      "metadata": {
        "id": "1n-XwBbtIdWq"
      },
      "source": [
        "## Step 2: Defining functions"
      ]
    },
    {
      "cell_type": "code",
      "execution_count": 257,
      "metadata": {
        "id": "a31wZN3NIdWq"
      },
      "outputs": [],
      "source": [
        "def trans2english(text, sourcelang):\n",
        "    \"\"\"\n",
        "    This functions gathers a text in a specific language and it returns its equivalent\n",
        "    in English using the Google translation engine.\n",
        "\n",
        "    Parameters:\n",
        "        text:       String. Text to translate.\n",
        "        sourcelang: String. Code of the source language you want to translate the text from.\n",
        "    \"\"\"\n",
        "    if text:\n",
        "      try:\n",
        "          sentences = sent_tokenize(text)\n",
        "          batch  = GoogleTranslator(source = sourcelang, target = \"en\").translate_batch(sentences)\n",
        "          result = \" \".join(batch)\n",
        "          return result\n",
        "      except Exception as e:\n",
        "          out = f\"Translation through API failed. Reason: {e}\"\n",
        "          return out\n",
        "    else:\n",
        "      return \"No information available. No translation performed\""
      ]
    },
    {
      "cell_type": "markdown",
      "metadata": {
        "id": "Ozdp7cU7IdWq"
      },
      "source": [
        "## Step 3: Reading the data"
      ]
    },
    {
      "cell_type": "code",
      "execution_count": 258,
      "metadata": {
        "id": "zy1BohhsIdWq"
      },
      "outputs": [],
      "source": [
        "if not follow_up:\n",
        "  master_data = pd.read_parquet(f\"../data/data-extraction-1/data4translation/{country}_{suffix}.parquet.gzip\")"
      ]
    },
    {
      "cell_type": "markdown",
      "metadata": {
        "id": "qDjy-kRAX7GQ"
      },
      "source": [
        "## Step 4: Subsetting the data"
      ]
    },
    {
      "cell_type": "code",
      "execution_count": 259,
      "metadata": {
        "id": "cQr88qa5IdWr"
      },
      "outputs": [],
      "source": [
        "batch = counter_day + counter_night + 1\n",
        "if mode == \"9to5\":\n",
        "    batch_size   = 500\n",
        "    mode_counter = counter_day\n",
        "if mode == \"overnight\":\n",
        "    batch_size   = 2000\n",
        "    mode_counter = counter_night\n",
        "\n",
        "starting_row = (counter_day*500)+(counter_night*2000)\n",
        "final_row    = starting_row+batch_size\n",
        "batch_subset = master_data.copy().iloc[starting_row:final_row]"
      ]
    },
    {
      "cell_type": "code",
      "execution_count": 260,
      "metadata": {},
      "outputs": [
        {
          "name": "stdout",
          "output_type": "stream",
          "text": [
            "1000\n",
            "1500\n",
            "(1384, 13)\n"
          ]
        }
      ],
      "source": [
        "print(starting_row)\n",
        "print(final_row)\n",
        "print(master_data.shape)"
      ]
    },
    {
      "cell_type": "code",
      "execution_count": 261,
      "metadata": {
        "colab": {
          "base_uri": "https://localhost:8080/",
          "height": 196
        },
        "id": "WXHybFhNYDIY",
        "outputId": "da6427fb-b788-42a4-aa7a-ed6be99f6eb4"
      },
      "outputs": [
        {
          "data": {
            "text/html": [
              "<div>\n",
              "<style scoped>\n",
              "    .dataframe tbody tr th:only-of-type {\n",
              "        vertical-align: middle;\n",
              "    }\n",
              "\n",
              "    .dataframe tbody tr th {\n",
              "        vertical-align: top;\n",
              "    }\n",
              "\n",
              "    .dataframe thead th {\n",
              "        text-align: right;\n",
              "    }\n",
              "</style>\n",
              "<table border=\"1\" class=\"dataframe\">\n",
              "  <thead>\n",
              "    <tr style=\"text-align: right;\">\n",
              "      <th></th>\n",
              "      <th>id</th>\n",
              "      <th>link</th>\n",
              "      <th>domain_url</th>\n",
              "      <th>published_date</th>\n",
              "      <th>title</th>\n",
              "      <th>description</th>\n",
              "      <th>content</th>\n",
              "      <th>language</th>\n",
              "      <th>is_opinion</th>\n",
              "      <th>country</th>\n",
              "      <th>title_trans</th>\n",
              "      <th>description_trans</th>\n",
              "      <th>content_trans</th>\n",
              "    </tr>\n",
              "  </thead>\n",
              "  <tbody>\n",
              "    <tr>\n",
              "      <th>958</th>\n",
              "      <td>4996577cb7214d7a6ebf5bac1515acfe</td>\n",
              "      <td>https://magyarnemzet.hu/kultura/2023/10/fekete...</td>\n",
              "      <td>magyarnemzet.hu</td>\n",
              "      <td>2023-10-24 03:17:00</td>\n",
              "      <td>Fekete Péter rangos cirkuszszakmai konferenciá...</td>\n",
              "      <td>A Kínai Wuqiao Nemzetközi Cirkuszfesztivál rés...</td>\n",
              "      <td>– Rendkívüli megtiszteltetés számomra, hogy ez...</td>\n",
              "      <td>hu</td>\n",
              "      <td>False</td>\n",
              "      <td>Hungary</td>\n",
              "      <td>Translation through API failed. Reason: HTTPSC...</td>\n",
              "      <td>Translation through API failed. Reason: HTTPSC...</td>\n",
              "      <td>Translation through API failed. Reason: HTTPSC...</td>\n",
              "    </tr>\n",
              "    <tr>\n",
              "      <th>962</th>\n",
              "      <td>477268131d6659639360b80814fe37a9</td>\n",
              "      <td>https://magyarnemzet.hu/belfold/2023/10/uj-kin...</td>\n",
              "      <td>magyarnemzet.hu</td>\n",
              "      <td>2023-10-23 14:43:15</td>\n",
              "      <td>Új kínai autógyár szemelte ki hazánkat?</td>\n",
              "      <td>A világ legnagyobb elektromos autógyártójára é...</td>\n",
              "      <td>A BYD már nem számít ismeretlen márkának Magya...</td>\n",
              "      <td>hu</td>\n",
              "      <td>False</td>\n",
              "      <td>Hungary</td>\n",
              "      <td>Translation through API failed. Reason: HTTPSC...</td>\n",
              "      <td>Translation through API failed. Reason: HTTPSC...</td>\n",
              "      <td>Translation through API failed. Reason: HTTPSC...</td>\n",
              "    </tr>\n",
              "    <tr>\n",
              "      <th>970</th>\n",
              "      <td>962ce24c93d247fcbf93cbee2e12b381</td>\n",
              "      <td>https://magyarnemzet.hu/belfold/2023/10/gondoz...</td>\n",
              "      <td>magyarnemzet.hu</td>\n",
              "      <td>2023-10-22 19:02:11</td>\n",
              "      <td>Gondozatlan fővárosi temetők: Mártha Imréék el...</td>\n",
              "      <td>Egy nyilatkozatból kiderült, hogy bár közeledi...</td>\n",
              "      <td>Ahogyan arról a \\nMagyar Nemzet\\n is beszámolt...</td>\n",
              "      <td>hu</td>\n",
              "      <td>False</td>\n",
              "      <td>Hungary</td>\n",
              "      <td>Translation through API failed. Reason: HTTPSC...</td>\n",
              "      <td>Translation through API failed. Reason: HTTPSC...</td>\n",
              "      <td>Translation through API failed. Reason: HTTPSC...</td>\n",
              "    </tr>\n",
              "  </tbody>\n",
              "</table>\n",
              "</div>"
            ],
            "text/plain": [
              "                                   id  \\\n",
              "958  4996577cb7214d7a6ebf5bac1515acfe   \n",
              "962  477268131d6659639360b80814fe37a9   \n",
              "970  962ce24c93d247fcbf93cbee2e12b381   \n",
              "\n",
              "                                                  link       domain_url  \\\n",
              "958  https://magyarnemzet.hu/kultura/2023/10/fekete...  magyarnemzet.hu   \n",
              "962  https://magyarnemzet.hu/belfold/2023/10/uj-kin...  magyarnemzet.hu   \n",
              "970  https://magyarnemzet.hu/belfold/2023/10/gondoz...  magyarnemzet.hu   \n",
              "\n",
              "          published_date                                              title  \\\n",
              "958  2023-10-24 03:17:00  Fekete Péter rangos cirkuszszakmai konferenciá...   \n",
              "962  2023-10-23 14:43:15            Új kínai autógyár szemelte ki hazánkat?   \n",
              "970  2023-10-22 19:02:11  Gondozatlan fővárosi temetők: Mártha Imréék el...   \n",
              "\n",
              "                                           description  \\\n",
              "958  A Kínai Wuqiao Nemzetközi Cirkuszfesztivál rés...   \n",
              "962  A világ legnagyobb elektromos autógyártójára é...   \n",
              "970  Egy nyilatkozatból kiderült, hogy bár közeledi...   \n",
              "\n",
              "                                               content language  is_opinion  \\\n",
              "958  – Rendkívüli megtiszteltetés számomra, hogy ez...       hu       False   \n",
              "962  A BYD már nem számít ismeretlen márkának Magya...       hu       False   \n",
              "970  Ahogyan arról a \\nMagyar Nemzet\\n is beszámolt...       hu       False   \n",
              "\n",
              "     country                                        title_trans  \\\n",
              "958  Hungary  Translation through API failed. Reason: HTTPSC...   \n",
              "962  Hungary  Translation through API failed. Reason: HTTPSC...   \n",
              "970  Hungary  Translation through API failed. Reason: HTTPSC...   \n",
              "\n",
              "                                     description_trans  \\\n",
              "958  Translation through API failed. Reason: HTTPSC...   \n",
              "962  Translation through API failed. Reason: HTTPSC...   \n",
              "970  Translation through API failed. Reason: HTTPSC...   \n",
              "\n",
              "                                         content_trans  \n",
              "958  Translation through API failed. Reason: HTTPSC...  \n",
              "962  Translation through API failed. Reason: HTTPSC...  \n",
              "970  Translation through API failed. Reason: HTTPSC...  "
            ]
          },
          "execution_count": 261,
          "metadata": {},
          "output_type": "execute_result"
        }
      ],
      "source": [
        "batch_subset.head(3)"
      ]
    },
    {
      "cell_type": "markdown",
      "metadata": {
        "id": "JHtO08cqIdWr"
      },
      "source": [
        "## Step 5: Translating headline, description, and content"
      ]
    },
    {
      "cell_type": "code",
      "execution_count": 262,
      "metadata": {
        "id": "31GrWpbdIdWr"
      },
      "outputs": [],
      "source": [
        "batch_subset[[\"title_trans\", \"description_trans\", \"content_trans\"]] = batch_subset.apply(\n",
        "    lambda row: row[[\"title\", \"description\", \"content\"]].apply(lambda x: trans2english(text = x, sourcelang = row[\"language\"])),\n",
        "    axis = 1\n",
        ")"
      ]
    },
    {
      "cell_type": "markdown",
      "metadata": {
        "id": "Eu2HoLgVIdWr"
      },
      "source": [
        "## Step 6: Saving batch data"
      ]
    },
    {
      "cell_type": "code",
      "execution_count": 263,
      "metadata": {
        "id": "Pv9BG9qXIdWr"
      },
      "outputs": [],
      "source": [
        "batch_subset.to_parquet(f\"/users/ctoruno/Downloads/{country}_batch_{batch}_{mode}_{mode_counter}.parquet.gzip\", compression = \"gzip\")"
      ]
    },
    {
      "cell_type": "code",
      "execution_count": 264,
      "metadata": {},
      "outputs": [
        {
          "data": {
            "text/plain": [
              "content_trans\n",
              "False    381\n",
              "True       3\n",
              "Name: count, dtype: int64"
            ]
          },
          "execution_count": 264,
          "metadata": {},
          "output_type": "execute_result"
        }
      ],
      "source": [
        "batch_subset[\"content_trans\"].str.contains(\"API\").value_counts()"
      ]
    }
  ],
  "metadata": {
    "colab": {
      "provenance": []
    },
    "kernelspec": {
      "display_name": "Python 3",
      "language": "python",
      "name": "python3"
    },
    "language_info": {
      "codemirror_mode": {
        "name": "ipython",
        "version": 3
      },
      "file_extension": ".py",
      "mimetype": "text/x-python",
      "name": "python",
      "nbconvert_exporter": "python",
      "pygments_lexer": "ipython3",
      "version": "3.11.8"
    }
  },
  "nbformat": 4,
  "nbformat_minor": 0
}
