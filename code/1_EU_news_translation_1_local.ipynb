{
  "cells": [
    {
      "cell_type": "markdown",
      "metadata": {
        "id": "Q_KoGl6lIdWp"
      },
      "source": [
        "## Step 0: Defining parameters\n",
        "Please modify the parameters as follows:\n",
        "1. `country` that you are working on.\n",
        "\n",
        "2. `mode` can be one of two values \"9to5\" or \"overnight\". Don't forget to use double quotes.\n",
        "\n",
        "Most of you will only use the \"9to5\" value. Which will tell the code to only translate 1,000 articles. This amount of articles takes between 3 and 4 hours to run. So this is ideal to use when you are in the office. Some of us (I'm looking at you DAU), will leave the code running the whole night to translate 4,000 articles every night. You are welcome to use the \"overnight\" mode if you want to finish your batch quickly (although we are not expecting you to finish it... unless you are an active member of the DAU).\n",
        "\n",
        "3. `counter_day` and `counter_night` are just a counter of how many times you have SUCESSFULLY executed the code using the \"9to5\" or the \"overnight\" mode, respectively. If this is the first time you are running the code, both counters should be zero. If you already SUCESSFULLY run the code once using the \"9to5\" mode, then counter_day should be equal to one. If the code stopped or you had an issue and the code did not finished running, then it DOES NOT count as a SUCESSFUL execution.\n",
        "\n",
        "4. `folow_up` can take two values True or False. Set it to True if you already finished a translation batch and your session is still running (and your master data is already uploaded). This way you don't need to execute all cells again, only the ones required. If this is the first time you are running this script during your current session, then set this value to False. No double quotes needed."
      ]
    },
    {
      "cell_type": "code",
      "execution_count": 115,
      "metadata": {
        "id": "j1_TPx7nIdWp"
      },
      "outputs": [],
      "source": [
        "country       = \"Luxembourg\"\n",
        "mode          = \"9to5\" # One of two values: \"9to5\" OR \"overnight\"\n",
        "counter_day   = 1\n",
        "counter_night = 0\n",
        "follow_up     = True\n",
        "suffix        = \"retrans\" # One of two values: \"tp\" OR \"retrans\"\n"
      ]
    },
    {
      "cell_type": "markdown",
      "metadata": {
        "id": "w0hgduIlKQpa"
      },
      "source": [
        "## Step 1: Installing and importing required libraries"
      ]
    },
    {
      "cell_type": "code",
      "execution_count": 105,
      "metadata": {
        "colab": {
          "base_uri": "https://localhost:8080/"
        },
        "id": "ZMdJtkxrIdWn",
        "outputId": "b3f5a9df-2397-4fb9-96cd-1aff2779ba20"
      },
      "outputs": [
        {
          "name": "stdout",
          "output_type": "stream",
          "text": [
            "Requirement already satisfied: nltk in c:\\users\\ctoruno\\appdata\\local\\packages\\pythonsoftwarefoundation.python.3.11_qbz5n2kfra8p0\\localcache\\local-packages\\python311\\site-packages (3.8.1)\n",
            "Requirement already satisfied: click in c:\\users\\ctoruno\\appdata\\local\\packages\\pythonsoftwarefoundation.python.3.11_qbz5n2kfra8p0\\localcache\\local-packages\\python311\\site-packages (from nltk) (8.1.7)\n",
            "Requirement already satisfied: joblib in c:\\users\\ctoruno\\appdata\\local\\packages\\pythonsoftwarefoundation.python.3.11_qbz5n2kfra8p0\\localcache\\local-packages\\python311\\site-packages (from nltk) (1.3.2)\n",
            "Requirement already satisfied: regex>=2021.8.3 in c:\\users\\ctoruno\\appdata\\local\\packages\\pythonsoftwarefoundation.python.3.11_qbz5n2kfra8p0\\localcache\\local-packages\\python311\\site-packages (from nltk) (2023.10.3)\n",
            "Requirement already satisfied: tqdm in c:\\users\\ctoruno\\appdata\\local\\packages\\pythonsoftwarefoundation.python.3.11_qbz5n2kfra8p0\\localcache\\local-packages\\python311\\site-packages (from nltk) (4.66.1)\n",
            "Requirement already satisfied: colorama in c:\\users\\ctoruno\\appdata\\local\\packages\\pythonsoftwarefoundation.python.3.11_qbz5n2kfra8p0\\localcache\\local-packages\\python311\\site-packages (from click->nltk) (0.4.6)\n",
            "Requirement already satisfied: deep_translator in c:\\users\\ctoruno\\appdata\\local\\packages\\pythonsoftwarefoundation.python.3.11_qbz5n2kfra8p0\\localcache\\local-packages\\python311\\site-packages (1.11.4)\n",
            "Requirement already satisfied: beautifulsoup4<5.0.0,>=4.9.1 in c:\\users\\ctoruno\\appdata\\local\\packages\\pythonsoftwarefoundation.python.3.11_qbz5n2kfra8p0\\localcache\\local-packages\\python311\\site-packages (from deep_translator) (4.12.2)\n",
            "Requirement already satisfied: requests<3.0.0,>=2.23.0 in c:\\users\\ctoruno\\appdata\\local\\packages\\pythonsoftwarefoundation.python.3.11_qbz5n2kfra8p0\\localcache\\local-packages\\python311\\site-packages (from deep_translator) (2.31.0)\n",
            "Requirement already satisfied: soupsieve>1.2 in c:\\users\\ctoruno\\appdata\\local\\packages\\pythonsoftwarefoundation.python.3.11_qbz5n2kfra8p0\\localcache\\local-packages\\python311\\site-packages (from beautifulsoup4<5.0.0,>=4.9.1->deep_translator) (2.5)\n",
            "Requirement already satisfied: charset-normalizer<4,>=2 in c:\\users\\ctoruno\\appdata\\local\\packages\\pythonsoftwarefoundation.python.3.11_qbz5n2kfra8p0\\localcache\\local-packages\\python311\\site-packages (from requests<3.0.0,>=2.23.0->deep_translator) (3.2.0)\n",
            "Requirement already satisfied: idna<4,>=2.5 in c:\\users\\ctoruno\\appdata\\local\\packages\\pythonsoftwarefoundation.python.3.11_qbz5n2kfra8p0\\localcache\\local-packages\\python311\\site-packages (from requests<3.0.0,>=2.23.0->deep_translator) (3.4)\n",
            "Requirement already satisfied: urllib3<3,>=1.21.1 in c:\\users\\ctoruno\\appdata\\local\\packages\\pythonsoftwarefoundation.python.3.11_qbz5n2kfra8p0\\localcache\\local-packages\\python311\\site-packages (from requests<3.0.0,>=2.23.0->deep_translator) (2.0.4)\n",
            "Requirement already satisfied: certifi>=2017.4.17 in c:\\users\\ctoruno\\appdata\\local\\packages\\pythonsoftwarefoundation.python.3.11_qbz5n2kfra8p0\\localcache\\local-packages\\python311\\site-packages (from requests<3.0.0,>=2.23.0->deep_translator) (2023.7.22)\n"
          ]
        }
      ],
      "source": [
        "if not follow_up:\n",
        "  !pip install nltk\n",
        "  !pip install deep_translator"
      ]
    },
    {
      "cell_type": "code",
      "execution_count": 106,
      "metadata": {
        "colab": {
          "base_uri": "https://localhost:8080/"
        },
        "id": "QnPLZo0PIdWo",
        "outputId": "bb6a3039-d270-4af2-a31d-60a8ebb96489"
      },
      "outputs": [
        {
          "name": "stderr",
          "output_type": "stream",
          "text": [
            "[nltk_data] Downloading package punkt to\n",
            "[nltk_data]     C:\\Users\\ctoruno\\AppData\\Roaming\\nltk_data...\n",
            "[nltk_data]   Package punkt is already up-to-date!\n"
          ]
        }
      ],
      "source": [
        "if not follow_up:\n",
        "  import os\n",
        "  import pandas as pd\n",
        "  import nltk\n",
        "  from nltk.tokenize import sent_tokenize\n",
        "  from deep_translator import GoogleTranslator\n",
        "  nltk.download(\"punkt\")"
      ]
    },
    {
      "cell_type": "markdown",
      "metadata": {
        "id": "1n-XwBbtIdWq"
      },
      "source": [
        "## Step 2: Defining functions"
      ]
    },
    {
      "cell_type": "code",
      "execution_count": 107,
      "metadata": {
        "id": "a31wZN3NIdWq"
      },
      "outputs": [],
      "source": [
        "def trans2english(text, sourcelang):\n",
        "    \"\"\"\n",
        "    This functions gathers a text in a specific language and it returns its equivalent\n",
        "    in English using the Google translation engine.\n",
        "\n",
        "    Parameters:\n",
        "        text:       String. Text to translate.\n",
        "        sourcelang: String. Code of the source language you want to translate the text from.\n",
        "    \"\"\"\n",
        "    if text:\n",
        "      try:\n",
        "          sentences = sent_tokenize(text)\n",
        "          batch  = GoogleTranslator(source = sourcelang, target = \"en\").translate_batch(sentences)\n",
        "          result = \" \".join(batch)\n",
        "          return result\n",
        "      except Exception as e:\n",
        "          out = f\"Translation through API failed. Reason: {e}\"\n",
        "          return out\n",
        "    else:\n",
        "      return \"No information available. No translation performed\""
      ]
    },
    {
      "cell_type": "markdown",
      "metadata": {
        "id": "Ozdp7cU7IdWq"
      },
      "source": [
        "## Step 3: Reading the data"
      ]
    },
    {
      "cell_type": "code",
      "execution_count": 108,
      "metadata": {
        "id": "zy1BohhsIdWq"
      },
      "outputs": [],
      "source": [
        "if not follow_up:\n",
        "  master_data = pd.read_parquet(f\"../data/data-extraction-1/data4translation/{country}_{suffix}.parquet.gzip\")"
      ]
    },
    {
      "cell_type": "markdown",
      "metadata": {
        "id": "qDjy-kRAX7GQ"
      },
      "source": [
        "## Step 4: Subsetting the data"
      ]
    },
    {
      "cell_type": "code",
      "execution_count": 109,
      "metadata": {
        "id": "cQr88qa5IdWr"
      },
      "outputs": [],
      "source": [
        "batch = counter_day + counter_night + 1\n",
        "if mode == \"9to5\":\n",
        "    batch_size   = 500\n",
        "    mode_counter = counter_day\n",
        "if mode == \"overnight\":\n",
        "    batch_size   = 2000\n",
        "    mode_counter = counter_night\n",
        "\n",
        "starting_row = (counter_day*500)+(counter_night*2000)\n",
        "final_row    = starting_row+batch_size\n",
        "batch_subset = master_data.copy().iloc[starting_row:final_row]"
      ]
    },
    {
      "cell_type": "code",
      "execution_count": 110,
      "metadata": {
        "colab": {
          "base_uri": "https://localhost:8080/",
          "height": 196
        },
        "id": "WXHybFhNYDIY",
        "outputId": "da6427fb-b788-42a4-aa7a-ed6be99f6eb4"
      },
      "outputs": [
        {
          "data": {
            "text/html": [
              "<div>\n",
              "<style scoped>\n",
              "    .dataframe tbody tr th:only-of-type {\n",
              "        vertical-align: middle;\n",
              "    }\n",
              "\n",
              "    .dataframe tbody tr th {\n",
              "        vertical-align: top;\n",
              "    }\n",
              "\n",
              "    .dataframe thead th {\n",
              "        text-align: right;\n",
              "    }\n",
              "</style>\n",
              "<table border=\"1\" class=\"dataframe\">\n",
              "  <thead>\n",
              "    <tr style=\"text-align: right;\">\n",
              "      <th></th>\n",
              "      <th>id</th>\n",
              "      <th>link</th>\n",
              "      <th>domain_url</th>\n",
              "      <th>published_date</th>\n",
              "      <th>title</th>\n",
              "      <th>description</th>\n",
              "      <th>content</th>\n",
              "      <th>language</th>\n",
              "      <th>is_opinion</th>\n",
              "      <th>country</th>\n",
              "      <th>title_trans</th>\n",
              "      <th>description_trans</th>\n",
              "      <th>content_trans</th>\n",
              "    </tr>\n",
              "  </thead>\n",
              "  <tbody>\n",
              "    <tr>\n",
              "      <th>384</th>\n",
              "      <td>8ef63439d2d22bac9de591e10f68edc8</td>\n",
              "      <td>https://lequotidien.lu/a-la-une/le-luxembourg-...</td>\n",
              "      <td>lequotidien.lu</td>\n",
              "      <td>2024-02-07 16:46:43</td>\n",
              "      <td>Le Luxembourg au Laos : «Ce projet a changé no...</td>\n",
              "      <td>Ils ne sont situés qu'à une trentaine de kilom...</td>\n",
              "      <td>Ils ne sont situés qu'à une trentaine de kilom...</td>\n",
              "      <td>fr</td>\n",
              "      <td>False</td>\n",
              "      <td>Luxembourg</td>\n",
              "      <td>Luxembourg in Laos: “This project has changed ...</td>\n",
              "      <td>They are only located about thirty kilometers ...</td>\n",
              "      <td>Translation through API failed. Reason: HTTPSC...</td>\n",
              "    </tr>\n",
              "    <tr>\n",
              "      <th>385</th>\n",
              "      <td>9e79ce3944616c2f1a2981a4c2c780f7</td>\n",
              "      <td>https://lequotidien.lu/economie/totalenergies-...</td>\n",
              "      <td>lequotidien.lu</td>\n",
              "      <td>2024-02-07 11:30:03</td>\n",
              "      <td>TotalEnergies dégage un nouveau bénéfice recor...</td>\n",
              "      <td>Après une année 2022 historique, le français T...</td>\n",
              "      <td>La 4e major mondiale a amélioré son bénéfice n...</td>\n",
              "      <td>fr</td>\n",
              "      <td>False</td>\n",
              "      <td>Luxembourg</td>\n",
              "      <td>Translation through API failed. Reason: HTTPSC...</td>\n",
              "      <td>Translation through API failed. Reason: HTTPSC...</td>\n",
              "      <td>Translation through API failed. Reason: HTTPSC...</td>\n",
              "    </tr>\n",
              "    <tr>\n",
              "      <th>386</th>\n",
              "      <td>b7a023517bf6cfd8b2c51ee4f3a551a0</td>\n",
              "      <td>https://lequotidien.lu/sport-national/basket-d...</td>\n",
              "      <td>lequotidien.lu</td>\n",
              "      <td>2024-02-07 05:00:57</td>\n",
              "      <td>[Basket] Delgado n'a plus de temps à perdre</td>\n",
              "      <td>Tous les observateurs disent de lui que c'est ...</td>\n",
              "      <td>Tous les observateurs disent de lui que c'est ...</td>\n",
              "      <td>fr</td>\n",
              "      <td>False</td>\n",
              "      <td>Luxembourg</td>\n",
              "      <td>Translation through API failed. Reason: HTTPSC...</td>\n",
              "      <td>Translation through API failed. Reason: HTTPSC...</td>\n",
              "      <td>Translation through API failed. Reason: HTTPSC...</td>\n",
              "    </tr>\n",
              "  </tbody>\n",
              "</table>\n",
              "</div>"
            ],
            "text/plain": [
              "                                   id  \\\n",
              "384  8ef63439d2d22bac9de591e10f68edc8   \n",
              "385  9e79ce3944616c2f1a2981a4c2c780f7   \n",
              "386  b7a023517bf6cfd8b2c51ee4f3a551a0   \n",
              "\n",
              "                                                  link      domain_url  \\\n",
              "384  https://lequotidien.lu/a-la-une/le-luxembourg-...  lequotidien.lu   \n",
              "385  https://lequotidien.lu/economie/totalenergies-...  lequotidien.lu   \n",
              "386  https://lequotidien.lu/sport-national/basket-d...  lequotidien.lu   \n",
              "\n",
              "          published_date                                              title  \\\n",
              "384  2024-02-07 16:46:43  Le Luxembourg au Laos : «Ce projet a changé no...   \n",
              "385  2024-02-07 11:30:03  TotalEnergies dégage un nouveau bénéfice recor...   \n",
              "386  2024-02-07 05:00:57        [Basket] Delgado n'a plus de temps à perdre   \n",
              "\n",
              "                                           description  \\\n",
              "384  Ils ne sont situés qu'à une trentaine de kilom...   \n",
              "385  Après une année 2022 historique, le français T...   \n",
              "386  Tous les observateurs disent de lui que c'est ...   \n",
              "\n",
              "                                               content language  is_opinion  \\\n",
              "384  Ils ne sont situés qu'à une trentaine de kilom...       fr       False   \n",
              "385  La 4e major mondiale a amélioré son bénéfice n...       fr       False   \n",
              "386  Tous les observateurs disent de lui que c'est ...       fr       False   \n",
              "\n",
              "        country                                        title_trans  \\\n",
              "384  Luxembourg  Luxembourg in Laos: “This project has changed ...   \n",
              "385  Luxembourg  Translation through API failed. Reason: HTTPSC...   \n",
              "386  Luxembourg  Translation through API failed. Reason: HTTPSC...   \n",
              "\n",
              "                                     description_trans  \\\n",
              "384  They are only located about thirty kilometers ...   \n",
              "385  Translation through API failed. Reason: HTTPSC...   \n",
              "386  Translation through API failed. Reason: HTTPSC...   \n",
              "\n",
              "                                         content_trans  \n",
              "384  Translation through API failed. Reason: HTTPSC...  \n",
              "385  Translation through API failed. Reason: HTTPSC...  \n",
              "386  Translation through API failed. Reason: HTTPSC...  "
            ]
          },
          "execution_count": 110,
          "metadata": {},
          "output_type": "execute_result"
        }
      ],
      "source": [
        "batch_subset.head(3)"
      ]
    },
    {
      "cell_type": "markdown",
      "metadata": {
        "id": "JHtO08cqIdWr"
      },
      "source": [
        "## Step 5: Translating headline, description, and content"
      ]
    },
    {
      "cell_type": "code",
      "execution_count": 111,
      "metadata": {
        "id": "31GrWpbdIdWr"
      },
      "outputs": [],
      "source": [
        "batch_subset[[\"title_trans\", \"description_trans\", \"content_trans\"]] = batch_subset.apply(\n",
        "    lambda row: row[[\"title\", \"description\", \"content\"]].apply(lambda x: trans2english(text = x, sourcelang = row[\"language\"])),\n",
        "    axis = 1\n",
        ")"
      ]
    },
    {
      "cell_type": "markdown",
      "metadata": {
        "id": "Eu2HoLgVIdWr"
      },
      "source": [
        "## Step 6: Saving batch data"
      ]
    },
    {
      "cell_type": "code",
      "execution_count": 112,
      "metadata": {
        "id": "Pv9BG9qXIdWr"
      },
      "outputs": [],
      "source": [
        "batch_subset.to_parquet(f\"/users/ctoruno/Downloads/{country}_batch_{batch}_{mode}_{mode_counter}.parquet.gzip\", compression = \"gzip\")"
      ]
    },
    {
      "cell_type": "code",
      "execution_count": 113,
      "metadata": {},
      "outputs": [
        {
          "data": {
            "text/html": [
              "<div>\n",
              "<style scoped>\n",
              "    .dataframe tbody tr th:only-of-type {\n",
              "        vertical-align: middle;\n",
              "    }\n",
              "\n",
              "    .dataframe tbody tr th {\n",
              "        vertical-align: top;\n",
              "    }\n",
              "\n",
              "    .dataframe thead th {\n",
              "        text-align: right;\n",
              "    }\n",
              "</style>\n",
              "<table border=\"1\" class=\"dataframe\">\n",
              "  <thead>\n",
              "    <tr style=\"text-align: right;\">\n",
              "      <th></th>\n",
              "      <th>id</th>\n",
              "      <th>link</th>\n",
              "      <th>domain_url</th>\n",
              "      <th>published_date</th>\n",
              "      <th>title</th>\n",
              "      <th>description</th>\n",
              "      <th>content</th>\n",
              "      <th>language</th>\n",
              "      <th>is_opinion</th>\n",
              "      <th>country</th>\n",
              "      <th>title_trans</th>\n",
              "      <th>description_trans</th>\n",
              "      <th>content_trans</th>\n",
              "    </tr>\n",
              "  </thead>\n",
              "  <tbody>\n",
              "    <tr>\n",
              "      <th>384</th>\n",
              "      <td>8ef63439d2d22bac9de591e10f68edc8</td>\n",
              "      <td>https://lequotidien.lu/a-la-une/le-luxembourg-...</td>\n",
              "      <td>lequotidien.lu</td>\n",
              "      <td>2024-02-07 16:46:43</td>\n",
              "      <td>Le Luxembourg au Laos : «Ce projet a changé no...</td>\n",
              "      <td>Ils ne sont situés qu'à une trentaine de kilom...</td>\n",
              "      <td>Ils ne sont situés qu'à une trentaine de kilom...</td>\n",
              "      <td>fr</td>\n",
              "      <td>False</td>\n",
              "      <td>Luxembourg</td>\n",
              "      <td>Luxembourg in Laos: “This project has changed ...</td>\n",
              "      <td>They are only located about thirty kilometers ...</td>\n",
              "      <td>They are only located about thirty kilometers ...</td>\n",
              "    </tr>\n",
              "    <tr>\n",
              "      <th>385</th>\n",
              "      <td>9e79ce3944616c2f1a2981a4c2c780f7</td>\n",
              "      <td>https://lequotidien.lu/economie/totalenergies-...</td>\n",
              "      <td>lequotidien.lu</td>\n",
              "      <td>2024-02-07 11:30:03</td>\n",
              "      <td>TotalEnergies dégage un nouveau bénéfice recor...</td>\n",
              "      <td>Après une année 2022 historique, le français T...</td>\n",
              "      <td>La 4e major mondiale a amélioré son bénéfice n...</td>\n",
              "      <td>fr</td>\n",
              "      <td>False</td>\n",
              "      <td>Luxembourg</td>\n",
              "      <td>TotalEnergies posts new record profit in 2023</td>\n",
              "      <td>After a historic year 2022, French company Tot...</td>\n",
              "      <td>The 4th largest global major improved its net ...</td>\n",
              "    </tr>\n",
              "    <tr>\n",
              "      <th>386</th>\n",
              "      <td>b7a023517bf6cfd8b2c51ee4f3a551a0</td>\n",
              "      <td>https://lequotidien.lu/sport-national/basket-d...</td>\n",
              "      <td>lequotidien.lu</td>\n",
              "      <td>2024-02-07 05:00:57</td>\n",
              "      <td>[Basket] Delgado n'a plus de temps à perdre</td>\n",
              "      <td>Tous les observateurs disent de lui que c'est ...</td>\n",
              "      <td>Tous les observateurs disent de lui que c'est ...</td>\n",
              "      <td>fr</td>\n",
              "      <td>False</td>\n",
              "      <td>Luxembourg</td>\n",
              "      <td>[Basketball] Delgado has no more time to waste</td>\n",
              "      <td>All observers say that he is undoubtedly one o...</td>\n",
              "      <td>All observers say that he is undoubtedly one o...</td>\n",
              "    </tr>\n",
              "    <tr>\n",
              "      <th>387</th>\n",
              "      <td>7ca16dd748dae9faf097fc6d46cdbd4c</td>\n",
              "      <td>https://lequotidien.lu/a-la-une/omnisports-geo...</td>\n",
              "      <td>lequotidien.lu</td>\n",
              "      <td>2024-02-07 05:00:49</td>\n",
              "      <td>[Omnisports] Georges Mischo : «On est sur le b...</td>\n",
              "      <td>C'est à l'INS, hier en fin de matinée, que Geo...</td>\n",
              "      <td>C'est à l'INS, hier en fin de matinée, que Geo...</td>\n",
              "      <td>fr</td>\n",
              "      <td>False</td>\n",
              "      <td>Luxembourg</td>\n",
              "      <td>[Omnisports] Georges Mischo: “We are on the ri...</td>\n",
              "      <td>It was at the INS, late yesterday morning, tha...</td>\n",
              "      <td>It was at the INS, late yesterday morning, tha...</td>\n",
              "    </tr>\n",
              "    <tr>\n",
              "      <th>388</th>\n",
              "      <td>2653f429c9f8eae273fb0a0bdd7be309</td>\n",
              "      <td>https://lequotidien.lu/monde/surete-nucleaire-...</td>\n",
              "      <td>lequotidien.lu</td>\n",
              "      <td>2024-02-07 00:00:00</td>\n",
              "      <td>Sûreté nucléaire en France : un projet de réfo...</td>\n",
              "      <td>Fusionner l'ASN, gendarme du nucléaire, avec l...</td>\n",
              "      <td>Décidé dans le huis clos d'un conseil de polit...</td>\n",
              "      <td>fr</td>\n",
              "      <td>False</td>\n",
              "      <td>Luxembourg</td>\n",
              "      <td>Nuclear safety in France: a contested reform p...</td>\n",
              "      <td>Merge ASN, nuclear policeman, with IRSN, safet...</td>\n",
              "      <td>Decided behind the closed doors of a nuclear p...</td>\n",
              "    </tr>\n",
              "  </tbody>\n",
              "</table>\n",
              "</div>"
            ],
            "text/plain": [
              "                                   id  \\\n",
              "384  8ef63439d2d22bac9de591e10f68edc8   \n",
              "385  9e79ce3944616c2f1a2981a4c2c780f7   \n",
              "386  b7a023517bf6cfd8b2c51ee4f3a551a0   \n",
              "387  7ca16dd748dae9faf097fc6d46cdbd4c   \n",
              "388  2653f429c9f8eae273fb0a0bdd7be309   \n",
              "\n",
              "                                                  link      domain_url  \\\n",
              "384  https://lequotidien.lu/a-la-une/le-luxembourg-...  lequotidien.lu   \n",
              "385  https://lequotidien.lu/economie/totalenergies-...  lequotidien.lu   \n",
              "386  https://lequotidien.lu/sport-national/basket-d...  lequotidien.lu   \n",
              "387  https://lequotidien.lu/a-la-une/omnisports-geo...  lequotidien.lu   \n",
              "388  https://lequotidien.lu/monde/surete-nucleaire-...  lequotidien.lu   \n",
              "\n",
              "          published_date                                              title  \\\n",
              "384  2024-02-07 16:46:43  Le Luxembourg au Laos : «Ce projet a changé no...   \n",
              "385  2024-02-07 11:30:03  TotalEnergies dégage un nouveau bénéfice recor...   \n",
              "386  2024-02-07 05:00:57        [Basket] Delgado n'a plus de temps à perdre   \n",
              "387  2024-02-07 05:00:49  [Omnisports] Georges Mischo : «On est sur le b...   \n",
              "388  2024-02-07 00:00:00  Sûreté nucléaire en France : un projet de réfo...   \n",
              "\n",
              "                                           description  \\\n",
              "384  Ils ne sont situés qu'à une trentaine de kilom...   \n",
              "385  Après une année 2022 historique, le français T...   \n",
              "386  Tous les observateurs disent de lui que c'est ...   \n",
              "387  C'est à l'INS, hier en fin de matinée, que Geo...   \n",
              "388  Fusionner l'ASN, gendarme du nucléaire, avec l...   \n",
              "\n",
              "                                               content language  is_opinion  \\\n",
              "384  Ils ne sont situés qu'à une trentaine de kilom...       fr       False   \n",
              "385  La 4e major mondiale a amélioré son bénéfice n...       fr       False   \n",
              "386  Tous les observateurs disent de lui que c'est ...       fr       False   \n",
              "387  C'est à l'INS, hier en fin de matinée, que Geo...       fr       False   \n",
              "388  Décidé dans le huis clos d'un conseil de polit...       fr       False   \n",
              "\n",
              "        country                                        title_trans  \\\n",
              "384  Luxembourg  Luxembourg in Laos: “This project has changed ...   \n",
              "385  Luxembourg      TotalEnergies posts new record profit in 2023   \n",
              "386  Luxembourg     [Basketball] Delgado has no more time to waste   \n",
              "387  Luxembourg  [Omnisports] Georges Mischo: “We are on the ri...   \n",
              "388  Luxembourg  Nuclear safety in France: a contested reform p...   \n",
              "\n",
              "                                     description_trans  \\\n",
              "384  They are only located about thirty kilometers ...   \n",
              "385  After a historic year 2022, French company Tot...   \n",
              "386  All observers say that he is undoubtedly one o...   \n",
              "387  It was at the INS, late yesterday morning, tha...   \n",
              "388  Merge ASN, nuclear policeman, with IRSN, safet...   \n",
              "\n",
              "                                         content_trans  \n",
              "384  They are only located about thirty kilometers ...  \n",
              "385  The 4th largest global major improved its net ...  \n",
              "386  All observers say that he is undoubtedly one o...  \n",
              "387  It was at the INS, late yesterday morning, tha...  \n",
              "388  Decided behind the closed doors of a nuclear p...  "
            ]
          },
          "execution_count": 113,
          "metadata": {},
          "output_type": "execute_result"
        }
      ],
      "source": [
        "batch_subset.head(5)"
      ]
    }
  ],
  "metadata": {
    "colab": {
      "provenance": []
    },
    "kernelspec": {
      "display_name": "Python 3",
      "language": "python",
      "name": "python3"
    },
    "language_info": {
      "codemirror_mode": {
        "name": "ipython",
        "version": 3
      },
      "file_extension": ".py",
      "mimetype": "text/x-python",
      "name": "python",
      "nbconvert_exporter": "python",
      "pygments_lexer": "ipython3",
      "version": "3.11.8"
    }
  },
  "nbformat": 4,
  "nbformat_minor": 0
}
