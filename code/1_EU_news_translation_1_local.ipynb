{
  "cells": [
    {
      "cell_type": "markdown",
      "metadata": {
        "id": "Q_KoGl6lIdWp"
      },
      "source": [
        "## Step 0: Defining parameters\n",
        "Please modify the parameters as follows:\n",
        "1. `country` that you are working on.\n",
        "\n",
        "2. `mode` can be one of two values \"9to5\" or \"overnight\". Don't forget to use double quotes.\n",
        "\n",
        "Most of you will only use the \"9to5\" value. Which will tell the code to only translate 1,000 articles. This amount of articles takes between 3 and 4 hours to run. So this is ideal to use when you are in the office. Some of us (I'm looking at you DAU), will leave the code running the whole night to translate 4,000 articles every night. You are welcome to use the \"overnight\" mode if you want to finish your batch quickly (although we are not expecting you to finish it... unless you are an active member of the DAU).\n",
        "\n",
        "3. `counter_day` and `counter_night` are just a counter of how many times you have SUCESSFULLY executed the code using the \"9to5\" or the \"overnight\" mode, respectively. If this is the first time you are running the code, both counters should be zero. If you already SUCESSFULLY run the code once using the \"9to5\" mode, then counter_day should be equal to one. If the code stopped or you had an issue and the code did not finished running, then it DOES NOT count as a SUCESSFUL execution.\n",
        "\n",
        "4. `folow_up` can take two values True or False. Set it to True if you already finished a translation batch and your session is still running (and your master data is already uploaded). This way you don't need to execute all cells again, only the ones required. If this is the first time you are running this script during your current session, then set this value to False. No double quotes needed."
      ]
    },
    {
      "cell_type": "code",
      "execution_count": 167,
      "metadata": {
        "id": "j1_TPx7nIdWp"
      },
      "outputs": [],
      "source": [
        "country       = \"Slovenia\"\n",
        "mode          = \"overnight\" # One of two values: \"9to5\" OR \"overnight\"\n",
        "counter_day   = 2\n",
        "counter_night = 0\n",
        "suffix        = \"tp\" # One of two values: \"tp\" OR \"retrans\"\n",
        "path2SP       = \"/Users/ctoruno/OneDrive - World Justice Project/EU Subnational\""
      ]
    },
    {
      "cell_type": "markdown",
      "metadata": {
        "id": "w0hgduIlKQpa"
      },
      "source": [
        "## Step 1: Installing and importing required libraries"
      ]
    },
    {
      "cell_type": "code",
      "execution_count": 168,
      "metadata": {
        "colab": {
          "base_uri": "https://localhost:8080/"
        },
        "id": "QnPLZo0PIdWo",
        "outputId": "bb6a3039-d270-4af2-a31d-60a8ebb96489"
      },
      "outputs": [
        {
          "name": "stderr",
          "output_type": "stream",
          "text": [
            "[nltk_data] Downloading package punkt to\n",
            "[nltk_data]     C:\\Users\\ctoruno\\AppData\\Roaming\\nltk_data...\n",
            "[nltk_data]   Package punkt is already up-to-date!\n"
          ]
        },
        {
          "data": {
            "text/plain": [
              "True"
            ]
          },
          "execution_count": 168,
          "metadata": {},
          "output_type": "execute_result"
        }
      ],
      "source": [
        "import os\n",
        "import pandas as pd\n",
        "import nltk\n",
        "from nltk.tokenize import sent_tokenize\n",
        "from deep_translator import GoogleTranslator\n",
        "nltk.download(\"punkt\")"
      ]
    },
    {
      "cell_type": "markdown",
      "metadata": {
        "id": "1n-XwBbtIdWq"
      },
      "source": [
        "## Step 2: Defining functions"
      ]
    },
    {
      "cell_type": "code",
      "execution_count": 169,
      "metadata": {
        "id": "a31wZN3NIdWq"
      },
      "outputs": [],
      "source": [
        "def trans2english(text, sourcelang):\n",
        "    \"\"\"\n",
        "    This functions gathers a text in a specific language and it returns its equivalent\n",
        "    in English using the Google translation engine.\n",
        "\n",
        "    Parameters:\n",
        "        text:       String. Text to translate.\n",
        "        sourcelang: String. Code of the source language you want to translate the text from.\n",
        "    \"\"\"\n",
        "    if text:\n",
        "      try:\n",
        "          sentences = sent_tokenize(text)\n",
        "          batch  = GoogleTranslator(source = sourcelang, target = \"en\").translate_batch(sentences)\n",
        "          result = \" \".join(batch)\n",
        "          return result\n",
        "      except Exception as e:\n",
        "          out = f\"Translation through API failed. Reason: {e}\"\n",
        "          return out\n",
        "    else:\n",
        "      return \"No information available. No translation performed\""
      ]
    },
    {
      "cell_type": "markdown",
      "metadata": {
        "id": "Ozdp7cU7IdWq"
      },
      "source": [
        "## Step 3: Reading the data"
      ]
    },
    {
      "cell_type": "code",
      "execution_count": 170,
      "metadata": {
        "id": "zy1BohhsIdWq"
      },
      "outputs": [],
      "source": [
        "master_data = pd.read_parquet(f\"{path2SP}/EU-S Data/Automated Qualitative Checks/Data/data-extraction-1/data4translation/{country}_{suffix}.parquet.gzip\")"
      ]
    },
    {
      "cell_type": "markdown",
      "metadata": {
        "id": "qDjy-kRAX7GQ"
      },
      "source": [
        "## Step 4: Subsetting the data"
      ]
    },
    {
      "cell_type": "code",
      "execution_count": 171,
      "metadata": {
        "id": "cQr88qa5IdWr"
      },
      "outputs": [],
      "source": [
        "batch = counter_day + counter_night + 1\n",
        "if mode == \"9to5\":\n",
        "    batch_size   = 500\n",
        "    mode_counter = counter_day\n",
        "if mode == \"overnight\":\n",
        "    batch_size   = 2000\n",
        "    mode_counter = counter_night\n",
        "\n",
        "starting_row = (counter_day*500)+(counter_night*2000)\n",
        "final_row    = starting_row+batch_size\n",
        "batch_subset = master_data.copy().iloc[starting_row:final_row]"
      ]
    },
    {
      "cell_type": "code",
      "execution_count": 172,
      "metadata": {},
      "outputs": [
        {
          "name": "stdout",
          "output_type": "stream",
          "text": [
            "1000\n",
            "3000\n",
            "(10211, 10)\n"
          ]
        }
      ],
      "source": [
        "print(starting_row)\n",
        "print(final_row)\n",
        "print(master_data.shape)"
      ]
    },
    {
      "cell_type": "code",
      "execution_count": 173,
      "metadata": {
        "colab": {
          "base_uri": "https://localhost:8080/",
          "height": 196
        },
        "id": "WXHybFhNYDIY",
        "outputId": "da6427fb-b788-42a4-aa7a-ed6be99f6eb4"
      },
      "outputs": [
        {
          "data": {
            "text/html": [
              "<div>\n",
              "<style scoped>\n",
              "    .dataframe tbody tr th:only-of-type {\n",
              "        vertical-align: middle;\n",
              "    }\n",
              "\n",
              "    .dataframe tbody tr th {\n",
              "        vertical-align: top;\n",
              "    }\n",
              "\n",
              "    .dataframe thead th {\n",
              "        text-align: right;\n",
              "    }\n",
              "</style>\n",
              "<table border=\"1\" class=\"dataframe\">\n",
              "  <thead>\n",
              "    <tr style=\"text-align: right;\">\n",
              "      <th></th>\n",
              "      <th>id</th>\n",
              "      <th>link</th>\n",
              "      <th>domain_url</th>\n",
              "      <th>published_date</th>\n",
              "      <th>title</th>\n",
              "      <th>description</th>\n",
              "      <th>content</th>\n",
              "      <th>language</th>\n",
              "      <th>is_opinion</th>\n",
              "      <th>country</th>\n",
              "    </tr>\n",
              "  </thead>\n",
              "  <tbody>\n",
              "    <tr>\n",
              "      <th>1000</th>\n",
              "      <td>348fe17b77ebf248623cf6731f5b675c</td>\n",
              "      <td>https://www.delo.si/novice/svet/zdi-se-da-so-n...</td>\n",
              "      <td>delo.si</td>\n",
              "      <td>2023-10-14 11:29:14</td>\n",
              "      <td>Zdi se, da so novozelandci izbrali desnosredin...</td>\n",
              "      <td>Novi Zelandiji se obeta sprememba na čelu vlad...</td>\n",
              "      <td>Po približno 80 odstotkih preštetih glasov se ...</td>\n",
              "      <td>sl</td>\n",
              "      <td>False</td>\n",
              "      <td>Slovenia</td>\n",
              "    </tr>\n",
              "    <tr>\n",
              "      <th>1001</th>\n",
              "      <td>521ce80e1723be95cfb91631881642a9</td>\n",
              "      <td>https://www.delo.si/novice/svet/na-referendumu...</td>\n",
              "      <td>delo.si</td>\n",
              "      <td>2023-10-14 08:00:00</td>\n",
              "      <td>Na referendumu o pravicah aboriginov</td>\n",
              "      <td>Jih bodo po 122 letih vključili v ustavo in ji...</td>\n",
              "      <td>V Avstraliji danes volivci na zgodovinskem ref...</td>\n",
              "      <td>sl</td>\n",
              "      <td>False</td>\n",
              "      <td>Slovenia</td>\n",
              "    </tr>\n",
              "    <tr>\n",
              "      <th>1002</th>\n",
              "      <td>8ab616fec00733437f268e8b0e33a05a</td>\n",
              "      <td>https://www.delo.si/kultura/oder/sad-ljubezni-...</td>\n",
              "      <td>delo.si</td>\n",
              "      <td>2023-10-14 07:30:00</td>\n",
              "      <td>Sad ljubezni do odrskih desk in druženja</td>\n",
              "      <td>Na jubilejni Novačanov festival ljubiteljskih ...</td>\n",
              "      <td>Celjsko gledališče Zarja bo prihodnji teden od...</td>\n",
              "      <td>sl</td>\n",
              "      <td>False</td>\n",
              "      <td>Slovenia</td>\n",
              "    </tr>\n",
              "  </tbody>\n",
              "</table>\n",
              "</div>"
            ],
            "text/plain": [
              "                                    id  \\\n",
              "1000  348fe17b77ebf248623cf6731f5b675c   \n",
              "1001  521ce80e1723be95cfb91631881642a9   \n",
              "1002  8ab616fec00733437f268e8b0e33a05a   \n",
              "\n",
              "                                                   link domain_url  \\\n",
              "1000  https://www.delo.si/novice/svet/zdi-se-da-so-n...    delo.si   \n",
              "1001  https://www.delo.si/novice/svet/na-referendumu...    delo.si   \n",
              "1002  https://www.delo.si/kultura/oder/sad-ljubezni-...    delo.si   \n",
              "\n",
              "           published_date                                              title  \\\n",
              "1000  2023-10-14 11:29:14  Zdi se, da so novozelandci izbrali desnosredin...   \n",
              "1001  2023-10-14 08:00:00               Na referendumu o pravicah aboriginov   \n",
              "1002  2023-10-14 07:30:00           Sad ljubezni do odrskih desk in druženja   \n",
              "\n",
              "                                            description  \\\n",
              "1000  Novi Zelandiji se obeta sprememba na čelu vlad...   \n",
              "1001  Jih bodo po 122 letih vključili v ustavo in ji...   \n",
              "1002  Na jubilejni Novačanov festival ljubiteljskih ...   \n",
              "\n",
              "                                                content language  is_opinion  \\\n",
              "1000  Po približno 80 odstotkih preštetih glasov se ...       sl       False   \n",
              "1001  V Avstraliji danes volivci na zgodovinskem ref...       sl       False   \n",
              "1002  Celjsko gledališče Zarja bo prihodnji teden od...       sl       False   \n",
              "\n",
              "       country  \n",
              "1000  Slovenia  \n",
              "1001  Slovenia  \n",
              "1002  Slovenia  "
            ]
          },
          "execution_count": 173,
          "metadata": {},
          "output_type": "execute_result"
        }
      ],
      "source": [
        "batch_subset.head(3)"
      ]
    },
    {
      "cell_type": "markdown",
      "metadata": {
        "id": "JHtO08cqIdWr"
      },
      "source": [
        "## Step 5: Translating headline, description, and content"
      ]
    },
    {
      "cell_type": "code",
      "execution_count": 174,
      "metadata": {
        "id": "31GrWpbdIdWr"
      },
      "outputs": [],
      "source": [
        "batch_subset[[\"title_trans\", \"description_trans\", \"content_trans\"]] = batch_subset.apply(\n",
        "    lambda row: row[[\"title\", \"description\", \"content\"]].apply(lambda x: trans2english(text = x, sourcelang = row[\"language\"])),\n",
        "    axis = 1\n",
        ")"
      ]
    },
    {
      "cell_type": "markdown",
      "metadata": {
        "id": "Eu2HoLgVIdWr"
      },
      "source": [
        "## Step 6: Saving batch data"
      ]
    },
    {
      "cell_type": "code",
      "execution_count": null,
      "metadata": {
        "id": "Pv9BG9qXIdWr"
      },
      "outputs": [],
      "source": [
        "batch_subset.to_parquet(f\"/users/ctoruno/Downloads/{country}_batch_{batch}_{mode}_{mode_counter}.parquet.gzip\", compression = \"gzip\")"
      ]
    },
    {
      "cell_type": "code",
      "execution_count": null,
      "metadata": {},
      "outputs": [
        {
          "data": {
            "text/plain": [
              "content_trans\n",
              "True     355\n",
              "False    145\n",
              "Name: count, dtype: int64"
            ]
          },
          "execution_count": 166,
          "metadata": {},
          "output_type": "execute_result"
        }
      ],
      "source": [
        "batch_subset[\"content_trans\"].str.contains(\"API\").value_counts()"
      ]
    }
  ],
  "metadata": {
    "colab": {
      "provenance": []
    },
    "kernelspec": {
      "display_name": "Python 3",
      "language": "python",
      "name": "python3"
    },
    "language_info": {
      "codemirror_mode": {
        "name": "ipython",
        "version": 3
      },
      "file_extension": ".py",
      "mimetype": "text/x-python",
      "name": "python",
      "nbconvert_exporter": "python",
      "pygments_lexer": "ipython3",
      "version": "3.11.8"
    }
  },
  "nbformat": 4,
  "nbformat_minor": 0
}
