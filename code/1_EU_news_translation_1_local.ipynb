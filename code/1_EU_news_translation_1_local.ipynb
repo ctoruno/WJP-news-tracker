{
  "cells": [
    {
      "cell_type": "markdown",
      "metadata": {
        "id": "Q_KoGl6lIdWp"
      },
      "source": [
        "## Step 0: Defining parameters\n",
        "Please modify the parameters as follows:\n",
        "1. `country` that you are working on.\n",
        "\n",
        "2. `mode` can be one of two values \"9to5\" or \"overnight\". Don't forget to use double quotes.\n",
        "\n",
        "Most of you will only use the \"9to5\" value. Which will tell the code to only translate 1,000 articles. This amount of articles takes between 3 and 4 hours to run. So this is ideal to use when you are in the office. Some of us (I'm looking at you DAU), will leave the code running the whole night to translate 4,000 articles every night. You are welcome to use the \"overnight\" mode if you want to finish your batch quickly (although we are not expecting you to finish it... unless you are an active member of the DAU).\n",
        "\n",
        "3. `counter_day` and `counter_night` are just a counter of how many times you have SUCESSFULLY executed the code using the \"9to5\" or the \"overnight\" mode, respectively. If this is the first time you are running the code, both counters should be zero. If you already SUCESSFULLY run the code once using the \"9to5\" mode, then counter_day should be equal to one. If the code stopped or you had an issue and the code did not finished running, then it DOES NOT count as a SUCESSFUL execution.\n",
        "\n",
        "4. `folow_up` can take two values True or False. Set it to True if you already finished a translation batch and your session is still running (and your master data is already uploaded). This way you don't need to execute all cells again, only the ones required. If this is the first time you are running this script during your current session, then set this value to False. No double quotes needed."
      ]
    },
    {
      "cell_type": "code",
      "execution_count": 235,
      "metadata": {
        "id": "j1_TPx7nIdWp"
      },
      "outputs": [],
      "source": [
        "country       = \"Greece\"\n",
        "mode          = \"9to5\" # One of two values: \"9to5\" OR \"overnight\"\n",
        "counter_day   = 98\n",
        "counter_night = 0\n",
        "suffix        = \"tp\" # One of two values: \"tp\" OR \"retrans\"\n",
        "path2SP       = \"/Users/ctoruno/OneDrive - World Justice Project/EU Subnational\""
      ]
    },
    {
      "cell_type": "markdown",
      "metadata": {
        "id": "w0hgduIlKQpa"
      },
      "source": [
        "## Step 1: Installing and importing required libraries"
      ]
    },
    {
      "cell_type": "code",
      "execution_count": 236,
      "metadata": {
        "colab": {
          "base_uri": "https://localhost:8080/"
        },
        "id": "QnPLZo0PIdWo",
        "outputId": "bb6a3039-d270-4af2-a31d-60a8ebb96489"
      },
      "outputs": [
        {
          "name": "stderr",
          "output_type": "stream",
          "text": [
            "[nltk_data] Downloading package punkt to\n",
            "[nltk_data]     C:\\Users\\ctoruno\\AppData\\Roaming\\nltk_data...\n",
            "[nltk_data]   Package punkt is already up-to-date!\n"
          ]
        },
        {
          "data": {
            "text/plain": [
              "True"
            ]
          },
          "execution_count": 236,
          "metadata": {},
          "output_type": "execute_result"
        }
      ],
      "source": [
        "import os\n",
        "import pandas as pd\n",
        "import nltk\n",
        "from nltk.tokenize import sent_tokenize\n",
        "from deep_translator import GoogleTranslator\n",
        "nltk.download(\"punkt\")"
      ]
    },
    {
      "cell_type": "markdown",
      "metadata": {
        "id": "1n-XwBbtIdWq"
      },
      "source": [
        "## Step 2: Defining functions"
      ]
    },
    {
      "cell_type": "code",
      "execution_count": 237,
      "metadata": {
        "id": "a31wZN3NIdWq"
      },
      "outputs": [],
      "source": [
        "def trans2english(text, sourcelang):\n",
        "    \"\"\"\n",
        "    This functions gathers a text in a specific language and it returns its equivalent\n",
        "    in English using the Google translation engine.\n",
        "\n",
        "    Parameters:\n",
        "        text:       String. Text to translate.\n",
        "        sourcelang: String. Code of the source language you want to translate the text from.\n",
        "    \"\"\"\n",
        "    if text:\n",
        "      try:\n",
        "          sentences = sent_tokenize(text)\n",
        "          batch  = GoogleTranslator(source = sourcelang, target = \"en\").translate_batch(sentences)\n",
        "          result = \" \".join(batch)\n",
        "          return result\n",
        "      except Exception as e:\n",
        "          out = f\"Translation through API failed. Reason: {e}\"\n",
        "          return out\n",
        "    else:\n",
        "      return \"No information available. No translation performed\""
      ]
    },
    {
      "cell_type": "markdown",
      "metadata": {
        "id": "Ozdp7cU7IdWq"
      },
      "source": [
        "## Step 3: Reading the data"
      ]
    },
    {
      "cell_type": "code",
      "execution_count": 238,
      "metadata": {
        "id": "zy1BohhsIdWq"
      },
      "outputs": [],
      "source": [
        "master_data = pd.read_parquet(f\"{path2SP}/EU-S Data/Automated Qualitative Checks/Data/data-extraction-1/data4translation/{country}_{suffix}.parquet.gzip\")"
      ]
    },
    {
      "cell_type": "markdown",
      "metadata": {
        "id": "qDjy-kRAX7GQ"
      },
      "source": [
        "## Step 4: Subsetting the data"
      ]
    },
    {
      "cell_type": "code",
      "execution_count": 239,
      "metadata": {
        "id": "cQr88qa5IdWr"
      },
      "outputs": [],
      "source": [
        "batch = counter_day + counter_night + 1\n",
        "if mode == \"9to5\":\n",
        "    batch_size   = 500\n",
        "    mode_counter = counter_day\n",
        "if mode == \"overnight\":\n",
        "    batch_size   = 2000\n",
        "    mode_counter = counter_night\n",
        "\n",
        "starting_row = (counter_day*500)+(counter_night*2000)\n",
        "final_row    = starting_row+batch_size\n",
        "batch_subset = master_data.copy().iloc[starting_row:final_row]"
      ]
    },
    {
      "cell_type": "code",
      "execution_count": 240,
      "metadata": {},
      "outputs": [
        {
          "name": "stdout",
          "output_type": "stream",
          "text": [
            "49000\n",
            "49500\n",
            "(49504, 10)\n"
          ]
        }
      ],
      "source": [
        "print(starting_row)\n",
        "print(final_row)\n",
        "print(master_data.shape)"
      ]
    },
    {
      "cell_type": "code",
      "execution_count": 241,
      "metadata": {
        "colab": {
          "base_uri": "https://localhost:8080/",
          "height": 196
        },
        "id": "WXHybFhNYDIY",
        "outputId": "da6427fb-b788-42a4-aa7a-ed6be99f6eb4"
      },
      "outputs": [
        {
          "data": {
            "text/html": [
              "<div>\n",
              "<style scoped>\n",
              "    .dataframe tbody tr th:only-of-type {\n",
              "        vertical-align: middle;\n",
              "    }\n",
              "\n",
              "    .dataframe tbody tr th {\n",
              "        vertical-align: top;\n",
              "    }\n",
              "\n",
              "    .dataframe thead th {\n",
              "        text-align: right;\n",
              "    }\n",
              "</style>\n",
              "<table border=\"1\" class=\"dataframe\">\n",
              "  <thead>\n",
              "    <tr style=\"text-align: right;\">\n",
              "      <th></th>\n",
              "      <th>id</th>\n",
              "      <th>link</th>\n",
              "      <th>domain_url</th>\n",
              "      <th>published_date</th>\n",
              "      <th>title</th>\n",
              "      <th>description</th>\n",
              "      <th>content</th>\n",
              "      <th>language</th>\n",
              "      <th>is_opinion</th>\n",
              "      <th>country</th>\n",
              "    </tr>\n",
              "  </thead>\n",
              "  <tbody>\n",
              "    <tr>\n",
              "      <th>709</th>\n",
              "      <td>a8dbe7303ea29807261de2bd1231960b</td>\n",
              "      <td>https://www.tanea.gr/2024/01/22/economy/rampo-...</td>\n",
              "      <td>tanea.gr</td>\n",
              "      <td>2024-01-22 06:00:32</td>\n",
              "      <td>Ακίνητα: Σε στενό κλοιό από «Ράμπο» της εφορίας</td>\n",
              "      <td>Η ΑΑΔΕ ιδρύει δύο νέες ειδικές υπηρεσίες σε Αθ...</td>\n",
              "      <td>Υπό στενή παρακολούθηση θέτει όλα τα ακίνητα κ...</td>\n",
              "      <td>el</td>\n",
              "      <td>False</td>\n",
              "      <td>Greece</td>\n",
              "    </tr>\n",
              "    <tr>\n",
              "      <th>712</th>\n",
              "      <td>d103d93fcabc633bb3608e20d43c8caa</td>\n",
              "      <td>https://www.tanea.gr/print/2024/01/22/greece/p...</td>\n",
              "      <td>tanea.gr</td>\n",
              "      <td>2024-01-21 23:00:00</td>\n",
              "      <td>Παραγωγή και έλεγχος των εξόδων</td>\n",
              "      <td>Τα τελευταία χρόνια κυκλοφορεί από στόμα σε στ...</td>\n",
              "      <td>Τα τελευταία χρόνια κυκλοφορεί από στόμα σε στ...</td>\n",
              "      <td>el</td>\n",
              "      <td>False</td>\n",
              "      <td>Greece</td>\n",
              "    </tr>\n",
              "    <tr>\n",
              "      <th>713</th>\n",
              "      <td>af830fb8c30f72887b5a342b924321ec</td>\n",
              "      <td>https://www.tanea.gr/2024/01/22/media/sta-nea-...</td>\n",
              "      <td>tanea.gr</td>\n",
              "      <td>2024-01-21 22:56:56</td>\n",
              "      <td>Στα «ΝΕΑ» της Δευτέρας: Εχετε… απάτη στο κινητ...</td>\n",
              "      <td>Μηνύματα – δολώματα από επιτήδειους • Πώς εξαπ...</td>\n",
              "      <td>Διαβάστε στα «ΝΕΑ» της Δευτέρας: Μηνύματα – δο...</td>\n",
              "      <td>el</td>\n",
              "      <td>False</td>\n",
              "      <td>Greece</td>\n",
              "    </tr>\n",
              "  </tbody>\n",
              "</table>\n",
              "</div>"
            ],
            "text/plain": [
              "                                   id  \\\n",
              "709  a8dbe7303ea29807261de2bd1231960b   \n",
              "712  d103d93fcabc633bb3608e20d43c8caa   \n",
              "713  af830fb8c30f72887b5a342b924321ec   \n",
              "\n",
              "                                                  link domain_url  \\\n",
              "709  https://www.tanea.gr/2024/01/22/economy/rampo-...   tanea.gr   \n",
              "712  https://www.tanea.gr/print/2024/01/22/greece/p...   tanea.gr   \n",
              "713  https://www.tanea.gr/2024/01/22/media/sta-nea-...   tanea.gr   \n",
              "\n",
              "          published_date                                              title  \\\n",
              "709  2024-01-22 06:00:32    Ακίνητα: Σε στενό κλοιό από «Ράμπο» της εφορίας   \n",
              "712  2024-01-21 23:00:00                    Παραγωγή και έλεγχος των εξόδων   \n",
              "713  2024-01-21 22:56:56  Στα «ΝΕΑ» της Δευτέρας: Εχετε… απάτη στο κινητ...   \n",
              "\n",
              "                                           description  \\\n",
              "709  Η ΑΑΔΕ ιδρύει δύο νέες ειδικές υπηρεσίες σε Αθ...   \n",
              "712  Τα τελευταία χρόνια κυκλοφορεί από στόμα σε στ...   \n",
              "713  Μηνύματα – δολώματα από επιτήδειους • Πώς εξαπ...   \n",
              "\n",
              "                                               content language  is_opinion  \\\n",
              "709  Υπό στενή παρακολούθηση θέτει όλα τα ακίνητα κ...       el       False   \n",
              "712  Τα τελευταία χρόνια κυκλοφορεί από στόμα σε στ...       el       False   \n",
              "713  Διαβάστε στα «ΝΕΑ» της Δευτέρας: Μηνύματα – δο...       el       False   \n",
              "\n",
              "    country  \n",
              "709  Greece  \n",
              "712  Greece  \n",
              "713  Greece  "
            ]
          },
          "execution_count": 241,
          "metadata": {},
          "output_type": "execute_result"
        }
      ],
      "source": [
        "batch_subset.head(3)"
      ]
    },
    {
      "cell_type": "markdown",
      "metadata": {
        "id": "JHtO08cqIdWr"
      },
      "source": [
        "## Step 5: Translating headline, description, and content"
      ]
    },
    {
      "cell_type": "code",
      "execution_count": 242,
      "metadata": {
        "id": "31GrWpbdIdWr"
      },
      "outputs": [],
      "source": [
        "batch_subset[[\"title_trans\", \"description_trans\", \"content_trans\"]] = batch_subset.apply(\n",
        "    lambda row: row[[\"title\", \"description\", \"content\"]].apply(lambda x: trans2english(text = x, sourcelang = row[\"language\"])),\n",
        "    axis = 1\n",
        ")"
      ]
    },
    {
      "cell_type": "markdown",
      "metadata": {
        "id": "Eu2HoLgVIdWr"
      },
      "source": [
        "## Step 6: Saving batch data"
      ]
    },
    {
      "cell_type": "code",
      "execution_count": 243,
      "metadata": {
        "id": "Pv9BG9qXIdWr"
      },
      "outputs": [],
      "source": [
        "batch_subset.to_parquet(f\"/users/ctoruno/Downloads/{country}_batch_{batch}_{mode}_{mode_counter}.parquet.gzip\", compression = \"gzip\")"
      ]
    },
    {
      "cell_type": "code",
      "execution_count": 244,
      "metadata": {},
      "outputs": [
        {
          "data": {
            "text/plain": [
              "content_trans\n",
              "False    500\n",
              "Name: count, dtype: int64"
            ]
          },
          "execution_count": 244,
          "metadata": {},
          "output_type": "execute_result"
        }
      ],
      "source": [
        "batch_subset[\"content_trans\"].str.contains(\"API\").value_counts()"
      ]
    }
  ],
  "metadata": {
    "colab": {
      "provenance": []
    },
    "kernelspec": {
      "display_name": "Python 3",
      "language": "python",
      "name": "python3"
    },
    "language_info": {
      "codemirror_mode": {
        "name": "ipython",
        "version": 3
      },
      "file_extension": ".py",
      "mimetype": "text/x-python",
      "name": "python",
      "nbconvert_exporter": "python",
      "pygments_lexer": "ipython3",
      "version": "3.11.8"
    }
  },
  "nbformat": 4,
  "nbformat_minor": 0
}
