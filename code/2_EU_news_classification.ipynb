{
 "cells": [
  {
   "cell_type": "code",
   "execution_count": 41,
   "metadata": {},
   "outputs": [],
   "source": [
    "import os\n",
    "import ast\n",
    "import math\n",
    "import json\n",
    "import time\n",
    "import pandas as pd\n",
    "from dotenv import load_dotenv\n",
    "import prompt_templates_classification as ptc\n",
    "from langchain.schema import BaseOutputParser\n",
    "from langchain.prompts.chat import ChatPromptTemplate\n",
    "from langchain_google_genai import (\n",
    "    ChatGoogleGenerativeAI,\n",
    "    HarmBlockThreshold,\n",
    "    HarmCategory\n",
    ")\n",
    "from json.decoder import JSONDecodeError\n",
    "from google.generativeai.types import BlockedPromptException\n",
    "from google.generativeai.types.generation_types import StopCandidateException"
   ]
  },
  {
   "cell_type": "code",
   "execution_count": 42,
   "metadata": {},
   "outputs": [],
   "source": [
    "country = \"Bulgaria\"\n",
    "path2SP = \"/Users/ctoruno/OneDrive - World Justice Project/EU Subnational\""
   ]
  },
  {
   "cell_type": "markdown",
   "metadata": {},
   "source": [
    "## Loading API key"
   ]
  },
  {
   "cell_type": "code",
   "execution_count": 43,
   "metadata": {},
   "outputs": [],
   "source": [
    "load_dotenv()\n",
    "GoogleAI_key = os.getenv(\"googleAI_API_key\")\n",
    "os.environ['GOOGLE_API_KEY'] = GoogleAI_key"
   ]
  },
  {
   "cell_type": "markdown",
   "metadata": {},
   "source": [
    "## Loading data"
   ]
  },
  {
   "cell_type": "code",
   "execution_count": 44,
   "metadata": {},
   "outputs": [],
   "source": [
    "def showEverything(df):\n",
    "    with pd.option_context('display.max_rows', None,\n",
    "                        'display.max_columns', None,\n",
    "                        'display.width', 1000,\n",
    "                        'display.precision', 3,\n",
    "                        'display.colheader_justify', 'left'):\n",
    "        display(df)"
   ]
  },
  {
   "cell_type": "code",
   "execution_count": 45,
   "metadata": {},
   "outputs": [
    {
     "data": {
      "text/html": [
       "<div>\n",
       "<style scoped>\n",
       "    .dataframe tbody tr th:only-of-type {\n",
       "        vertical-align: middle;\n",
       "    }\n",
       "\n",
       "    .dataframe tbody tr th {\n",
       "        vertical-align: top;\n",
       "    }\n",
       "\n",
       "    .dataframe thead th {\n",
       "        text-align: right;\n",
       "    }\n",
       "</style>\n",
       "<table border=\"1\" class=\"dataframe\">\n",
       "  <thead>\n",
       "    <tr style=\"text-align: right;\">\n",
       "      <th></th>\n",
       "      <th>id</th>\n",
       "      <th>link</th>\n",
       "      <th>domain_url</th>\n",
       "      <th>published_date</th>\n",
       "      <th>title</th>\n",
       "      <th>description</th>\n",
       "      <th>content</th>\n",
       "      <th>language</th>\n",
       "      <th>is_opinion</th>\n",
       "      <th>country</th>\n",
       "      <th>title_trans</th>\n",
       "      <th>description_trans</th>\n",
       "      <th>content_trans</th>\n",
       "    </tr>\n",
       "  </thead>\n",
       "  <tbody>\n",
       "    <tr>\n",
       "      <th>2934</th>\n",
       "      <td>97d85b921d5faec9f393dd6afddc7881</td>\n",
       "      <td>https://www.24chasa.bg/bulgaria/article/15426746</td>\n",
       "      <td>24chasa.bg</td>\n",
       "      <td>2023-09-07 15:12:27</td>\n",
       "      <td>Бележка в тоалетните предупреждава депутатите ...</td>\n",
       "      <td>\"Скъпи колеги, във връзка със зачестилите липс...</td>\n",
       "      <td>\"Скъпи колеги, във връзка със зачестилите липс...</td>\n",
       "      <td>bg</td>\n",
       "      <td>False</td>\n",
       "      <td>Bulgaria</td>\n",
       "      <td>A note in the toilets warns MPs not to take th...</td>\n",
       "      <td>\"Dear colleagues, in connection with the frequ...</td>\n",
       "      <td>\"Dear colleagues, in connection with the frequ...</td>\n",
       "    </tr>\n",
       "    <tr>\n",
       "      <th>2936</th>\n",
       "      <td>95464fb931fb654baee40b2bc19829a6</td>\n",
       "      <td>https://www.24chasa.bg/bulgaria/article/15425519</td>\n",
       "      <td>24chasa.bg</td>\n",
       "      <td>2023-09-07 13:34:00</td>\n",
       "      <td>Комисията по вътрешна сигурност подкрепи проме...</td>\n",
       "      <td>Комисията по вътрешна сигурност и обществен ре...</td>\n",
       "      <td>Комисията по вътрешна сигурност и обществен ре...</td>\n",
       "      <td>bg</td>\n",
       "      <td>False</td>\n",
       "      <td>Bulgaria</td>\n",
       "      <td>The Homeland Security Committee supported chan...</td>\n",
       "      <td>The Committee on Internal Security and Public ...</td>\n",
       "      <td>The Committee on Internal Security and Public ...</td>\n",
       "    </tr>\n",
       "    <tr>\n",
       "      <th>2937</th>\n",
       "      <td>21d23dcf0828122955f9a581d487d854</td>\n",
       "      <td>https://www.24chasa.bg/biznes/article/15425460</td>\n",
       "      <td>24chasa.bg</td>\n",
       "      <td>2023-09-07 13:28:00</td>\n",
       "      <td>WWF: Недостигът на води в Европа се дължи на д...</td>\n",
       "      <td>Недостигът на води в Европа се дължи главно на...</td>\n",
       "      <td>Недостигът на води в Европа се дължи главно на...</td>\n",
       "      <td>bg</td>\n",
       "      <td>False</td>\n",
       "      <td>Bulgaria</td>\n",
       "      <td>WWF: Water scarcity in Europe due to decades o...</td>\n",
       "      <td>Europe's water scarcity is mainly due to \"deca...</td>\n",
       "      <td>Europe's water scarcity is mainly due to \"deca...</td>\n",
       "    </tr>\n",
       "    <tr>\n",
       "      <th>2941</th>\n",
       "      <td>f7c76dc52ed00399858cdeaf332761cc</td>\n",
       "      <td>https://www.24chasa.bg/bulgaria/article/15421950</td>\n",
       "      <td>24chasa.bg</td>\n",
       "      <td>2023-09-07 09:29:00</td>\n",
       "      <td>Двама младежи потрошиха мерцедес в Първомай</td>\n",
       "      <td>В районното управление в Първомай е образувано...</td>\n",
       "      <td>В районното управление в Първомай е образувано...</td>\n",
       "      <td>bg</td>\n",
       "      <td>False</td>\n",
       "      <td>Bulgaria</td>\n",
       "      <td>Two young men gutted a Mercedes in Parvomay</td>\n",
       "      <td>In the district administration in Parvomai, pr...</td>\n",
       "      <td>In the district administration in Parvomai, pr...</td>\n",
       "    </tr>\n",
       "    <tr>\n",
       "      <th>2942</th>\n",
       "      <td>03815760583b9a2bfca51f16c96f07cd</td>\n",
       "      <td>https://www.24chasa.bg/bulgaria/article/15421914</td>\n",
       "      <td>24chasa.bg</td>\n",
       "      <td>2023-09-07 09:29:00</td>\n",
       "      <td>Арестуваха 27-годишен, обрал момиче до Централ...</td>\n",
       "      <td>Полицията арестува 27-годишен мъж, издърпал ча...</td>\n",
       "      <td>Полицията арестува 27-годишен мъж, издърпал ча...</td>\n",
       "      <td>bg</td>\n",
       "      <td>False</td>\n",
       "      <td>Bulgaria</td>\n",
       "      <td>A 27-year-old man was arrested for robbing a g...</td>\n",
       "      <td>The police arrested a 27-year-old man who pull...</td>\n",
       "      <td>The police arrested a 27-year-old man who pull...</td>\n",
       "    </tr>\n",
       "  </tbody>\n",
       "</table>\n",
       "</div>"
      ],
      "text/plain": [
       "                                    id  \\\n",
       "2934  97d85b921d5faec9f393dd6afddc7881   \n",
       "2936  95464fb931fb654baee40b2bc19829a6   \n",
       "2937  21d23dcf0828122955f9a581d487d854   \n",
       "2941  f7c76dc52ed00399858cdeaf332761cc   \n",
       "2942  03815760583b9a2bfca51f16c96f07cd   \n",
       "\n",
       "                                                  link  domain_url  \\\n",
       "2934  https://www.24chasa.bg/bulgaria/article/15426746  24chasa.bg   \n",
       "2936  https://www.24chasa.bg/bulgaria/article/15425519  24chasa.bg   \n",
       "2937    https://www.24chasa.bg/biznes/article/15425460  24chasa.bg   \n",
       "2941  https://www.24chasa.bg/bulgaria/article/15421950  24chasa.bg   \n",
       "2942  https://www.24chasa.bg/bulgaria/article/15421914  24chasa.bg   \n",
       "\n",
       "           published_date                                              title  \\\n",
       "2934  2023-09-07 15:12:27  Бележка в тоалетните предупреждава депутатите ...   \n",
       "2936  2023-09-07 13:34:00  Комисията по вътрешна сигурност подкрепи проме...   \n",
       "2937  2023-09-07 13:28:00  WWF: Недостигът на води в Европа се дължи на д...   \n",
       "2941  2023-09-07 09:29:00        Двама младежи потрошиха мерцедес в Първомай   \n",
       "2942  2023-09-07 09:29:00  Арестуваха 27-годишен, обрал момиче до Централ...   \n",
       "\n",
       "                                            description  \\\n",
       "2934  \"Скъпи колеги, във връзка със зачестилите липс...   \n",
       "2936  Комисията по вътрешна сигурност и обществен ре...   \n",
       "2937  Недостигът на води в Европа се дължи главно на...   \n",
       "2941  В районното управление в Първомай е образувано...   \n",
       "2942  Полицията арестува 27-годишен мъж, издърпал ча...   \n",
       "\n",
       "                                                content language  is_opinion  \\\n",
       "2934  \"Скъпи колеги, във връзка със зачестилите липс...       bg       False   \n",
       "2936  Комисията по вътрешна сигурност и обществен ре...       bg       False   \n",
       "2937  Недостигът на води в Европа се дължи главно на...       bg       False   \n",
       "2941  В районното управление в Първомай е образувано...       bg       False   \n",
       "2942  Полицията арестува 27-годишен мъж, издърпал ча...       bg       False   \n",
       "\n",
       "       country                                        title_trans  \\\n",
       "2934  Bulgaria  A note in the toilets warns MPs not to take th...   \n",
       "2936  Bulgaria  The Homeland Security Committee supported chan...   \n",
       "2937  Bulgaria  WWF: Water scarcity in Europe due to decades o...   \n",
       "2941  Bulgaria        Two young men gutted a Mercedes in Parvomay   \n",
       "2942  Bulgaria  A 27-year-old man was arrested for robbing a g...   \n",
       "\n",
       "                                      description_trans  \\\n",
       "2934  \"Dear colleagues, in connection with the frequ...   \n",
       "2936  The Committee on Internal Security and Public ...   \n",
       "2937  Europe's water scarcity is mainly due to \"deca...   \n",
       "2941  In the district administration in Parvomai, pr...   \n",
       "2942  The police arrested a 27-year-old man who pull...   \n",
       "\n",
       "                                          content_trans  \n",
       "2934  \"Dear colleagues, in connection with the frequ...  \n",
       "2936  The Committee on Internal Security and Public ...  \n",
       "2937  Europe's water scarcity is mainly due to \"deca...  \n",
       "2941  In the district administration in Parvomai, pr...  \n",
       "2942  The police arrested a 27-year-old man who pull...  "
      ]
     },
     "execution_count": 45,
     "metadata": {},
     "output_type": "execute_result"
    }
   ],
   "source": [
    "country_data = pd.read_parquet(f\"{path2SP}/EU-S Data/Automated Qualitative Checks/Data/data-extraction-1/ready4class/{country}_translated.parquet.gzip\")\n",
    "# country_data = pd.read_parquet(f\"../data/data-extraction-1/ready4class/{country}_translated.parquet.gzip\")\n",
    "country_data.head(5)"
   ]
  },
  {
   "cell_type": "markdown",
   "metadata": {},
   "source": [
    "## Defining Chain"
   ]
  },
  {
   "cell_type": "code",
   "execution_count": 46,
   "metadata": {},
   "outputs": [],
   "source": [
    "safety_settings = {\n",
    "    HarmCategory.HARM_CATEGORY_HARASSMENT: HarmBlockThreshold.BLOCK_NONE,\n",
    "    HarmCategory.HARM_CATEGORY_HATE_SPEECH: HarmBlockThreshold.BLOCK_NONE,\n",
    "    HarmCategory.HARM_CATEGORY_SEXUALLY_EXPLICIT: HarmBlockThreshold.BLOCK_NONE,\n",
    "    HarmCategory.HARM_CATEGORY_DANGEROUS_CONTENT: HarmBlockThreshold.BLOCK_NONE\n",
    "}"
   ]
  },
  {
   "cell_type": "code",
   "execution_count": 47,
   "metadata": {},
   "outputs": [],
   "source": [
    "class JSONOutputParser(BaseOutputParser):\n",
    "    def parse(self, text: str):\n",
    "        \"\"\"\n",
    "        Parse the output of an LLM call to a valid JSON format.\n",
    "        \"\"\"\n",
    "        return json.loads(text.replace('```json', '').replace('```', ''), strict=False)"
   ]
  },
  {
   "cell_type": "code",
   "execution_count": 48,
   "metadata": {},
   "outputs": [],
   "source": [
    "def classify_article(headline, summary, body, id = None, stage_1 = True, relation = None):\n",
    "    \"\"\"\n",
    "    This function takes a headline, a summary, and the content of a news article and it sends a call to Google's Gemini\n",
    "    to classify the article. There are two different classifications: Stage 1 and Stage 2. If stage_1 is set to TRUE, then\n",
    "    the call to the model will try to answer the following question: Is this news article related or unrelated to the Rule of Law?\n",
    "    If stage_1 is set to FALSE, then the call to the model will try to rate how closely related is the news article to each\n",
    "    one of the eight pillars of the Rule of Law.\n",
    "    \"\"\"\n",
    "    # print(id)\n",
    "\n",
    "    # Defining the prompt according to which stage are we calling the function for\n",
    "    if stage_1 == True:\n",
    "        system_prompt = ptc.context_stage_1\n",
    "        human_prompt  = ptc.instructions_stage_1\n",
    "    else:\n",
    "        system_prompt = ptc.context_stage_2\n",
    "        human_prompt  = ptc.instructions_stage_2\n",
    "\n",
    "    # Setting up the Prompt Template\n",
    "    chat_prompt = ChatPromptTemplate.from_messages([\n",
    "                    (\"system\", system_prompt),\n",
    "                    (\"human\", human_prompt),\n",
    "                ])\n",
    "\n",
    "    # Defining our chain\n",
    "    chain_gemini = chat_prompt | ChatGoogleGenerativeAI(model = \"gemini-pro\",\n",
    "                                                        temperature     = 0.1, \n",
    "                                                        safety_settings = safety_settings,\n",
    "                                                        convert_system_message_to_human = True) | JSONOutputParser()\n",
    "    \n",
    "    # For Stage 2, we don't want to pass articles that were already classified as \"UNRELATED\", so we pre-defined the outcome\n",
    "    if stage_1 == False and all(keyword not in relation for keyword in [\"Related\", \"Justice\", \"Governance\"]):\n",
    "        outcome = \"Unrelated\"\n",
    "\n",
    "    else:\n",
    "        try: \n",
    "            llm_response = chain_gemini.invoke({\n",
    "                \"headline\": headline,\n",
    "                \"summary\" : summary,\n",
    "                \"body\"    : body,\n",
    "            })\n",
    "            status = True\n",
    "            time.sleep(1)   # We need to slow down the calls. given that the Gemini API has a limit of 60 calls per second\n",
    "\n",
    "        # The API can still block some of our prompts due to undefined reasons. Sadly, we can't do anything about it, so we\n",
    "        # predefine the outcome    \n",
    "        except (BlockedPromptException, StopCandidateException):\n",
    "            print(\"Prompt BLOCKED\")\n",
    "            status = False\n",
    "        \n",
    "        except JSONDecodeError:\n",
    "            print(\"Decode error... trying again...\")\n",
    "            try: \n",
    "                llm_response = chain_gemini.invoke({\n",
    "                    \"headline\": headline,\n",
    "                    \"summary\" : summary,\n",
    "                    \"body\"    : body,\n",
    "                })\n",
    "                status = True\n",
    "                time.sleep(1)\n",
    "            except JSONDecodeError:\n",
    "                print(\"Failed. Skipping article.\")\n",
    "                status = False\n",
    "\n",
    "        # We use the STATUS variable to throw an outcome to our call depending if our prompt was blocked or not and\n",
    "        # on the stage we are calling the function for\n",
    "        if status == True:\n",
    "            if stage_1 == True:\n",
    "                if \"Governance\" in llm_response[\"rol_related\"]:\n",
    "                    llm_response[\"rol_related\"] == \"Related\"\n",
    "                if \"Justice\" in llm_response[\"rol_related\"]:\n",
    "                    llm_response[\"rol_related\"] == \"Related\"\n",
    "                outcome = [llm_response[\"rol_related\"], llm_response[\"country\"]]\n",
    "\n",
    "            else:\n",
    "                outcome = json.dumps(llm_response[\"pillars_relation\"])\n",
    "        else:\n",
    "            outcome = \"Skipped article\"\n",
    "\n",
    "    return outcome"
   ]
  },
  {
   "cell_type": "code",
   "execution_count": 49,
   "metadata": {},
   "outputs": [
    {
     "data": {
      "text/plain": [
       "(33070, 13)"
      ]
     },
     "execution_count": 49,
     "metadata": {},
     "output_type": "execute_result"
    }
   ],
   "source": [
    "country_data.shape"
   ]
  },
  {
   "cell_type": "markdown",
   "metadata": {},
   "source": [
    "## Sending calls in sets and batches"
   ]
  },
  {
   "cell_type": "code",
   "execution_count": null,
   "metadata": {},
   "outputs": [],
   "source": [
    "nsets = math.ceil(len(country_data)/1000)\n",
    "for set in range(2, nsets+1):\n",
    "# for set in range(17, nsets+1):\n",
    "\n",
    "    print(\"=======================================\")\n",
    "    print(f\"Starting with SET {set} out of {nsets}\")\n",
    "    print(\"=======================================\")\n",
    "\n",
    "    results = []\n",
    "\n",
    "    for batch_number in range(1,11):\n",
    "\n",
    "        # Subsetting data\n",
    "        starting_row = ((set-1)*1000)+((batch_number-1)*100)\n",
    "        end_row      = starting_row+100\n",
    "        batch_subset = country_data.copy().iloc[starting_row:end_row]\n",
    "\n",
    "        if len(batch_subset) > 0 :\n",
    "            print(\"============================================================================\")\n",
    "            print(f\"Sending batch number: {batch_number}, start: {starting_row}, end: {end_row}\")\n",
    "            print(\"============================================================================\")\n",
    "            \n",
    "            # Applying classifiers\n",
    "            print(\"====== STAGE 1 =====\")\n",
    "            batch_subset[[\"topic_related\", \"location_events\"]] = batch_subset.apply(lambda row: pd.Series(classify_article(\n",
    "                row[\"title_trans\"], \n",
    "                row[\"description_trans\"], \n",
    "                row[\"content_trans\"], \n",
    "                row[\"id\"],\n",
    "                stage_1 = True\n",
    "            )), axis = 1)\n",
    "            # batch_subset[\"topic_related\"]   = batch_subset[\"rol_related\"].str.split('<>').str[0]\n",
    "            # batch_subset[\"location_events\"] = batch_subset[\"rol_related\"].str.split('<>').str[1]\n",
    "\n",
    "            print(\"====== STAGE 2 =====\")\n",
    "            batch_subset[\"pillars_score\"] = batch_subset.apply(lambda row: classify_article(\n",
    "                row[\"title_trans\"], \n",
    "                row[\"description_trans\"], \n",
    "                row[\"content_trans\"], \n",
    "                row[\"id\"],\n",
    "                relation = row[\"topic_related\"],\n",
    "                stage_1  = False\n",
    "            ), axis = 1)\n",
    "\n",
    "            results.append(batch_subset)\n",
    "\n",
    "    # Collapsing and saving data\n",
    "    collapsed_data = pd.concat(results).drop_duplicates(subset=\"id\")\n",
    "    collapsed_data.to_parquet(f\"{path2SP}/EU-S Data/Automated Qualitative Checks/Data/data-classification-1/{country}/{country}_set_{set}.parquet.gzip\", compression=\"gzip\")\n",
    "    time.sleep(5)"
   ]
  },
  {
   "cell_type": "markdown",
   "metadata": {},
   "source": [
    "## Compiling sets"
   ]
  },
  {
   "cell_type": "code",
   "execution_count": 29,
   "metadata": {},
   "outputs": [],
   "source": [
    "classified_data_list = [\n",
    "    pd.read_parquet(f\"{path2SP}/EU-S Data/Automated Qualitative Checks/Data/data-classification-1/{country}/{file}\") \n",
    "    for file in os.listdir(f\"{path2SP}/EU-S Data/Automated Qualitative Checks/Data/data-classification-1/{country}\")\n",
    "]\n",
    "classified_data = pd.concat(classified_data_list)"
   ]
  },
  {
   "cell_type": "markdown",
   "metadata": {},
   "source": [
    "## Converting pillar scores to binary"
   ]
  },
  {
   "cell_type": "code",
   "execution_count": 33,
   "metadata": {},
   "outputs": [],
   "source": [
    "def extract_score(string, pillar, t = 7):\n",
    "    \"\"\"\n",
    "    This function extracts scores from a string and returns a binary value that is equal to 1 if the score is higher/equal\n",
    "    than a specific threshold, and it returns zero if otherwise.\n",
    "    \"\"\"\n",
    "    try:\n",
    "        scores_dicts = ast.literal_eval(string)\n",
    "        ratings = [v for x in scores_dicts for _,v in x.items()]\n",
    "        keys    = [k for x in scores_dicts for k,_ in x.items()]\n",
    "        pattern = str(pillar) + \". \"\n",
    "        idx     = next((index for index, element in enumerate(keys) if pattern in element), None)\n",
    "\n",
    "        if idx is not None:\n",
    "            score = ratings[idx]\n",
    "        else:\n",
    "            score = 0\n",
    "            \n",
    "        if score >= t:\n",
    "            return 1\n",
    "        else:\n",
    "            return 0\n",
    "        \n",
    "    except ValueError:\n",
    "        if string == \"Unrelated\":\n",
    "            return 0\n",
    "    \n",
    "    except SyntaxError:\n",
    "        if string == \"Skipped article\":\n",
    "            return 0"
   ]
  },
  {
   "cell_type": "code",
   "execution_count": 34,
   "metadata": {},
   "outputs": [],
   "source": [
    "for i in range(1, 9):\n",
    "    var_name     = \"pillar_\" + str(i)\n",
    "    classified_data[var_name] = classified_data[\"pillars_score\"].apply(lambda x: extract_score(x, i))"
   ]
  },
  {
   "cell_type": "markdown",
   "metadata": {},
   "source": [
    "## Cleaning location of events and topic relation"
   ]
  },
  {
   "cell_type": "code",
   "execution_count": 35,
   "metadata": {},
   "outputs": [],
   "source": [
    "def loc2bin(location, country):\n",
    "    if pd.isna(location):\n",
    "        return False\n",
    "    elif country in location:\n",
    "        return True\n",
    "    else:\n",
    "        return False"
   ]
  },
  {
   "cell_type": "code",
   "execution_count": 36,
   "metadata": {},
   "outputs": [],
   "source": [
    "eu_member_states = [\n",
    "    \"Austria\", \"Belgium\", \"Bulgaria\", \"Croatia\", \"Cyprus\", \"Czech\", \"Denmark\", \"Estonia\", \"Finland\", \"France\",\n",
    "    \"Germany\", \"Greece\", \"Hungary\", \"Ireland\", \"Italy\", \"Latvia\", \"Lithuania\", \"Luxembourg\", \"Malta\", \"Netherlands\",\n",
    "    \"Poland\", \"Portugal\", \"Romania\", \"Slovakia\", \"Slovenia\", \"Spain\", \"Sweden\", \"Euro\"\n",
    "]\n",
    "for member in eu_member_states:\n",
    "    var_name = f\"location_{member}\"\n",
    "    classified_data[var_name] = classified_data[\"location_events\"].apply(lambda x: loc2bin(x, member))"
   ]
  },
  {
   "cell_type": "markdown",
   "metadata": {},
   "source": [
    "## Saving data"
   ]
  },
  {
   "cell_type": "code",
   "execution_count": 40,
   "metadata": {},
   "outputs": [],
   "source": [
    "classified_data.to_parquet(f\"{path2SP}/EU-S Data/Automated Qualitative Checks/Data/data-classification-1/0_compiled/{country}_classified.parquet.gzip\", compression=\"gzip\")"
   ]
  }
 ],
 "metadata": {
  "kernelspec": {
   "display_name": "Python 3",
   "language": "python",
   "name": "python3"
  },
  "language_info": {
   "codemirror_mode": {
    "name": "ipython",
    "version": 3
   },
   "file_extension": ".py",
   "mimetype": "text/x-python",
   "name": "python",
   "nbconvert_exporter": "python",
   "pygments_lexer": "ipython3",
   "version": "3.11.8"
  }
 },
 "nbformat": 4,
 "nbformat_minor": 2
}
