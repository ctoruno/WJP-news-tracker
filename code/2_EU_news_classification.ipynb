{
 "cells": [
  {
   "cell_type": "code",
   "execution_count": 1,
   "metadata": {},
   "outputs": [],
   "source": [
    "import os\n",
    "import ast\n",
    "import math\n",
    "import json\n",
    "import time\n",
    "import pandas as pd\n",
    "from dotenv import load_dotenv\n",
    "import prompt_templates_classification as ptc\n",
    "from langchain.schema import BaseOutputParser\n",
    "from langchain.prompts.chat import ChatPromptTemplate\n",
    "from langchain_google_genai import (\n",
    "    ChatGoogleGenerativeAI,\n",
    "    HarmBlockThreshold,\n",
    "    HarmCategory\n",
    ")\n",
    "from json.decoder import JSONDecodeError\n",
    "from google.generativeai.types import BlockedPromptException\n",
    "from google.generativeai.types.generation_types import StopCandidateException"
   ]
  },
  {
   "cell_type": "code",
   "execution_count": 2,
   "metadata": {},
   "outputs": [],
   "source": [
    "country = \"Greece\"\n",
    "path2SP = \"/Users/ctoruno/OneDrive - World Justice Project/EU Subnational\""
   ]
  },
  {
   "cell_type": "markdown",
   "metadata": {},
   "source": [
    "## Loading API key"
   ]
  },
  {
   "cell_type": "code",
   "execution_count": 3,
   "metadata": {},
   "outputs": [],
   "source": [
    "load_dotenv()\n",
    "GoogleAI_key = os.getenv(\"googleAI_API_key\")\n",
    "os.environ['GOOGLE_API_KEY'] = GoogleAI_key"
   ]
  },
  {
   "cell_type": "markdown",
   "metadata": {},
   "source": [
    "## Loading data"
   ]
  },
  {
   "cell_type": "code",
   "execution_count": 4,
   "metadata": {},
   "outputs": [],
   "source": [
    "def showEverything(df):\n",
    "    with pd.option_context('display.max_rows', None,\n",
    "                        'display.max_columns', None,\n",
    "                        'display.width', 1000,\n",
    "                        'display.precision', 3,\n",
    "                        'display.colheader_justify', 'left'):\n",
    "        display(df)"
   ]
  },
  {
   "cell_type": "code",
   "execution_count": 5,
   "metadata": {},
   "outputs": [
    {
     "data": {
      "text/html": [
       "<div>\n",
       "<style scoped>\n",
       "    .dataframe tbody tr th:only-of-type {\n",
       "        vertical-align: middle;\n",
       "    }\n",
       "\n",
       "    .dataframe tbody tr th {\n",
       "        vertical-align: top;\n",
       "    }\n",
       "\n",
       "    .dataframe thead th {\n",
       "        text-align: right;\n",
       "    }\n",
       "</style>\n",
       "<table border=\"1\" class=\"dataframe\">\n",
       "  <thead>\n",
       "    <tr style=\"text-align: right;\">\n",
       "      <th></th>\n",
       "      <th>id</th>\n",
       "      <th>link</th>\n",
       "      <th>domain_url</th>\n",
       "      <th>published_date</th>\n",
       "      <th>title</th>\n",
       "      <th>description</th>\n",
       "      <th>content</th>\n",
       "      <th>language</th>\n",
       "      <th>is_opinion</th>\n",
       "      <th>country</th>\n",
       "      <th>title_trans</th>\n",
       "      <th>description_trans</th>\n",
       "      <th>content_trans</th>\n",
       "    </tr>\n",
       "  </thead>\n",
       "  <tbody>\n",
       "    <tr>\n",
       "      <th>4921</th>\n",
       "      <td>15dd181ac3ab02ac5edd69a14d2f6de6</td>\n",
       "      <td>https://www.kathimerini.gr/world/562690696/ger...</td>\n",
       "      <td>kathimerini.gr</td>\n",
       "      <td>2023-10-24 19:09:35</td>\n",
       "      <td>Γερμανία: Συνελήφθη τζιχαντιστής, σχεδίαζε επί...</td>\n",
       "      <td>Newsroom 24.10.2023 • 22:09 Στη σύλληψη ενός 2...</td>\n",
       "      <td>Newsroom\\n\\n\\n \\n24.10.2023 • 22:09\\n \\n\\n\\n \\...</td>\n",
       "      <td>el</td>\n",
       "      <td>False</td>\n",
       "      <td>Greece</td>\n",
       "      <td>Germany: Jihadist arrested, planning attack on...</td>\n",
       "      <td>Newsroom 24.10.2023 • 22:09 In the arrest of a...</td>\n",
       "      <td>Newsroom\\n\\n\\n \\n24.10.2023 • 22:09\\n \\n\\n\\n \\...</td>\n",
       "    </tr>\n",
       "    <tr>\n",
       "      <th>4922</th>\n",
       "      <td>6d36025500d00818bfed6cd4bb5a8b50</td>\n",
       "      <td>https://www.kathimerini.gr/politics/562688743/...</td>\n",
       "      <td>kathimerini.gr</td>\n",
       "      <td>2023-10-24 18:59:00</td>\n",
       "      <td>«Χρηματιστήριο» για τον καθαρισμό των δασών απ...</td>\n",
       "      <td>24.10.2023 • 21:59 Με μια ιδέα βασισμένη στο ε...</td>\n",
       "      <td>24.10.2023 • 21:59\\n \\n\\n\\n \\nΜε μια ιδέα βασι...</td>\n",
       "      <td>el</td>\n",
       "      <td>False</td>\n",
       "      <td>Greece</td>\n",
       "      <td>\"Stock Exchange\" for the clearing of forests b...</td>\n",
       "      <td>24.10.2023 • 21:59 With an idea based on the E...</td>\n",
       "      <td>24.10.2023 • 21:59\\n \\n\\n\\n \\nWith an idea bas...</td>\n",
       "    </tr>\n",
       "    <tr>\n",
       "      <th>4924</th>\n",
       "      <td>f15c5356c9c1303d6146722314823d80</td>\n",
       "      <td>https://www.kathimerini.gr/world/562690600/ana...</td>\n",
       "      <td>kathimerini.gr</td>\n",
       "      <td>2023-10-24 18:19:42</td>\n",
       "      <td>Ανάλυση για Ισραήλ – Γάζα: «Λαβύρινθος» η χερσ...</td>\n",
       "      <td>24.10.2023 • 21:19 Σίγουρα, η απελευθέρωση άλλ...</td>\n",
       "      <td>24.10.2023 • 21:19\\n \\n\\n\\n \\nΣίγουρα, η απελε...</td>\n",
       "      <td>el</td>\n",
       "      <td>False</td>\n",
       "      <td>Greece</td>\n",
       "      <td>Analysis for Israel - Gaza: \"Labyrinth\" the gr...</td>\n",
       "      <td>24.10.2023 • 21:19 Certainly, the release of t...</td>\n",
       "      <td>24.10.2023 • 21:19\\n \\n\\n\\n \\nCertainly, the r...</td>\n",
       "    </tr>\n",
       "    <tr>\n",
       "      <th>4927</th>\n",
       "      <td>7dba96f70cb0000c79054341bb018067</td>\n",
       "      <td>https://www.kathimerini.gr/world/562690621/oie...</td>\n",
       "      <td>kathimerini.gr</td>\n",
       "      <td>2023-10-24 17:29:11</td>\n",
       "      <td>ΟΗΕ: Δεν μπήκαν φορτηγά βοήθειας στη Γάζα – Αφ...</td>\n",
       "      <td>Newsroom 24.10.2023 • 20:29 Τα Ηνωμένα Εθνη δή...</td>\n",
       "      <td>Newsroom\\n\\n\\n \\n24.10.2023 • 20:29\\n \\n\\n\\n \\...</td>\n",
       "      <td>el</td>\n",
       "      <td>False</td>\n",
       "      <td>Greece</td>\n",
       "      <td>UN: No aid trucks entered Gaza – The situation...</td>\n",
       "      <td>Newsroom 24.10.2023 • 20:29 The United Nations...</td>\n",
       "      <td>Newsroom\\n\\n\\n \\n24.10.2023 • 20:29\\n \\n\\n\\n \\...</td>\n",
       "    </tr>\n",
       "    <tr>\n",
       "      <th>4928</th>\n",
       "      <td>6af0c6199d94aa1e9bbc246d4394def9</td>\n",
       "      <td>https://www.kathimerini.gr/economy/562690567/k...</td>\n",
       "      <td>kathimerini.gr</td>\n",
       "      <td>2023-10-24 17:23:02</td>\n",
       "      <td>Κομισιόν: Στα 3,2 δισ. ευρώ το «κενό ΦΠΑ» στην...</td>\n",
       "      <td>Σύμφωνα με έκθεση της Κομισιόν, το έλλειμμα ΦΠ...</td>\n",
       "      <td>Κατά επιπλέον 3,2 ποσοστιαίες μονάδες μειώθηκε...</td>\n",
       "      <td>el</td>\n",
       "      <td>False</td>\n",
       "      <td>Greece</td>\n",
       "      <td>Commission: At 3.2 billion euros the \"VAT gap\"...</td>\n",
       "      <td>According to a Commission report, the VAT defi...</td>\n",
       "      <td>By an additional 3.2 percentage points, the \"v...</td>\n",
       "    </tr>\n",
       "  </tbody>\n",
       "</table>\n",
       "</div>"
      ],
      "text/plain": [
       "                                    id  \\\n",
       "4921  15dd181ac3ab02ac5edd69a14d2f6de6   \n",
       "4922  6d36025500d00818bfed6cd4bb5a8b50   \n",
       "4924  f15c5356c9c1303d6146722314823d80   \n",
       "4927  7dba96f70cb0000c79054341bb018067   \n",
       "4928  6af0c6199d94aa1e9bbc246d4394def9   \n",
       "\n",
       "                                                   link      domain_url  \\\n",
       "4921  https://www.kathimerini.gr/world/562690696/ger...  kathimerini.gr   \n",
       "4922  https://www.kathimerini.gr/politics/562688743/...  kathimerini.gr   \n",
       "4924  https://www.kathimerini.gr/world/562690600/ana...  kathimerini.gr   \n",
       "4927  https://www.kathimerini.gr/world/562690621/oie...  kathimerini.gr   \n",
       "4928  https://www.kathimerini.gr/economy/562690567/k...  kathimerini.gr   \n",
       "\n",
       "           published_date                                              title  \\\n",
       "4921  2023-10-24 19:09:35  Γερμανία: Συνελήφθη τζιχαντιστής, σχεδίαζε επί...   \n",
       "4922  2023-10-24 18:59:00  «Χρηματιστήριο» για τον καθαρισμό των δασών απ...   \n",
       "4924  2023-10-24 18:19:42  Ανάλυση για Ισραήλ – Γάζα: «Λαβύρινθος» η χερσ...   \n",
       "4927  2023-10-24 17:29:11  ΟΗΕ: Δεν μπήκαν φορτηγά βοήθειας στη Γάζα – Αφ...   \n",
       "4928  2023-10-24 17:23:02  Κομισιόν: Στα 3,2 δισ. ευρώ το «κενό ΦΠΑ» στην...   \n",
       "\n",
       "                                            description  \\\n",
       "4921  Newsroom 24.10.2023 • 22:09 Στη σύλληψη ενός 2...   \n",
       "4922  24.10.2023 • 21:59 Με μια ιδέα βασισμένη στο ε...   \n",
       "4924  24.10.2023 • 21:19 Σίγουρα, η απελευθέρωση άλλ...   \n",
       "4927  Newsroom 24.10.2023 • 20:29 Τα Ηνωμένα Εθνη δή...   \n",
       "4928  Σύμφωνα με έκθεση της Κομισιόν, το έλλειμμα ΦΠ...   \n",
       "\n",
       "                                                content language  is_opinion  \\\n",
       "4921  Newsroom\\n\\n\\n \\n24.10.2023 • 22:09\\n \\n\\n\\n \\...       el       False   \n",
       "4922  24.10.2023 • 21:59\\n \\n\\n\\n \\nΜε μια ιδέα βασι...       el       False   \n",
       "4924  24.10.2023 • 21:19\\n \\n\\n\\n \\nΣίγουρα, η απελε...       el       False   \n",
       "4927  Newsroom\\n\\n\\n \\n24.10.2023 • 20:29\\n \\n\\n\\n \\...       el       False   \n",
       "4928  Κατά επιπλέον 3,2 ποσοστιαίες μονάδες μειώθηκε...       el       False   \n",
       "\n",
       "     country                                        title_trans  \\\n",
       "4921  Greece  Germany: Jihadist arrested, planning attack on...   \n",
       "4922  Greece  \"Stock Exchange\" for the clearing of forests b...   \n",
       "4924  Greece  Analysis for Israel - Gaza: \"Labyrinth\" the gr...   \n",
       "4927  Greece  UN: No aid trucks entered Gaza – The situation...   \n",
       "4928  Greece  Commission: At 3.2 billion euros the \"VAT gap\"...   \n",
       "\n",
       "                                      description_trans  \\\n",
       "4921  Newsroom 24.10.2023 • 22:09 In the arrest of a...   \n",
       "4922  24.10.2023 • 21:59 With an idea based on the E...   \n",
       "4924  24.10.2023 • 21:19 Certainly, the release of t...   \n",
       "4927  Newsroom 24.10.2023 • 20:29 The United Nations...   \n",
       "4928  According to a Commission report, the VAT defi...   \n",
       "\n",
       "                                          content_trans  \n",
       "4921  Newsroom\\n\\n\\n \\n24.10.2023 • 22:09\\n \\n\\n\\n \\...  \n",
       "4922  24.10.2023 • 21:59\\n \\n\\n\\n \\nWith an idea bas...  \n",
       "4924  24.10.2023 • 21:19\\n \\n\\n\\n \\nCertainly, the r...  \n",
       "4927  Newsroom\\n\\n\\n \\n24.10.2023 • 20:29\\n \\n\\n\\n \\...  \n",
       "4928  By an additional 3.2 percentage points, the \"v...  "
      ]
     },
     "execution_count": 5,
     "metadata": {},
     "output_type": "execute_result"
    }
   ],
   "source": [
    "country_data = pd.read_parquet(f\"{path2SP}/EU-S Data/Automated Qualitative Checks/Data/data-extraction-1/ready4class/{country}_translated.parquet.gzip\")\n",
    "country_data.head(5)"
   ]
  },
  {
   "cell_type": "markdown",
   "metadata": {},
   "source": [
    "## Defining Chain"
   ]
  },
  {
   "cell_type": "code",
   "execution_count": 6,
   "metadata": {},
   "outputs": [],
   "source": [
    "safety_settings = {\n",
    "    HarmCategory.HARM_CATEGORY_HARASSMENT: HarmBlockThreshold.BLOCK_NONE,\n",
    "    HarmCategory.HARM_CATEGORY_HATE_SPEECH: HarmBlockThreshold.BLOCK_NONE,\n",
    "    HarmCategory.HARM_CATEGORY_SEXUALLY_EXPLICIT: HarmBlockThreshold.BLOCK_NONE,\n",
    "    HarmCategory.HARM_CATEGORY_DANGEROUS_CONTENT: HarmBlockThreshold.BLOCK_NONE\n",
    "}"
   ]
  },
  {
   "cell_type": "code",
   "execution_count": 7,
   "metadata": {},
   "outputs": [],
   "source": [
    "class JSONOutputParser(BaseOutputParser):\n",
    "    def parse(self, text: str):\n",
    "        \"\"\"\n",
    "        Parse the output of an LLM call to a valid JSON format.\n",
    "        \"\"\"\n",
    "        return json.loads(text.replace('```json', '').replace('```', ''), strict=False)"
   ]
  },
  {
   "cell_type": "code",
   "execution_count": 8,
   "metadata": {},
   "outputs": [],
   "source": [
    "def classify_article(headline, summary, body, id = None, stage_1 = True, relation = None):\n",
    "    \"\"\"\n",
    "    This function takes a headline, a summary, and the content of a news article and it sends a call to Google's Gemini\n",
    "    to classify the article. There are two different classifications: Stage 1 and Stage 2. If stage_1 is set to TRUE, then\n",
    "    the call to the model will try to answer the following question: Is this news article related or unrelated to the Rule of Law?\n",
    "    If stage_1 is set to FALSE, then the call to the model will try to rate how closely related is the news article to each\n",
    "    one of the eight pillars of the Rule of Law.\n",
    "    \"\"\"\n",
    "    # print(id)\n",
    "\n",
    "    # Defining the prompt according to which stage are we calling the function for\n",
    "    if stage_1 == True:\n",
    "        system_prompt = ptc.context_stage_1\n",
    "        human_prompt  = ptc.instructions_stage_1\n",
    "    else:\n",
    "        system_prompt = ptc.context_stage_2\n",
    "        human_prompt  = ptc.instructions_stage_2\n",
    "\n",
    "    # Setting up the Prompt Template\n",
    "    chat_prompt = ChatPromptTemplate.from_messages([\n",
    "                    (\"system\", system_prompt),\n",
    "                    (\"human\", human_prompt),\n",
    "                ])\n",
    "\n",
    "    # Defining our chain\n",
    "    chain_gemini = chat_prompt | ChatGoogleGenerativeAI(model = \"gemini-pro\",\n",
    "                                                        temperature     = 0.1, \n",
    "                                                        safety_settings = safety_settings,\n",
    "                                                        convert_system_message_to_human = True) | JSONOutputParser()\n",
    "    \n",
    "    # For Stage 2, we don't want to pass articles that were already classified as \"UNRELATED\", so we pre-defined the outcome\n",
    "    if stage_1 == False and all(keyword not in relation for keyword in [\"Related\", \"Justice\", \"Governance\"]):\n",
    "        outcome = \"Unrelated\"\n",
    "\n",
    "    else:\n",
    "        try: \n",
    "            llm_response = chain_gemini.invoke({\n",
    "                \"headline\": headline,\n",
    "                \"summary\" : summary,\n",
    "                \"body\"    : body,\n",
    "            })\n",
    "            status = True\n",
    "            time.sleep(1)   # We need to slow down the calls. given that the Gemini API has a limit of 60 calls per second\n",
    "\n",
    "        # The API can still block some of our prompts due to undefined reasons. Sadly, we can't do anything about it, so we\n",
    "        # predefine the outcome    \n",
    "        except (BlockedPromptException, StopCandidateException):\n",
    "            print(\"Prompt BLOCKED\")\n",
    "            status = False\n",
    "        \n",
    "        except JSONDecodeError:\n",
    "            print(\"Decode error... trying again...\")\n",
    "            try: \n",
    "                llm_response = chain_gemini.invoke({\n",
    "                    \"headline\": headline,\n",
    "                    \"summary\" : summary,\n",
    "                    \"body\"    : body,\n",
    "                })\n",
    "                status = True\n",
    "                time.sleep(1)\n",
    "            except JSONDecodeError:\n",
    "                print(\"Failed. Skipping article.\")\n",
    "                status = False\n",
    "\n",
    "        # We use the STATUS variable to throw an outcome to our call depending if our prompt was blocked or not and\n",
    "        # on the stage we are calling the function for\n",
    "        if status == True:\n",
    "            if stage_1 == True:\n",
    "                if \"Governance\" in llm_response[\"rol_related\"]:\n",
    "                    llm_response[\"rol_related\"] == \"Related\"\n",
    "                if \"Justice\" in llm_response[\"rol_related\"]:\n",
    "                    llm_response[\"rol_related\"] == \"Related\"\n",
    "                outcome = [llm_response[\"rol_related\"], llm_response[\"country\"]]\n",
    "\n",
    "            else:\n",
    "                outcome = json.dumps(llm_response[\"pillars_relation\"])\n",
    "        else:\n",
    "            outcome = \"Skipped article\"\n",
    "\n",
    "    return outcome"
   ]
  },
  {
   "cell_type": "code",
   "execution_count": 9,
   "metadata": {},
   "outputs": [
    {
     "data": {
      "text/plain": [
       "(47182, 13)"
      ]
     },
     "execution_count": 9,
     "metadata": {},
     "output_type": "execute_result"
    }
   ],
   "source": [
    "country_data.shape"
   ]
  },
  {
   "cell_type": "markdown",
   "metadata": {},
   "source": [
    "## Sending calls in sets and batches"
   ]
  },
  {
   "cell_type": "code",
   "execution_count": 11,
   "metadata": {},
   "outputs": [
    {
     "name": "stdout",
     "output_type": "stream",
     "text": [
      "Directory already exists\n"
     ]
    }
   ],
   "source": [
    "try:\n",
    "    os.mkdir(f\"{path2SP}/EU-S Data/Automated Qualitative Checks/Data/data-classification-1/{country}\")\n",
    "    print(\"Directory created\")\n",
    "except FileExistsError:\n",
    "    print(\"Directory already exists\")"
   ]
  },
  {
   "cell_type": "code",
   "execution_count": 15,
   "metadata": {},
   "outputs": [
    {
     "name": "stdout",
     "output_type": "stream",
     "text": [
      "=======================================\n",
      "Starting with SET 24 out of 48\n",
      "=======================================\n",
      "============================================================================\n",
      "Sending batch number: 1, start: 23000, end: 23100\n",
      "============================================================================\n",
      "====== STAGE 1 =====\n"
     ]
    }
   ],
   "source": [
    "nsets = math.ceil(len(country_data)/1000)\n",
    "for set in range(1, nsets+1):\n",
    "    \n",
    "    print(\"=======================================\")\n",
    "    print(f\"Starting with SET {set} out of {nsets}\")\n",
    "    print(\"=======================================\")\n",
    "\n",
    "    results = []\n",
    "\n",
    "    for batch_number in range(1,11):\n",
    "\n",
    "        # Subsetting data\n",
    "        starting_row = ((set-1)*1000)+((batch_number-1)*100)\n",
    "        end_row      = starting_row+100\n",
    "        batch_subset = country_data.copy().iloc[starting_row:end_row]\n",
    "\n",
    "        if len(batch_subset) > 0 :\n",
    "            print(\"============================================================================\")\n",
    "            print(f\"Sending batch number: {batch_number}, start: {starting_row}, end: {end_row}\")\n",
    "            print(\"============================================================================\")\n",
    "            \n",
    "            # Applying classifiers\n",
    "            print(\"====== STAGE 1 =====\")\n",
    "            batch_subset[[\"topic_related\", \"location_events\"]] = batch_subset.apply(lambda row: pd.Series(classify_article(\n",
    "                row[\"title_trans\"], \n",
    "                row[\"description_trans\"], \n",
    "                row[\"content_trans\"], \n",
    "                row[\"id\"],\n",
    "                stage_1 = True\n",
    "            )), axis = 1)\n",
    "\n",
    "            print(\"====== STAGE 2 =====\")\n",
    "            batch_subset[\"pillars_score\"] = batch_subset.apply(lambda row: classify_article(\n",
    "                row[\"title_trans\"], \n",
    "                row[\"description_trans\"], \n",
    "                row[\"content_trans\"], \n",
    "                row[\"id\"],\n",
    "                relation = row[\"topic_related\"],\n",
    "                stage_1  = False\n",
    "            ), axis = 1)\n",
    "\n",
    "            results.append(batch_subset)\n",
    "\n",
    "    # Collapsing and saving data\n",
    "    collapsed_data = pd.concat(results).drop_duplicates(subset=\"id\")\n",
    "    collapsed_data.to_parquet(f\"{path2SP}/EU-S Data/Automated Qualitative Checks/Data/data-classification-1/{country}/{country}_set_{set}.parquet.gzip\", compression=\"gzip\")\n",
    "    time.sleep(5)"
   ]
  },
  {
   "cell_type": "markdown",
   "metadata": {},
   "source": [
    "## Compiling sets"
   ]
  },
  {
   "cell_type": "code",
   "execution_count": 12,
   "metadata": {},
   "outputs": [],
   "source": [
    "classified_data_list = [\n",
    "    pd.read_parquet(f\"{path2SP}/EU-S Data/Automated Qualitative Checks/Data/data-classification-1/{country}/{file}\") \n",
    "    for file in os.listdir(f\"{path2SP}/EU-S Data/Automated Qualitative Checks/Data/data-classification-1/{country}\")\n",
    "]\n",
    "classified_data = pd.concat(classified_data_list)"
   ]
  },
  {
   "cell_type": "markdown",
   "metadata": {},
   "source": [
    "## Converting pillar scores to binary"
   ]
  },
  {
   "cell_type": "code",
   "execution_count": 14,
   "metadata": {},
   "outputs": [],
   "source": [
    "def extract_score(string, pillar, t = 7):\n",
    "    \"\"\"\n",
    "    This function extracts scores from a string and returns a binary value that is equal to 1 if the score is higher/equal\n",
    "    than a specific threshold, and it returns zero if otherwise.\n",
    "    \"\"\"\n",
    "    try:\n",
    "        scores_dicts = ast.literal_eval(string)\n",
    "        ratings = [v for x in scores_dicts for _,v in x.items()]\n",
    "        keys    = [k for x in scores_dicts for k,_ in x.items()]\n",
    "        pattern = str(pillar) + \". \"\n",
    "        idx     = next((index for index, element in enumerate(keys) if pattern in element), None)\n",
    "\n",
    "        if idx is not None:\n",
    "            score = ratings[idx]\n",
    "        else:\n",
    "            score = 0\n",
    "            \n",
    "        if score >= t:\n",
    "            return 1\n",
    "        else:\n",
    "            return 0\n",
    "        \n",
    "    except ValueError:\n",
    "        if string == \"Unrelated\":\n",
    "            return 0\n",
    "    \n",
    "    except SyntaxError:\n",
    "        if string == \"Skipped article\":\n",
    "            return 0"
   ]
  },
  {
   "cell_type": "code",
   "execution_count": 15,
   "metadata": {},
   "outputs": [],
   "source": [
    "for i in range(1, 9):\n",
    "    var_name     = \"pillar_\" + str(i)\n",
    "    classified_data[var_name] = classified_data[\"pillars_score\"].apply(lambda x: extract_score(x, i))"
   ]
  },
  {
   "cell_type": "markdown",
   "metadata": {},
   "source": [
    "## Cleaning location of events and topic relation"
   ]
  },
  {
   "cell_type": "code",
   "execution_count": 16,
   "metadata": {},
   "outputs": [],
   "source": [
    "def loc2bin(location, country):\n",
    "    if pd.isna(location):\n",
    "        return False\n",
    "    elif country in location:\n",
    "        return True\n",
    "    else:\n",
    "        return False"
   ]
  },
  {
   "cell_type": "code",
   "execution_count": 17,
   "metadata": {},
   "outputs": [],
   "source": [
    "eu_member_states = [\n",
    "    \"Austria\", \"Belgium\", \"Bulgaria\", \"Croatia\", \"Cyprus\", \"Czech\", \"Denmark\", \"Estonia\", \"Finland\", \"France\",\n",
    "    \"Germany\", \"Greece\", \"Hungary\", \"Ireland\", \"Italy\", \"Latvia\", \"Lithuania\", \"Luxembourg\", \"Malta\", \"Netherlands\",\n",
    "    \"Poland\", \"Portugal\", \"Romania\", \"Slovakia\", \"Slovenia\", \"Spain\", \"Sweden\", \"Euro\"\n",
    "]\n",
    "for member in eu_member_states:\n",
    "    var_name = f\"location_{member}\"\n",
    "    classified_data[var_name] = classified_data[\"location_events\"].apply(lambda x: loc2bin(x, member))"
   ]
  },
  {
   "cell_type": "markdown",
   "metadata": {},
   "source": [
    "## Saving data"
   ]
  },
  {
   "cell_type": "code",
   "execution_count": 18,
   "metadata": {},
   "outputs": [],
   "source": [
    "classified_data.to_parquet(f\"{path2SP}/EU-S Data/Automated Qualitative Checks/Data/data-classification-1/0_compiled/{country}_classified.parquet.gzip\", compression=\"gzip\")"
   ]
  }
 ],
 "metadata": {
  "kernelspec": {
   "display_name": "Python 3",
   "language": "python",
   "name": "python3"
  },
  "language_info": {
   "codemirror_mode": {
    "name": "ipython",
    "version": 3
   },
   "file_extension": ".py",
   "mimetype": "text/x-python",
   "name": "python",
   "nbconvert_exporter": "python",
   "pygments_lexer": "ipython3",
   "version": "3.11.9"
  }
 },
 "nbformat": 4,
 "nbformat_minor": 2
}
