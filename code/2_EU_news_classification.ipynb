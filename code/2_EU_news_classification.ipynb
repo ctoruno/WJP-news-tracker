{
 "cells": [
  {
   "cell_type": "code",
   "execution_count": 74,
   "metadata": {},
   "outputs": [],
   "source": [
    "import os\n",
    "import ast\n",
    "import math\n",
    "import json\n",
    "import time\n",
    "import pandas as pd\n",
    "from dotenv import load_dotenv\n",
    "import prompt_templates_classification as ptc\n",
    "from langchain.schema import BaseOutputParser\n",
    "from langchain.prompts.chat import ChatPromptTemplate\n",
    "from langchain_google_genai import (\n",
    "    ChatGoogleGenerativeAI,\n",
    "    HarmBlockThreshold,\n",
    "    HarmCategory\n",
    ")\n",
    "from json.decoder import JSONDecodeError\n",
    "from google.generativeai.types import BlockedPromptException\n",
    "from google.generativeai.types.generation_types import StopCandidateException"
   ]
  },
  {
   "cell_type": "code",
   "execution_count": 83,
   "metadata": {},
   "outputs": [],
   "source": [
    "country = \"Malta\"\n",
    "path2SP = \"/Users/ctoruno/OneDrive - World Justice Project/EU Subnational\""
   ]
  },
  {
   "cell_type": "markdown",
   "metadata": {},
   "source": [
    "## Loading API key"
   ]
  },
  {
   "cell_type": "code",
   "execution_count": 76,
   "metadata": {},
   "outputs": [],
   "source": [
    "load_dotenv()\n",
    "GoogleAI_key = os.getenv(\"googleAI_API_key\")\n",
    "os.environ['GOOGLE_API_KEY'] = GoogleAI_key"
   ]
  },
  {
   "cell_type": "markdown",
   "metadata": {},
   "source": [
    "## Loading data"
   ]
  },
  {
   "cell_type": "code",
   "execution_count": 77,
   "metadata": {},
   "outputs": [],
   "source": [
    "def showEverything(df):\n",
    "    with pd.option_context('display.max_rows', None,\n",
    "                        'display.max_columns', None,\n",
    "                        'display.width', 1000,\n",
    "                        'display.precision', 3,\n",
    "                        'display.colheader_justify', 'left'):\n",
    "        display(df)"
   ]
  },
  {
   "cell_type": "code",
   "execution_count": 84,
   "metadata": {},
   "outputs": [
    {
     "data": {
      "text/html": [
       "<div>\n",
       "<style scoped>\n",
       "    .dataframe tbody tr th:only-of-type {\n",
       "        vertical-align: middle;\n",
       "    }\n",
       "\n",
       "    .dataframe tbody tr th {\n",
       "        vertical-align: top;\n",
       "    }\n",
       "\n",
       "    .dataframe thead th {\n",
       "        text-align: right;\n",
       "    }\n",
       "</style>\n",
       "<table border=\"1\" class=\"dataframe\">\n",
       "  <thead>\n",
       "    <tr style=\"text-align: right;\">\n",
       "      <th></th>\n",
       "      <th>id</th>\n",
       "      <th>link</th>\n",
       "      <th>domain_url</th>\n",
       "      <th>published_date</th>\n",
       "      <th>title</th>\n",
       "      <th>description</th>\n",
       "      <th>content</th>\n",
       "      <th>language</th>\n",
       "      <th>is_opinion</th>\n",
       "      <th>country</th>\n",
       "      <th>title_trans</th>\n",
       "      <th>description_trans</th>\n",
       "      <th>content_trans</th>\n",
       "    </tr>\n",
       "  </thead>\n",
       "  <tbody>\n",
       "    <tr>\n",
       "      <th>6000</th>\n",
       "      <td>52721628de791844e92ec46d76281397</td>\n",
       "      <td>https://expresso.pt/opiniao/2023-08-23-Nada-mu...</td>\n",
       "      <td>expresso.pt</td>\n",
       "      <td>2023-08-23 16:56:45</td>\n",
       "      <td>Nada mudará na habitação, mas haverá confronto...</td>\n",
       "      <td>Um governo de esquerda teria certamente de enf...</td>\n",
       "      <td>Nada mudará nos problemas da habitação com est...</td>\n",
       "      <td>pt</td>\n",
       "      <td>False</td>\n",
       "      <td>Portugal</td>\n",
       "      <td>Nothing will change in housing, but there will...</td>\n",
       "      <td>A left-wing government would certainly have to...</td>\n",
       "      <td>Nothing will change in housing problems with t...</td>\n",
       "    </tr>\n",
       "    <tr>\n",
       "      <th>6001</th>\n",
       "      <td>2dfc1609bc84b8ae739ce51e32b16ace</td>\n",
       "      <td>https://expresso.pt/sociedade/2023-08-23-Lar-i...</td>\n",
       "      <td>expresso.pt</td>\n",
       "      <td>2023-08-23 16:43:06</td>\n",
       "      <td>Lar ilegal foi fechado em Vila Franca de Xira,...</td>\n",
       "      <td>O Instituto da Segurança Social garante que de...</td>\n",
       "      <td>O Instituto da Segurança Social (ISS) afirmou ...</td>\n",
       "      <td>pt</td>\n",
       "      <td>False</td>\n",
       "      <td>Portugal</td>\n",
       "      <td>Illegal home was closed in Vila Franca de Xira...</td>\n",
       "      <td>The Social Security Institute guarantees that ...</td>\n",
       "      <td>The Social Security Institute (ISS) stated thi...</td>\n",
       "    </tr>\n",
       "    <tr>\n",
       "      <th>6002</th>\n",
       "      <td>64e39d4b061ce104bbf09bc9296a11b8</td>\n",
       "      <td>https://expresso.pt/economia/empresas/2023-08-...</td>\n",
       "      <td>expresso.pt</td>\n",
       "      <td>2023-08-23 16:04:10</td>\n",
       "      <td>EUA preparam-se para 'apertar o cerco' aos fun...</td>\n",
       "      <td>O regulador do mercado de valores mobiliários ...</td>\n",
       "      <td>O regulador do mercado de valores mobiliários ...</td>\n",
       "      <td>pt</td>\n",
       "      <td>False</td>\n",
       "      <td>Portugal</td>\n",
       "      <td>US prepares to 'tighten the siege' on investme...</td>\n",
       "      <td>The securities market regulator is preparing t...</td>\n",
       "      <td>The United States securities market regulator,...</td>\n",
       "    </tr>\n",
       "    <tr>\n",
       "      <th>6003</th>\n",
       "      <td>269ccd75e5209ab8563f6bed88e55d42</td>\n",
       "      <td>https://expresso.pt/sociedade/incendios/2023-0...</td>\n",
       "      <td>expresso.pt</td>\n",
       "      <td>2023-08-23 15:55:37</td>\n",
       "      <td>Fogo de Nelas já provocou 4 feridos e ameaça z...</td>\n",
       "      <td>Mais de 1500 bombeiros combatem 36 fogos ativo...</td>\n",
       "      <td>Um violento incêndio florestal está a rodear a...</td>\n",
       "      <td>pt</td>\n",
       "      <td>False</td>\n",
       "      <td>Portugal</td>\n",
       "      <td>Nelas fire has already caused 4 injuries and t...</td>\n",
       "      <td>More than 1500 firefighters are fighting 36 ac...</td>\n",
       "      <td>A violent forest fire is surrounding the town ...</td>\n",
       "    </tr>\n",
       "    <tr>\n",
       "      <th>6004</th>\n",
       "      <td>9996e070c2cd77ef08e27f454f6a6050</td>\n",
       "      <td>https://expresso.pt/politica/2023-08-23-Chega-...</td>\n",
       "      <td>expresso.pt</td>\n",
       "      <td>2023-08-23 15:43:11</td>\n",
       "      <td>Chega 'violentamente em desacordo' com o Tribu...</td>\n",
       "      <td>O líder do Chega confirma que será convocada u...</td>\n",
       "      <td>André Ventura assume que o Chega está 'violent...</td>\n",
       "      <td>pt</td>\n",
       "      <td>False</td>\n",
       "      <td>Portugal</td>\n",
       "      <td>Arrives 'violently in disagreement' with the C...</td>\n",
       "      <td>The leader of Chega confirms that a new Nation...</td>\n",
       "      <td>André Ventura assumes that Chega is 'violently...</td>\n",
       "    </tr>\n",
       "  </tbody>\n",
       "</table>\n",
       "</div>"
      ],
      "text/plain": [
       "                                    id  \\\n",
       "6000  52721628de791844e92ec46d76281397   \n",
       "6001  2dfc1609bc84b8ae739ce51e32b16ace   \n",
       "6002  64e39d4b061ce104bbf09bc9296a11b8   \n",
       "6003  269ccd75e5209ab8563f6bed88e55d42   \n",
       "6004  9996e070c2cd77ef08e27f454f6a6050   \n",
       "\n",
       "                                                   link   domain_url  \\\n",
       "6000  https://expresso.pt/opiniao/2023-08-23-Nada-mu...  expresso.pt   \n",
       "6001  https://expresso.pt/sociedade/2023-08-23-Lar-i...  expresso.pt   \n",
       "6002  https://expresso.pt/economia/empresas/2023-08-...  expresso.pt   \n",
       "6003  https://expresso.pt/sociedade/incendios/2023-0...  expresso.pt   \n",
       "6004  https://expresso.pt/politica/2023-08-23-Chega-...  expresso.pt   \n",
       "\n",
       "           published_date                                              title  \\\n",
       "6000  2023-08-23 16:56:45  Nada mudará na habitação, mas haverá confronto...   \n",
       "6001  2023-08-23 16:43:06  Lar ilegal foi fechado em Vila Franca de Xira,...   \n",
       "6002  2023-08-23 16:04:10  EUA preparam-se para 'apertar o cerco' aos fun...   \n",
       "6003  2023-08-23 15:55:37  Fogo de Nelas já provocou 4 feridos e ameaça z...   \n",
       "6004  2023-08-23 15:43:11  Chega 'violentamente em desacordo' com o Tribu...   \n",
       "\n",
       "                                            description  \\\n",
       "6000  Um governo de esquerda teria certamente de enf...   \n",
       "6001  O Instituto da Segurança Social garante que de...   \n",
       "6002  O regulador do mercado de valores mobiliários ...   \n",
       "6003  Mais de 1500 bombeiros combatem 36 fogos ativo...   \n",
       "6004  O líder do Chega confirma que será convocada u...   \n",
       "\n",
       "                                                content language  is_opinion  \\\n",
       "6000  Nada mudará nos problemas da habitação com est...       pt       False   \n",
       "6001  O Instituto da Segurança Social (ISS) afirmou ...       pt       False   \n",
       "6002  O regulador do mercado de valores mobiliários ...       pt       False   \n",
       "6003  Um violento incêndio florestal está a rodear a...       pt       False   \n",
       "6004  André Ventura assume que o Chega está 'violent...       pt       False   \n",
       "\n",
       "       country                                        title_trans  \\\n",
       "6000  Portugal  Nothing will change in housing, but there will...   \n",
       "6001  Portugal  Illegal home was closed in Vila Franca de Xira...   \n",
       "6002  Portugal  US prepares to 'tighten the siege' on investme...   \n",
       "6003  Portugal  Nelas fire has already caused 4 injuries and t...   \n",
       "6004  Portugal  Arrives 'violently in disagreement' with the C...   \n",
       "\n",
       "                                      description_trans  \\\n",
       "6000  A left-wing government would certainly have to...   \n",
       "6001  The Social Security Institute guarantees that ...   \n",
       "6002  The securities market regulator is preparing t...   \n",
       "6003  More than 1500 firefighters are fighting 36 ac...   \n",
       "6004  The leader of Chega confirms that a new Nation...   \n",
       "\n",
       "                                          content_trans  \n",
       "6000  Nothing will change in housing problems with t...  \n",
       "6001  The Social Security Institute (ISS) stated thi...  \n",
       "6002  The United States securities market regulator,...  \n",
       "6003  A violent forest fire is surrounding the town ...  \n",
       "6004  André Ventura assumes that Chega is 'violently...  "
      ]
     },
     "execution_count": 84,
     "metadata": {},
     "output_type": "execute_result"
    }
   ],
   "source": [
    "country_data = pd.read_parquet(f\"{path2SP}/EU-S Data/Automated Qualitative Checks/Data/data-extraction-1/ready4class/{country}_translated.parquet.gzip\")\n",
    "country_data.head(5)"
   ]
  },
  {
   "cell_type": "markdown",
   "metadata": {},
   "source": [
    "## Defining Chain"
   ]
  },
  {
   "cell_type": "code",
   "execution_count": 79,
   "metadata": {},
   "outputs": [],
   "source": [
    "safety_settings = {\n",
    "    HarmCategory.HARM_CATEGORY_HARASSMENT: HarmBlockThreshold.BLOCK_NONE,\n",
    "    HarmCategory.HARM_CATEGORY_HATE_SPEECH: HarmBlockThreshold.BLOCK_NONE,\n",
    "    HarmCategory.HARM_CATEGORY_SEXUALLY_EXPLICIT: HarmBlockThreshold.BLOCK_NONE,\n",
    "    HarmCategory.HARM_CATEGORY_DANGEROUS_CONTENT: HarmBlockThreshold.BLOCK_NONE\n",
    "}"
   ]
  },
  {
   "cell_type": "code",
   "execution_count": 80,
   "metadata": {},
   "outputs": [],
   "source": [
    "class JSONOutputParser(BaseOutputParser):\n",
    "    def parse(self, text: str):\n",
    "        \"\"\"\n",
    "        Parse the output of an LLM call to a valid JSON format.\n",
    "        \"\"\"\n",
    "        return json.loads(text.replace('```json', '').replace('```', ''), strict=False)"
   ]
  },
  {
   "cell_type": "code",
   "execution_count": 81,
   "metadata": {},
   "outputs": [],
   "source": [
    "def classify_article(headline, summary, body, id = None, stage_1 = True, relation = None):\n",
    "    \"\"\"\n",
    "    This function takes a headline, a summary, and the content of a news article and it sends a call to Google's Gemini\n",
    "    to classify the article. There are two different classifications: Stage 1 and Stage 2. If stage_1 is set to TRUE, then\n",
    "    the call to the model will try to answer the following question: Is this news article related or unrelated to the Rule of Law?\n",
    "    If stage_1 is set to FALSE, then the call to the model will try to rate how closely related is the news article to each\n",
    "    one of the eight pillars of the Rule of Law.\n",
    "    \"\"\"\n",
    "    # print(id)\n",
    "\n",
    "    # Defining the prompt according to which stage are we calling the function for\n",
    "    if stage_1 == True:\n",
    "        system_prompt = ptc.context_stage_1\n",
    "        human_prompt  = ptc.instructions_stage_1\n",
    "    else:\n",
    "        system_prompt = ptc.context_stage_2\n",
    "        human_prompt  = ptc.instructions_stage_2\n",
    "\n",
    "    # Setting up the Prompt Template\n",
    "    chat_prompt = ChatPromptTemplate.from_messages([\n",
    "                    (\"system\", system_prompt),\n",
    "                    (\"human\", human_prompt),\n",
    "                ])\n",
    "\n",
    "    # Defining our chain\n",
    "    chain_gemini = chat_prompt | ChatGoogleGenerativeAI(model = \"gemini-pro\",\n",
    "                                                        temperature     = 0.1, \n",
    "                                                        safety_settings = safety_settings,\n",
    "                                                        convert_system_message_to_human = True) | JSONOutputParser()\n",
    "    \n",
    "    # For Stage 2, we don't want to pass articles that were already classified as \"UNRELATED\", so we pre-defined the outcome\n",
    "    if stage_1 == False and all(keyword not in relation for keyword in [\"Related\", \"Justice\", \"Governance\"]):\n",
    "        outcome = \"Unrelated\"\n",
    "\n",
    "    else:\n",
    "        try: \n",
    "            llm_response = chain_gemini.invoke({\n",
    "                \"headline\": headline,\n",
    "                \"summary\" : summary,\n",
    "                \"body\"    : body,\n",
    "            })\n",
    "            status = True\n",
    "            time.sleep(1)   # We need to slow down the calls. given that the Gemini API has a limit of 60 calls per second\n",
    "\n",
    "        # The API can still block some of our prompts due to undefined reasons. Sadly, we can't do anything about it, so we\n",
    "        # predefine the outcome    \n",
    "        except (BlockedPromptException, StopCandidateException):\n",
    "            print(\"Prompt BLOCKED\")\n",
    "            status = False\n",
    "        \n",
    "        except JSONDecodeError:\n",
    "            print(\"Decode error... trying again...\")\n",
    "            try: \n",
    "                llm_response = chain_gemini.invoke({\n",
    "                    \"headline\": headline,\n",
    "                    \"summary\" : summary,\n",
    "                    \"body\"    : body,\n",
    "                })\n",
    "                status = True\n",
    "                time.sleep(1)\n",
    "            except JSONDecodeError:\n",
    "                print(\"Failed. Skipping article.\")\n",
    "                status = False\n",
    "\n",
    "        # We use the STATUS variable to throw an outcome to our call depending if our prompt was blocked or not and\n",
    "        # on the stage we are calling the function for\n",
    "        if status == True:\n",
    "            if stage_1 == True:\n",
    "                if \"Governance\" in llm_response[\"rol_related\"]:\n",
    "                    llm_response[\"rol_related\"] == \"Related\"\n",
    "                if \"Justice\" in llm_response[\"rol_related\"]:\n",
    "                    llm_response[\"rol_related\"] == \"Related\"\n",
    "                outcome = [llm_response[\"rol_related\"], llm_response[\"country\"]]\n",
    "\n",
    "            else:\n",
    "                outcome = json.dumps(llm_response[\"pillars_relation\"])\n",
    "        else:\n",
    "            outcome = \"Skipped article\"\n",
    "\n",
    "    return outcome"
   ]
  },
  {
   "cell_type": "code",
   "execution_count": 85,
   "metadata": {},
   "outputs": [
    {
     "data": {
      "text/plain": [
       "(29416, 13)"
      ]
     },
     "execution_count": 85,
     "metadata": {},
     "output_type": "execute_result"
    }
   ],
   "source": [
    "country_data.shape"
   ]
  },
  {
   "cell_type": "markdown",
   "metadata": {},
   "source": [
    "## Sending calls in sets and batches"
   ]
  },
  {
   "cell_type": "code",
   "execution_count": null,
   "metadata": {},
   "outputs": [],
   "source": [
    "nsets = math.ceil(len(country_data)/1000)\n",
    "for set in range(1, nsets+1):\n",
    "# for set in range(28, nsets+1):\n",
    "\n",
    "    print(\"=======================================\")\n",
    "    print(f\"Starting with SET {set} out of {nsets}\")\n",
    "    print(\"=======================================\")\n",
    "\n",
    "    results = []\n",
    "\n",
    "    for batch_number in range(1,11):\n",
    "\n",
    "        # Subsetting data\n",
    "        starting_row = ((set-1)*1000)+((batch_number-1)*100)\n",
    "        end_row      = starting_row+100\n",
    "        batch_subset = country_data.copy().iloc[starting_row:end_row]\n",
    "\n",
    "        if len(batch_subset) > 0 :\n",
    "            print(\"============================================================================\")\n",
    "            print(f\"Sending batch number: {batch_number}, start: {starting_row}, end: {end_row}\")\n",
    "            print(\"============================================================================\")\n",
    "            \n",
    "            # Applying classifiers\n",
    "            print(\"====== STAGE 1 =====\")\n",
    "            batch_subset[[\"topic_related\", \"location_events\"]] = batch_subset.apply(lambda row: pd.Series(classify_article(\n",
    "                row[\"title_trans\"], \n",
    "                row[\"description_trans\"], \n",
    "                row[\"content_trans\"], \n",
    "                row[\"id\"],\n",
    "                stage_1 = True\n",
    "            )), axis = 1)\n",
    "\n",
    "            print(\"====== STAGE 2 =====\")\n",
    "            batch_subset[\"pillars_score\"] = batch_subset.apply(lambda row: classify_article(\n",
    "                row[\"title_trans\"], \n",
    "                row[\"description_trans\"], \n",
    "                row[\"content_trans\"], \n",
    "                row[\"id\"],\n",
    "                relation = row[\"topic_related\"],\n",
    "                stage_1  = False\n",
    "            ), axis = 1)\n",
    "\n",
    "            results.append(batch_subset)\n",
    "\n",
    "    # Collapsing and saving data\n",
    "    collapsed_data = pd.concat(results).drop_duplicates(subset=\"id\")\n",
    "    collapsed_data.to_parquet(f\"{path2SP}/EU-S Data/Automated Qualitative Checks/Data/data-classification-1/{country}/{country}_set_{set}.parquet.gzip\", compression=\"gzip\")\n",
    "    time.sleep(5)"
   ]
  },
  {
   "cell_type": "markdown",
   "metadata": {},
   "source": [
    "## Compiling sets"
   ]
  },
  {
   "cell_type": "code",
   "execution_count": 87,
   "metadata": {},
   "outputs": [],
   "source": [
    "classified_data_list = [\n",
    "    pd.read_parquet(f\"{path2SP}/EU-S Data/Automated Qualitative Checks/Data/data-classification-1/{country}/{file}\") \n",
    "    for file in os.listdir(f\"{path2SP}/EU-S Data/Automated Qualitative Checks/Data/data-classification-1/{country}\")\n",
    "]\n",
    "classified_data = pd.concat(classified_data_list)"
   ]
  },
  {
   "cell_type": "markdown",
   "metadata": {},
   "source": [
    "## Converting pillar scores to binary"
   ]
  },
  {
   "cell_type": "code",
   "execution_count": 88,
   "metadata": {},
   "outputs": [],
   "source": [
    "def extract_score(string, pillar, t = 7):\n",
    "    \"\"\"\n",
    "    This function extracts scores from a string and returns a binary value that is equal to 1 if the score is higher/equal\n",
    "    than a specific threshold, and it returns zero if otherwise.\n",
    "    \"\"\"\n",
    "    try:\n",
    "        scores_dicts = ast.literal_eval(string)\n",
    "        ratings = [v for x in scores_dicts for _,v in x.items()]\n",
    "        keys    = [k for x in scores_dicts for k,_ in x.items()]\n",
    "        pattern = str(pillar) + \". \"\n",
    "        idx     = next((index for index, element in enumerate(keys) if pattern in element), None)\n",
    "\n",
    "        if idx is not None:\n",
    "            score = ratings[idx]\n",
    "        else:\n",
    "            score = 0\n",
    "            \n",
    "        if score >= t:\n",
    "            return 1\n",
    "        else:\n",
    "            return 0\n",
    "        \n",
    "    except ValueError:\n",
    "        if string == \"Unrelated\":\n",
    "            return 0\n",
    "    \n",
    "    except SyntaxError:\n",
    "        if string == \"Skipped article\":\n",
    "            return 0"
   ]
  },
  {
   "cell_type": "code",
   "execution_count": 89,
   "metadata": {},
   "outputs": [],
   "source": [
    "for i in range(1, 9):\n",
    "    var_name     = \"pillar_\" + str(i)\n",
    "    classified_data[var_name] = classified_data[\"pillars_score\"].apply(lambda x: extract_score(x, i))"
   ]
  },
  {
   "cell_type": "markdown",
   "metadata": {},
   "source": [
    "## Cleaning location of events and topic relation"
   ]
  },
  {
   "cell_type": "code",
   "execution_count": 90,
   "metadata": {},
   "outputs": [],
   "source": [
    "def loc2bin(location, country):\n",
    "    if pd.isna(location):\n",
    "        return False\n",
    "    elif country in location:\n",
    "        return True\n",
    "    else:\n",
    "        return False"
   ]
  },
  {
   "cell_type": "code",
   "execution_count": 91,
   "metadata": {},
   "outputs": [],
   "source": [
    "eu_member_states = [\n",
    "    \"Austria\", \"Belgium\", \"Bulgaria\", \"Croatia\", \"Cyprus\", \"Czech\", \"Denmark\", \"Estonia\", \"Finland\", \"France\",\n",
    "    \"Germany\", \"Greece\", \"Hungary\", \"Ireland\", \"Italy\", \"Latvia\", \"Lithuania\", \"Luxembourg\", \"Malta\", \"Netherlands\",\n",
    "    \"Poland\", \"Portugal\", \"Romania\", \"Slovakia\", \"Slovenia\", \"Spain\", \"Sweden\", \"Euro\"\n",
    "]\n",
    "for member in eu_member_states:\n",
    "    var_name = f\"location_{member}\"\n",
    "    classified_data[var_name] = classified_data[\"location_events\"].apply(lambda x: loc2bin(x, member))"
   ]
  },
  {
   "cell_type": "markdown",
   "metadata": {},
   "source": [
    "## Saving data"
   ]
  },
  {
   "cell_type": "code",
   "execution_count": 92,
   "metadata": {},
   "outputs": [],
   "source": [
    "classified_data.to_parquet(f\"{path2SP}/EU-S Data/Automated Qualitative Checks/Data/data-classification-1/0_compiled/{country}_classified.parquet.gzip\", compression=\"gzip\")"
   ]
  }
 ],
 "metadata": {
  "kernelspec": {
   "display_name": "Python 3",
   "language": "python",
   "name": "python3"
  },
  "language_info": {
   "codemirror_mode": {
    "name": "ipython",
    "version": 3
   },
   "file_extension": ".py",
   "mimetype": "text/x-python",
   "name": "python",
   "nbconvert_exporter": "python",
   "pygments_lexer": "ipython3",
   "version": "3.11.8"
  }
 },
 "nbformat": 4,
 "nbformat_minor": 2
}
