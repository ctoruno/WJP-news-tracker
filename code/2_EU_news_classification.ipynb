{
 "cells": [
  {
   "cell_type": "code",
   "execution_count": 1,
   "metadata": {},
   "outputs": [],
   "source": [
    "import os\n",
    "import ast\n",
    "import math\n",
    "import json\n",
    "import time\n",
    "import pandas as pd\n",
    "from dotenv import load_dotenv\n",
    "import prompt_templates_classification as ptc\n",
    "from langchain.schema import BaseOutputParser\n",
    "from langchain.prompts.chat import ChatPromptTemplate\n",
    "from langchain_google_genai import (\n",
    "    ChatGoogleGenerativeAI,\n",
    "    HarmBlockThreshold,\n",
    "    HarmCategory\n",
    ")\n",
    "from json.decoder import JSONDecodeError\n",
    "from google.generativeai.types import BlockedPromptException\n",
    "from google.generativeai.types.generation_types import StopCandidateException"
   ]
  },
  {
   "cell_type": "code",
   "execution_count": 12,
   "metadata": {},
   "outputs": [],
   "source": [
    "country = \"Hungary\"\n",
    "path2SP = \"/Users/ctoruno/OneDrive - World Justice Project/EU Subnational\""
   ]
  },
  {
   "cell_type": "markdown",
   "metadata": {},
   "source": [
    "## Loading API key"
   ]
  },
  {
   "cell_type": "code",
   "execution_count": 3,
   "metadata": {},
   "outputs": [],
   "source": [
    "load_dotenv()\n",
    "GoogleAI_key = os.getenv(\"googleAI_API_key\")\n",
    "os.environ['GOOGLE_API_KEY'] = GoogleAI_key"
   ]
  },
  {
   "cell_type": "markdown",
   "metadata": {},
   "source": [
    "## Loading data"
   ]
  },
  {
   "cell_type": "code",
   "execution_count": 4,
   "metadata": {},
   "outputs": [],
   "source": [
    "def showEverything(df):\n",
    "    with pd.option_context('display.max_rows', None,\n",
    "                        'display.max_columns', None,\n",
    "                        'display.width', 1000,\n",
    "                        'display.precision', 3,\n",
    "                        'display.colheader_justify', 'left'):\n",
    "        display(df)"
   ]
  },
  {
   "cell_type": "code",
   "execution_count": 13,
   "metadata": {},
   "outputs": [
    {
     "data": {
      "text/html": [
       "<div>\n",
       "<style scoped>\n",
       "    .dataframe tbody tr th:only-of-type {\n",
       "        vertical-align: middle;\n",
       "    }\n",
       "\n",
       "    .dataframe tbody tr th {\n",
       "        vertical-align: top;\n",
       "    }\n",
       "\n",
       "    .dataframe thead th {\n",
       "        text-align: right;\n",
       "    }\n",
       "</style>\n",
       "<table border=\"1\" class=\"dataframe\">\n",
       "  <thead>\n",
       "    <tr style=\"text-align: right;\">\n",
       "      <th></th>\n",
       "      <th>id</th>\n",
       "      <th>link</th>\n",
       "      <th>domain_url</th>\n",
       "      <th>published_date</th>\n",
       "      <th>title</th>\n",
       "      <th>description</th>\n",
       "      <th>content</th>\n",
       "      <th>language</th>\n",
       "      <th>is_opinion</th>\n",
       "      <th>country</th>\n",
       "      <th>title_trans</th>\n",
       "      <th>description_trans</th>\n",
       "      <th>content_trans</th>\n",
       "    </tr>\n",
       "  </thead>\n",
       "  <tbody>\n",
       "    <tr>\n",
       "      <th>1807</th>\n",
       "      <td>3e33ad9c9c213080e2a908122bc210bd</td>\n",
       "      <td>https://magyarnemzet.hu/kulfold/2023/08/arcatl...</td>\n",
       "      <td>magyarnemzet.hu</td>\n",
       "      <td>2023-08-13 19:41:10</td>\n",
       "      <td>Arcátlan sikkasztás az ukrán hadseregnél</td>\n",
       "      <td>Magyar Nemzet | Polgári napilap és hírportál</td>\n",
       "      <td>Az Unian ukrán hírportál számolt be arról, hog...</td>\n",
       "      <td>hu</td>\n",
       "      <td>False</td>\n",
       "      <td>Hungary</td>\n",
       "      <td>Brazen embezzlement by the Ukrainian army</td>\n",
       "      <td>Hungarian Nation | Civic daily newspaper and n...</td>\n",
       "      <td>The Ukrainian news portal Unian reported that ...</td>\n",
       "    </tr>\n",
       "    <tr>\n",
       "      <th>1811</th>\n",
       "      <td>f1d362a12b980a6e90691fb15246e5a9</td>\n",
       "      <td>https://magyarnemzet.hu/kultura/2023/08/verdi-...</td>\n",
       "      <td>magyarnemzet.hu</td>\n",
       "      <td>2023-08-13 13:22:11</td>\n",
       "      <td>Verdi-opera a Margitszigeten</td>\n",
       "      <td>Attilának, a hunok királyának története kelt é...</td>\n",
       "      <td>A 400 négyzetméteres ledfalon megjelenő, mai m...</td>\n",
       "      <td>hu</td>\n",
       "      <td>False</td>\n",
       "      <td>Hungary</td>\n",
       "      <td>Verdi opera on Margitsziget</td>\n",
       "      <td>The story of Attila, King of the Huns, comes t...</td>\n",
       "      <td>The animations displayed on the 400-square-met...</td>\n",
       "    </tr>\n",
       "    <tr>\n",
       "      <th>1819</th>\n",
       "      <td>1837eeca5ecbd4dc4336cf5a5e140bb5</td>\n",
       "      <td>https://magyarnemzet.hu/belfold/2023/08/lmbtq-...</td>\n",
       "      <td>magyarnemzet.hu</td>\n",
       "      <td>2023-08-12 03:45:00</td>\n",
       "      <td>LMBTQ-vita robbant ki a baloldalon</td>\n",
       "      <td>Konfliktust szült Pécs baloldali önkormányzata...</td>\n",
       "      <td>A képviselő jelezte, hogy az eseményre 'egésze...</td>\n",
       "      <td>hu</td>\n",
       "      <td>False</td>\n",
       "      <td>Hungary</td>\n",
       "      <td>LGBTQ debate erupted on the left</td>\n",
       "      <td>A conflict arose between the left-wing municip...</td>\n",
       "      <td>The representative indicated that 'quite small...</td>\n",
       "    </tr>\n",
       "    <tr>\n",
       "      <th>1822</th>\n",
       "      <td>2bb2aa3c6dad050c2b02c0e453610c43</td>\n",
       "      <td>https://magyarnemzet.hu/belfold/2023/08/orjong...</td>\n",
       "      <td>magyarnemzet.hu</td>\n",
       "      <td>2023-08-11 14:08:18</td>\n",
       "      <td>Őrjöngött, majd meg akarta késelni a nevelőnőt...</td>\n",
       "      <td>Magyar Nemzet | Polgári napilap és hírportál</td>\n",
       "      <td>Néhány nappal később aztán a gyanúsított előze...</td>\n",
       "      <td>hu</td>\n",
       "      <td>False</td>\n",
       "      <td>Hungary</td>\n",
       "      <td>A 13-year-old girl went berserk and then tried...</td>\n",
       "      <td>Hungarian Nation | Civic daily newspaper and n...</td>\n",
       "      <td>A few days later, after a preliminary argument...</td>\n",
       "    </tr>\n",
       "    <tr>\n",
       "      <th>1826</th>\n",
       "      <td>e2fa1a3df6af0287b06f18e18b9bea92</td>\n",
       "      <td>https://magyarnemzet.hu/belfold/2023/08/kepeke...</td>\n",
       "      <td>magyarnemzet.hu</td>\n",
       "      <td>2023-08-11 10:59:23</td>\n",
       "      <td>Képeken az M3-ason történt halálos baleset</td>\n",
       "      <td>Magyar Nemzet | Polgári napilap és hírportál</td>\n",
       "      <td>Egy ember meghalt, ketten megsérültek, amikor ...</td>\n",
       "      <td>hu</td>\n",
       "      <td>False</td>\n",
       "      <td>Hungary</td>\n",
       "      <td>Photos show the fatal accident on the M3</td>\n",
       "      <td>Hungarian Nation | Civic daily newspaper and n...</td>\n",
       "      <td>One person was killed and two were injured whe...</td>\n",
       "    </tr>\n",
       "  </tbody>\n",
       "</table>\n",
       "</div>"
      ],
      "text/plain": [
       "                                    id  \\\n",
       "1807  3e33ad9c9c213080e2a908122bc210bd   \n",
       "1811  f1d362a12b980a6e90691fb15246e5a9   \n",
       "1819  1837eeca5ecbd4dc4336cf5a5e140bb5   \n",
       "1822  2bb2aa3c6dad050c2b02c0e453610c43   \n",
       "1826  e2fa1a3df6af0287b06f18e18b9bea92   \n",
       "\n",
       "                                                   link       domain_url  \\\n",
       "1807  https://magyarnemzet.hu/kulfold/2023/08/arcatl...  magyarnemzet.hu   \n",
       "1811  https://magyarnemzet.hu/kultura/2023/08/verdi-...  magyarnemzet.hu   \n",
       "1819  https://magyarnemzet.hu/belfold/2023/08/lmbtq-...  magyarnemzet.hu   \n",
       "1822  https://magyarnemzet.hu/belfold/2023/08/orjong...  magyarnemzet.hu   \n",
       "1826  https://magyarnemzet.hu/belfold/2023/08/kepeke...  magyarnemzet.hu   \n",
       "\n",
       "           published_date                                              title  \\\n",
       "1807  2023-08-13 19:41:10           Arcátlan sikkasztás az ukrán hadseregnél   \n",
       "1811  2023-08-13 13:22:11                       Verdi-opera a Margitszigeten   \n",
       "1819  2023-08-12 03:45:00                 LMBTQ-vita robbant ki a baloldalon   \n",
       "1822  2023-08-11 14:08:18  Őrjöngött, majd meg akarta késelni a nevelőnőt...   \n",
       "1826  2023-08-11 10:59:23         Képeken az M3-ason történt halálos baleset   \n",
       "\n",
       "                                            description  \\\n",
       "1807       Magyar Nemzet | Polgári napilap és hírportál   \n",
       "1811  Attilának, a hunok királyának története kelt é...   \n",
       "1819  Konfliktust szült Pécs baloldali önkormányzata...   \n",
       "1822       Magyar Nemzet | Polgári napilap és hírportál   \n",
       "1826       Magyar Nemzet | Polgári napilap és hírportál   \n",
       "\n",
       "                                                content language  is_opinion  \\\n",
       "1807  Az Unian ukrán hírportál számolt be arról, hog...       hu       False   \n",
       "1811  A 400 négyzetméteres ledfalon megjelenő, mai m...       hu       False   \n",
       "1819  A képviselő jelezte, hogy az eseményre 'egésze...       hu       False   \n",
       "1822  Néhány nappal később aztán a gyanúsított előze...       hu       False   \n",
       "1826  Egy ember meghalt, ketten megsérültek, amikor ...       hu       False   \n",
       "\n",
       "      country                                        title_trans  \\\n",
       "1807  Hungary          Brazen embezzlement by the Ukrainian army   \n",
       "1811  Hungary                        Verdi opera on Margitsziget   \n",
       "1819  Hungary                   LGBTQ debate erupted on the left   \n",
       "1822  Hungary  A 13-year-old girl went berserk and then tried...   \n",
       "1826  Hungary           Photos show the fatal accident on the M3   \n",
       "\n",
       "                                      description_trans  \\\n",
       "1807  Hungarian Nation | Civic daily newspaper and n...   \n",
       "1811  The story of Attila, King of the Huns, comes t...   \n",
       "1819  A conflict arose between the left-wing municip...   \n",
       "1822  Hungarian Nation | Civic daily newspaper and n...   \n",
       "1826  Hungarian Nation | Civic daily newspaper and n...   \n",
       "\n",
       "                                          content_trans  \n",
       "1807  The Ukrainian news portal Unian reported that ...  \n",
       "1811  The animations displayed on the 400-square-met...  \n",
       "1819  The representative indicated that 'quite small...  \n",
       "1822  A few days later, after a preliminary argument...  \n",
       "1826  One person was killed and two were injured whe...  "
      ]
     },
     "execution_count": 13,
     "metadata": {},
     "output_type": "execute_result"
    }
   ],
   "source": [
    "country_data = pd.read_parquet(f\"{path2SP}/EU-S Data/Automated Qualitative Checks/Data/data-extraction-1/ready4class/{country}_translated.parquet.gzip\")\n",
    "# country_data = pd.read_parquet(f\"../data/data-extraction-1/ready4class/{country}_translated.parquet.gzip\")\n",
    "country_data.head(5)"
   ]
  },
  {
   "cell_type": "markdown",
   "metadata": {},
   "source": [
    "## Defining Chain"
   ]
  },
  {
   "cell_type": "code",
   "execution_count": 6,
   "metadata": {},
   "outputs": [],
   "source": [
    "safety_settings = {\n",
    "    HarmCategory.HARM_CATEGORY_HARASSMENT: HarmBlockThreshold.BLOCK_NONE,\n",
    "    HarmCategory.HARM_CATEGORY_HATE_SPEECH: HarmBlockThreshold.BLOCK_NONE,\n",
    "    HarmCategory.HARM_CATEGORY_SEXUALLY_EXPLICIT: HarmBlockThreshold.BLOCK_NONE,\n",
    "    HarmCategory.HARM_CATEGORY_DANGEROUS_CONTENT: HarmBlockThreshold.BLOCK_NONE\n",
    "}"
   ]
  },
  {
   "cell_type": "code",
   "execution_count": 7,
   "metadata": {},
   "outputs": [],
   "source": [
    "class JSONOutputParser(BaseOutputParser):\n",
    "    def parse(self, text: str):\n",
    "        \"\"\"\n",
    "        Parse the output of an LLM call to a valid JSON format.\n",
    "        \"\"\"\n",
    "        return json.loads(text.replace('```json', '').replace('```', ''), strict=False)"
   ]
  },
  {
   "cell_type": "code",
   "execution_count": 19,
   "metadata": {},
   "outputs": [],
   "source": [
    "def classify_article(headline, summary, body, id = None, stage_1 = True, relation = None):\n",
    "    \"\"\"\n",
    "    This function takes a headline, a summary, and the content of a news article and it sends a call to Google's Gemini\n",
    "    to classify the article. There are two different classifications: Stage 1 and Stage 2. If stage_1 is set to TRUE, then\n",
    "    the call to the model will try to answer the following question: Is this news article related or unrelated to the Rule of Law?\n",
    "    If stage_1 is set to FALSE, then the call to the model will try to rate how closely related is the news article to each\n",
    "    one of the eight pillars of the Rule of Law.\n",
    "    \"\"\"\n",
    "    # print(id)\n",
    "\n",
    "    # Defining the prompt according to which stage are we calling the function for\n",
    "    if stage_1 == True:\n",
    "        system_prompt = ptc.context_stage_1\n",
    "        human_prompt  = ptc.instructions_stage_1\n",
    "    else:\n",
    "        system_prompt = ptc.context_stage_2\n",
    "        human_prompt  = ptc.instructions_stage_2\n",
    "\n",
    "    # Setting up the Prompt Template\n",
    "    chat_prompt = ChatPromptTemplate.from_messages([\n",
    "                    (\"system\", system_prompt),\n",
    "                    (\"human\", human_prompt),\n",
    "                ])\n",
    "\n",
    "    # Defining our chain\n",
    "    chain_gemini = chat_prompt | ChatGoogleGenerativeAI(model = \"gemini-pro\",\n",
    "                                                        temperature     = 0.1, \n",
    "                                                        safety_settings = safety_settings,\n",
    "                                                        convert_system_message_to_human = True) | JSONOutputParser()\n",
    "    \n",
    "    # For Stage 2, we don't want to pass articles that were already classified as \"UNRELATED\", so we pre-defined the outcome\n",
    "    if stage_1 == False and all(keyword not in relation for keyword in [\"Related\", \"Justice\", \"Governance\"]):\n",
    "        outcome = \"Unrelated\"\n",
    "\n",
    "    else:\n",
    "        try: \n",
    "            llm_response = chain_gemini.invoke({\n",
    "                \"headline\": headline,\n",
    "                \"summary\" : summary,\n",
    "                \"body\"    : body,\n",
    "            })\n",
    "            status = True\n",
    "            time.sleep(1)   # We need to slow down the calls. given that the Gemini API has a limit of 60 calls per second\n",
    "\n",
    "        # The API can still block some of our prompts due to undefined reasons. Sadly, we can't do anything about it, so we\n",
    "        # predefine the outcome    \n",
    "        except (BlockedPromptException, StopCandidateException):\n",
    "            print(\"Prompt BLOCKED\")\n",
    "            status = False\n",
    "        \n",
    "        except JSONDecodeError:\n",
    "            print(\"Decode error... trying again...\")\n",
    "            try: \n",
    "                llm_response = chain_gemini.invoke({\n",
    "                    \"headline\": headline,\n",
    "                    \"summary\" : summary,\n",
    "                    \"body\"    : body,\n",
    "                })\n",
    "                status = True\n",
    "                time.sleep(1)\n",
    "            except JSONDecodeError:\n",
    "                print(\"Failed. Skipping article.\")\n",
    "                status = False\n",
    "\n",
    "        # We use the STATUS variable to throw an outcome to our call depending if our prompt was blocked or not and\n",
    "        # on the stage we are calling the function for\n",
    "        if status == True:\n",
    "            if stage_1 == True:\n",
    "                if \"Governance\" in llm_response[\"rol_related\"]:\n",
    "                    llm_response[\"rol_related\"] == \"Related\"\n",
    "                if \"Justice\" in llm_response[\"rol_related\"]:\n",
    "                    llm_response[\"rol_related\"] == \"Related\"\n",
    "                outcome = [llm_response[\"rol_related\"], llm_response[\"country\"]]\n",
    "\n",
    "            else:\n",
    "                outcome = json.dumps(llm_response[\"pillars_relation\"])\n",
    "        else:\n",
    "            outcome = \"Skipped article\"\n",
    "\n",
    "    return outcome"
   ]
  },
  {
   "cell_type": "code",
   "execution_count": 14,
   "metadata": {},
   "outputs": [
    {
     "data": {
      "text/plain": [
       "(17965, 13)"
      ]
     },
     "execution_count": 14,
     "metadata": {},
     "output_type": "execute_result"
    }
   ],
   "source": [
    "country_data.shape"
   ]
  },
  {
   "cell_type": "markdown",
   "metadata": {},
   "source": [
    "## Sending calls in sets and batches"
   ]
  },
  {
   "cell_type": "code",
   "execution_count": 20,
   "metadata": {},
   "outputs": [
    {
     "name": "stdout",
     "output_type": "stream",
     "text": [
      "=======================\n",
      "Starting with SET 1\n",
      "=======================\n",
      "============================================================================\n",
      "Sending batch number: 1, start: 0, end: 100\n",
      "============================================================================\n",
      "====== STAGE 1 =====\n"
     ]
    }
   ],
   "source": [
    "nsets = math.ceil(len(country_data)/1000)\n",
    "# for set in range(1, nsets+1):\n",
    "for set in range(1, 2):\n",
    "\n",
    "    print(\"=======================\")\n",
    "    print(f\"Starting with SET {set}\")\n",
    "    print(\"=======================\")\n",
    "\n",
    "    results = []\n",
    "\n",
    "    for batch_number in range(1,11):\n",
    "\n",
    "        # Subsetting data\n",
    "        starting_row = ((set-1)*1000)+((batch_number-1)*100)\n",
    "        end_row      = starting_row+100\n",
    "        batch_subset = country_data.copy().iloc[starting_row:end_row]\n",
    "\n",
    "        if len(batch_subset) > 0 :\n",
    "            print(\"============================================================================\")\n",
    "            print(f\"Sending batch number: {batch_number}, start: {starting_row}, end: {end_row}\")\n",
    "            print(\"============================================================================\")\n",
    "            \n",
    "            # Applying classifiers\n",
    "            print(\"====== STAGE 1 =====\")\n",
    "            batch_subset[[\"topic_related\", \"location_events\"]] = batch_subset.apply(lambda row: pd.Series(classify_article(\n",
    "                row[\"title_trans\"], \n",
    "                row[\"description_trans\"], \n",
    "                row[\"content_trans\"], \n",
    "                row[\"id\"],\n",
    "                stage_1 = True\n",
    "            )), axis = 1)\n",
    "            # batch_subset[\"topic_related\"]   = batch_subset[\"rol_related\"].str.split('<>').str[0]\n",
    "            # batch_subset[\"location_events\"] = batch_subset[\"rol_related\"].str.split('<>').str[1]\n",
    "\n",
    "            print(\"====== STAGE 2 =====\")\n",
    "            batch_subset[\"pillars_score\"] = batch_subset.apply(lambda row: classify_article(\n",
    "                row[\"title_trans\"], \n",
    "                row[\"description_trans\"], \n",
    "                row[\"content_trans\"], \n",
    "                row[\"id\"],\n",
    "                relation = row[\"topic_related\"],\n",
    "                stage_1  = False\n",
    "            ), axis = 1)\n",
    "\n",
    "            results.append(batch_subset)\n",
    "\n",
    "    # Collapsing and saving data\n",
    "    collapsed_data = pd.concat(results).drop_duplicates(subset=\"id\")\n",
    "    collapsed_data.to_parquet(f\"{path2SP}/EU-S Data/Automated Qualitative Checks/Data/data-classification-1/{country}/{country}_set_{set}.parquet.gzip\", compression=\"gzip\")\n",
    "    time.sleep(5)"
   ]
  },
  {
   "cell_type": "markdown",
   "metadata": {},
   "source": [
    "## Compiling sets"
   ]
  },
  {
   "cell_type": "code",
   "execution_count": 4,
   "metadata": {},
   "outputs": [],
   "source": [
    "classified_data_list = [pd.read_parquet(f\"../data/data-classification-1/{country}/{file}\") for file in os.listdir(f\"../data/data-classification-1/{country}\")]\n",
    "classified_data = pd.concat(classified_data_list)"
   ]
  },
  {
   "cell_type": "markdown",
   "metadata": {},
   "source": [
    "## Converting pillar scores to binary"
   ]
  },
  {
   "cell_type": "code",
   "execution_count": 5,
   "metadata": {},
   "outputs": [],
   "source": [
    "def extract_score(string, pillar, t = 7):\n",
    "    \"\"\"\n",
    "    This function extracts scores from a string and returns a binary value that is equal to 1 if the score is higher/equal\n",
    "    than a specific threshold, and it returns zero if otherwise.\n",
    "    \"\"\"\n",
    "    try:\n",
    "        scores_dicts = ast.literal_eval(string)\n",
    "        ratings = [v for x in scores_dicts for _,v in x.items()]\n",
    "        keys    = [k for x in scores_dicts for k,_ in x.items()]\n",
    "        pattern = str(pillar) + \". \"\n",
    "        idx     = next((index for index, element in enumerate(keys) if pattern in element), None)\n",
    "\n",
    "        if idx is not None:\n",
    "            score = ratings[idx]\n",
    "        else:\n",
    "            score = 0\n",
    "            \n",
    "        if score >= t:\n",
    "            return 1\n",
    "        else:\n",
    "            return 0\n",
    "        \n",
    "    except ValueError:\n",
    "        if string == \"Unrelated\":\n",
    "            return 0\n",
    "    \n",
    "    except SyntaxError:\n",
    "        if string == \"Skipped article\":\n",
    "            return 0"
   ]
  },
  {
   "cell_type": "code",
   "execution_count": 12,
   "metadata": {},
   "outputs": [],
   "source": [
    "for i in range(1, 9):\n",
    "    var_name     = \"pillar_\" + str(i)\n",
    "    classified_data[var_name] = classified_data[\"pillars_score\"].apply(lambda x: extract_score(x, i))"
   ]
  },
  {
   "cell_type": "markdown",
   "metadata": {},
   "source": [
    "## Cleaning location of events and topic relation"
   ]
  },
  {
   "cell_type": "code",
   "execution_count": 7,
   "metadata": {},
   "outputs": [],
   "source": [
    "def loc2bin(location, country):\n",
    "    if pd.isna(location):\n",
    "        return False\n",
    "    elif country in location:\n",
    "        return True\n",
    "    else:\n",
    "        return False"
   ]
  },
  {
   "cell_type": "code",
   "execution_count": 15,
   "metadata": {},
   "outputs": [],
   "source": [
    "eu_member_states = [\n",
    "    \"Austria\", \"Belgium\", \"Bulgaria\", \"Croatia\", \"Cyprus\", \"Czech\", \"Denmark\", \"Estonia\", \"Finland\", \"France\",\n",
    "    \"Germany\", \"Greece\", \"Hungary\", \"Ireland\", \"Italy\", \"Latvia\", \"Lithuania\", \"Luxembourg\", \"Malta\", \"Netherlands\",\n",
    "    \"Poland\", \"Portugal\", \"Romania\", \"Slovakia\", \"Slovenia\", \"Spain\", \"Sweden\", \"Euro\"\n",
    "]\n",
    "for member in eu_member_states:\n",
    "    var_name = f\"location_{member}\"\n",
    "    classified_data[var_name] = classified_data[\"location_events\"].apply(lambda x: loc2bin(x, member))"
   ]
  },
  {
   "cell_type": "markdown",
   "metadata": {},
   "source": [
    "## Saving data"
   ]
  },
  {
   "cell_type": "code",
   "execution_count": 283,
   "metadata": {},
   "outputs": [],
   "source": [
    "classified_data.to_parquet(f\"../data/data-classification-1/0_compiled/{country}_classified.parquet.gzip\", compression=\"gzip\")"
   ]
  }
 ],
 "metadata": {
  "kernelspec": {
   "display_name": "Python 3",
   "language": "python",
   "name": "python3"
  },
  "language_info": {
   "codemirror_mode": {
    "name": "ipython",
    "version": 3
   },
   "file_extension": ".py",
   "mimetype": "text/x-python",
   "name": "python",
   "nbconvert_exporter": "python",
   "pygments_lexer": "ipython3",
   "version": "3.11.8"
  }
 },
 "nbformat": 4,
 "nbformat_minor": 2
}
