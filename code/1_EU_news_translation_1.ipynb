{
 "cells": [
  {
   "cell_type": "code",
   "execution_count": null,
   "metadata": {},
   "outputs": [],
   "source": [
    "!pip install nltk\n",
    "!pip install deep_translator"
   ]
  },
  {
   "cell_type": "code",
   "execution_count": 1,
   "metadata": {},
   "outputs": [
    {
     "name": "stderr",
     "output_type": "stream",
     "text": [
      "[nltk_data] Downloading package punkt to\n",
      "[nltk_data]     C:\\Users\\ctoruno\\AppData\\Roaming\\nltk_data...\n",
      "[nltk_data]   Package punkt is already up-to-date!\n"
     ]
    },
    {
     "data": {
      "text/plain": [
       "True"
      ]
     },
     "execution_count": 1,
     "metadata": {},
     "output_type": "execute_result"
    }
   ],
   "source": [
    "import os\n",
    "import pandas as pd\n",
    "import nltk\n",
    "from nltk.tokenize import sent_tokenize\n",
    "from deep_translator import GoogleTranslator\n",
    "nltk.download(\"punkt\")"
   ]
  },
  {
   "cell_type": "markdown",
   "metadata": {},
   "source": [
    "## Defining parameters"
   ]
  },
  {
   "cell_type": "code",
   "execution_count": 14,
   "metadata": {},
   "outputs": [],
   "source": [
    "compiler = \"Carlos\"\n",
    "batch    = 1\n",
    "mode     = \"9to5\" # One of two values: \"9to5\" OR \"overnight\""
   ]
  },
  {
   "cell_type": "markdown",
   "metadata": {},
   "source": [
    "## Defining functions"
   ]
  },
  {
   "cell_type": "code",
   "execution_count": 2,
   "metadata": {},
   "outputs": [],
   "source": [
    "def trans2english_batch(text, sourcelang):\n",
    "    \"\"\"\n",
    "    This functions gathers a text in a specific language and it returns its equivalent \n",
    "    in English using the Google translation engine. \n",
    "\n",
    "    Parameters:\n",
    "        text:       String. Text to translate.\n",
    "        sourcelang: String. Code of the source language you want to translate the text from.\n",
    "    \"\"\"\n",
    "    try:\n",
    "        sentences = sent_tokenize(text)\n",
    "        batch  = GoogleTranslator(source = sourcelang, target = \"en\").translate_batch(sentences)\n",
    "        result = \" \".join(batch)\n",
    "        return result\n",
    "    except Exception as e:\n",
    "        out = f\"Translation through API failed. Reason: {e}\"\n",
    "        return out"
   ]
  },
  {
   "cell_type": "markdown",
   "metadata": {},
   "source": [
    "## Reading the data"
   ]
  },
  {
   "cell_type": "code",
   "execution_count": 3,
   "metadata": {},
   "outputs": [
    {
     "data": {
      "text/plain": [
       "compiler\n",
       "Horacio     193968\n",
       "Allison     193944\n",
       "Santiago    193924\n",
       "Natalia     193291\n",
       "Cristina    193059\n",
       "Dalia       193046\n",
       "Carlos      192896\n",
       "Artha       192783\n",
       "Name: count, dtype: int64"
      ]
     },
     "execution_count": 3,
     "metadata": {},
     "output_type": "execute_result"
    }
   ],
   "source": [
    "if os.getlogin() == \"ctoruno\":\n",
    "    master_data = pd.read_parquet(\"../data/data-extraction-1/master4translation.parquet.gzip\")\n",
    "else:\n",
    "    master_data = pd.read_parquet(\"master4translation.parquet.gzip\")\n",
    "master_data[\"compiler\"].value_counts()"
   ]
  },
  {
   "cell_type": "markdown",
   "metadata": {},
   "source": [
    "## Subsetting the data"
   ]
  },
  {
   "cell_type": "code",
   "execution_count": 15,
   "metadata": {},
   "outputs": [],
   "source": [
    "if mode == \"9to5\":\n",
    "    batch_size = 1000\n",
    "if mode == \"overnight\":\n",
    "    batch_size = 7500\n",
    "\n",
    "starting_row    = batch_size*(batch-1)\n",
    "final_row       = starting_row+batch_size\n",
    "compiler_subset = (\n",
    "    master_data.copy()\n",
    "    .loc[(master_data[\"compiler\"] == compiler) & (master_data[\"is_opinion\"] == False)]\n",
    "    .iloc[starting_row:final_row]\n",
    ")"
   ]
  },
  {
   "cell_type": "markdown",
   "metadata": {},
   "source": [
    "## Translating headline, description, and content"
   ]
  },
  {
   "cell_type": "code",
   "execution_count": 32,
   "metadata": {},
   "outputs": [],
   "source": [
    "compiler_subset[[\"title_trans\", \"description_trans\", \"content_trans\"]] = compiler_subset.apply(\n",
    "    lambda row: row[[\"title\", \"description\", \"content\"]].apply(lambda x: trans2english_batch(text = x, sourcelang = row[\"language_id\"])),\n",
    "    axis = 1\n",
    ")"
   ]
  },
  {
   "cell_type": "markdown",
   "metadata": {},
   "source": [
    "## Saving batch data"
   ]
  },
  {
   "cell_type": "code",
   "execution_count": 24,
   "metadata": {},
   "outputs": [],
   "source": [
    "if os.getlogin() == \"ctoruno\":\n",
    "    compiler_subset.to_parquet(f\"../data/translation_batches/EU_trdata_{compiler}_batch_{batch}.parquet.gzip\", compression = \"gzip\")\n",
    "else:\n",
    "    compiler_subset.to_parquet(f\"EU_trdata_{compiler}_batch_{batch}.parquet.gzip\", compression = \"gzip\")"
   ]
  }
 ],
 "metadata": {
  "kernelspec": {
   "display_name": "Python 3",
   "language": "python",
   "name": "python3"
  },
  "language_info": {
   "codemirror_mode": {
    "name": "ipython",
    "version": 3
   },
   "file_extension": ".py",
   "mimetype": "text/x-python",
   "name": "python",
   "nbconvert_exporter": "python",
   "pygments_lexer": "ipython3",
   "version": "3.11.8"
  }
 },
 "nbformat": 4,
 "nbformat_minor": 2
}
