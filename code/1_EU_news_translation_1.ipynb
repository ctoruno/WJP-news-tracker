{
  "cells": [
    {
      "cell_type": "markdown",
      "metadata": {
        "id": "Q_KoGl6lIdWp"
      },
      "source": [
        "## Step 0: Defining parameters\n",
        "Please modify the parameters as follows:\n",
        "1. `country` that you are working on.\n",
        "\n",
        "2. `mode` can be one of two values \"9to5\" or \"overnight\". Don't forget to use double quotes.\n",
        "\n",
        "Most of you will only use the \"9to5\" value. Which will tell the code to only translate 1,000 articles. This amount of articles takes between 3 and 4 hours to run. So this is ideal to use when you are in the office. Some of us (I'm looking at you DAU), will leave the code running the whole night to translate 4,000 articles every night. You are welcome to use the \"overnight\" mode if you want to finish your batch quickly (although we are not expecting you to finish it... unless you are an active member of the DAU).\n",
        "\n",
        "3. `counter_day` and `counter_night` are just a counter of how many times you have SUCESSFULLY executed the code using the \"9to5\" or the \"overnight\" mode, respectively. If this is the first time you are running the code, both counters should be zero. If you already SUCESSFULLY run the code once using the \"9to5\" mode, then counter_day should be equal to one. If the code stopped or you had an issue and the code did not finished running, then it DOES NOT count as a SUCESSFUL execution.\n",
        "\n",
        "4. `folow_up` can take two values True or False. Set it to True if you already finished a translation batch and your session is still running (and your master data is already uploaded). This way you don't need to execute all cells again, only the ones required. If this is the first time you are running this script during your current session, then set this value to False. No double quotes needed."
      ]
    },
    {
      "cell_type": "code",
      "execution_count": null,
      "metadata": {
        "id": "j1_TPx7nIdWp"
      },
      "outputs": [],
      "source": [
        "country       = \"Luxembourg\"\n",
        "mode          = \"9to5\" # One of two values: \"9to5\" OR \"overnight\"\n",
        "counter_day   = 0\n",
        "counter_night = 0\n",
        "follow_up     = False\n"
      ]
    },
    {
      "cell_type": "markdown",
      "metadata": {
        "id": "w0hgduIlKQpa"
      },
      "source": [
        "## Step 1: Installing and importing required libraries"
      ]
    },
    {
      "cell_type": "code",
      "execution_count": null,
      "metadata": {
        "colab": {
          "base_uri": "https://localhost:8080/"
        },
        "id": "ZMdJtkxrIdWn",
        "outputId": "b3f5a9df-2397-4fb9-96cd-1aff2779ba20"
      },
      "outputs": [
        {
          "name": "stdout",
          "output_type": "stream",
          "text": [
            "Requirement already satisfied: nltk in /usr/local/lib/python3.10/dist-packages (3.8.1)\n",
            "Requirement already satisfied: click in /usr/local/lib/python3.10/dist-packages (from nltk) (8.1.7)\n",
            "Requirement already satisfied: joblib in /usr/local/lib/python3.10/dist-packages (from nltk) (1.3.2)\n",
            "Requirement already satisfied: regex>=2021.8.3 in /usr/local/lib/python3.10/dist-packages (from nltk) (2023.12.25)\n",
            "Requirement already satisfied: tqdm in /usr/local/lib/python3.10/dist-packages (from nltk) (4.66.2)\n",
            "Collecting deep_translator\n",
            "  Downloading deep_translator-1.11.4-py3-none-any.whl (42 kB)\n",
            "\u001b[2K     \u001b[90m━━━━━━━━━━━━━━━━━━━━━━━━━━━━━━━━━━━━━━━━\u001b[0m \u001b[32m42.3/42.3 kB\u001b[0m \u001b[31m1.6 MB/s\u001b[0m eta \u001b[36m0:00:00\u001b[0m\n",
            "\u001b[?25hRequirement already satisfied: beautifulsoup4<5.0.0,>=4.9.1 in /usr/local/lib/python3.10/dist-packages (from deep_translator) (4.12.3)\n",
            "Requirement already satisfied: requests<3.0.0,>=2.23.0 in /usr/local/lib/python3.10/dist-packages (from deep_translator) (2.31.0)\n",
            "Requirement already satisfied: soupsieve>1.2 in /usr/local/lib/python3.10/dist-packages (from beautifulsoup4<5.0.0,>=4.9.1->deep_translator) (2.5)\n",
            "Requirement already satisfied: charset-normalizer<4,>=2 in /usr/local/lib/python3.10/dist-packages (from requests<3.0.0,>=2.23.0->deep_translator) (3.3.2)\n",
            "Requirement already satisfied: idna<4,>=2.5 in /usr/local/lib/python3.10/dist-packages (from requests<3.0.0,>=2.23.0->deep_translator) (3.6)\n",
            "Requirement already satisfied: urllib3<3,>=1.21.1 in /usr/local/lib/python3.10/dist-packages (from requests<3.0.0,>=2.23.0->deep_translator) (2.0.7)\n",
            "Requirement already satisfied: certifi>=2017.4.17 in /usr/local/lib/python3.10/dist-packages (from requests<3.0.0,>=2.23.0->deep_translator) (2024.2.2)\n",
            "Installing collected packages: deep_translator\n",
            "Successfully installed deep_translator-1.11.4\n"
          ]
        }
      ],
      "source": [
        "if not follow_up:\n",
        "  !pip install nltk\n",
        "  !pip install deep_translator"
      ]
    },
    {
      "cell_type": "code",
      "execution_count": null,
      "metadata": {
        "colab": {
          "base_uri": "https://localhost:8080/"
        },
        "id": "QnPLZo0PIdWo",
        "outputId": "bb6a3039-d270-4af2-a31d-60a8ebb96489"
      },
      "outputs": [
        {
          "name": "stderr",
          "output_type": "stream",
          "text": [
            "[nltk_data] Downloading package punkt to /root/nltk_data...\n",
            "[nltk_data]   Unzipping tokenizers/punkt.zip.\n"
          ]
        }
      ],
      "source": [
        "if not follow_up:\n",
        "  import os\n",
        "  import pandas as pd\n",
        "  import nltk\n",
        "  from google.colab import files\n",
        "  from nltk.tokenize import sent_tokenize\n",
        "  from deep_translator import GoogleTranslator\n",
        "  nltk.download(\"punkt\")"
      ]
    },
    {
      "cell_type": "markdown",
      "metadata": {
        "id": "1n-XwBbtIdWq"
      },
      "source": [
        "## Step 2: Defining functions"
      ]
    },
    {
      "cell_type": "code",
      "execution_count": null,
      "metadata": {
        "id": "a31wZN3NIdWq"
      },
      "outputs": [],
      "source": [
        "def trans2english(text, sourcelang):\n",
        "    \"\"\"\n",
        "    This functions gathers a text in a specific language and it returns its equivalent\n",
        "    in English using the Google translation engine.\n",
        "\n",
        "    Parameters:\n",
        "        text:       String. Text to translate.\n",
        "        sourcelang: String. Code of the source language you want to translate the text from.\n",
        "    \"\"\"\n",
        "    if text:\n",
        "      try:\n",
        "          sentences = sent_tokenize(text)\n",
        "          batch  = GoogleTranslator(source = sourcelang, target = \"en\").translate_batch(sentences)\n",
        "          result = \" \".join(batch)\n",
        "          return result\n",
        "      except Exception as e:\n",
        "          out = f\"Translation through API failed. Reason: {e}\"\n",
        "          return out\n",
        "    else:\n",
        "      return \"No information available. No translation performed\""
      ]
    },
    {
      "cell_type": "markdown",
      "metadata": {
        "id": "Ozdp7cU7IdWq"
      },
      "source": [
        "## Step 3: Reading the data"
      ]
    },
    {
      "cell_type": "code",
      "execution_count": null,
      "metadata": {
        "id": "zy1BohhsIdWq"
      },
      "outputs": [],
      "source": [
        "if not follow_up:\n",
        "  master_data = pd.read_parquet(f\"{country}_tp.parquet.gzip\")"
      ]
    },
    {
      "cell_type": "markdown",
      "metadata": {
        "id": "qDjy-kRAX7GQ"
      },
      "source": [
        "## Step 4: Subsetting the data"
      ]
    },
    {
      "cell_type": "code",
      "execution_count": null,
      "metadata": {
        "id": "cQr88qa5IdWr"
      },
      "outputs": [],
      "source": [
        "batch = counter_day + counter_night + 1\n",
        "if mode == \"9to5\":\n",
        "    batch_size   = 500\n",
        "    mode_counter = counter_day\n",
        "if mode == \"overnight\":\n",
        "    batch_size   = 2000\n",
        "    mode_counter = counter_night\n",
        "\n",
        "starting_row = (counter_day*500)+(counter_night*2000)\n",
        "final_row    = starting_row+batch_size\n",
        "batch_subset = master_data.copy().iloc[starting_row:final_row]"
      ]
    },
    {
      "cell_type": "code",
      "execution_count": null,
      "metadata": {
        "colab": {
          "base_uri": "https://localhost:8080/",
          "height": 196
        },
        "id": "WXHybFhNYDIY",
        "outputId": "da6427fb-b788-42a4-aa7a-ed6be99f6eb4"
      },
      "outputs": [
        {
          "data": {
            "application/vnd.google.colaboratory.intrinsic+json": {
              "summary": "{\n  \"name\": \"batch_subset\",\n  \"rows\": 1000,\n  \"fields\": [\n    {\n      \"column\": \"id\",\n      \"properties\": {\n        \"dtype\": \"string\",\n        \"num_unique_values\": 1000,\n        \"samples\": [\n          \"b9777094aae98e9ce0226f54c3306880\",\n          \"fc3016ed8e59b5bddda6c5d26abdf6a5\",\n          \"0660d37b4f3d2b8b98d7b4c6f008e157\"\n        ],\n        \"semantic_type\": \"\",\n        \"description\": \"\"\n      }\n    },\n    {\n      \"column\": \"link\",\n      \"properties\": {\n        \"dtype\": \"string\",\n        \"num_unique_values\": 997,\n        \"samples\": [\n          \"https://lequotidien.lu/luxembourg/yuriko-backes-a-ettelbruck-pour-lorange-week/\",\n          \"https://lequotidien.lu/a-la-une/vol-avec-violence-le-voleur-est-tombe-dans-le-panneau/\",\n          \"https://lequotidien.lu/a-la-une/elle-campe-devant-la-chambre-des-deputes-ce-gouvernement-se-fiche-des-pauvres/\"\n        ],\n        \"semantic_type\": \"\",\n        \"description\": \"\"\n      }\n    },\n    {\n      \"column\": \"domain_url\",\n      \"properties\": {\n        \"dtype\": \"category\",\n        \"num_unique_values\": 1,\n        \"samples\": [\n          \"lequotidien.lu\"\n        ],\n        \"semantic_type\": \"\",\n        \"description\": \"\"\n      }\n    },\n    {\n      \"column\": \"published_date\",\n      \"properties\": {\n        \"dtype\": \"object\",\n        \"num_unique_values\": 611,\n        \"samples\": [\n          \"2023-12-22 23:00:00\"\n        ],\n        \"semantic_type\": \"\",\n        \"description\": \"\"\n      }\n    },\n    {\n      \"column\": \"title\",\n      \"properties\": {\n        \"dtype\": \"string\",\n        \"num_unique_values\": 1000,\n        \"samples\": [\n          \"Le dingo argentin\"\n        ],\n        \"semantic_type\": \"\",\n        \"description\": \"\"\n      }\n    },\n    {\n      \"column\": \"description\",\n      \"properties\": {\n        \"dtype\": \"string\",\n        \"num_unique_values\": 994,\n        \"samples\": [\n          \"La police grand-ducale lance un appel \\u00e0 t\\u00e9moins : plusieurs v\\u00e9hicules ont \\u00e9t\\u00e9 pill\\u00e9s la nuit derni\\u00e8r...\"\n        ],\n        \"semantic_type\": \"\",\n        \"description\": \"\"\n      }\n    },\n    {\n      \"column\": \"content\",\n      \"properties\": {\n        \"dtype\": \"string\",\n        \"num_unique_values\": 1000,\n        \"samples\": [\n          \"\\u00abViva la libertad, carajo !\\u00bb Les premiers mots vocif\\u00e9r\\u00e9s, non pas prononc\\u00e9s, par Javier Milei \\napr\\u00e8s sa nette victoire \\u00e0 la pr\\u00e9sidentielle argentine\\n donnent le ton. Vulgaire. Ceux qui pensaient avoir connu la cr\\u00e8me des populistes hyst\\u00e9riques et outranciers, avec Donald Trump et Jair Bolsonaro, ont sous-estim\\u00e9 la capacit\\u00e9 de ce monde tordu \\u00e0 produire des \\u00e9nergum\\u00e8nes toujours plus gratin\\u00e9s. Personne ne l'a vu venir, celui-l\\u00e0.\\n\\n\\nL'\\u00e9conomiste de profession, qui se revendique \\u00abanarcho-capitaliste\\u00bb, a d\\u00e9barqu\\u00e9 sur la sc\\u00e8ne politique il y a environ deux ans. Promettant de massacrer les services publics \\u00e0 la tron\\u00e7onneuse. Outil qu'il a litt\\u00e9ralement et r\\u00e9guli\\u00e8rement brandi durant la campagne, pour symboliser les coupes budg\\u00e9taires et en finir avec \\u00abcette aberration\\u00bb de justice sociale.\\n \\n\\u00abEl Loco\\u00bb, comme il se surnomme lui-m\\u00eame, n'a pas vol\\u00e9 sa r\\u00e9putation. Anti-avortement, climatosceptique, pro-armes\\u2026 le fou furieux coche toutes les cases, m\\u00eame s'il semble lui en manquer une. Sinon davantage quand il explique, pour ce seul exemple, recevoir des conseils de l'au-del\\u00e0 \\u00e0 travers l'esprit d'un de ses regrett\\u00e9s chiens, issus d'un clonage aux \\u00c9tats-Unis.\\n\\n\\nUltralib\\u00e9ral et libertarien jusqu'au bout des rouflaquettes, le dingo argentin a surtout su capitaliser sur la col\\u00e8re d'un peuple d\\u00e9sargent\\u00e9 contre les \\u00e9lites, leurs privil\\u00e8ges et leur m\\u00e9pris des petites gens. Avec quatre habitants sur dix vivant sous le seuil de pauvret\\u00e9 et une inflation \\u00e0 plus de 140\\u2009% actuellement, Javier Milei ne compte pas faire \\u00abde demi-mesures\\u00bb ni dans la dentelle. Ainsi, p\\u00eale-m\\u00eale : faire sauter la banque centrale et remplacer le peso par le dollar, revenir sur le droit \\u00e0 l'IVG l\\u00e9galis\\u00e9 en 2020, cr\\u00e9er un march\\u00e9 du don d'organes\\u2026 Et, afin de limiter les d\\u00e9penses de l'\\u00c9tat, autant d\\u00e9manteler les minist\\u00e8res qu'il juge tout simplement inutiles : droits des femmes, \\u00e9ducation, tourisme, sports\\u2026\\n\\n\\nVaste programme\\u2026 qui s\\u00e9duit une jeunesse d\\u00e9sabus\\u00e9e. Ses insultes et jurons font le bonheur des tiktokeurs. Avec les f\\u00e9licitations d'Elon Musk. Car Javier Milei n'est rien d'autre qu'un pr\\u00e9sident des r\\u00e9seaux sociaux. Que les 44\\u00a0% d'\\u00e9lecteurs d\\u00e9\\u00e7us et inquiets se rassurent\\u00a0: sans majorit\\u00e9 au Parlement, il aura peu de libert\\u00e9 pour mettre le \\u00abbordel\\u00bb.\"\n        ],\n        \"semantic_type\": \"\",\n        \"description\": \"\"\n      }\n    },\n    {\n      \"column\": \"language\",\n      \"properties\": {\n        \"dtype\": \"category\",\n        \"num_unique_values\": 1,\n        \"samples\": [\n          \"fr\"\n        ],\n        \"semantic_type\": \"\",\n        \"description\": \"\"\n      }\n    },\n    {\n      \"column\": \"is_opinion\",\n      \"properties\": {\n        \"dtype\": \"boolean\",\n        \"num_unique_values\": 1,\n        \"samples\": [\n          false\n        ],\n        \"semantic_type\": \"\",\n        \"description\": \"\"\n      }\n    },\n    {\n      \"column\": \"country\",\n      \"properties\": {\n        \"dtype\": \"category\",\n        \"num_unique_values\": 1,\n        \"samples\": [\n          \"Luxembourg\"\n        ],\n        \"semantic_type\": \"\",\n        \"description\": \"\"\n      }\n    }\n  ]\n}",
              "type": "dataframe",
              "variable_name": "batch_subset"
            },
            "text/html": [
              "\n",
              "  <div id=\"df-c2d99084-0cf0-43b9-b3fb-72d13efe9cc9\" class=\"colab-df-container\">\n",
              "    <div>\n",
              "<style scoped>\n",
              "    .dataframe tbody tr th:only-of-type {\n",
              "        vertical-align: middle;\n",
              "    }\n",
              "\n",
              "    .dataframe tbody tr th {\n",
              "        vertical-align: top;\n",
              "    }\n",
              "\n",
              "    .dataframe thead th {\n",
              "        text-align: right;\n",
              "    }\n",
              "</style>\n",
              "<table border=\"1\" class=\"dataframe\">\n",
              "  <thead>\n",
              "    <tr style=\"text-align: right;\">\n",
              "      <th></th>\n",
              "      <th>id</th>\n",
              "      <th>link</th>\n",
              "      <th>domain_url</th>\n",
              "      <th>published_date</th>\n",
              "      <th>title</th>\n",
              "      <th>description</th>\n",
              "      <th>content</th>\n",
              "      <th>language</th>\n",
              "      <th>is_opinion</th>\n",
              "      <th>country</th>\n",
              "    </tr>\n",
              "  </thead>\n",
              "  <tbody>\n",
              "    <tr>\n",
              "      <th>0</th>\n",
              "      <td>3357c7b08e7dfa3270a8c025e0fd3bd5</td>\n",
              "      <td>https://lequotidien.lu/sport-national/basket-f...</td>\n",
              "      <td>lequotidien.lu</td>\n",
              "      <td>2024-01-08 12:24:53</td>\n",
              "      <td>[Basket] Flammang jette l'éponge</td>\n",
              "      <td>Christophe Flammang n'est plus l'entraîneur du...</td>\n",
              "      <td>Christophe Flammang n'est plus l'entraîneur du...</td>\n",
              "      <td>fr</td>\n",
              "      <td>False</td>\n",
              "      <td>Luxembourg</td>\n",
              "    </tr>\n",
              "    <tr>\n",
              "      <th>1</th>\n",
              "      <td>653f009e5e3a03f7af7bef9585979219</td>\n",
              "      <td>https://lequotidien.lu/monde/decollage-dune-no...</td>\n",
              "      <td>lequotidien.lu</td>\n",
              "      <td>2024-01-08 08:00:18</td>\n",
              "      <td>Décollage d'une nouvelle fusée transportant un...</td>\n",
              "      <td>Une toute nouvelle fusée a décollé de Floride ...</td>\n",
              "      <td>La fusée Vulcan Centaur du groupe industriel U...</td>\n",
              "      <td>fr</td>\n",
              "      <td>False</td>\n",
              "      <td>Luxembourg</td>\n",
              "    </tr>\n",
              "    <tr>\n",
              "      <th>2</th>\n",
              "      <td>55c9c40a92d9401a837abc79d14422e3</td>\n",
              "      <td>https://lequotidien.lu/politique-societe/fried...</td>\n",
              "      <td>lequotidien.lu</td>\n",
              "      <td>2024-01-08 08:00:00</td>\n",
              "      <td>Frieden relaie Bettel à Berlin</td>\n",
              "      <td>Vendredi, l'ancien Premier ministre Xavier Bet...</td>\n",
              "      <td>Vendredi, l'ancien Premier ministre Xavier Bet...</td>\n",
              "      <td>fr</td>\n",
              "      <td>False</td>\n",
              "      <td>Luxembourg</td>\n",
              "    </tr>\n",
              "  </tbody>\n",
              "</table>\n",
              "</div>\n",
              "    <div class=\"colab-df-buttons\">\n",
              "\n",
              "  <div class=\"colab-df-container\">\n",
              "    <button class=\"colab-df-convert\" onclick=\"convertToInteractive('df-c2d99084-0cf0-43b9-b3fb-72d13efe9cc9')\"\n",
              "            title=\"Convert this dataframe to an interactive table.\"\n",
              "            style=\"display:none;\">\n",
              "\n",
              "  <svg xmlns=\"http://www.w3.org/2000/svg\" height=\"24px\" viewBox=\"0 -960 960 960\">\n",
              "    <path d=\"M120-120v-720h720v720H120Zm60-500h600v-160H180v160Zm220 220h160v-160H400v160Zm0 220h160v-160H400v160ZM180-400h160v-160H180v160Zm440 0h160v-160H620v160ZM180-180h160v-160H180v160Zm440 0h160v-160H620v160Z\"/>\n",
              "  </svg>\n",
              "    </button>\n",
              "\n",
              "  <style>\n",
              "    .colab-df-container {\n",
              "      display:flex;\n",
              "      gap: 12px;\n",
              "    }\n",
              "\n",
              "    .colab-df-convert {\n",
              "      background-color: #E8F0FE;\n",
              "      border: none;\n",
              "      border-radius: 50%;\n",
              "      cursor: pointer;\n",
              "      display: none;\n",
              "      fill: #1967D2;\n",
              "      height: 32px;\n",
              "      padding: 0 0 0 0;\n",
              "      width: 32px;\n",
              "    }\n",
              "\n",
              "    .colab-df-convert:hover {\n",
              "      background-color: #E2EBFA;\n",
              "      box-shadow: 0px 1px 2px rgba(60, 64, 67, 0.3), 0px 1px 3px 1px rgba(60, 64, 67, 0.15);\n",
              "      fill: #174EA6;\n",
              "    }\n",
              "\n",
              "    .colab-df-buttons div {\n",
              "      margin-bottom: 4px;\n",
              "    }\n",
              "\n",
              "    [theme=dark] .colab-df-convert {\n",
              "      background-color: #3B4455;\n",
              "      fill: #D2E3FC;\n",
              "    }\n",
              "\n",
              "    [theme=dark] .colab-df-convert:hover {\n",
              "      background-color: #434B5C;\n",
              "      box-shadow: 0px 1px 3px 1px rgba(0, 0, 0, 0.15);\n",
              "      filter: drop-shadow(0px 1px 2px rgba(0, 0, 0, 0.3));\n",
              "      fill: #FFFFFF;\n",
              "    }\n",
              "  </style>\n",
              "\n",
              "    <script>\n",
              "      const buttonEl =\n",
              "        document.querySelector('#df-c2d99084-0cf0-43b9-b3fb-72d13efe9cc9 button.colab-df-convert');\n",
              "      buttonEl.style.display =\n",
              "        google.colab.kernel.accessAllowed ? 'block' : 'none';\n",
              "\n",
              "      async function convertToInteractive(key) {\n",
              "        const element = document.querySelector('#df-c2d99084-0cf0-43b9-b3fb-72d13efe9cc9');\n",
              "        const dataTable =\n",
              "          await google.colab.kernel.invokeFunction('convertToInteractive',\n",
              "                                                    [key], {});\n",
              "        if (!dataTable) return;\n",
              "\n",
              "        const docLinkHtml = 'Like what you see? Visit the ' +\n",
              "          '<a target=\"_blank\" href=https://colab.research.google.com/notebooks/data_table.ipynb>data table notebook</a>'\n",
              "          + ' to learn more about interactive tables.';\n",
              "        element.innerHTML = '';\n",
              "        dataTable['output_type'] = 'display_data';\n",
              "        await google.colab.output.renderOutput(dataTable, element);\n",
              "        const docLink = document.createElement('div');\n",
              "        docLink.innerHTML = docLinkHtml;\n",
              "        element.appendChild(docLink);\n",
              "      }\n",
              "    </script>\n",
              "  </div>\n",
              "\n",
              "\n",
              "<div id=\"df-982d37e1-0b81-45b7-81c5-bd01435af920\">\n",
              "  <button class=\"colab-df-quickchart\" onclick=\"quickchart('df-982d37e1-0b81-45b7-81c5-bd01435af920')\"\n",
              "            title=\"Suggest charts\"\n",
              "            style=\"display:none;\">\n",
              "\n",
              "<svg xmlns=\"http://www.w3.org/2000/svg\" height=\"24px\"viewBox=\"0 0 24 24\"\n",
              "     width=\"24px\">\n",
              "    <g>\n",
              "        <path d=\"M19 3H5c-1.1 0-2 .9-2 2v14c0 1.1.9 2 2 2h14c1.1 0 2-.9 2-2V5c0-1.1-.9-2-2-2zM9 17H7v-7h2v7zm4 0h-2V7h2v10zm4 0h-2v-4h2v4z\"/>\n",
              "    </g>\n",
              "</svg>\n",
              "  </button>\n",
              "\n",
              "<style>\n",
              "  .colab-df-quickchart {\n",
              "      --bg-color: #E8F0FE;\n",
              "      --fill-color: #1967D2;\n",
              "      --hover-bg-color: #E2EBFA;\n",
              "      --hover-fill-color: #174EA6;\n",
              "      --disabled-fill-color: #AAA;\n",
              "      --disabled-bg-color: #DDD;\n",
              "  }\n",
              "\n",
              "  [theme=dark] .colab-df-quickchart {\n",
              "      --bg-color: #3B4455;\n",
              "      --fill-color: #D2E3FC;\n",
              "      --hover-bg-color: #434B5C;\n",
              "      --hover-fill-color: #FFFFFF;\n",
              "      --disabled-bg-color: #3B4455;\n",
              "      --disabled-fill-color: #666;\n",
              "  }\n",
              "\n",
              "  .colab-df-quickchart {\n",
              "    background-color: var(--bg-color);\n",
              "    border: none;\n",
              "    border-radius: 50%;\n",
              "    cursor: pointer;\n",
              "    display: none;\n",
              "    fill: var(--fill-color);\n",
              "    height: 32px;\n",
              "    padding: 0;\n",
              "    width: 32px;\n",
              "  }\n",
              "\n",
              "  .colab-df-quickchart:hover {\n",
              "    background-color: var(--hover-bg-color);\n",
              "    box-shadow: 0 1px 2px rgba(60, 64, 67, 0.3), 0 1px 3px 1px rgba(60, 64, 67, 0.15);\n",
              "    fill: var(--button-hover-fill-color);\n",
              "  }\n",
              "\n",
              "  .colab-df-quickchart-complete:disabled,\n",
              "  .colab-df-quickchart-complete:disabled:hover {\n",
              "    background-color: var(--disabled-bg-color);\n",
              "    fill: var(--disabled-fill-color);\n",
              "    box-shadow: none;\n",
              "  }\n",
              "\n",
              "  .colab-df-spinner {\n",
              "    border: 2px solid var(--fill-color);\n",
              "    border-color: transparent;\n",
              "    border-bottom-color: var(--fill-color);\n",
              "    animation:\n",
              "      spin 1s steps(1) infinite;\n",
              "  }\n",
              "\n",
              "  @keyframes spin {\n",
              "    0% {\n",
              "      border-color: transparent;\n",
              "      border-bottom-color: var(--fill-color);\n",
              "      border-left-color: var(--fill-color);\n",
              "    }\n",
              "    20% {\n",
              "      border-color: transparent;\n",
              "      border-left-color: var(--fill-color);\n",
              "      border-top-color: var(--fill-color);\n",
              "    }\n",
              "    30% {\n",
              "      border-color: transparent;\n",
              "      border-left-color: var(--fill-color);\n",
              "      border-top-color: var(--fill-color);\n",
              "      border-right-color: var(--fill-color);\n",
              "    }\n",
              "    40% {\n",
              "      border-color: transparent;\n",
              "      border-right-color: var(--fill-color);\n",
              "      border-top-color: var(--fill-color);\n",
              "    }\n",
              "    60% {\n",
              "      border-color: transparent;\n",
              "      border-right-color: var(--fill-color);\n",
              "    }\n",
              "    80% {\n",
              "      border-color: transparent;\n",
              "      border-right-color: var(--fill-color);\n",
              "      border-bottom-color: var(--fill-color);\n",
              "    }\n",
              "    90% {\n",
              "      border-color: transparent;\n",
              "      border-bottom-color: var(--fill-color);\n",
              "    }\n",
              "  }\n",
              "</style>\n",
              "\n",
              "  <script>\n",
              "    async function quickchart(key) {\n",
              "      const quickchartButtonEl =\n",
              "        document.querySelector('#' + key + ' button');\n",
              "      quickchartButtonEl.disabled = true;  // To prevent multiple clicks.\n",
              "      quickchartButtonEl.classList.add('colab-df-spinner');\n",
              "      try {\n",
              "        const charts = await google.colab.kernel.invokeFunction(\n",
              "            'suggestCharts', [key], {});\n",
              "      } catch (error) {\n",
              "        console.error('Error during call to suggestCharts:', error);\n",
              "      }\n",
              "      quickchartButtonEl.classList.remove('colab-df-spinner');\n",
              "      quickchartButtonEl.classList.add('colab-df-quickchart-complete');\n",
              "    }\n",
              "    (() => {\n",
              "      let quickchartButtonEl =\n",
              "        document.querySelector('#df-982d37e1-0b81-45b7-81c5-bd01435af920 button');\n",
              "      quickchartButtonEl.style.display =\n",
              "        google.colab.kernel.accessAllowed ? 'block' : 'none';\n",
              "    })();\n",
              "  </script>\n",
              "</div>\n",
              "\n",
              "    </div>\n",
              "  </div>\n"
            ],
            "text/plain": [
              "                                 id  \\\n",
              "0  3357c7b08e7dfa3270a8c025e0fd3bd5   \n",
              "1  653f009e5e3a03f7af7bef9585979219   \n",
              "2  55c9c40a92d9401a837abc79d14422e3   \n",
              "\n",
              "                                                link      domain_url  \\\n",
              "0  https://lequotidien.lu/sport-national/basket-f...  lequotidien.lu   \n",
              "1  https://lequotidien.lu/monde/decollage-dune-no...  lequotidien.lu   \n",
              "2  https://lequotidien.lu/politique-societe/fried...  lequotidien.lu   \n",
              "\n",
              "        published_date                                              title  \\\n",
              "0  2024-01-08 12:24:53                   [Basket] Flammang jette l'éponge   \n",
              "1  2024-01-08 08:00:18  Décollage d'une nouvelle fusée transportant un...   \n",
              "2  2024-01-08 08:00:00                     Frieden relaie Bettel à Berlin   \n",
              "\n",
              "                                         description  \\\n",
              "0  Christophe Flammang n'est plus l'entraîneur du...   \n",
              "1  Une toute nouvelle fusée a décollé de Floride ...   \n",
              "2  Vendredi, l'ancien Premier ministre Xavier Bet...   \n",
              "\n",
              "                                             content language  is_opinion  \\\n",
              "0  Christophe Flammang n'est plus l'entraîneur du...       fr       False   \n",
              "1  La fusée Vulcan Centaur du groupe industriel U...       fr       False   \n",
              "2  Vendredi, l'ancien Premier ministre Xavier Bet...       fr       False   \n",
              "\n",
              "      country  \n",
              "0  Luxembourg  \n",
              "1  Luxembourg  \n",
              "2  Luxembourg  "
            ]
          },
          "execution_count": 8,
          "metadata": {},
          "output_type": "execute_result"
        }
      ],
      "source": [
        "batch_subset.head(3)"
      ]
    },
    {
      "cell_type": "markdown",
      "metadata": {
        "id": "JHtO08cqIdWr"
      },
      "source": [
        "## Step 5: Translating headline, description, and content"
      ]
    },
    {
      "cell_type": "code",
      "execution_count": null,
      "metadata": {
        "id": "31GrWpbdIdWr"
      },
      "outputs": [],
      "source": [
        "batch_subset[[\"title_trans\", \"description_trans\", \"content_trans\"]] = batch_subset.apply(\n",
        "    lambda row: row[[\"title\", \"description\", \"content\"]].apply(lambda x: trans2english(text = x, sourcelang = row[\"language\"])),\n",
        "    axis = 1\n",
        ")"
      ]
    },
    {
      "cell_type": "markdown",
      "metadata": {
        "id": "Eu2HoLgVIdWr"
      },
      "source": [
        "## Step 6: Saving batch data"
      ]
    },
    {
      "cell_type": "code",
      "execution_count": null,
      "metadata": {
        "id": "Pv9BG9qXIdWr"
      },
      "outputs": [],
      "source": [
        "batch_subset.to_parquet(f\"{country}_batch_{batch}_{mode}_{mode_counter}.parquet.gzip\", compression = \"gzip\")\n",
        "files.download(f\"{country}_batch_{batch}_{mode}_{mode_counter}.parquet.gzip\")"
      ]
    }
  ],
  "metadata": {
    "colab": {
      "provenance": []
    },
    "kernelspec": {
      "display_name": "Python 3",
      "language": "python",
      "name": "python3"
    },
    "language_info": {
      "codemirror_mode": {
        "name": "ipython",
        "version": 3
      },
      "file_extension": ".py",
      "mimetype": "text/x-python",
      "name": "python",
      "nbconvert_exporter": "python",
      "pygments_lexer": "ipython3",
      "version": "3.11.8"
    }
  },
  "nbformat": 4,
  "nbformat_minor": 0
}
